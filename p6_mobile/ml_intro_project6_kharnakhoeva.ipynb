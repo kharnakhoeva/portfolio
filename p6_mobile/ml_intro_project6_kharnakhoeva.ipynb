{
 "cells": [
  {
   "cell_type": "markdown",
   "id": "e2e1d12b",
   "metadata": {},
   "source": [
    "# Рекомендация тарифов"
   ]
  },
  {
   "cell_type": "markdown",
   "id": "04d63c1e",
   "metadata": {},
   "source": [
    "**Дано:** оператор мобильной связи «Мегалайн» выяснил: многие клиенты пользуются архивными тарифами. Они хотят построить систему, способную проанализировать поведение клиентов и предложить пользователям новый тариф: «Смарт» или «Ультра».\n",
    "\n",
    "Есть таблица с признаками:\n",
    "- сalls — количество звонков,\n",
    "- minutes — суммарная длительность звонков в минутах,\n",
    "- messages — количество sms-сообщений,\n",
    "- mb_used — израсходованный интернет-трафик в Мб,\n",
    "- is_ultra — каким тарифом пользовался в течение месяца («Ультра» — 1, «Смарт» — 0).\n",
    "\n",
    "**Задача:** построить модель для задачи классификации, которая выберет подходящий тариф, с максимально большим значением accuracy. \n",
    "\n",
    "\n",
    "**План исследования:**\n",
    " 1. Обзор данных.\n",
    " 2. Разделение данных на обучающую, валидационную и тестовую выборки.\n",
    " 3. Исследование качества разных моделей со сменой гиперпараметров.\n",
    " 4. Проверка качества модели на тестовой выборке.\n",
    " 5. Проверка модели на вменяемость.\n",
    " 6. Общий вывод."
   ]
  },
  {
   "cell_type": "markdown",
   "id": "9be61a6d",
   "metadata": {},
   "source": [
    "## 1. Обзор данных"
   ]
  },
  {
   "cell_type": "code",
   "execution_count": 1,
   "id": "593a1ee4",
   "metadata": {},
   "outputs": [],
   "source": [
    "import pandas as pd\n",
    "from sklearn.model_selection import train_test_split\n",
    "from sklearn.metrics import accuracy_score\n",
    "from sklearn.tree import DecisionTreeClassifier\n",
    "from sklearn.ensemble import RandomForestClassifier\n",
    "from sklearn.linear_model import LogisticRegression\n",
    "from sklearn.dummy import DummyClassifier"
   ]
  },
  {
   "cell_type": "code",
   "execution_count": 2,
   "id": "2570fbe3",
   "metadata": {},
   "outputs": [],
   "source": [
    "try:\n",
    "    users = pd.read_csv('/Users/galina//Desktop/учёба/users_behavior.csv')\n",
    "except:\n",
    "    users = pd.read_csv('/datasets/users_behavior.csv')"
   ]
  },
  {
   "cell_type": "code",
   "execution_count": 3,
   "id": "f07e3a80",
   "metadata": {
    "scrolled": true
   },
   "outputs": [
    {
     "name": "stdout",
     "output_type": "stream",
     "text": [
      "<class 'pandas.core.frame.DataFrame'>\n",
      "RangeIndex: 3214 entries, 0 to 3213\n",
      "Data columns (total 5 columns):\n",
      " #   Column    Non-Null Count  Dtype  \n",
      "---  ------    --------------  -----  \n",
      " 0   calls     3214 non-null   float64\n",
      " 1   minutes   3214 non-null   float64\n",
      " 2   messages  3214 non-null   float64\n",
      " 3   mb_used   3214 non-null   float64\n",
      " 4   is_ultra  3214 non-null   int64  \n",
      "dtypes: float64(4), int64(1)\n",
      "memory usage: 125.7 KB\n"
     ]
    }
   ],
   "source": [
    "users.info()"
   ]
  },
  {
   "cell_type": "code",
   "execution_count": 4,
   "id": "beeccb44",
   "metadata": {},
   "outputs": [
    {
     "data": {
      "text/html": [
       "<div>\n",
       "<style scoped>\n",
       "    .dataframe tbody tr th:only-of-type {\n",
       "        vertical-align: middle;\n",
       "    }\n",
       "\n",
       "    .dataframe tbody tr th {\n",
       "        vertical-align: top;\n",
       "    }\n",
       "\n",
       "    .dataframe thead th {\n",
       "        text-align: right;\n",
       "    }\n",
       "</style>\n",
       "<table border=\"1\" class=\"dataframe\">\n",
       "  <thead>\n",
       "    <tr style=\"text-align: right;\">\n",
       "      <th></th>\n",
       "      <th>calls</th>\n",
       "      <th>minutes</th>\n",
       "      <th>messages</th>\n",
       "      <th>mb_used</th>\n",
       "      <th>is_ultra</th>\n",
       "    </tr>\n",
       "  </thead>\n",
       "  <tbody>\n",
       "    <tr>\n",
       "      <th>0</th>\n",
       "      <td>40.0</td>\n",
       "      <td>311.90</td>\n",
       "      <td>83.0</td>\n",
       "      <td>19915.42</td>\n",
       "      <td>0</td>\n",
       "    </tr>\n",
       "    <tr>\n",
       "      <th>1</th>\n",
       "      <td>85.0</td>\n",
       "      <td>516.75</td>\n",
       "      <td>56.0</td>\n",
       "      <td>22696.96</td>\n",
       "      <td>0</td>\n",
       "    </tr>\n",
       "    <tr>\n",
       "      <th>2</th>\n",
       "      <td>77.0</td>\n",
       "      <td>467.66</td>\n",
       "      <td>86.0</td>\n",
       "      <td>21060.45</td>\n",
       "      <td>0</td>\n",
       "    </tr>\n",
       "    <tr>\n",
       "      <th>3</th>\n",
       "      <td>106.0</td>\n",
       "      <td>745.53</td>\n",
       "      <td>81.0</td>\n",
       "      <td>8437.39</td>\n",
       "      <td>1</td>\n",
       "    </tr>\n",
       "    <tr>\n",
       "      <th>4</th>\n",
       "      <td>66.0</td>\n",
       "      <td>418.74</td>\n",
       "      <td>1.0</td>\n",
       "      <td>14502.75</td>\n",
       "      <td>0</td>\n",
       "    </tr>\n",
       "  </tbody>\n",
       "</table>\n",
       "</div>"
      ],
      "text/plain": [
       "   calls  minutes  messages   mb_used  is_ultra\n",
       "0   40.0   311.90      83.0  19915.42         0\n",
       "1   85.0   516.75      56.0  22696.96         0\n",
       "2   77.0   467.66      86.0  21060.45         0\n",
       "3  106.0   745.53      81.0   8437.39         1\n",
       "4   66.0   418.74       1.0  14502.75         0"
      ]
     },
     "execution_count": 4,
     "metadata": {},
     "output_type": "execute_result"
    }
   ],
   "source": [
    "users.head(5)"
   ]
  },
  {
   "cell_type": "code",
   "execution_count": 5,
   "id": "4462e3ca",
   "metadata": {},
   "outputs": [
    {
     "data": {
      "text/plain": [
       "0"
      ]
     },
     "execution_count": 5,
     "metadata": {},
     "output_type": "execute_result"
    }
   ],
   "source": [
    "#смотрю дубликаты:\n",
    "users.duplicated().sum()"
   ]
  },
  {
   "cell_type": "code",
   "execution_count": 6,
   "id": "a1f85f8c",
   "metadata": {},
   "outputs": [
    {
     "name": "stdout",
     "output_type": "stream",
     "text": [
      "<class 'pandas.core.frame.DataFrame'>\n",
      "RangeIndex: 3214 entries, 0 to 3213\n",
      "Data columns (total 5 columns):\n",
      " #   Column    Non-Null Count  Dtype  \n",
      "---  ------    --------------  -----  \n",
      " 0   calls     3214 non-null   int64  \n",
      " 1   minutes   3214 non-null   float64\n",
      " 2   messages  3214 non-null   int64  \n",
      " 3   mb_used   3214 non-null   float64\n",
      " 4   is_ultra  3214 non-null   int64  \n",
      "dtypes: float64(2), int64(3)\n",
      "memory usage: 125.7 KB\n"
     ]
    }
   ],
   "source": [
    "#меняю тип данных с float на int в столбцах `calls` и `messages`:\n",
    "users['calls'] = users['calls'].astype('int')\n",
    "users['messages'] = users['messages'].astype('int')\n",
    "users.info()"
   ]
  },
  {
   "cell_type": "markdown",
   "id": "ecf8c7d5",
   "metadata": {},
   "source": [
    "### Выводы по п.1. Обзор данных:\n",
    "\n",
    "1. В таблице 3214 объекта, пропусков нет.\n",
    "2. Поменяла тип данных с float на int в столбцах `calls` и `messages`, хотя это никак не повлияет на исследование. Прочая предобработка данных не понадобится, сделана ранее.\n",
    "4. Целевой признак - `is_ultra` "
   ]
  },
  {
   "cell_type": "markdown",
   "id": "c8016c76",
   "metadata": {},
   "source": [
    "## 2. Разделение данных на обучающую, валидационную и тестовую выборки\n"
   ]
  },
  {
   "cell_type": "code",
   "execution_count": 7,
   "id": "707ef6e0",
   "metadata": {},
   "outputs": [],
   "source": [
    "#создаю переменные для признаков и целевого признака:\n",
    "features = users.drop(['is_ultra'], axis=1)\n",
    "target = users['is_ultra']\n",
    "\n",
    "#разделяю данные на обучающую и валидационную выборки в соотношении 60/40:\n",
    "features_train, features_valid, target_train, target_valid = train_test_split(features,\n",
    "                                                                              target, test_size=0.4,\n",
    "                                                                              random_state=12345)\n",
    "\n",
    "#разделяю валидационную выборку на валидационную и тестовую в соотношении 20/20:\n",
    "features_test, features_valid, target_test, target_valid = train_test_split(features_valid,\n",
    "                                                                            target_valid, test_size=0.5,\n",
    "                                                                            random_state=12345)"
   ]
  },
  {
   "cell_type": "code",
   "execution_count": 8,
   "id": "e083e999",
   "metadata": {
    "scrolled": true
   },
   "outputs": [
    {
     "name": "stdout",
     "output_type": "stream",
     "text": [
      "(1928, 4)\n",
      "(643, 4)\n",
      "(643, 4)\n",
      "(1928,)\n",
      "(643,)\n",
      "(643,)\n"
     ]
    }
   ],
   "source": [
    "#смотрю размеры получившихся выборок:\n",
    "for i in [features_train, features_valid, features_test]:\n",
    "    print(i.shape)\n",
    "\n",
    "for i in [target_train, target_valid, target_test]:\n",
    "    print(i.shape)"
   ]
  },
  {
   "cell_type": "markdown",
   "id": "154bf1fd",
   "metadata": {},
   "source": [
    "Получились обучающая, валидационная и тестовая выборки на 60%, 20% и 20% от первоначального датасета соответственно."
   ]
  },
  {
   "cell_type": "markdown",
   "id": "6ee82f95",
   "metadata": {},
   "source": [
    "## 3. Исследование качества разных моделей со сменой гиперпараметров"
   ]
  },
  {
   "cell_type": "markdown",
   "id": "b3d1a237",
   "metadata": {},
   "source": [
    "### 3.1. Дерево решений"
   ]
  },
  {
   "cell_type": "code",
   "execution_count": 9,
   "id": "b97c1706",
   "metadata": {},
   "outputs": [
    {
     "name": "stdout",
     "output_type": "stream",
     "text": [
      "Accuracy на шаге 1 = 0.7356143079315708\n",
      "Accuracy на шаге 2 = 0.7744945567651633\n",
      "Accuracy на шаге 3 = 0.7791601866251944\n",
      "Accuracy на шаге 4 = 0.7744945567651633\n",
      "Accuracy на шаге 5 = 0.7838258164852255\n",
      "Accuracy на шаге 6 = 0.776049766718507\n",
      "Accuracy на шаге 7 = 0.7993779160186625\n",
      "Accuracy на шаге 8 = 0.7931570762052877\n",
      "Accuracy на шаге 9 = 0.7807153965785381\n",
      "\n",
      "Accuracy валидационной выборки по алгоритму дерево решений = 0.7993779160186625\n",
      "Максимальная глубина = 7\n"
     ]
    }
   ],
   "source": [
    "#исследую аccuracy валидационной выборки:\n",
    "best_acc_dt_vs = 0\n",
    "best_depth_dt_vs = 0\n",
    "for depth in range(1, 10):\n",
    "    model_dt_vs = DecisionTreeClassifier(random_state=12345, max_depth=depth)\n",
    "    model_dt_vs.fit(features_train, target_train)\n",
    "    predictions_valid_dt_vs = model_dt_vs.predict(features_valid)\n",
    "    acc_dt_vs = accuracy_score(target_valid, predictions_valid_dt_vs)\n",
    "    print('Accuracy на шаге', depth, '=', acc_dt_vs)\n",
    "    if acc_dt_vs > best_acc_dt_vs:\n",
    "        best_acc_dt_vs = acc_dt_vs\n",
    "        best_depth_dt_vs = depth\n",
    "        \n",
    "print()\n",
    "print('Accuracy валидационной выборки по алгоритму дерево решений =', best_acc_dt_vs)\n",
    "print('Максимальная глубина =', best_depth_dt_vs)"
   ]
  },
  {
   "cell_type": "markdown",
   "id": "334c1cf9",
   "metadata": {},
   "source": [
    "### 3.2. Случайный лес"
   ]
  },
  {
   "cell_type": "code",
   "execution_count": 10,
   "id": "b1676f5b",
   "metadata": {
    "scrolled": true
   },
   "outputs": [
    {
     "name": "stdout",
     "output_type": "stream",
     "text": [
      "Accuracy валидационной выборки по алгоритму случайный лес = 0.8149300155520995\n",
      "Максимальная глубина = 9\n",
      "Число деревьев = 14\n"
     ]
    }
   ],
   "source": [
    "#исследую аccuracy валидационной выборки:\n",
    "best_acc_dt_vs = 0\n",
    "best_depth_dt_vs = 0\n",
    "best_est_dt_vs = 0\n",
    "for depth in range(1, 10):\n",
    "    for est in range(1, 100):\n",
    "        model_dt_vs = RandomForestClassifier(random_state=12345, n_estimators=est, max_depth=depth)\n",
    "        model_dt_vs.fit(features_train, target_train)\n",
    "        predictions_valid_dt_vs = model_dt_vs.predict(features_valid)\n",
    "        acc_dt_vs = accuracy_score(target_valid, predictions_valid_dt_vs)\n",
    "        if acc_dt_vs > best_acc_dt_vs:\n",
    "            best_acc_dt_vs = acc_dt_vs\n",
    "            best_depth_dt_vs = depth\n",
    "            best_est_dt_vs = est\n",
    "\n",
    "print('Accuracy валидационной выборки по алгоритму случайный лес =', best_acc_dt_vs)\n",
    "print('Максимальная глубина =', best_depth_dt_vs)\n",
    "print('Число деревьев =', best_est_dt_vs)"
   ]
  },
  {
   "cell_type": "markdown",
   "id": "0416afd9",
   "metadata": {},
   "source": [
    "### 3.3. Логистическая регрессия"
   ]
  },
  {
   "cell_type": "code",
   "execution_count": 11,
   "id": "71c6b2dd",
   "metadata": {
    "scrolled": true
   },
   "outputs": [
    {
     "name": "stdout",
     "output_type": "stream",
     "text": [
      "Accuracy валидационной выборки по алгоритму линейная регрессия = 0.6858475894245724\n"
     ]
    }
   ],
   "source": [
    "#исследую аccuracy валидационной выборки:\n",
    "model_lr_vs = LogisticRegression(random_state=12345, solver='lbfgs', max_iter=1000) \n",
    "model_lr_vs.fit(features_valid, target_valid)\n",
    "predictions_lr_vs = model_lr_vs.predict(features_valid) \n",
    "acc_lr_vs = accuracy_score(target_valid, predictions_lr_vs) \n",
    "        \n",
    "print('Accuracy валидационной выборки по алгоритму линейная регрессия =', acc_lr_vs)"
   ]
  },
  {
   "cell_type": "markdown",
   "id": "a2d83b4f",
   "metadata": {},
   "source": [
    "### Выводы по п.3. Исследование качества разных моделей со сменой гиперпараметров:\n",
    "\n",
    "Поскольку accuracy валидационной выборки по алгоритму:\n",
    "- дерево решений = 0.799\n",
    "- случайный лес = 0.815\n",
    "- линейная регрессия = 0.686\n",
    "\n",
    "наиболее качественные результаты прогнозирует случайный лес."
   ]
  },
  {
   "cell_type": "markdown",
   "id": "009e1a00",
   "metadata": {},
   "source": [
    "## 4. Проверка качества модели на тестовой выборке"
   ]
  },
  {
   "cell_type": "code",
   "execution_count": 13,
   "id": "f1f49a78",
   "metadata": {
    "scrolled": true
   },
   "outputs": [
    {
     "name": "stdout",
     "output_type": "stream",
     "text": [
      "Accuracy тестовой выборки по алгоритму случайный лес = 0.7884914463452566\n"
     ]
    }
   ],
   "source": [
    "model_dt_test = RandomForestClassifier(random_state=12345, n_estimators=100, max_depth=20)\n",
    "model_dt_test.fit(features_train, target_train)\n",
    "predictions_dt_test = model_dt_test.predict(features_test)\n",
    "acc_dt_test = accuracy_score(target_test, predictions_dt_test)\n",
    "\n",
    "print('Accuracy тестовой выборки по алгоритму случайный лес =', acc_dt_test)"
   ]
  },
  {
   "cell_type": "markdown",
   "id": "12c5407c",
   "metadata": {},
   "source": [
    "### Выводы по п.4. Проверка качества модели на тестовой выборке:\n",
    "\n",
    "Поскольку accuracy валидационной выборки по алгоритму:\n",
    "- дерево решений = 0.799\n",
    "- случайный лес = 0.813\n",
    "- линейная регрессия = 0.686,\n",
    "\n",
    "а accuracy тестовой выборки по алгоритму случайный лес = 0.788:\n",
    "\n",
    "Можно утверждать, что случайный лес прогнозирует качественный результат."
   ]
  },
  {
   "cell_type": "markdown",
   "id": "19dbff97",
   "metadata": {},
   "source": [
    "## 5. Проверка модели на вменяемость"
   ]
  },
  {
   "cell_type": "markdown",
   "id": "465dc9db",
   "metadata": {},
   "source": [
    "Использую DummyClassifier для проверки модели на вменяемость по 3 стратегиям:\n",
    "- uniform, так как генерирует прогнозы равномерно в случайном порядке\n",
    "- stratified, так как генерирует прогнозы с учетом распределения классов обучающей выборки\n",
    "- most_frequent, так как всегда предсказывает наиболее частую метку в обучающем наборе"
   ]
  },
  {
   "cell_type": "code",
   "execution_count": 15,
   "id": "b97cefd0",
   "metadata": {},
   "outputs": [
    {
     "name": "stdout",
     "output_type": "stream",
     "text": [
      "Accuracy случайной модели на валидационной выборке для стратегии uniform = 0.47433903576982894\n",
      "Accuracy случайной модели на тестовой выборке для стратегии uniform = 0.48367029548989116\n",
      "\n",
      "Accuracy случайной модели на валидационной выборке для стратегии most_frequent = 0.6842923794712286\n",
      "Accuracy случайной модели на тестовой выборке для стратегии most_frequent = 0.7060653188180405\n",
      "\n",
      "Accuracy случайной модели на валидационной выборке для стратегии stratified = 0.5458786936236392\n",
      "Accuracy случайной модели на тестовой выборке для стратегии stratified = 0.5894245723172629\n",
      "\n"
     ]
    }
   ],
   "source": [
    "for strategy in ['uniform', 'most_frequent', 'stratified']:\n",
    "    dummy = DummyClassifier(strategy=strategy)\n",
    "    dummy.fit(features_train, target_train)\n",
    "    dummy_valid = dummy.score(features_valid, target_valid) \n",
    "    dummy_test = dummy.score(features_test, target_test) \n",
    "    print('Accuracy случайной модели на валидационной выборке для стратегии', i,'=', dummy_valid)\n",
    "    print('Accuracy случайной модели на тестовой выборке для стратегии', i,'=', dummy_test)\n",
    "    print()"
   ]
  },
  {
   "cell_type": "markdown",
   "id": "005a9f42",
   "metadata": {},
   "source": [
    "### Выводы по п.5. Проверка модели на вменяемость:\n",
    "\n",
    "Accuracy случайной модели на тестовой выборке - примерно 0.6. Accuracy случайного леса на тестовой выборке - 0.788. Следовательно, рассмотренная модель вменяема. "
   ]
  },
  {
   "cell_type": "markdown",
   "id": "c1878a81",
   "metadata": {},
   "source": [
    "## 6. Общий вывод \n",
    "\n",
    "На основе данных по клиентам оператора мобильной связи «Мегалайн» можно построить систему, которая выберет подходящий тариф. Для этого надо использовать алгоритм случайный лес, так как он дает максимально большое значение accuracy."
   ]
  }
 ],
 "metadata": {
  "kernelspec": {
   "display_name": "Python 3 (ipykernel)",
   "language": "python",
   "name": "python3"
  },
  "language_info": {
   "codemirror_mode": {
    "name": "ipython",
    "version": 3
   },
   "file_extension": ".py",
   "mimetype": "text/x-python",
   "name": "python",
   "nbconvert_exporter": "python",
   "pygments_lexer": "ipython3",
   "version": "3.9.7"
  },
  "toc": {
   "base_numbering": 1,
   "nav_menu": {},
   "number_sections": true,
   "sideBar": true,
   "skip_h1_title": true,
   "title_cell": "Table of Contents",
   "title_sidebar": "Contents",
   "toc_cell": false,
   "toc_position": {},
   "toc_section_display": true,
   "toc_window_display": false
  }
 },
 "nbformat": 4,
 "nbformat_minor": 5
}
