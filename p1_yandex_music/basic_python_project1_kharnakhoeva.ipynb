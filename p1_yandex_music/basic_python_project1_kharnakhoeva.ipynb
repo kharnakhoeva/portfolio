{
 "cells": [
  {
   "cell_type": "markdown",
   "metadata": {
    "id": "E0vqbgi9ay0H"
   },
   "source": [
    "# Яндекс.Музыка"
   ]
  },
  {
   "cell_type": "markdown",
   "metadata": {
    "id": "VUC88oWjTJw2"
   },
   "source": [
    "Сравнение Москвы и Петербурга окружено мифами. Например:\n",
    " * Москва — мегаполис, подчинённый жёсткому ритму рабочей недели;\n",
    " * Петербург — культурная столица, со своими вкусами.\n",
    "\n",
    "На данных Яндекс.Музыки вы сравните поведение пользователей двух столиц.\n",
    "\n",
    "**Цель исследования** — проверьте три гипотезы:\n",
    "1. Активность пользователей зависит от дня недели. Причём в Москве и Петербурге это проявляется по-разному.\n",
    "2. В понедельник утром в Москве преобладают одни жанры, а в Петербурге — другие. Так же и вечером пятницы преобладают разные жанры — в зависимости от города. \n",
    "3. Москва и Петербург предпочитают разные жанры музыки. В Москве чаще слушают поп-музыку, в Петербурге — русский рэп.\n",
    "\n",
    "**Ход исследования**\n",
    "\n",
    "Данные о поведении пользователей вы получите из файла `yandex_music_project.csv`. О качестве данных ничего не известно. Поэтому перед проверкой гипотез понадобится обзор данных. \n",
    "\n",
    "Вы проверите данные на ошибки и оцените их влияние на исследование. Затем, на этапе предобработки вы поищете возможность исправить самые критичные ошибки данных.\n",
    " \n",
    "Таким образом, исследование пройдёт в три этапа:\n",
    " 1. Обзор данных.\n",
    " 2. Предобработка данных.\n",
    " 3. Проверка гипотез.\n",
    "\n"
   ]
  },
  {
   "cell_type": "markdown",
   "metadata": {
    "id": "Ml1hmfXC_Zcs"
   },
   "source": [
    "## Обзор данных\n",
    "\n",
    "Составьте первое представление о данных Яндекс.Музыки.\n",
    "\n",
    "\n"
   ]
  },
  {
   "cell_type": "markdown",
   "metadata": {
    "id": "57eAOGIz_Zcs"
   },
   "source": [
    "Основной инструмент аналитика — `pandas`. Импортируйте эту библиотеку."
   ]
  },
  {
   "cell_type": "code",
   "execution_count": 7,
   "metadata": {
    "id": "AXN7PHPN_Zcs",
    "scrolled": true
   },
   "outputs": [],
   "source": [
    "# импорт библиотеки pandas\n",
    "\n",
    "import pandas as pd"
   ]
  },
  {
   "cell_type": "markdown",
   "metadata": {
    "id": "SG23P8tt_Zcs"
   },
   "source": [
    "Прочитайте файл `yandex_music_project.csv` из папки `/datasets` и сохраните его в переменной `df`:"
   ]
  },
  {
   "cell_type": "code",
   "execution_count": 8,
   "metadata": {
    "id": "fFVu7vqh_Zct"
   },
   "outputs": [],
   "source": [
    "# чтение файла с данными и сохранение в df\n",
    "\n",
    "df = pd.read_csv('/datasets/yandex_music_project.csv')"
   ]
  },
  {
   "cell_type": "markdown",
   "metadata": {
    "id": "rDoOMd3uTqnZ"
   },
   "source": [
    "Выведите на экран первые десять строк таблицы:"
   ]
  },
  {
   "cell_type": "code",
   "execution_count": 9,
   "metadata": {
    "id": "oWTVX3gW_Zct",
    "scrolled": true
   },
   "outputs": [
    {
     "data": {
      "text/html": [
       "<div>\n",
       "<style scoped>\n",
       "    .dataframe tbody tr th:only-of-type {\n",
       "        vertical-align: middle;\n",
       "    }\n",
       "\n",
       "    .dataframe tbody tr th {\n",
       "        vertical-align: top;\n",
       "    }\n",
       "\n",
       "    .dataframe thead th {\n",
       "        text-align: right;\n",
       "    }\n",
       "</style>\n",
       "<table border=\"1\" class=\"dataframe\">\n",
       "  <thead>\n",
       "    <tr style=\"text-align: right;\">\n",
       "      <th></th>\n",
       "      <th>userID</th>\n",
       "      <th>Track</th>\n",
       "      <th>artist</th>\n",
       "      <th>genre</th>\n",
       "      <th>City</th>\n",
       "      <th>time</th>\n",
       "      <th>Day</th>\n",
       "    </tr>\n",
       "  </thead>\n",
       "  <tbody>\n",
       "    <tr>\n",
       "      <th>0</th>\n",
       "      <td>FFB692EC</td>\n",
       "      <td>Kamigata To Boots</td>\n",
       "      <td>The Mass Missile</td>\n",
       "      <td>rock</td>\n",
       "      <td>Saint-Petersburg</td>\n",
       "      <td>20:28:33</td>\n",
       "      <td>Wednesday</td>\n",
       "    </tr>\n",
       "    <tr>\n",
       "      <th>1</th>\n",
       "      <td>55204538</td>\n",
       "      <td>Delayed Because of Accident</td>\n",
       "      <td>Andreas Rönnberg</td>\n",
       "      <td>rock</td>\n",
       "      <td>Moscow</td>\n",
       "      <td>14:07:09</td>\n",
       "      <td>Friday</td>\n",
       "    </tr>\n",
       "    <tr>\n",
       "      <th>2</th>\n",
       "      <td>20EC38</td>\n",
       "      <td>Funiculì funiculà</td>\n",
       "      <td>Mario Lanza</td>\n",
       "      <td>pop</td>\n",
       "      <td>Saint-Petersburg</td>\n",
       "      <td>20:58:07</td>\n",
       "      <td>Wednesday</td>\n",
       "    </tr>\n",
       "    <tr>\n",
       "      <th>3</th>\n",
       "      <td>A3DD03C9</td>\n",
       "      <td>Dragons in the Sunset</td>\n",
       "      <td>Fire + Ice</td>\n",
       "      <td>folk</td>\n",
       "      <td>Saint-Petersburg</td>\n",
       "      <td>08:37:09</td>\n",
       "      <td>Monday</td>\n",
       "    </tr>\n",
       "    <tr>\n",
       "      <th>4</th>\n",
       "      <td>E2DC1FAE</td>\n",
       "      <td>Soul People</td>\n",
       "      <td>Space Echo</td>\n",
       "      <td>dance</td>\n",
       "      <td>Moscow</td>\n",
       "      <td>08:34:34</td>\n",
       "      <td>Monday</td>\n",
       "    </tr>\n",
       "    <tr>\n",
       "      <th>5</th>\n",
       "      <td>842029A1</td>\n",
       "      <td>Преданная</td>\n",
       "      <td>IMPERVTOR</td>\n",
       "      <td>rusrap</td>\n",
       "      <td>Saint-Petersburg</td>\n",
       "      <td>13:09:41</td>\n",
       "      <td>Friday</td>\n",
       "    </tr>\n",
       "    <tr>\n",
       "      <th>6</th>\n",
       "      <td>4CB90AA5</td>\n",
       "      <td>True</td>\n",
       "      <td>Roman Messer</td>\n",
       "      <td>dance</td>\n",
       "      <td>Moscow</td>\n",
       "      <td>13:00:07</td>\n",
       "      <td>Wednesday</td>\n",
       "    </tr>\n",
       "    <tr>\n",
       "      <th>7</th>\n",
       "      <td>F03E1C1F</td>\n",
       "      <td>Feeling This Way</td>\n",
       "      <td>Polina Griffith</td>\n",
       "      <td>dance</td>\n",
       "      <td>Moscow</td>\n",
       "      <td>20:47:49</td>\n",
       "      <td>Wednesday</td>\n",
       "    </tr>\n",
       "    <tr>\n",
       "      <th>8</th>\n",
       "      <td>8FA1D3BE</td>\n",
       "      <td>И вновь продолжается бой</td>\n",
       "      <td>NaN</td>\n",
       "      <td>ruspop</td>\n",
       "      <td>Moscow</td>\n",
       "      <td>09:17:40</td>\n",
       "      <td>Friday</td>\n",
       "    </tr>\n",
       "    <tr>\n",
       "      <th>9</th>\n",
       "      <td>E772D5C0</td>\n",
       "      <td>Pessimist</td>\n",
       "      <td>NaN</td>\n",
       "      <td>dance</td>\n",
       "      <td>Saint-Petersburg</td>\n",
       "      <td>21:20:49</td>\n",
       "      <td>Wednesday</td>\n",
       "    </tr>\n",
       "  </tbody>\n",
       "</table>\n",
       "</div>"
      ],
      "text/plain": [
       "     userID                        Track            artist   genre  \\\n",
       "0  FFB692EC            Kamigata To Boots  The Mass Missile    rock   \n",
       "1  55204538  Delayed Because of Accident  Andreas Rönnberg    rock   \n",
       "2    20EC38            Funiculì funiculà       Mario Lanza     pop   \n",
       "3  A3DD03C9        Dragons in the Sunset        Fire + Ice    folk   \n",
       "4  E2DC1FAE                  Soul People        Space Echo   dance   \n",
       "5  842029A1                    Преданная         IMPERVTOR  rusrap   \n",
       "6  4CB90AA5                         True      Roman Messer   dance   \n",
       "7  F03E1C1F             Feeling This Way   Polina Griffith   dance   \n",
       "8  8FA1D3BE     И вновь продолжается бой               NaN  ruspop   \n",
       "9  E772D5C0                    Pessimist               NaN   dance   \n",
       "\n",
       "             City        time        Day  \n",
       "0  Saint-Petersburg  20:28:33  Wednesday  \n",
       "1            Moscow  14:07:09     Friday  \n",
       "2  Saint-Petersburg  20:58:07  Wednesday  \n",
       "3  Saint-Petersburg  08:37:09     Monday  \n",
       "4            Moscow  08:34:34     Monday  \n",
       "5  Saint-Petersburg  13:09:41     Friday  \n",
       "6            Moscow  13:00:07  Wednesday  \n",
       "7            Moscow  20:47:49  Wednesday  \n",
       "8            Moscow  09:17:40     Friday  \n",
       "9  Saint-Petersburg  21:20:49  Wednesday  "
      ]
     },
     "execution_count": 9,
     "metadata": {},
     "output_type": "execute_result"
    }
   ],
   "source": [
    "# получение первых 10 строк таблицы df\n",
    "\n",
    "df.head(10)"
   ]
  },
  {
   "cell_type": "code",
   "execution_count": 10,
   "metadata": {
    "scrolled": false
   },
   "outputs": [
    {
     "data": {
      "text/html": [
       "<div>\n",
       "<style scoped>\n",
       "    .dataframe tbody tr th:only-of-type {\n",
       "        vertical-align: middle;\n",
       "    }\n",
       "\n",
       "    .dataframe tbody tr th {\n",
       "        vertical-align: top;\n",
       "    }\n",
       "\n",
       "    .dataframe thead th {\n",
       "        text-align: right;\n",
       "    }\n",
       "</style>\n",
       "<table border=\"1\" class=\"dataframe\">\n",
       "  <thead>\n",
       "    <tr style=\"text-align: right;\">\n",
       "      <th></th>\n",
       "      <th>userID</th>\n",
       "      <th>Track</th>\n",
       "      <th>artist</th>\n",
       "      <th>genre</th>\n",
       "      <th>City</th>\n",
       "      <th>time</th>\n",
       "      <th>Day</th>\n",
       "    </tr>\n",
       "  </thead>\n",
       "  <tbody>\n",
       "    <tr>\n",
       "      <th>65074</th>\n",
       "      <td>729CBB09</td>\n",
       "      <td>My Name</td>\n",
       "      <td>McLean</td>\n",
       "      <td>rnb</td>\n",
       "      <td>Moscow</td>\n",
       "      <td>13:32:28</td>\n",
       "      <td>Wednesday</td>\n",
       "    </tr>\n",
       "    <tr>\n",
       "      <th>65075</th>\n",
       "      <td>D08D4A55</td>\n",
       "      <td>Maybe One Day (feat. Black Spade)</td>\n",
       "      <td>Blu &amp; Exile</td>\n",
       "      <td>hip</td>\n",
       "      <td>Saint-Petersburg</td>\n",
       "      <td>10:00:00</td>\n",
       "      <td>Monday</td>\n",
       "    </tr>\n",
       "    <tr>\n",
       "      <th>65076</th>\n",
       "      <td>C5E3A0D5</td>\n",
       "      <td>Jalopiina</td>\n",
       "      <td>NaN</td>\n",
       "      <td>industrial</td>\n",
       "      <td>Moscow</td>\n",
       "      <td>20:09:26</td>\n",
       "      <td>Friday</td>\n",
       "    </tr>\n",
       "    <tr>\n",
       "      <th>65077</th>\n",
       "      <td>321D0506</td>\n",
       "      <td>Freight Train</td>\n",
       "      <td>Chas McDevitt</td>\n",
       "      <td>rock</td>\n",
       "      <td>Moscow</td>\n",
       "      <td>21:43:59</td>\n",
       "      <td>Friday</td>\n",
       "    </tr>\n",
       "    <tr>\n",
       "      <th>65078</th>\n",
       "      <td>3A64EF84</td>\n",
       "      <td>Tell Me Sweet Little Lies</td>\n",
       "      <td>Monica Lopez</td>\n",
       "      <td>country</td>\n",
       "      <td>Moscow</td>\n",
       "      <td>21:59:46</td>\n",
       "      <td>Friday</td>\n",
       "    </tr>\n",
       "  </tbody>\n",
       "</table>\n",
       "</div>"
      ],
      "text/plain": [
       "         userID                              Track         artist       genre  \\\n",
       "65074  729CBB09                            My Name         McLean         rnb   \n",
       "65075  D08D4A55  Maybe One Day (feat. Black Spade)    Blu & Exile         hip   \n",
       "65076  C5E3A0D5                          Jalopiina            NaN  industrial   \n",
       "65077  321D0506                      Freight Train  Chas McDevitt        rock   \n",
       "65078  3A64EF84          Tell Me Sweet Little Lies   Monica Lopez     country   \n",
       "\n",
       "                 City        time        Day  \n",
       "65074            Moscow  13:32:28  Wednesday  \n",
       "65075  Saint-Petersburg  10:00:00     Monday  \n",
       "65076            Moscow  20:09:26     Friday  \n",
       "65077            Moscow  21:43:59     Friday  \n",
       "65078            Moscow  21:59:46     Friday  "
      ]
     },
     "execution_count": 10,
     "metadata": {},
     "output_type": "execute_result"
    }
   ],
   "source": [
    "df.tail(5)"
   ]
  },
  {
   "cell_type": "markdown",
   "metadata": {
    "id": "EO73Kwic_Zct"
   },
   "source": [
    "Одной командой получить общую информацию о таблице:"
   ]
  },
  {
   "cell_type": "code",
   "execution_count": 11,
   "metadata": {
    "id": "DSf2kIb-_Zct",
    "scrolled": true
   },
   "outputs": [
    {
     "name": "stdout",
     "output_type": "stream",
     "text": [
      "<class 'pandas.core.frame.DataFrame'>\n",
      "RangeIndex: 65079 entries, 0 to 65078\n",
      "Data columns (total 7 columns):\n",
      " #   Column    Non-Null Count  Dtype \n",
      "---  ------    --------------  ----- \n",
      " 0     userID  65079 non-null  object\n",
      " 1   Track     63848 non-null  object\n",
      " 2   artist    57876 non-null  object\n",
      " 3   genre     63881 non-null  object\n",
      " 4     City    65079 non-null  object\n",
      " 5   time      65079 non-null  object\n",
      " 6   Day       65079 non-null  object\n",
      "dtypes: object(7)\n",
      "memory usage: 3.5+ MB\n"
     ]
    }
   ],
   "source": [
    "# получение общей информации о данных в таблице df\n",
    "\n",
    "df.info()"
   ]
  },
  {
   "cell_type": "markdown",
   "metadata": {
    "id": "TaQ2Iwbr_Zct"
   },
   "source": [
    "# Итак, в таблице семь столбцов. Тип данных во всех столбцах — `object`.\n",
    "\n",
    "Согласно документации к данным:\n",
    "* `userID` — идентификатор пользователя;\n",
    "* `Track` — название трека;  \n",
    "* `artist` — имя исполнителя;\n",
    "* `genre` — название жанра;\n",
    "* `City` — город пользователя;\n",
    "* `time` — время начала прослушивания;\n",
    "* `Day` — день недели.\n",
    "\n",
    "В названиях колонок видны три нарушения стиля:\n",
    "1. Строчные буквы сочетаются с прописными.\n",
    "2. Встречаются пробелы.\n",
    "3. Некорректные наименования, например, время начала прослушивания лучше назвать `start_time`, чтобы не путать с каким-либо другим временем.\n",
    "\n",
    "\n",
    "Количество значений в столбцах различается. Значит, в данных есть пропущенные значения."
   ]
  },
  {
   "cell_type": "markdown",
   "metadata": {
    "id": "MCB6-dXG_Zct"
   },
   "source": [
    "**Выводы**\n",
    "\n",
    "В каждой строке таблицы — данные о прослушанном треке. Часть колонок описывает саму композицию: название, исполнителя и жанр. Остальные данные рассказывают о пользователе: из какого он города, когда он слушал музыку. \n",
    "\n",
    "Предварительно можно утверждать, что данных достаточно для проверки гипотез. Но встречаются пропуски в данных, а в названиях колонок — расхождения с хорошим стилем.\n",
    "\n",
    "Чтобы двигаться дальше, нужно устранить проблемы в данных."
   ]
  },
  {
   "cell_type": "markdown",
   "metadata": {
    "id": "SjYF6Ub9_Zct"
   },
   "source": [
    "## Предобработка данных\n",
    "Исправьте стиль в заголовках столбцов, исключите пропуски. Затем проверьте данные на дубликаты."
   ]
  },
  {
   "cell_type": "markdown",
   "metadata": {
    "id": "dIaKXr29_Zct"
   },
   "source": [
    "### Стиль заголовков\n",
    "Выведите на экран названия столбцов:"
   ]
  },
  {
   "cell_type": "code",
   "execution_count": 12,
   "metadata": {
    "id": "oKOTdF_Q_Zct",
    "scrolled": true
   },
   "outputs": [
    {
     "data": {
      "text/plain": [
       "Index(['  userID', 'Track', 'artist', 'genre', '  City  ', 'time', 'Day'], dtype='object')"
      ]
     },
     "execution_count": 12,
     "metadata": {},
     "output_type": "execute_result"
    }
   ],
   "source": [
    "# перечень названий столбцов таблицы df\n",
    "\n",
    "df.columns"
   ]
  },
  {
   "cell_type": "markdown",
   "metadata": {
    "id": "zj5534cv_Zct"
   },
   "source": [
    "Приведите названия в соответствие с хорошим стилем:\n",
    "* несколько слов в названии запишите в «змеином_регистре»,\n",
    "* все символы сделайте строчными,\n",
    "* устраните пробелы.\n",
    "\n",
    "Для этого переименуйте колонки так:\n",
    "* `'  userID'` → `'user_id'`;\n",
    "* `'Track'` → `'track'`;\n",
    "* `'  City  '` → `'city'`;\n",
    "* `'Day'` → `'day'`.\n",
    "\n",
    "И я от себя переименовала:\n",
    "* `'time'` → `'start_time'`."
   ]
  },
  {
   "cell_type": "code",
   "execution_count": 13,
   "metadata": {
    "id": "ISlFqs5y_Zct",
    "scrolled": true
   },
   "outputs": [],
   "source": [
    "# переименование столбцов\n",
    "\n",
    "df = df.rename(columns={'  userID':'user_id', 'Track':'track', '  City  ':'city', 'time':'start_time', 'Day':'day'})"
   ]
  },
  {
   "cell_type": "markdown",
   "metadata": {
    "id": "5ISfbcfY_Zct"
   },
   "source": [
    "### Пропуски значений\n",
    "Сначала посчитайте, сколько в таблице пропущенных значений. Для этого достаточно двух методов `pandas`:"
   ]
  },
  {
   "cell_type": "code",
   "execution_count": 15,
   "metadata": {
    "id": "RskX29qr_Zct",
    "scrolled": true
   },
   "outputs": [
    {
     "data": {
      "text/plain": [
       "user_id          0\n",
       "track         1231\n",
       "artist        7203\n",
       "genre         1198\n",
       "city             0\n",
       "start_time       0\n",
       "day              0\n",
       "dtype: int64"
      ]
     },
     "execution_count": 15,
     "metadata": {},
     "output_type": "execute_result"
    }
   ],
   "source": [
    "# подсчёт пропусков\n",
    "\n",
    "df.isna().sum()"
   ]
  },
  {
   "cell_type": "markdown",
   "metadata": {
    "id": "qubhgnlO_Zct"
   },
   "source": [
    "Не все пропущенные значения влияют на исследование. Так в `track` и `artist` пропуски не важны для вашей работы. Достаточно заменить их явными обозначениями.\n",
    "\n",
    "Но пропуски в `genre` могут помешать сравнению музыкальных вкусов в Москве и Санкт-Петербурге. На практике было бы правильно установить причину пропусков и восстановить данные. Такой возможности нет в учебном проекте. Придётся:\n",
    "* заполнить и эти пропуски явными обозначениями,\n",
    "* оценить, насколько они повредят расчётам. "
   ]
  },
  {
   "cell_type": "markdown",
   "metadata": {
    "id": "fSv2laPA_Zct"
   },
   "source": [
    "Замените пропущенные значения в столбцах `track`, `artist` и `genre` на строку `'unknown'`. Для этого создайте список `columns_to_replace`, переберите его элементы циклом `for` и для каждого столбца выполните замену пропущенных значений:"
   ]
  },
  {
   "cell_type": "code",
   "execution_count": 16,
   "metadata": {
    "id": "KplB5qWs_Zct"
   },
   "outputs": [],
   "source": [
    "# перебор названий столбцов в цикле и замена пропущенных значений на 'unknown'\n",
    "\n",
    "columns_to_replace = ['track', 'artist', 'genre']\n",
    "\n",
    "for column in columns_to_replace:\n",
    "    df[column] = df[column].fillna('unknown') "
   ]
  },
  {
   "cell_type": "markdown",
   "metadata": {
    "id": "Ilsm-MZo_Zct"
   },
   "source": [
    "Убедитесь, что в таблице не осталось пропусков. Для этого ещё раз посчитайте пропущенные значения."
   ]
  },
  {
   "cell_type": "code",
   "execution_count": 17,
   "metadata": {
    "id": "Tq4nYRX4_Zct",
    "scrolled": true
   },
   "outputs": [
    {
     "data": {
      "text/plain": [
       "user_id       0\n",
       "track         0\n",
       "artist        0\n",
       "genre         0\n",
       "city          0\n",
       "start_time    0\n",
       "day           0\n",
       "dtype: int64"
      ]
     },
     "execution_count": 17,
     "metadata": {},
     "output_type": "execute_result"
    }
   ],
   "source": [
    "# подсчёт пропусков\n",
    "\n",
    "df.isna().sum()"
   ]
  },
  {
   "cell_type": "markdown",
   "metadata": {
    "id": "BWKRtBJ3_Zct"
   },
   "source": [
    "### Дубликаты\n",
    "Посчитайте явные дубликаты в таблице одной командой:"
   ]
  },
  {
   "cell_type": "code",
   "execution_count": 18,
   "metadata": {
    "id": "36eES_S0_Zct",
    "scrolled": true
   },
   "outputs": [
    {
     "data": {
      "text/plain": [
       "3826"
      ]
     },
     "execution_count": 18,
     "metadata": {},
     "output_type": "execute_result"
    }
   ],
   "source": [
    "# подсчёт явных дубликатов\n",
    "\n",
    "df.duplicated().sum()"
   ]
  },
  {
   "cell_type": "markdown",
   "metadata": {
    "id": "Ot25h6XR_Zct"
   },
   "source": [
    "Вызовите специальный метод `pandas`, чтобы удалить явные дубликаты:"
   ]
  },
  {
   "cell_type": "code",
   "execution_count": 19,
   "metadata": {
    "id": "exFHq6tt_Zct"
   },
   "outputs": [],
   "source": [
    "# удаление явных дубликатов (с удалением старых индексов и формированием новых)\n",
    "\n",
    "df = df.drop_duplicates().reset_index(drop=True)"
   ]
  },
  {
   "cell_type": "markdown",
   "metadata": {
    "id": "Im2YwBEG_Zct"
   },
   "source": [
    "Ещё раз посчитайте явные дубликаты в таблице — убедитесь, что полностью от них избавились:"
   ]
  },
  {
   "cell_type": "code",
   "execution_count": 20,
   "metadata": {
    "id": "-8PuNWQ0_Zct",
    "scrolled": true
   },
   "outputs": [
    {
     "data": {
      "text/plain": [
       "0"
      ]
     },
     "execution_count": 20,
     "metadata": {},
     "output_type": "execute_result"
    }
   ],
   "source": [
    "# проверка на отсутствие дубликатов\n",
    "\n",
    "df.duplicated().sum()"
   ]
  },
  {
   "cell_type": "markdown",
   "metadata": {
    "id": "QlFBsxAr_Zct"
   },
   "source": [
    "Теперь избавьтесь от неявных дубликатов в колонке `genre`. Например, название одного и того же жанра может быть записано немного по-разному. Такие ошибки тоже повлияют на результат исследования."
   ]
  },
  {
   "cell_type": "markdown",
   "metadata": {
    "id": "eSjWwsOh_Zct"
   },
   "source": [
    "Выведите на экран список уникальных названий жанров, отсортированный в алфавитном порядке. Для этого:\n",
    "* извлеките нужный столбец датафрейма, \n",
    "* примените к нему метод сортировки,\n",
    "* для отсортированного столбца вызовите метод, который вернёт уникальные значения из столбца."
   ]
  },
  {
   "cell_type": "code",
   "execution_count": 21,
   "metadata": {
    "id": "JIUcqzZN_Zct",
    "scrolled": true
   },
   "outputs": [
    {
     "data": {
      "text/plain": [
       "array(['acid', 'acoustic', 'action', 'adult', 'africa', 'afrikaans',\n",
       "       'alternative', 'alternativepunk', 'ambient', 'americana',\n",
       "       'animated', 'anime', 'arabesk', 'arabic', 'arena',\n",
       "       'argentinetango', 'art', 'audiobook', 'author', 'avantgarde',\n",
       "       'axé', 'baile', 'balkan', 'beats', 'bigroom', 'black', 'bluegrass',\n",
       "       'blues', 'bollywood', 'bossa', 'brazilian', 'breakbeat', 'breaks',\n",
       "       'broadway', 'cantautori', 'cantopop', 'canzone', 'caribbean',\n",
       "       'caucasian', 'celtic', 'chamber', 'chanson', 'children', 'chill',\n",
       "       'chinese', 'choral', 'christian', 'christmas', 'classical',\n",
       "       'classicmetal', 'club', 'colombian', 'comedy', 'conjazz',\n",
       "       'contemporary', 'country', 'cuban', 'dance', 'dancehall',\n",
       "       'dancepop', 'dark', 'death', 'deep', 'deutschrock', 'deutschspr',\n",
       "       'dirty', 'disco', 'dnb', 'documentary', 'downbeat', 'downtempo',\n",
       "       'drum', 'dub', 'dubstep', 'eastern', 'easy', 'electronic',\n",
       "       'electropop', 'emo', 'entehno', 'epicmetal', 'estrada', 'ethnic',\n",
       "       'eurofolk', 'european', 'experimental', 'extrememetal', 'fado',\n",
       "       'fairytail', 'film', 'fitness', 'flamenco', 'folk', 'folklore',\n",
       "       'folkmetal', 'folkrock', 'folktronica', 'forró', 'frankreich',\n",
       "       'französisch', 'french', 'funk', 'future', 'gangsta', 'garage',\n",
       "       'german', 'ghazal', 'gitarre', 'glitch', 'gospel', 'gothic',\n",
       "       'grime', 'grunge', 'gypsy', 'handsup', \"hard'n'heavy\", 'hardcore',\n",
       "       'hardstyle', 'hardtechno', 'hip', 'hip-hop', 'hiphop',\n",
       "       'historisch', 'holiday', 'hop', 'horror', 'house', 'hymn', 'idm',\n",
       "       'independent', 'indian', 'indie', 'indipop', 'industrial',\n",
       "       'inspirational', 'instrumental', 'international', 'irish', 'jam',\n",
       "       'japanese', 'jazz', 'jewish', 'jpop', 'jungle', 'k-pop',\n",
       "       'karadeniz', 'karaoke', 'kayokyoku', 'korean', 'laiko', 'latin',\n",
       "       'latino', 'leftfield', 'local', 'lounge', 'loungeelectronic',\n",
       "       'lovers', 'malaysian', 'mandopop', 'marschmusik', 'meditative',\n",
       "       'mediterranean', 'melodic', 'metal', 'metalcore', 'mexican',\n",
       "       'middle', 'minimal', 'miscellaneous', 'modern', 'mood', 'mpb',\n",
       "       'muslim', 'native', 'neoklassik', 'neue', 'new', 'newage',\n",
       "       'newwave', 'nu', 'nujazz', 'numetal', 'oceania', 'old', 'opera',\n",
       "       'orchestral', 'other', 'piano', 'podcasts', 'pop', 'popdance',\n",
       "       'popelectronic', 'popeurodance', 'poprussian', 'post',\n",
       "       'posthardcore', 'postrock', 'power', 'progmetal', 'progressive',\n",
       "       'psychedelic', 'punjabi', 'punk', 'quebecois', 'ragga', 'ram',\n",
       "       'rancheras', 'rap', 'rave', 'reggae', 'reggaeton', 'regional',\n",
       "       'relax', 'religious', 'retro', 'rhythm', 'rnb', 'rnr', 'rock',\n",
       "       'rockabilly', 'rockalternative', 'rockindie', 'rockother',\n",
       "       'romance', 'roots', 'ruspop', 'rusrap', 'rusrock', 'russian',\n",
       "       'salsa', 'samba', 'scenic', 'schlager', 'self', 'sertanejo',\n",
       "       'shanson', 'shoegazing', 'showtunes', 'singer', 'ska', 'skarock',\n",
       "       'slow', 'smooth', 'soft', 'soul', 'soulful', 'sound', 'soundtrack',\n",
       "       'southern', 'specialty', 'speech', 'spiritual', 'sport',\n",
       "       'stonerrock', 'surf', 'swing', 'synthpop', 'synthrock',\n",
       "       'sängerportrait', 'tango', 'tanzorchester', 'taraftar', 'tatar',\n",
       "       'tech', 'techno', 'teen', 'thrash', 'top', 'traditional',\n",
       "       'tradjazz', 'trance', 'tribal', 'trip', 'triphop', 'tropical',\n",
       "       'türk', 'türkçe', 'ukrrock', 'unknown', 'urban', 'uzbek',\n",
       "       'variété', 'vi', 'videogame', 'vocal', 'western', 'world',\n",
       "       'worldbeat', 'ïîï', 'электроника'], dtype=object)"
      ]
     },
     "execution_count": 21,
     "metadata": {},
     "output_type": "execute_result"
    }
   ],
   "source": [
    "# Просмотр уникальных названий жанров\n",
    "\n",
    "df['genre'].sort_values().unique()"
   ]
  },
  {
   "cell_type": "markdown",
   "metadata": {
    "id": "qej-Qmuo_Zct"
   },
   "source": [
    "Просмотрите список и найдите неявные дубликаты названия `hiphop`. Это могут быть названия с ошибками или альтернативные названия того же жанра.\n",
    "\n",
    "Вы увидите следующие неявные дубликаты:\n",
    "* *hip*,\n",
    "* *hop*,\n",
    "* *hip-hop*.\n",
    "\n",
    "Чтобы очистить от них таблицу, напишите функцию `replace_wrong_genres()` с двумя параметрами: \n",
    "* `wrong_genres` — список дубликатов,\n",
    "* `correct_genre` — строка с правильным значением.\n",
    "\n",
    "Функция должна исправить колонку `genre` в таблице `df`: заменить каждое значение из списка `wrong_genres` на значение из `correct_genre`."
   ]
  },
  {
   "cell_type": "markdown",
   "metadata": {},
   "source": [
    "<font color='Blue'><b>Комментарий студента</b></font><br>\n",
    "<font color='Blue'> - folk, folklore и local можно записать просто как folk (если я правильно поняла значение local, если нет, то только folklore заменить на folk)</font><br>\n",
    "<font color='Blue'> - latin и latino можно записать как latino</font><br>\n",
    "<font color='Blue'> - poprussian и ruspop одно и то же, и можно записать как poprussian (пока Нилетто не заканселили)</font><br>\n",
    "<font color='Blue'> - электроника заменить на electronic </font> "
   ]
  },
  {
   "cell_type": "code",
   "execution_count": 22,
   "metadata": {
    "id": "ErNDkmns_Zct"
   },
   "outputs": [],
   "source": [
    "# Функция для замены неявных дубликатов\n",
    "\n",
    "def replace_wrong_values(wrong_values, correct_value): \n",
    "    for wrong_value in wrong_values: \n",
    "        df['genre'] = df['genre'].replace(wrong_value, correct_value)  "
   ]
  },
  {
   "cell_type": "markdown",
   "metadata": {
    "id": "aDoBJxbA_Zct"
   },
   "source": [
    "Вызовите `replace_wrong_genres()` и передайте ей такие аргументы, чтобы она устранила неявные дубликаты: вместо `hip`, `hop` и `hip-hop` в таблице должно быть значение `hiphop`:"
   ]
  },
  {
   "cell_type": "code",
   "execution_count": 23,
   "metadata": {
    "id": "YN5i2hpmSo09"
   },
   "outputs": [],
   "source": [
    "# Устранение неявных дубликатов\n",
    "\n",
    "duplicates = ['hip', 'hop', 'hip-hop'] \n",
    "name = 'hiphop' \n",
    "replace_wrong_values(duplicates, name) "
   ]
  },
  {
   "cell_type": "markdown",
   "metadata": {
    "id": "zQKF16_RG15m"
   },
   "source": [
    "Проверьте, что заменили неправильные названия:\n",
    "\n",
    "*   hip\n",
    "*   hop\n",
    "*   hip-hop\n",
    "\n",
    "Выведите отсортированный список уникальных значений столбца `genre`:"
   ]
  },
  {
   "cell_type": "code",
   "execution_count": 24,
   "metadata": {
    "id": "wvixALnFG15m",
    "scrolled": true
   },
   "outputs": [
    {
     "data": {
      "text/plain": [
       "array(['acid', 'acoustic', 'action', 'adult', 'africa', 'afrikaans',\n",
       "       'alternative', 'alternativepunk', 'ambient', 'americana',\n",
       "       'animated', 'anime', 'arabesk', 'arabic', 'arena',\n",
       "       'argentinetango', 'art', 'audiobook', 'author', 'avantgarde',\n",
       "       'axé', 'baile', 'balkan', 'beats', 'bigroom', 'black', 'bluegrass',\n",
       "       'blues', 'bollywood', 'bossa', 'brazilian', 'breakbeat', 'breaks',\n",
       "       'broadway', 'cantautori', 'cantopop', 'canzone', 'caribbean',\n",
       "       'caucasian', 'celtic', 'chamber', 'chanson', 'children', 'chill',\n",
       "       'chinese', 'choral', 'christian', 'christmas', 'classical',\n",
       "       'classicmetal', 'club', 'colombian', 'comedy', 'conjazz',\n",
       "       'contemporary', 'country', 'cuban', 'dance', 'dancehall',\n",
       "       'dancepop', 'dark', 'death', 'deep', 'deutschrock', 'deutschspr',\n",
       "       'dirty', 'disco', 'dnb', 'documentary', 'downbeat', 'downtempo',\n",
       "       'drum', 'dub', 'dubstep', 'eastern', 'easy', 'electronic',\n",
       "       'electropop', 'emo', 'entehno', 'epicmetal', 'estrada', 'ethnic',\n",
       "       'eurofolk', 'european', 'experimental', 'extrememetal', 'fado',\n",
       "       'fairytail', 'film', 'fitness', 'flamenco', 'folk', 'folklore',\n",
       "       'folkmetal', 'folkrock', 'folktronica', 'forró', 'frankreich',\n",
       "       'französisch', 'french', 'funk', 'future', 'gangsta', 'garage',\n",
       "       'german', 'ghazal', 'gitarre', 'glitch', 'gospel', 'gothic',\n",
       "       'grime', 'grunge', 'gypsy', 'handsup', \"hard'n'heavy\", 'hardcore',\n",
       "       'hardstyle', 'hardtechno', 'hiphop', 'historisch', 'holiday',\n",
       "       'horror', 'house', 'hymn', 'idm', 'independent', 'indian', 'indie',\n",
       "       'indipop', 'industrial', 'inspirational', 'instrumental',\n",
       "       'international', 'irish', 'jam', 'japanese', 'jazz', 'jewish',\n",
       "       'jpop', 'jungle', 'k-pop', 'karadeniz', 'karaoke', 'kayokyoku',\n",
       "       'korean', 'laiko', 'latin', 'latino', 'leftfield', 'local',\n",
       "       'lounge', 'loungeelectronic', 'lovers', 'malaysian', 'mandopop',\n",
       "       'marschmusik', 'meditative', 'mediterranean', 'melodic', 'metal',\n",
       "       'metalcore', 'mexican', 'middle', 'minimal', 'miscellaneous',\n",
       "       'modern', 'mood', 'mpb', 'muslim', 'native', 'neoklassik', 'neue',\n",
       "       'new', 'newage', 'newwave', 'nu', 'nujazz', 'numetal', 'oceania',\n",
       "       'old', 'opera', 'orchestral', 'other', 'piano', 'podcasts', 'pop',\n",
       "       'popdance', 'popelectronic', 'popeurodance', 'poprussian', 'post',\n",
       "       'posthardcore', 'postrock', 'power', 'progmetal', 'progressive',\n",
       "       'psychedelic', 'punjabi', 'punk', 'quebecois', 'ragga', 'ram',\n",
       "       'rancheras', 'rap', 'rave', 'reggae', 'reggaeton', 'regional',\n",
       "       'relax', 'religious', 'retro', 'rhythm', 'rnb', 'rnr', 'rock',\n",
       "       'rockabilly', 'rockalternative', 'rockindie', 'rockother',\n",
       "       'romance', 'roots', 'ruspop', 'rusrap', 'rusrock', 'russian',\n",
       "       'salsa', 'samba', 'scenic', 'schlager', 'self', 'sertanejo',\n",
       "       'shanson', 'shoegazing', 'showtunes', 'singer', 'ska', 'skarock',\n",
       "       'slow', 'smooth', 'soft', 'soul', 'soulful', 'sound', 'soundtrack',\n",
       "       'southern', 'specialty', 'speech', 'spiritual', 'sport',\n",
       "       'stonerrock', 'surf', 'swing', 'synthpop', 'synthrock',\n",
       "       'sängerportrait', 'tango', 'tanzorchester', 'taraftar', 'tatar',\n",
       "       'tech', 'techno', 'teen', 'thrash', 'top', 'traditional',\n",
       "       'tradjazz', 'trance', 'tribal', 'trip', 'triphop', 'tropical',\n",
       "       'türk', 'türkçe', 'ukrrock', 'unknown', 'urban', 'uzbek',\n",
       "       'variété', 'vi', 'videogame', 'vocal', 'western', 'world',\n",
       "       'worldbeat', 'ïîï', 'электроника'], dtype=object)"
      ]
     },
     "execution_count": 24,
     "metadata": {},
     "output_type": "execute_result"
    }
   ],
   "source": [
    "# Проверка на неявные дубликаты\n",
    "\n",
    "df['genre'].sort_values().unique()"
   ]
  },
  {
   "cell_type": "markdown",
   "metadata": {
    "id": "jz6a9-7HQUDd"
   },
   "source": [
    "**Выводы**\n",
    "\n",
    "Предобработка обнаружила три проблемы в данных:\n",
    "\n",
    "- нарушения в стиле заголовков,\n",
    "- пропущенные значения,\n",
    "- дубликаты — явные и неявные.\n",
    "\n",
    "Вы исправили заголовки, чтобы упростить работу с таблицей. Без дубликатов исследование станет более точным.\n",
    "\n",
    "Пропущенные значения вы заменили на `'unknown'`. Ещё предстоит увидеть, не повредят ли исследованию пропуски в колонке `genre`.\n",
    "\n",
    "Теперь можно перейти к проверке гипотез. "
   ]
  },
  {
   "cell_type": "markdown",
   "metadata": {
    "id": "WttZHXH0SqKk"
   },
   "source": [
    "## Проверка гипотез"
   ]
  },
  {
   "cell_type": "markdown",
   "metadata": {
    "id": "Im936VVi_Zcu"
   },
   "source": [
    "### Сравнение поведения пользователей двух столиц"
   ]
  },
  {
   "cell_type": "markdown",
   "metadata": {
    "id": "nwt_MuaL_Zcu"
   },
   "source": [
    "Первая гипотеза утверждает, что пользователи по-разному слушают музыку в Москве и Санкт-Петербурге. Проверьте это предположение по данным о трёх днях недели — понедельнике, среде и пятнице. Для этого:\n",
    "\n",
    "* Разделите пользователей Москвы и Санкт-Петербурга\n",
    "* Сравните, сколько треков послушала каждая группа пользователей в понедельник, среду и пятницу.\n"
   ]
  },
  {
   "cell_type": "markdown",
   "metadata": {
    "id": "8Dw_YMmT_Zcu"
   },
   "source": [
    "Для тренировки сначала выполните каждый из расчётов по отдельности. \n",
    "\n",
    "Оцените активность пользователей в каждом городе. Сгруппируйте данные по городу и посчитайте прослушивания в каждой группе.\n",
    "\n"
   ]
  },
  {
   "cell_type": "code",
   "execution_count": 25,
   "metadata": {
    "id": "0_Qs96oh_Zcu",
    "scrolled": false
   },
   "outputs": [
    {
     "data": {
      "text/plain": [
       "city\n",
       "Moscow              42741\n",
       "Saint-Petersburg    18512\n",
       "Name: track, dtype: int64"
      ]
     },
     "execution_count": 25,
     "metadata": {},
     "output_type": "execute_result"
    }
   ],
   "source": [
    "# Подсчёт прослушиваний в каждом городе\n",
    "\n",
    "city_track_number = df.groupby('city')['track'].count()\n",
    "city_track_number"
   ]
  },
  {
   "cell_type": "markdown",
   "metadata": {
    "id": "dzli3w8o_Zcu"
   },
   "source": [
    "В Москве прослушиваний больше, чем в Петербурге. Из этого не следует, что московские пользователи чаще слушают музыку. Просто самих пользователей в Москве больше.\n",
    "\n",
    "Теперь сгруппируйте данные по дню недели и подсчитайте прослушивания в понедельник, среду и пятницу. Учтите, что в данных есть информация о прослушиваниях только за эти дни.\n"
   ]
  },
  {
   "cell_type": "code",
   "execution_count": 26,
   "metadata": {
    "id": "uZMKjiJz_Zcu",
    "scrolled": false
   },
   "outputs": [
    {
     "name": "stdout",
     "output_type": "stream",
     "text": [
      "По понедельникам в Москве и Санкт-Петербурге слушают 21354 треков.\n",
      "По средам в Москве и Санкт-Петербурге слушают 18059 треков.\n",
      "По пятницам в Москве и Санкт-Петербурге слушают 21840 треков.\n"
     ]
    }
   ],
   "source": [
    "# Подсчёт прослушиваний в каждый из трёх дней\n",
    "\n",
    "city_monday_number = df[df['day'] == 'Monday']['user_id'].count()\n",
    "city_wednesday_number = df[df['day'] == 'Wednesday']['user_id'].count()\n",
    "city_friday_number = df[df['day'] == 'Friday']['user_id'].count()\n",
    "print('По понедельникам в Москве и Санкт-Петербурге слушают', city_monday_number, 'треков.')\n",
    "print('По средам в Москве и Санкт-Петербурге слушают', city_wednesday_number, 'треков.')\n",
    "print('По пятницам в Москве и Санкт-Петербурге слушают', city_friday_number, 'треков.')"
   ]
  },
  {
   "cell_type": "code",
   "execution_count": 27,
   "metadata": {
    "scrolled": true
   },
   "outputs": [
    {
     "data": {
      "text/plain": [
       "day\n",
       "Friday       21840\n",
       "Monday       21354\n",
       "Wednesday    18059\n",
       "Name: user_id, dtype: int64"
      ]
     },
     "execution_count": 27,
     "metadata": {},
     "output_type": "execute_result"
    }
   ],
   "source": [
    "df.groupby('day')['user_id'].count()"
   ]
  },
  {
   "cell_type": "markdown",
   "metadata": {
    "id": "cC2tNrlL_Zcu"
   },
   "source": [
    "В среднем пользователи из двух городов менее активны по средам. Но картина может измениться, если рассмотреть каждый город в отдельности."
   ]
  },
  {
   "cell_type": "markdown",
   "metadata": {
    "id": "POzs8bGa_Zcu"
   },
   "source": [
    "Вы видели, как работает группировка по городу и по дням недели. Теперь напишите функцию, которая объединит два эти расчёта.\n",
    "\n",
    "Создайте функцию `number_tracks()`, которая посчитает прослушивания для заданного дня и города. Ей понадобятся два параметра:\n",
    "* день недели,\n",
    "* название города.\n",
    "\n",
    "В функции сохраните в переменную строки исходной таблицы, у которых значение:\n",
    "  * в колонке `day` равно параметру `day`,\n",
    "  * в колонке `city` равно параметру `city`.\n",
    "\n",
    "Для этого примените последовательную фильтрацию с логической индексацией.\n",
    "\n",
    "Затем посчитайте значения в столбце `user_id` получившейся таблицы. Результат сохраните в новую переменную. Верните эту переменную из функции."
   ]
  },
  {
   "cell_type": "code",
   "execution_count": 28,
   "metadata": {
    "id": "Nz3GdQB1_Zcu"
   },
   "outputs": [],
   "source": [
    "def number_tracks(day, city):\n",
    "    track_list = df[(df['day'] == day) & (df['city'] == city)]\n",
    "    track_list_count = track_list['user_id'].count()\n",
    "    return track_list_count\n"
   ]
  },
  {
   "cell_type": "markdown",
   "metadata": {
    "id": "ytf7xFrFJQ2r"
   },
   "source": [
    "Вызовите `number_tracks()` шесть раз, меняя значение параметров — так, чтобы получить данные для каждого города в каждый из трёх дней."
   ]
  },
  {
   "cell_type": "code",
   "execution_count": 29,
   "metadata": {
    "id": "rJcRATNQ_Zcu"
   },
   "outputs": [
    {
     "data": {
      "text/plain": [
       "15740"
      ]
     },
     "execution_count": 29,
     "metadata": {},
     "output_type": "execute_result"
    }
   ],
   "source": [
    "# количество прослушиваний в Москве по понедельникам\n",
    "\n",
    "number_tracks('Monday', 'Moscow')"
   ]
  },
  {
   "cell_type": "code",
   "execution_count": 30,
   "metadata": {
    "id": "hq_ncZ5T_Zcu"
   },
   "outputs": [
    {
     "data": {
      "text/plain": [
       "5614"
      ]
     },
     "execution_count": 30,
     "metadata": {},
     "output_type": "execute_result"
    }
   ],
   "source": [
    "# количество прослушиваний в Санкт-Петербурге по понедельникам\n",
    "\n",
    "number_tracks('Monday', 'Saint-Petersburg')"
   ]
  },
  {
   "cell_type": "code",
   "execution_count": 31,
   "metadata": {
    "id": "_NTy2VPU_Zcu"
   },
   "outputs": [
    {
     "data": {
      "text/plain": [
       "11056"
      ]
     },
     "execution_count": 31,
     "metadata": {},
     "output_type": "execute_result"
    }
   ],
   "source": [
    "# количество прослушиваний в Москве по средам\n",
    "\n",
    "number_tracks('Wednesday', 'Moscow')"
   ]
  },
  {
   "cell_type": "code",
   "execution_count": 32,
   "metadata": {
    "id": "j2y3TAwo_Zcu"
   },
   "outputs": [
    {
     "data": {
      "text/plain": [
       "7003"
      ]
     },
     "execution_count": 32,
     "metadata": {},
     "output_type": "execute_result"
    }
   ],
   "source": [
    "# количество прослушиваний в Санкт-Петербурге по средам\n",
    "\n",
    "number_tracks('Wednesday', 'Saint-Petersburg')"
   ]
  },
  {
   "cell_type": "code",
   "execution_count": 33,
   "metadata": {
    "id": "vYDw5u_K_Zcu"
   },
   "outputs": [
    {
     "data": {
      "text/plain": [
       "15945"
      ]
     },
     "execution_count": 33,
     "metadata": {},
     "output_type": "execute_result"
    }
   ],
   "source": [
    "# количество прослушиваний в Москве по пятницам\n",
    "\n",
    "number_tracks('Friday', 'Moscow')"
   ]
  },
  {
   "cell_type": "code",
   "execution_count": 34,
   "metadata": {
    "id": "8_yzFtW3_Zcu"
   },
   "outputs": [
    {
     "data": {
      "text/plain": [
       "5895"
      ]
     },
     "execution_count": 34,
     "metadata": {},
     "output_type": "execute_result"
    }
   ],
   "source": [
    "# количество прослушиваний в Санкт-Петербурге по пятницам\n",
    "\n",
    "number_tracks('Friday', 'Saint-Petersburg')"
   ]
  },
  {
   "cell_type": "markdown",
   "metadata": {
    "id": "7QXffbO-_Zcu"
   },
   "source": [
    "Создайте c помощью конструктора `pd.DataFrame` таблицу, где\n",
    "* названия колонок — `['city', 'monday', 'wednesday', 'friday']`;\n",
    "* данные — результаты, которые вы получили с помощью `number_tracks`."
   ]
  },
  {
   "cell_type": "code",
   "execution_count": 35,
   "metadata": {
    "id": "APAcLpOr_Zcu"
   },
   "outputs": [
    {
     "data": {
      "text/html": [
       "<div>\n",
       "<style scoped>\n",
       "    .dataframe tbody tr th:only-of-type {\n",
       "        vertical-align: middle;\n",
       "    }\n",
       "\n",
       "    .dataframe tbody tr th {\n",
       "        vertical-align: top;\n",
       "    }\n",
       "\n",
       "    .dataframe thead th {\n",
       "        text-align: right;\n",
       "    }\n",
       "</style>\n",
       "<table border=\"1\" class=\"dataframe\">\n",
       "  <thead>\n",
       "    <tr style=\"text-align: right;\">\n",
       "      <th></th>\n",
       "      <th>city</th>\n",
       "      <th>monday</th>\n",
       "      <th>wednesday</th>\n",
       "      <th>friday</th>\n",
       "    </tr>\n",
       "  </thead>\n",
       "  <tbody>\n",
       "    <tr>\n",
       "      <th>0</th>\n",
       "      <td>Moscow</td>\n",
       "      <td>15740</td>\n",
       "      <td>11056</td>\n",
       "      <td>15945</td>\n",
       "    </tr>\n",
       "    <tr>\n",
       "      <th>1</th>\n",
       "      <td>Saint-Petersburg</td>\n",
       "      <td>5614</td>\n",
       "      <td>7003</td>\n",
       "      <td>5895</td>\n",
       "    </tr>\n",
       "  </tbody>\n",
       "</table>\n",
       "</div>"
      ],
      "text/plain": [
       "               city  monday  wednesday  friday\n",
       "0            Moscow   15740      11056   15945\n",
       "1  Saint-Petersburg    5614       7003    5895"
      ]
     },
     "metadata": {},
     "output_type": "display_data"
    }
   ],
   "source": [
    "# Таблица с результатами\n",
    "\n",
    "data = [['Moscow', 15740, 11056, 15945], ['Saint-Petersburg', 5614, 7003, 5895]]\n",
    "columns = ['city','monday','wednesday','friday']\n",
    "table = pd.DataFrame(data = data, columns = columns)\n",
    "\n",
    "display(table)"
   ]
  },
  {
   "cell_type": "code",
   "execution_count": 36,
   "metadata": {
    "scrolled": false
   },
   "outputs": [
    {
     "data": {
      "text/html": [
       "<div>\n",
       "<style scoped>\n",
       "    .dataframe tbody tr th:only-of-type {\n",
       "        vertical-align: middle;\n",
       "    }\n",
       "\n",
       "    .dataframe tbody tr th {\n",
       "        vertical-align: top;\n",
       "    }\n",
       "\n",
       "    .dataframe thead th {\n",
       "        text-align: right;\n",
       "    }\n",
       "</style>\n",
       "<table border=\"1\" class=\"dataframe\">\n",
       "  <thead>\n",
       "    <tr style=\"text-align: right;\">\n",
       "      <th></th>\n",
       "      <th>city</th>\n",
       "      <th>monday</th>\n",
       "      <th>wednesday</th>\n",
       "      <th>friday</th>\n",
       "    </tr>\n",
       "  </thead>\n",
       "  <tbody>\n",
       "    <tr>\n",
       "      <th>0</th>\n",
       "      <td>Moscow</td>\n",
       "      <td>15740</td>\n",
       "      <td>11056</td>\n",
       "      <td>15945</td>\n",
       "    </tr>\n",
       "    <tr>\n",
       "      <th>1</th>\n",
       "      <td>Saint-Petersburg</td>\n",
       "      <td>5614</td>\n",
       "      <td>7003</td>\n",
       "      <td>5895</td>\n",
       "    </tr>\n",
       "  </tbody>\n",
       "</table>\n",
       "</div>"
      ],
      "text/plain": [
       "               city  monday  wednesday  friday\n",
       "0            Moscow   15740      11056   15945\n",
       "1  Saint-Petersburg    5614       7003    5895"
      ]
     },
     "execution_count": 36,
     "metadata": {},
     "output_type": "execute_result"
    }
   ],
   "source": [
    "data = [['Moscow', number_tracks('Monday', 'Moscow'), number_tracks('Wednesday', 'Moscow'), number_tracks('Friday', 'Moscow')], ['Saint-Petersburg', number_tracks('Monday', 'Saint-Petersburg'), number_tracks('Wednesday', 'Saint-Petersburg'), number_tracks('Friday', 'Saint-Petersburg')]]\n",
    "columns = ['city','monday','wednesday','friday']\n",
    "table = pd.DataFrame(data = data, columns = columns)\n",
    "table"
   ]
  },
  {
   "cell_type": "markdown",
   "metadata": {
    "id": "-EgPIHYu_Zcu"
   },
   "source": [
    "**Выводы**\n",
    "\n",
    "Данные показывают разницу поведения пользователей:\n",
    "\n",
    "- В Москве пик прослушиваний приходится на понедельник и пятницу, а в среду заметен спад.\n",
    "- В Петербурге, наоборот, больше слушают музыку по средам. Активность в понедельник и пятницу здесь почти в равной мере уступает среде.\n",
    "\n",
    "Значит, данные говорят в пользу первой гипотезы."
   ]
  },
  {
   "cell_type": "markdown",
   "metadata": {
    "id": "atZAxtq4_Zcu"
   },
   "source": [
    "### Музыка в начале и в конце недели"
   ]
  },
  {
   "cell_type": "markdown",
   "metadata": {
    "id": "eXrQqXFH_Zcu"
   },
   "source": [
    "Согласно второй гипотезе, утром в понедельник в Москве преобладают одни жанры, а в Петербурге — другие. Так же и вечером пятницы преобладают разные жанры — в зависимости от города."
   ]
  },
  {
   "cell_type": "markdown",
   "metadata": {
    "id": "S8UcW6Hw_Zcu"
   },
   "source": [
    "Сохраните таблицы с данными в две переменные:\n",
    "* по Москве — в `moscow_general`;\n",
    "* по Санкт-Петербургу — в `spb_general`."
   ]
  },
  {
   "cell_type": "code",
   "execution_count": 37,
   "metadata": {
    "id": "qeaFfM_P_Zcu",
    "scrolled": true
   },
   "outputs": [
    {
     "data": {
      "text/html": [
       "<div>\n",
       "<style scoped>\n",
       "    .dataframe tbody tr th:only-of-type {\n",
       "        vertical-align: middle;\n",
       "    }\n",
       "\n",
       "    .dataframe tbody tr th {\n",
       "        vertical-align: top;\n",
       "    }\n",
       "\n",
       "    .dataframe thead th {\n",
       "        text-align: right;\n",
       "    }\n",
       "</style>\n",
       "<table border=\"1\" class=\"dataframe\">\n",
       "  <thead>\n",
       "    <tr style=\"text-align: right;\">\n",
       "      <th></th>\n",
       "      <th>user_id</th>\n",
       "      <th>track</th>\n",
       "      <th>artist</th>\n",
       "      <th>genre</th>\n",
       "      <th>city</th>\n",
       "      <th>start_time</th>\n",
       "      <th>day</th>\n",
       "    </tr>\n",
       "  </thead>\n",
       "  <tbody>\n",
       "    <tr>\n",
       "      <th>1</th>\n",
       "      <td>55204538</td>\n",
       "      <td>Delayed Because of Accident</td>\n",
       "      <td>Andreas Rönnberg</td>\n",
       "      <td>rock</td>\n",
       "      <td>Moscow</td>\n",
       "      <td>14:07:09</td>\n",
       "      <td>Friday</td>\n",
       "    </tr>\n",
       "    <tr>\n",
       "      <th>4</th>\n",
       "      <td>E2DC1FAE</td>\n",
       "      <td>Soul People</td>\n",
       "      <td>Space Echo</td>\n",
       "      <td>dance</td>\n",
       "      <td>Moscow</td>\n",
       "      <td>08:34:34</td>\n",
       "      <td>Monday</td>\n",
       "    </tr>\n",
       "    <tr>\n",
       "      <th>6</th>\n",
       "      <td>4CB90AA5</td>\n",
       "      <td>True</td>\n",
       "      <td>Roman Messer</td>\n",
       "      <td>dance</td>\n",
       "      <td>Moscow</td>\n",
       "      <td>13:00:07</td>\n",
       "      <td>Wednesday</td>\n",
       "    </tr>\n",
       "    <tr>\n",
       "      <th>7</th>\n",
       "      <td>F03E1C1F</td>\n",
       "      <td>Feeling This Way</td>\n",
       "      <td>Polina Griffith</td>\n",
       "      <td>dance</td>\n",
       "      <td>Moscow</td>\n",
       "      <td>20:47:49</td>\n",
       "      <td>Wednesday</td>\n",
       "    </tr>\n",
       "    <tr>\n",
       "      <th>8</th>\n",
       "      <td>8FA1D3BE</td>\n",
       "      <td>И вновь продолжается бой</td>\n",
       "      <td>unknown</td>\n",
       "      <td>ruspop</td>\n",
       "      <td>Moscow</td>\n",
       "      <td>09:17:40</td>\n",
       "      <td>Friday</td>\n",
       "    </tr>\n",
       "    <tr>\n",
       "      <th>...</th>\n",
       "      <td>...</td>\n",
       "      <td>...</td>\n",
       "      <td>...</td>\n",
       "      <td>...</td>\n",
       "      <td>...</td>\n",
       "      <td>...</td>\n",
       "      <td>...</td>\n",
       "    </tr>\n",
       "    <tr>\n",
       "      <th>61247</th>\n",
       "      <td>83A474E7</td>\n",
       "      <td>I Worship Only What You Bleed</td>\n",
       "      <td>The Black Dahlia Murder</td>\n",
       "      <td>extrememetal</td>\n",
       "      <td>Moscow</td>\n",
       "      <td>21:07:12</td>\n",
       "      <td>Monday</td>\n",
       "    </tr>\n",
       "    <tr>\n",
       "      <th>61248</th>\n",
       "      <td>729CBB09</td>\n",
       "      <td>My Name</td>\n",
       "      <td>McLean</td>\n",
       "      <td>rnb</td>\n",
       "      <td>Moscow</td>\n",
       "      <td>13:32:28</td>\n",
       "      <td>Wednesday</td>\n",
       "    </tr>\n",
       "    <tr>\n",
       "      <th>61250</th>\n",
       "      <td>C5E3A0D5</td>\n",
       "      <td>Jalopiina</td>\n",
       "      <td>unknown</td>\n",
       "      <td>industrial</td>\n",
       "      <td>Moscow</td>\n",
       "      <td>20:09:26</td>\n",
       "      <td>Friday</td>\n",
       "    </tr>\n",
       "    <tr>\n",
       "      <th>61251</th>\n",
       "      <td>321D0506</td>\n",
       "      <td>Freight Train</td>\n",
       "      <td>Chas McDevitt</td>\n",
       "      <td>rock</td>\n",
       "      <td>Moscow</td>\n",
       "      <td>21:43:59</td>\n",
       "      <td>Friday</td>\n",
       "    </tr>\n",
       "    <tr>\n",
       "      <th>61252</th>\n",
       "      <td>3A64EF84</td>\n",
       "      <td>Tell Me Sweet Little Lies</td>\n",
       "      <td>Monica Lopez</td>\n",
       "      <td>country</td>\n",
       "      <td>Moscow</td>\n",
       "      <td>21:59:46</td>\n",
       "      <td>Friday</td>\n",
       "    </tr>\n",
       "  </tbody>\n",
       "</table>\n",
       "<p>42741 rows × 7 columns</p>\n",
       "</div>"
      ],
      "text/plain": [
       "        user_id                          track                   artist  \\\n",
       "1      55204538    Delayed Because of Accident         Andreas Rönnberg   \n",
       "4      E2DC1FAE                    Soul People               Space Echo   \n",
       "6      4CB90AA5                           True             Roman Messer   \n",
       "7      F03E1C1F               Feeling This Way          Polina Griffith   \n",
       "8      8FA1D3BE       И вновь продолжается бой                  unknown   \n",
       "...         ...                            ...                      ...   \n",
       "61247  83A474E7  I Worship Only What You Bleed  The Black Dahlia Murder   \n",
       "61248  729CBB09                        My Name                   McLean   \n",
       "61250  C5E3A0D5                      Jalopiina                  unknown   \n",
       "61251  321D0506                  Freight Train            Chas McDevitt   \n",
       "61252  3A64EF84      Tell Me Sweet Little Lies             Monica Lopez   \n",
       "\n",
       "              genre    city start_time        day  \n",
       "1              rock  Moscow   14:07:09     Friday  \n",
       "4             dance  Moscow   08:34:34     Monday  \n",
       "6             dance  Moscow   13:00:07  Wednesday  \n",
       "7             dance  Moscow   20:47:49  Wednesday  \n",
       "8            ruspop  Moscow   09:17:40     Friday  \n",
       "...             ...     ...        ...        ...  \n",
       "61247  extrememetal  Moscow   21:07:12     Monday  \n",
       "61248           rnb  Moscow   13:32:28  Wednesday  \n",
       "61250    industrial  Moscow   20:09:26     Friday  \n",
       "61251          rock  Moscow   21:43:59     Friday  \n",
       "61252       country  Moscow   21:59:46     Friday  \n",
       "\n",
       "[42741 rows x 7 columns]"
      ]
     },
     "metadata": {},
     "output_type": "display_data"
    }
   ],
   "source": [
    "# получение таблицы moscow_general из тех строк таблицы df, \n",
    "# для которых значение в столбце 'city' равно 'Moscow'\n",
    "\n",
    "moscow_general = df[df['city'] == 'Moscow']\n",
    "moscow_general"
   ]
  },
  {
   "cell_type": "code",
   "execution_count": 38,
   "metadata": {
    "id": "ORaVRKto_Zcu"
   },
   "outputs": [
    {
     "data": {
      "text/html": [
       "<div>\n",
       "<style scoped>\n",
       "    .dataframe tbody tr th:only-of-type {\n",
       "        vertical-align: middle;\n",
       "    }\n",
       "\n",
       "    .dataframe tbody tr th {\n",
       "        vertical-align: top;\n",
       "    }\n",
       "\n",
       "    .dataframe thead th {\n",
       "        text-align: right;\n",
       "    }\n",
       "</style>\n",
       "<table border=\"1\" class=\"dataframe\">\n",
       "  <thead>\n",
       "    <tr style=\"text-align: right;\">\n",
       "      <th></th>\n",
       "      <th>user_id</th>\n",
       "      <th>track</th>\n",
       "      <th>artist</th>\n",
       "      <th>genre</th>\n",
       "      <th>city</th>\n",
       "      <th>start_time</th>\n",
       "      <th>day</th>\n",
       "    </tr>\n",
       "  </thead>\n",
       "  <tbody>\n",
       "    <tr>\n",
       "      <th>0</th>\n",
       "      <td>FFB692EC</td>\n",
       "      <td>Kamigata To Boots</td>\n",
       "      <td>The Mass Missile</td>\n",
       "      <td>rock</td>\n",
       "      <td>Saint-Petersburg</td>\n",
       "      <td>20:28:33</td>\n",
       "      <td>Wednesday</td>\n",
       "    </tr>\n",
       "    <tr>\n",
       "      <th>2</th>\n",
       "      <td>20EC38</td>\n",
       "      <td>Funiculì funiculà</td>\n",
       "      <td>Mario Lanza</td>\n",
       "      <td>pop</td>\n",
       "      <td>Saint-Petersburg</td>\n",
       "      <td>20:58:07</td>\n",
       "      <td>Wednesday</td>\n",
       "    </tr>\n",
       "    <tr>\n",
       "      <th>3</th>\n",
       "      <td>A3DD03C9</td>\n",
       "      <td>Dragons in the Sunset</td>\n",
       "      <td>Fire + Ice</td>\n",
       "      <td>folk</td>\n",
       "      <td>Saint-Petersburg</td>\n",
       "      <td>08:37:09</td>\n",
       "      <td>Monday</td>\n",
       "    </tr>\n",
       "    <tr>\n",
       "      <th>5</th>\n",
       "      <td>842029A1</td>\n",
       "      <td>Преданная</td>\n",
       "      <td>IMPERVTOR</td>\n",
       "      <td>rusrap</td>\n",
       "      <td>Saint-Petersburg</td>\n",
       "      <td>13:09:41</td>\n",
       "      <td>Friday</td>\n",
       "    </tr>\n",
       "    <tr>\n",
       "      <th>9</th>\n",
       "      <td>E772D5C0</td>\n",
       "      <td>Pessimist</td>\n",
       "      <td>unknown</td>\n",
       "      <td>dance</td>\n",
       "      <td>Saint-Petersburg</td>\n",
       "      <td>21:20:49</td>\n",
       "      <td>Wednesday</td>\n",
       "    </tr>\n",
       "    <tr>\n",
       "      <th>...</th>\n",
       "      <td>...</td>\n",
       "      <td>...</td>\n",
       "      <td>...</td>\n",
       "      <td>...</td>\n",
       "      <td>...</td>\n",
       "      <td>...</td>\n",
       "      <td>...</td>\n",
       "    </tr>\n",
       "    <tr>\n",
       "      <th>61239</th>\n",
       "      <td>D94F810B</td>\n",
       "      <td>Theme from the Walking Dead</td>\n",
       "      <td>Proyecto Halloween</td>\n",
       "      <td>film</td>\n",
       "      <td>Saint-Petersburg</td>\n",
       "      <td>21:14:40</td>\n",
       "      <td>Monday</td>\n",
       "    </tr>\n",
       "    <tr>\n",
       "      <th>61240</th>\n",
       "      <td>BC8EC5CF</td>\n",
       "      <td>Red Lips: Gta (Rover Rework)</td>\n",
       "      <td>Rover</td>\n",
       "      <td>electronic</td>\n",
       "      <td>Saint-Petersburg</td>\n",
       "      <td>21:06:50</td>\n",
       "      <td>Monday</td>\n",
       "    </tr>\n",
       "    <tr>\n",
       "      <th>61241</th>\n",
       "      <td>29E04611</td>\n",
       "      <td>Bre Petrunko</td>\n",
       "      <td>Perunika Trio</td>\n",
       "      <td>world</td>\n",
       "      <td>Saint-Petersburg</td>\n",
       "      <td>13:56:00</td>\n",
       "      <td>Monday</td>\n",
       "    </tr>\n",
       "    <tr>\n",
       "      <th>61242</th>\n",
       "      <td>1B91C621</td>\n",
       "      <td>(Hello) Cloud Mountain</td>\n",
       "      <td>sleepmakeswaves</td>\n",
       "      <td>postrock</td>\n",
       "      <td>Saint-Petersburg</td>\n",
       "      <td>09:22:13</td>\n",
       "      <td>Monday</td>\n",
       "    </tr>\n",
       "    <tr>\n",
       "      <th>61249</th>\n",
       "      <td>D08D4A55</td>\n",
       "      <td>Maybe One Day (feat. Black Spade)</td>\n",
       "      <td>Blu &amp; Exile</td>\n",
       "      <td>hiphop</td>\n",
       "      <td>Saint-Petersburg</td>\n",
       "      <td>10:00:00</td>\n",
       "      <td>Monday</td>\n",
       "    </tr>\n",
       "  </tbody>\n",
       "</table>\n",
       "<p>18512 rows × 7 columns</p>\n",
       "</div>"
      ],
      "text/plain": [
       "        user_id                              track              artist  \\\n",
       "0      FFB692EC                  Kamigata To Boots    The Mass Missile   \n",
       "2        20EC38                  Funiculì funiculà         Mario Lanza   \n",
       "3      A3DD03C9              Dragons in the Sunset          Fire + Ice   \n",
       "5      842029A1                          Преданная           IMPERVTOR   \n",
       "9      E772D5C0                          Pessimist             unknown   \n",
       "...         ...                                ...                 ...   \n",
       "61239  D94F810B        Theme from the Walking Dead  Proyecto Halloween   \n",
       "61240  BC8EC5CF       Red Lips: Gta (Rover Rework)               Rover   \n",
       "61241  29E04611                       Bre Petrunko       Perunika Trio   \n",
       "61242  1B91C621             (Hello) Cloud Mountain     sleepmakeswaves   \n",
       "61249  D08D4A55  Maybe One Day (feat. Black Spade)         Blu & Exile   \n",
       "\n",
       "            genre              city start_time        day  \n",
       "0            rock  Saint-Petersburg   20:28:33  Wednesday  \n",
       "2             pop  Saint-Petersburg   20:58:07  Wednesday  \n",
       "3            folk  Saint-Petersburg   08:37:09     Monday  \n",
       "5          rusrap  Saint-Petersburg   13:09:41     Friday  \n",
       "9           dance  Saint-Petersburg   21:20:49  Wednesday  \n",
       "...           ...               ...        ...        ...  \n",
       "61239        film  Saint-Petersburg   21:14:40     Monday  \n",
       "61240  electronic  Saint-Petersburg   21:06:50     Monday  \n",
       "61241       world  Saint-Petersburg   13:56:00     Monday  \n",
       "61242    postrock  Saint-Petersburg   09:22:13     Monday  \n",
       "61249      hiphop  Saint-Petersburg   10:00:00     Monday  \n",
       "\n",
       "[18512 rows x 7 columns]"
      ]
     },
     "metadata": {},
     "output_type": "display_data"
    }
   ],
   "source": [
    "# получение таблицы spb_general из тех строк таблицы df,\n",
    "# для которых значение в столбце 'city' равно 'Saint-Petersburg'\n",
    "\n",
    "spb_general = df[df['city'] == 'Saint-Petersburg']\n",
    "spb_general"
   ]
  },
  {
   "cell_type": "markdown",
   "metadata": {
    "id": "MEJV-CX2_Zcu"
   },
   "source": [
    "Создайте функцию `genre_weekday()` с четырьмя параметрами:\n",
    "* таблица (датафрейм) с данными,\n",
    "* день недели,\n",
    "* начальная временная метка в формате 'hh:mm', \n",
    "* последняя временная метка в формате 'hh:mm'.\n",
    "\n",
    "Функция должна вернуть информацию о топ-10 жанров тех треков, которые прослушивали в указанный день, в промежутке между двумя отметками времени."
   ]
  },
  {
   "cell_type": "code",
   "execution_count": 40,
   "metadata": {
    "id": "laJT9BYl_Zcu"
   },
   "outputs": [],
   "source": [
    "def genre_weekday(table, day, time1, time2):\n",
    "    genre_df = table[ (table['day'] == day) & (table['start_time'] > time1) & (table['start_time'] < time2)]\n",
    "    genre_df_count = genre_df.groupby('genre')['genre'].count()\n",
    "    genre_df_sorted = genre_df_count.sort_values(ascending = False)\n",
    "    return genre_df_sorted[:10]"
   ]
  },
  {
   "cell_type": "markdown",
   "metadata": {
    "id": "la2s2_PF_Zcu"
   },
   "source": [
    "Cравните результаты функции `genre_weekday()` для Москвы и Санкт-Петербурга в понедельник утром (с 7:00 до 11:00) и в пятницу вечером (с 17:00 до 23:00):"
   ]
  },
  {
   "cell_type": "code",
   "execution_count": 41,
   "metadata": {
    "id": "yz7itPUQ_Zcu",
    "scrolled": true
   },
   "outputs": [
    {
     "data": {
      "text/plain": [
       "genre\n",
       "pop            781\n",
       "dance          549\n",
       "electronic     480\n",
       "rock           474\n",
       "hiphop         286\n",
       "ruspop         186\n",
       "world          181\n",
       "rusrap         175\n",
       "alternative    164\n",
       "unknown        161\n",
       "Name: genre, dtype: int64"
      ]
     },
     "execution_count": 41,
     "metadata": {},
     "output_type": "execute_result"
    }
   ],
   "source": [
    "# вызов функции для утра понедельника в Москве (вместо df — таблица moscow_general)\n",
    "# объекты, хранящие время, являются строками и сравниваются как строки\n",
    "# пример вызова: genre_weekday(moscow_general, 'Monday', '07:00', '11:00')\n",
    "\n",
    "genre_weekday(moscow_general, 'Monday', '07:00', '11:00')"
   ]
  },
  {
   "cell_type": "code",
   "execution_count": 42,
   "metadata": {
    "id": "kwUcHPdy_Zcu",
    "scrolled": false
   },
   "outputs": [
    {
     "data": {
      "text/plain": [
       "genre\n",
       "pop            218\n",
       "dance          182\n",
       "rock           162\n",
       "electronic     147\n",
       "hiphop          80\n",
       "ruspop          64\n",
       "alternative     58\n",
       "rusrap          55\n",
       "jazz            44\n",
       "classical       40\n",
       "Name: genre, dtype: int64"
      ]
     },
     "execution_count": 42,
     "metadata": {},
     "output_type": "execute_result"
    }
   ],
   "source": [
    "# вызов функции для утра понедельника в Петербурге (вместо df — таблица spb_general)\n",
    "\n",
    "genre_weekday(spb_general, 'Monday', '07:00', '11:00')"
   ]
  },
  {
   "cell_type": "code",
   "execution_count": 43,
   "metadata": {
    "id": "EzXVRE1o_Zcu",
    "scrolled": false
   },
   "outputs": [
    {
     "data": {
      "text/plain": [
       "genre\n",
       "pop            713\n",
       "rock           517\n",
       "dance          495\n",
       "electronic     482\n",
       "hiphop         273\n",
       "world          208\n",
       "ruspop         170\n",
       "alternative    163\n",
       "classical      163\n",
       "rusrap         142\n",
       "Name: genre, dtype: int64"
      ]
     },
     "execution_count": 43,
     "metadata": {},
     "output_type": "execute_result"
    }
   ],
   "source": [
    "# вызов функции для вечера пятницы в Москве\n",
    "genre_weekday(moscow_general, 'Friday', '17:00', '23:00')"
   ]
  },
  {
   "cell_type": "code",
   "execution_count": 44,
   "metadata": {
    "id": "JZaEKu5v_Zcu",
    "scrolled": false
   },
   "outputs": [
    {
     "data": {
      "text/plain": [
       "genre\n",
       "pop            256\n",
       "electronic     216\n",
       "rock           216\n",
       "dance          210\n",
       "hiphop          97\n",
       "alternative     63\n",
       "jazz            61\n",
       "classical       60\n",
       "rusrap          59\n",
       "world           54\n",
       "Name: genre, dtype: int64"
      ]
     },
     "execution_count": 44,
     "metadata": {},
     "output_type": "execute_result"
    }
   ],
   "source": [
    "# вызов функции для вечера пятницы в Петербурге\n",
    "genre_weekday(spb_general, 'Friday', '17:00', '23:00')"
   ]
  },
  {
   "cell_type": "markdown",
   "metadata": {
    "id": "wrCe4MNX_Zcu"
   },
   "source": [
    "**Выводы**\n",
    "\n",
    "Если сравнить топ-10 жанров в понедельник утром, можно сделать такие выводы:\n",
    "\n",
    "1. В Москве и Петербурге слушают похожую музыку. Единственное отличие — в московский рейтинг вошёл жанр “world”, а в петербургский — джаз и классика.\n",
    "\n",
    "2. В Москве пропущенных значений оказалось так много, что значение `'unknown'` заняло десятое место среди самых популярных жанров. Значит, пропущенные значения занимают существенную долю в данных и угрожают достоверности исследования.\n",
    "\n",
    "Вечер пятницы не меняет эту картину. Некоторые жанры поднимаются немного выше, другие спускаются, но в целом топ-10 остаётся тем же самым.\n",
    "\n",
    "Таким образом, вторая гипотеза подтвердилась лишь частично:\n",
    "* Пользователи слушают похожую музыку в начале недели и в конце.\n",
    "* Разница между Москвой и Петербургом не слишком выражена. В Москве чаще слушают русскую популярную музыку, в Петербурге — джаз.\n",
    "\n",
    "Однако пропуски в данных ставят под сомнение этот результат. В Москве их так много, что рейтинг топ-10 мог бы выглядеть иначе, если бы не утерянные  данные о жанрах."
   ]
  },
  {
   "cell_type": "markdown",
   "metadata": {
    "id": "JolODAqr_Zcu"
   },
   "source": [
    "### Жанровые предпочтения в Москве и Петербурге\n",
    "\n",
    "Гипотеза: Петербург — столица рэпа, музыку этого жанра там слушают чаще, чем в Москве.  А Москва — город контрастов, в котором, тем не менее, преобладает поп-музыка."
   ]
  },
  {
   "cell_type": "markdown",
   "metadata": {
    "id": "DlegSvaT_Zcu"
   },
   "source": [
    "Сгруппируйте таблицу `moscow_general` по жанру и посчитайте прослушивания треков каждого жанра методом `count()`. Затем отсортируйте результат в порядке убывания и сохраните его в таблице `moscow_genres`."
   ]
  },
  {
   "cell_type": "code",
   "execution_count": 45,
   "metadata": {
    "id": "r19lIPke_Zcu",
    "scrolled": true
   },
   "outputs": [],
   "source": [
    "# одной строкой: группировка таблицы moscow_general по столбцу 'genre', \n",
    "# подсчёт числа значений 'genre' в этой группировке методом count(), \n",
    "# сортировка получившегося Series в порядке убывания и сохранение в moscow_genres\n",
    "\n",
    "moscow_genres = moscow_general.groupby('genre')['genre'].count().sort_values(ascending = False)"
   ]
  },
  {
   "cell_type": "markdown",
   "metadata": {
    "id": "6kMuomxTiIr8"
   },
   "source": [
    "Выведите на экран первые десять строк `moscow_genres`:"
   ]
  },
  {
   "cell_type": "code",
   "execution_count": 46,
   "metadata": {
    "id": "WhCSooF8_Zcv",
    "scrolled": true
   },
   "outputs": [
    {
     "data": {
      "text/plain": [
       "genre\n",
       "pop            5892\n",
       "dance          4435\n",
       "rock           3965\n",
       "electronic     3786\n",
       "hiphop         2096\n",
       "classical      1616\n",
       "world          1432\n",
       "alternative    1379\n",
       "ruspop         1372\n",
       "rusrap         1161\n",
       "Name: genre, dtype: int64"
      ]
     },
     "execution_count": 46,
     "metadata": {},
     "output_type": "execute_result"
    }
   ],
   "source": [
    "# просмотр первых 10 строк moscow_genres\n",
    "\n",
    "moscow_genres.head(10)"
   ]
  },
  {
   "cell_type": "markdown",
   "metadata": {
    "id": "cnPG2vnN_Zcv"
   },
   "source": [
    "Теперь повторите то же и для Петербурга.\n",
    "\n",
    "Сгруппируйте таблицу `spb_general` по жанру. Посчитайте прослушивания треков каждого жанра. Результат отсортируйте в порядке убывания и сохраните в таблице `spb_genres`:\n"
   ]
  },
  {
   "cell_type": "code",
   "execution_count": 47,
   "metadata": {
    "id": "gluLIpE7_Zcv"
   },
   "outputs": [],
   "source": [
    "# одной строкой: группировка таблицы spb_general по столбцу 'genre', \n",
    "# подсчёт числа значений 'genre' в этой группировке методом count(), \n",
    "# сортировка получившегося Series в порядке убывания и сохранение в spb_genres\n",
    "\n",
    "spb_genres = spb_general.groupby('genre')['genre'].count().sort_values(ascending = False)"
   ]
  },
  {
   "cell_type": "markdown",
   "metadata": {
    "id": "5Doha_ODgyQ8"
   },
   "source": [
    "Выведите на экран первые десять строк `spb_genres`:"
   ]
  },
  {
   "cell_type": "code",
   "execution_count": 48,
   "metadata": {
    "id": "uaGJHjVU_Zcv",
    "scrolled": true
   },
   "outputs": [
    {
     "data": {
      "text/plain": [
       "genre\n",
       "pop            2431\n",
       "dance          1932\n",
       "rock           1879\n",
       "electronic     1736\n",
       "hiphop          960\n",
       "alternative     649\n",
       "classical       646\n",
       "rusrap          564\n",
       "ruspop          538\n",
       "world           515\n",
       "Name: genre, dtype: int64"
      ]
     },
     "execution_count": 48,
     "metadata": {},
     "output_type": "execute_result"
    }
   ],
   "source": [
    "# просмотр первых 10 строк spb_genres\n",
    "\n",
    "spb_genres.head(10)"
   ]
  },
  {
   "cell_type": "markdown",
   "metadata": {
    "id": "RY51YJYu_Zcv"
   },
   "source": [
    "**Выводы**"
   ]
  },
  {
   "cell_type": "markdown",
   "metadata": {
    "id": "nVhnJEm__Zcv"
   },
   "source": [
    "Гипотеза частично подтвердилась:\n",
    "* Поп-музыка — самый популярный жанр в Москве, как и предполагала гипотеза. Более того, в топ-10 жанров встречается близкий жанр — русская популярная музыка.\n",
    "* Вопреки ожиданиям, рэп одинаково популярен в Москве и Петербурге. \n"
   ]
  },
  {
   "cell_type": "markdown",
   "metadata": {
    "id": "ykKQ0N65_Zcv"
   },
   "source": [
    "## Итоги исследования"
   ]
  },
  {
   "cell_type": "markdown",
   "metadata": {
    "id": "tjUwbHb3_Zcv"
   },
   "source": [
    "Вы проверили три гипотезы и установили:\n",
    "\n",
    "1. День недели по-разному влияет на активность пользователей в Москве и Петербурге. \n",
    "\n",
    "Первая гипотеза полностью подтвердилась.\n",
    "\n",
    "2. Музыкальные предпочтения не сильно меняются в течение недели — будь то Москва или Петербург. Небольшие различия заметны в начале недели, по понедельникам:\n",
    "* в Москве слушают музыку жанра “world”,\n",
    "* в Петербурге — джаз и классику.\n",
    "\n",
    "Таким образом, вторая гипотеза подтвердилась лишь отчасти. Этот результат мог оказаться иным, если бы не пропуски в данных.\n",
    "\n",
    "3. Во вкусах пользователей Москвы и Петербурга больше общего чем различий. Вопреки ожиданиям, предпочтения жанров в Петербурге напоминают московские.\n",
    "\n",
    "Третья гипотеза не подтвердилась. Если различия в предпочтениях и существуют, на основной массе пользователей они незаметны.\n",
    "\n",
    "**На практике исследования содержат проверки статистических гипотез.**\n",
    "Из данных одного сервиса не всегда можно сделать вывод о всех жителях города.\n",
    "Проверки статистических гипотез покажут, насколько они достоверны, исходя из имеющихся данных. \n",
    "С методами проверок гипотез вы ещё познакомитесь в следующих темах."
   ]
  }
 ],
 "metadata": {
  "ExecuteTimeLog": [
   {
    "duration": 66,
    "start_time": "2022-04-07T16:14:31.639Z"
   },
   {
    "duration": 10,
    "start_time": "2022-04-07T16:14:49.047Z"
   },
   {
    "duration": 0,
    "start_time": "2022-04-07T16:14:49.059Z"
   },
   {
    "duration": 479,
    "start_time": "2022-04-07T16:15:05.675Z"
   },
   {
    "duration": 181,
    "start_time": "2022-04-07T16:15:06.157Z"
   },
   {
    "duration": 3,
    "start_time": "2022-04-07T16:15:11.539Z"
   },
   {
    "duration": 175,
    "start_time": "2022-04-07T16:15:17.914Z"
   },
   {
    "duration": 24,
    "start_time": "2022-04-07T16:16:34.578Z"
   },
   {
    "duration": 39,
    "start_time": "2022-04-07T16:16:57.009Z"
   },
   {
    "duration": 6,
    "start_time": "2022-04-07T16:37:57.297Z"
   },
   {
    "duration": 13,
    "start_time": "2022-04-07T16:39:41.139Z"
   },
   {
    "duration": 5,
    "start_time": "2022-04-07T16:40:14.970Z"
   },
   {
    "duration": 15,
    "start_time": "2022-04-07T16:40:46.407Z"
   },
   {
    "duration": 6,
    "start_time": "2022-04-07T16:40:49.485Z"
   },
   {
    "duration": 6,
    "start_time": "2022-04-07T16:44:05.022Z"
   },
   {
    "duration": 11,
    "start_time": "2022-04-07T16:44:11.107Z"
   },
   {
    "duration": 7,
    "start_time": "2022-04-07T16:44:13.593Z"
   },
   {
    "duration": 10,
    "start_time": "2022-04-07T16:44:26.706Z"
   },
   {
    "duration": 7,
    "start_time": "2022-04-07T16:44:32.063Z"
   },
   {
    "duration": 6,
    "start_time": "2022-04-07T16:44:45.133Z"
   },
   {
    "duration": 10,
    "start_time": "2022-04-07T16:45:08.131Z"
   },
   {
    "duration": 6,
    "start_time": "2022-04-07T16:45:10.315Z"
   },
   {
    "duration": 9,
    "start_time": "2022-04-07T16:45:28.570Z"
   },
   {
    "duration": 7,
    "start_time": "2022-04-07T16:45:30.724Z"
   },
   {
    "duration": 11,
    "start_time": "2022-04-07T16:46:39.181Z"
   },
   {
    "duration": 5,
    "start_time": "2022-04-07T16:46:44.502Z"
   },
   {
    "duration": 31,
    "start_time": "2022-04-07T16:50:54.909Z"
   },
   {
    "duration": 32,
    "start_time": "2022-04-07T16:55:46.036Z"
   },
   {
    "duration": 23,
    "start_time": "2022-04-07T16:55:54.663Z"
   },
   {
    "duration": 31,
    "start_time": "2022-04-07T16:55:57.387Z"
   },
   {
    "duration": 4,
    "start_time": "2022-04-07T16:59:17.444Z"
   },
   {
    "duration": 31,
    "start_time": "2022-04-07T16:59:20.683Z"
   },
   {
    "duration": 123,
    "start_time": "2022-04-07T17:00:19.244Z"
   },
   {
    "duration": 4,
    "start_time": "2022-04-07T17:00:21.900Z"
   },
   {
    "duration": 40,
    "start_time": "2022-04-07T17:01:30.399Z"
   },
   {
    "duration": 8,
    "start_time": "2022-04-07T17:01:57.411Z"
   },
   {
    "duration": 9,
    "start_time": "2022-04-07T17:02:48.566Z"
   },
   {
    "duration": 9,
    "start_time": "2022-04-07T17:03:22.303Z"
   },
   {
    "duration": 5,
    "start_time": "2022-04-07T17:03:31.229Z"
   },
   {
    "duration": 4,
    "start_time": "2022-04-07T17:03:35.268Z"
   },
   {
    "duration": 10,
    "start_time": "2022-04-07T17:03:37.724Z"
   },
   {
    "duration": 4,
    "start_time": "2022-04-07T17:04:40.761Z"
   },
   {
    "duration": 10,
    "start_time": "2022-04-07T17:04:42.174Z"
   },
   {
    "duration": 10,
    "start_time": "2022-04-07T17:04:48.171Z"
   },
   {
    "duration": 9,
    "start_time": "2022-04-07T17:05:10.865Z"
   },
   {
    "duration": 10,
    "start_time": "2022-04-07T17:06:02.883Z"
   },
   {
    "duration": 9,
    "start_time": "2022-04-07T17:06:25.159Z"
   },
   {
    "duration": 10,
    "start_time": "2022-04-07T17:06:31.520Z"
   },
   {
    "duration": 10,
    "start_time": "2022-04-07T17:08:03.682Z"
   },
   {
    "duration": 10,
    "start_time": "2022-04-07T17:10:50.640Z"
   },
   {
    "duration": 10,
    "start_time": "2022-04-07T17:11:00.846Z"
   },
   {
    "duration": 9,
    "start_time": "2022-04-07T17:11:05.622Z"
   },
   {
    "duration": 10,
    "start_time": "2022-04-07T17:11:09.638Z"
   },
   {
    "duration": 3,
    "start_time": "2022-04-07T17:31:05.894Z"
   },
   {
    "duration": 170,
    "start_time": "2022-04-07T17:31:08.666Z"
   },
   {
    "duration": 16,
    "start_time": "2022-04-07T17:31:11.802Z"
   },
   {
    "duration": 40,
    "start_time": "2022-04-07T17:31:14.990Z"
   },
   {
    "duration": 5,
    "start_time": "2022-04-07T17:31:23.289Z"
   },
   {
    "duration": 13,
    "start_time": "2022-04-07T17:31:27.500Z"
   },
   {
    "duration": 5,
    "start_time": "2022-04-07T17:31:30.405Z"
   },
   {
    "duration": 33,
    "start_time": "2022-04-07T17:31:34.659Z"
   },
   {
    "duration": 4,
    "start_time": "2022-04-07T17:31:38.507Z"
   },
   {
    "duration": 54,
    "start_time": "2022-04-07T17:31:42.290Z"
   },
   {
    "duration": 117,
    "start_time": "2022-04-07T17:33:25.719Z"
   },
   {
    "duration": 25,
    "start_time": "2022-04-07T17:37:27.323Z"
   },
   {
    "duration": 36,
    "start_time": "2022-04-07T17:37:31.386Z"
   },
   {
    "duration": 93,
    "start_time": "2022-04-07T17:37:42.515Z"
   },
   {
    "duration": 100,
    "start_time": "2022-04-07T17:37:57.445Z"
   },
   {
    "duration": 85,
    "start_time": "2022-04-07T17:38:10.711Z"
   },
   {
    "duration": 10,
    "start_time": "2022-04-07T17:40:32.841Z"
   },
   {
    "duration": 14,
    "start_time": "2022-04-07T17:54:21.683Z"
   },
   {
    "duration": 13,
    "start_time": "2022-04-07T17:58:05.561Z"
   },
   {
    "duration": 11,
    "start_time": "2022-04-07T17:58:26.576Z"
   },
   {
    "duration": 15,
    "start_time": "2022-04-07T17:58:54.384Z"
   },
   {
    "duration": 11,
    "start_time": "2022-04-07T17:59:20.295Z"
   },
   {
    "duration": 14,
    "start_time": "2022-04-07T18:00:01.519Z"
   },
   {
    "duration": 63,
    "start_time": "2022-04-07T18:02:04.233Z"
   },
   {
    "duration": 55,
    "start_time": "2022-04-07T18:03:07.921Z"
   },
   {
    "duration": 60,
    "start_time": "2022-04-07T18:03:11.556Z"
   },
   {
    "duration": 71,
    "start_time": "2022-04-07T18:04:20.625Z"
   },
   {
    "duration": 63,
    "start_time": "2022-04-07T18:04:55.159Z"
   },
   {
    "duration": 57,
    "start_time": "2022-04-07T18:05:27.852Z"
   },
   {
    "duration": 64,
    "start_time": "2022-04-07T18:05:31.679Z"
   },
   {
    "duration": 67,
    "start_time": "2022-04-07T18:06:09.286Z"
   },
   {
    "duration": 67,
    "start_time": "2022-04-07T18:06:21.966Z"
   },
   {
    "duration": 134,
    "start_time": "2022-04-07T18:07:53.815Z"
   },
   {
    "duration": 71,
    "start_time": "2022-04-07T18:08:01.115Z"
   },
   {
    "duration": 45,
    "start_time": "2022-04-07T18:10:08.559Z"
   },
   {
    "duration": 52,
    "start_time": "2022-04-07T18:10:56.692Z"
   },
   {
    "duration": 54,
    "start_time": "2022-04-07T18:12:56.152Z"
   },
   {
    "duration": 51,
    "start_time": "2022-04-07T18:13:08.277Z"
   },
   {
    "duration": 33,
    "start_time": "2022-04-07T18:19:26.765Z"
   },
   {
    "duration": 17,
    "start_time": "2022-04-07T18:20:35.954Z"
   },
   {
    "duration": 5,
    "start_time": "2022-04-07T18:20:59.985Z"
   },
   {
    "duration": 6,
    "start_time": "2022-04-07T18:22:41.480Z"
   },
   {
    "duration": 13,
    "start_time": "2022-04-07T18:23:04.695Z"
   },
   {
    "duration": 51,
    "start_time": "2022-04-07T18:23:31.339Z"
   },
   {
    "duration": 5,
    "start_time": "2022-04-07T18:39:15.680Z"
   },
   {
    "duration": 47,
    "start_time": "2022-04-08T07:04:23.687Z"
   },
   {
    "duration": 8,
    "start_time": "2022-04-08T07:04:44.756Z"
   },
   {
    "duration": 7,
    "start_time": "2022-04-08T07:07:18.643Z"
   },
   {
    "duration": 5,
    "start_time": "2022-04-08T07:07:43.031Z"
   },
   {
    "duration": 6,
    "start_time": "2022-04-08T07:07:47.315Z"
   },
   {
    "duration": 400,
    "start_time": "2022-04-08T07:07:48.740Z"
   },
   {
    "duration": 147,
    "start_time": "2022-04-08T07:07:51.555Z"
   },
   {
    "duration": 17,
    "start_time": "2022-04-08T07:07:54.014Z"
   },
   {
    "duration": 3,
    "start_time": "2022-04-08T07:08:15.473Z"
   },
   {
    "duration": 160,
    "start_time": "2022-04-08T07:08:15.479Z"
   },
   {
    "duration": 11,
    "start_time": "2022-04-08T07:08:15.641Z"
   },
   {
    "duration": 33,
    "start_time": "2022-04-08T07:08:15.653Z"
   },
   {
    "duration": 4,
    "start_time": "2022-04-08T07:08:15.689Z"
   },
   {
    "duration": 38,
    "start_time": "2022-04-08T07:08:15.694Z"
   },
   {
    "duration": 5,
    "start_time": "2022-04-08T07:08:15.734Z"
   },
   {
    "duration": 26,
    "start_time": "2022-04-08T07:08:15.741Z"
   },
   {
    "duration": 23,
    "start_time": "2022-04-08T07:08:15.769Z"
   },
   {
    "duration": 40,
    "start_time": "2022-04-08T07:08:15.794Z"
   },
   {
    "duration": 66,
    "start_time": "2022-04-08T07:08:15.836Z"
   },
   {
    "duration": 100,
    "start_time": "2022-04-08T07:08:15.904Z"
   },
   {
    "duration": 66,
    "start_time": "2022-04-08T07:08:16.006Z"
   },
   {
    "duration": 39,
    "start_time": "2022-04-08T07:08:16.074Z"
   },
   {
    "duration": 2,
    "start_time": "2022-04-08T07:08:16.115Z"
   },
   {
    "duration": 10,
    "start_time": "2022-04-08T07:08:16.133Z"
   },
   {
    "duration": 40,
    "start_time": "2022-04-08T07:08:16.144Z"
   },
   {
    "duration": 58,
    "start_time": "2022-04-08T07:08:25.364Z"
   },
   {
    "duration": 59,
    "start_time": "2022-04-08T07:08:45.191Z"
   },
   {
    "duration": 31,
    "start_time": "2022-04-08T07:10:31.199Z"
   },
   {
    "duration": 11,
    "start_time": "2022-04-08T07:10:55.034Z"
   },
   {
    "duration": 10,
    "start_time": "2022-04-08T07:10:57.666Z"
   },
   {
    "duration": 7,
    "start_time": "2022-04-08T07:11:19.136Z"
   },
   {
    "duration": 7,
    "start_time": "2022-04-08T07:11:21.299Z"
   },
   {
    "duration": 5,
    "start_time": "2022-04-08T07:11:38.118Z"
   },
   {
    "duration": 31,
    "start_time": "2022-04-08T07:14:01.404Z"
   },
   {
    "duration": 35,
    "start_time": "2022-04-08T07:15:27.099Z"
   },
   {
    "duration": 13,
    "start_time": "2022-04-08T07:16:55.513Z"
   },
   {
    "duration": 10,
    "start_time": "2022-04-08T07:17:12.018Z"
   },
   {
    "duration": 10,
    "start_time": "2022-04-08T07:17:50.261Z"
   },
   {
    "duration": 6,
    "start_time": "2022-04-08T07:18:58.417Z"
   },
   {
    "duration": 4,
    "start_time": "2022-04-08T07:19:01.108Z"
   },
   {
    "duration": 22,
    "start_time": "2022-04-08T07:19:32.242Z"
   },
   {
    "duration": 17,
    "start_time": "2022-04-08T07:19:37.203Z"
   },
   {
    "duration": 22,
    "start_time": "2022-04-08T07:19:41.175Z"
   },
   {
    "duration": 59,
    "start_time": "2022-04-08T07:19:44.220Z"
   },
   {
    "duration": 76,
    "start_time": "2022-04-08T07:19:48.101Z"
   },
   {
    "duration": 55,
    "start_time": "2022-04-08T07:19:51.443Z"
   },
   {
    "duration": 37,
    "start_time": "2022-04-08T07:19:55.062Z"
   },
   {
    "duration": 2,
    "start_time": "2022-04-08T07:20:05.269Z"
   },
   {
    "duration": 10,
    "start_time": "2022-04-08T07:20:07.198Z"
   },
   {
    "duration": 38,
    "start_time": "2022-04-08T07:20:12.673Z"
   },
   {
    "duration": 31,
    "start_time": "2022-04-08T07:20:23.236Z"
   },
   {
    "duration": 6,
    "start_time": "2022-04-08T07:20:26.496Z"
   },
   {
    "duration": 14,
    "start_time": "2022-04-08T07:25:25.515Z"
   },
   {
    "duration": 2,
    "start_time": "2022-04-08T07:26:18.046Z"
   },
   {
    "duration": 11,
    "start_time": "2022-04-08T07:27:11.342Z"
   },
   {
    "duration": 9,
    "start_time": "2022-04-08T07:29:49.424Z"
   },
   {
    "duration": 16,
    "start_time": "2022-04-08T07:30:10.821Z"
   },
   {
    "duration": 1880,
    "start_time": "2022-04-08T07:30:35.410Z"
   },
   {
    "duration": 15,
    "start_time": "2022-04-08T07:30:57.780Z"
   },
   {
    "duration": 21,
    "start_time": "2022-04-08T07:31:54.007Z"
   },
   {
    "duration": 52,
    "start_time": "2022-04-08T07:34:19.169Z"
   },
   {
    "duration": 54,
    "start_time": "2022-04-08T07:35:44.628Z"
   },
   {
    "duration": 47,
    "start_time": "2022-04-08T07:37:05.077Z"
   },
   {
    "duration": 33,
    "start_time": "2022-04-08T07:37:18.284Z"
   },
   {
    "duration": 129,
    "start_time": "2022-04-08T07:38:59.110Z"
   },
   {
    "duration": 37,
    "start_time": "2022-04-08T07:39:11.747Z"
   },
   {
    "duration": 33,
    "start_time": "2022-04-08T07:39:30.014Z"
   },
   {
    "duration": 31,
    "start_time": "2022-04-08T07:39:53.627Z"
   },
   {
    "duration": 32,
    "start_time": "2022-04-08T07:42:59.385Z"
   },
   {
    "duration": 2,
    "start_time": "2022-04-08T07:55:27.620Z"
   },
   {
    "duration": 163,
    "start_time": "2022-04-08T07:55:27.995Z"
   },
   {
    "duration": 9,
    "start_time": "2022-04-08T07:55:28.544Z"
   },
   {
    "duration": 28,
    "start_time": "2022-04-08T07:55:29.400Z"
   },
   {
    "duration": 3,
    "start_time": "2022-04-08T07:55:32.799Z"
   },
   {
    "duration": 8,
    "start_time": "2022-04-08T07:55:35.803Z"
   },
   {
    "duration": 4,
    "start_time": "2022-04-08T07:55:40.100Z"
   },
   {
    "duration": 23,
    "start_time": "2022-04-08T07:55:45.782Z"
   },
   {
    "duration": 20,
    "start_time": "2022-04-08T07:55:48.282Z"
   },
   {
    "duration": 24,
    "start_time": "2022-04-08T07:55:51.418Z"
   },
   {
    "duration": 66,
    "start_time": "2022-04-08T07:55:57.129Z"
   },
   {
    "duration": 70,
    "start_time": "2022-04-08T07:56:00.242Z"
   },
   {
    "duration": 69,
    "start_time": "2022-04-08T07:56:01.669Z"
   },
   {
    "duration": 37,
    "start_time": "2022-04-08T07:56:12.447Z"
   },
   {
    "duration": 4,
    "start_time": "2022-04-08T07:56:14.096Z"
   },
   {
    "duration": 11,
    "start_time": "2022-04-08T07:56:15.446Z"
   },
   {
    "duration": 38,
    "start_time": "2022-04-08T07:56:17.147Z"
   },
   {
    "duration": 13,
    "start_time": "2022-04-08T07:56:21.508Z"
   },
   {
    "duration": 33,
    "start_time": "2022-04-08T07:56:23.341Z"
   },
   {
    "duration": 3,
    "start_time": "2022-04-08T08:01:00.516Z"
   },
   {
    "duration": 7,
    "start_time": "2022-04-08T08:01:03.091Z"
   },
   {
    "duration": 444,
    "start_time": "2022-04-08T08:01:50.376Z"
   },
   {
    "duration": 3,
    "start_time": "2022-04-08T08:01:58.114Z"
   },
   {
    "duration": 3,
    "start_time": "2022-04-08T08:05:22.508Z"
   },
   {
    "duration": 116,
    "start_time": "2022-04-08T08:06:00.500Z"
   },
   {
    "duration": 117,
    "start_time": "2022-04-08T08:06:10.798Z"
   },
   {
    "duration": 112,
    "start_time": "2022-04-08T08:07:27.290Z"
   },
   {
    "duration": 4,
    "start_time": "2022-04-08T08:08:28.638Z"
   },
   {
    "duration": 118,
    "start_time": "2022-04-08T08:08:32.010Z"
   },
   {
    "duration": 16,
    "start_time": "2022-04-08T08:09:00.842Z"
   },
   {
    "duration": 13,
    "start_time": "2022-04-08T08:09:34.022Z"
   },
   {
    "duration": 15,
    "start_time": "2022-04-08T08:10:17.690Z"
   },
   {
    "duration": 14,
    "start_time": "2022-04-08T08:10:32.428Z"
   },
   {
    "duration": 16,
    "start_time": "2022-04-08T08:10:50.994Z"
   },
   {
    "duration": 13,
    "start_time": "2022-04-08T08:11:04.649Z"
   },
   {
    "duration": 9,
    "start_time": "2022-04-08T08:14:49.043Z"
   },
   {
    "duration": 8,
    "start_time": "2022-04-08T08:15:55.660Z"
   },
   {
    "duration": 21,
    "start_time": "2022-04-08T08:18:27.270Z"
   },
   {
    "duration": 13,
    "start_time": "2022-04-08T08:18:53.378Z"
   },
   {
    "duration": 13,
    "start_time": "2022-04-08T08:19:09.330Z"
   },
   {
    "duration": 10,
    "start_time": "2022-04-08T08:19:12.704Z"
   },
   {
    "duration": 5,
    "start_time": "2022-04-08T08:30:11.916Z"
   },
   {
    "duration": 16,
    "start_time": "2022-04-08T08:30:17.575Z"
   },
   {
    "duration": 17,
    "start_time": "2022-04-08T08:30:51.593Z"
   },
   {
    "duration": 13,
    "start_time": "2022-04-08T08:31:05.310Z"
   },
   {
    "duration": 17,
    "start_time": "2022-04-08T08:32:56.167Z"
   },
   {
    "duration": 4,
    "start_time": "2022-04-08T08:33:49.916Z"
   },
   {
    "duration": 17,
    "start_time": "2022-04-08T08:33:53.352Z"
   },
   {
    "duration": 17,
    "start_time": "2022-04-08T08:34:25.590Z"
   },
   {
    "duration": 16,
    "start_time": "2022-04-08T08:36:19.574Z"
   },
   {
    "duration": 17,
    "start_time": "2022-04-08T08:36:38.849Z"
   },
   {
    "duration": 17,
    "start_time": "2022-04-08T08:39:54.771Z"
   },
   {
    "duration": 17,
    "start_time": "2022-04-08T08:40:50.173Z"
   },
   {
    "duration": 19,
    "start_time": "2022-04-08T08:42:06.766Z"
   },
   {
    "duration": 14,
    "start_time": "2022-04-08T08:44:56.875Z"
   },
   {
    "duration": 22,
    "start_time": "2022-04-08T08:45:09.334Z"
   },
   {
    "duration": 13,
    "start_time": "2022-04-08T08:45:21.806Z"
   },
   {
    "duration": 20,
    "start_time": "2022-04-08T08:45:33.059Z"
   },
   {
    "duration": 11,
    "start_time": "2022-04-08T08:45:42.663Z"
   },
   {
    "duration": 4,
    "start_time": "2022-04-08T08:46:55.870Z"
   },
   {
    "duration": 17,
    "start_time": "2022-04-08T08:46:58.651Z"
   },
   {
    "duration": 3,
    "start_time": "2022-04-08T08:49:58.710Z"
   },
   {
    "duration": 21,
    "start_time": "2022-04-08T08:50:01.189Z"
   },
   {
    "duration": 21,
    "start_time": "2022-04-08T08:50:05.515Z"
   },
   {
    "duration": 21,
    "start_time": "2022-04-08T08:50:09.013Z"
   },
   {
    "duration": 24,
    "start_time": "2022-04-08T08:50:11.101Z"
   },
   {
    "duration": 17,
    "start_time": "2022-04-08T08:52:09.053Z"
   },
   {
    "duration": 3,
    "start_time": "2022-04-08T08:52:37.150Z"
   },
   {
    "duration": 257,
    "start_time": "2022-04-08T08:52:37.154Z"
   },
   {
    "duration": 21,
    "start_time": "2022-04-08T08:52:37.413Z"
   },
   {
    "duration": 32,
    "start_time": "2022-04-08T08:52:37.435Z"
   },
   {
    "duration": 4,
    "start_time": "2022-04-08T08:52:37.469Z"
   },
   {
    "duration": 11,
    "start_time": "2022-04-08T08:52:37.474Z"
   },
   {
    "duration": 4,
    "start_time": "2022-04-08T08:52:37.486Z"
   },
   {
    "duration": 61,
    "start_time": "2022-04-08T08:52:37.492Z"
   },
   {
    "duration": 28,
    "start_time": "2022-04-08T08:52:37.554Z"
   },
   {
    "duration": 53,
    "start_time": "2022-04-08T08:52:37.583Z"
   },
   {
    "duration": 137,
    "start_time": "2022-04-08T08:52:37.639Z"
   },
   {
    "duration": 101,
    "start_time": "2022-04-08T08:52:37.778Z"
   },
   {
    "duration": 75,
    "start_time": "2022-04-08T08:52:37.882Z"
   },
   {
    "duration": 38,
    "start_time": "2022-04-08T08:52:37.959Z"
   },
   {
    "duration": 3,
    "start_time": "2022-04-08T08:52:37.999Z"
   },
   {
    "duration": 14,
    "start_time": "2022-04-08T08:52:38.003Z"
   },
   {
    "duration": 38,
    "start_time": "2022-04-08T08:52:38.033Z"
   },
   {
    "duration": 15,
    "start_time": "2022-04-08T08:52:38.073Z"
   },
   {
    "duration": 60,
    "start_time": "2022-04-08T08:52:38.090Z"
   },
   {
    "duration": 4,
    "start_time": "2022-04-08T08:52:38.151Z"
   },
   {
    "duration": 20,
    "start_time": "2022-04-08T08:52:38.157Z"
   },
   {
    "duration": 15,
    "start_time": "2022-04-08T08:52:38.179Z"
   },
   {
    "duration": 41,
    "start_time": "2022-04-08T08:52:38.195Z"
   },
   {
    "duration": 14,
    "start_time": "2022-04-08T08:52:38.237Z"
   },
   {
    "duration": 16,
    "start_time": "2022-04-08T08:52:38.252Z"
   },
   {
    "duration": 14,
    "start_time": "2022-04-08T08:52:38.270Z"
   },
   {
    "duration": 9,
    "start_time": "2022-04-08T08:52:38.286Z"
   },
   {
    "duration": 43,
    "start_time": "2022-04-08T08:52:38.297Z"
   },
   {
    "duration": 16,
    "start_time": "2022-04-08T08:52:38.342Z"
   },
   {
    "duration": 4,
    "start_time": "2022-04-08T08:52:38.360Z"
   },
   {
    "duration": 28,
    "start_time": "2022-04-08T08:52:38.366Z"
   },
   {
    "duration": 38,
    "start_time": "2022-04-08T08:52:38.396Z"
   },
   {
    "duration": 21,
    "start_time": "2022-04-08T08:52:38.435Z"
   },
   {
    "duration": 31,
    "start_time": "2022-04-08T08:52:38.458Z"
   },
   {
    "duration": 27,
    "start_time": "2022-04-08T08:53:28.244Z"
   },
   {
    "duration": 22,
    "start_time": "2022-04-08T08:56:37.107Z"
   },
   {
    "duration": 10,
    "start_time": "2022-04-08T08:56:50.169Z"
   },
   {
    "duration": 13,
    "start_time": "2022-04-08T08:56:51.711Z"
   },
   {
    "duration": 4,
    "start_time": "2022-04-08T08:56:54.807Z"
   },
   {
    "duration": 21,
    "start_time": "2022-04-08T08:57:03.802Z"
   },
   {
    "duration": 22,
    "start_time": "2022-04-08T08:57:06.219Z"
   },
   {
    "duration": 20,
    "start_time": "2022-04-08T08:57:10.278Z"
   },
   {
    "duration": 21,
    "start_time": "2022-04-08T08:57:12.999Z"
   },
   {
    "duration": 22,
    "start_time": "2022-04-08T08:57:34.841Z"
   },
   {
    "duration": 4,
    "start_time": "2022-04-08T08:58:26.516Z"
   },
   {
    "duration": 21,
    "start_time": "2022-04-08T08:58:29.409Z"
   },
   {
    "duration": 22,
    "start_time": "2022-04-08T08:58:31.553Z"
   },
   {
    "duration": 122,
    "start_time": "2022-04-08T09:10:01.254Z"
   },
   {
    "duration": 4,
    "start_time": "2022-04-08T09:10:08.595Z"
   },
   {
    "duration": 7,
    "start_time": "2022-04-08T09:15:43.606Z"
   },
   {
    "duration": 10,
    "start_time": "2022-04-08T09:15:47.931Z"
   },
   {
    "duration": 20,
    "start_time": "2022-04-08T09:16:54.237Z"
   },
   {
    "duration": 10,
    "start_time": "2022-04-08T09:17:25.724Z"
   },
   {
    "duration": 10,
    "start_time": "2022-04-08T09:18:46.900Z"
   },
   {
    "duration": 4,
    "start_time": "2022-04-08T09:18:52.095Z"
   },
   {
    "duration": 6,
    "start_time": "2022-04-08T09:20:31.142Z"
   },
   {
    "duration": 5,
    "start_time": "2022-04-08T09:20:32.712Z"
   },
   {
    "duration": 5,
    "start_time": "2022-04-08T09:20:47.641Z"
   },
   {
    "duration": 3,
    "start_time": "2022-04-08T09:29:55.934Z"
   },
   {
    "duration": 27,
    "start_time": "2022-04-08T09:29:59.246Z"
   },
   {
    "duration": 5,
    "start_time": "2022-04-08T09:30:25.020Z"
   },
   {
    "duration": 18,
    "start_time": "2022-04-08T09:30:27.916Z"
   },
   {
    "duration": 13,
    "start_time": "2022-04-08T09:30:31.858Z"
   },
   {
    "duration": 18,
    "start_time": "2022-04-08T09:30:35.464Z"
   },
   {
    "duration": 13,
    "start_time": "2022-04-08T09:30:38.097Z"
   },
   {
    "duration": 9,
    "start_time": "2022-04-08T09:31:58.820Z"
   },
   {
    "duration": 5,
    "start_time": "2022-04-08T09:32:00.714Z"
   },
   {
    "duration": 8,
    "start_time": "2022-04-08T09:32:05.064Z"
   },
   {
    "duration": 5,
    "start_time": "2022-04-08T09:32:12.697Z"
   },
   {
    "duration": 4,
    "start_time": "2022-04-08T09:33:38.556Z"
   },
   {
    "duration": 4,
    "start_time": "2022-04-08T09:33:49.437Z"
   },
   {
    "duration": 3,
    "start_time": "2022-04-08T09:33:55.804Z"
   },
   {
    "duration": 27,
    "start_time": "2022-04-08T09:34:00.453Z"
   },
   {
    "duration": 30,
    "start_time": "2022-04-08T09:34:07.718Z"
   },
   {
    "duration": 25,
    "start_time": "2022-04-08T09:34:14.151Z"
   },
   {
    "duration": 19,
    "start_time": "2022-04-08T09:34:18.509Z"
   },
   {
    "duration": 27,
    "start_time": "2022-04-08T09:34:21.096Z"
   },
   {
    "duration": 27,
    "start_time": "2022-04-08T09:34:26.372Z"
   },
   {
    "duration": 68,
    "start_time": "2022-04-08T09:34:37.350Z"
   },
   {
    "duration": 74,
    "start_time": "2022-04-08T09:34:40.940Z"
   },
   {
    "duration": 66,
    "start_time": "2022-04-08T09:34:43.651Z"
   },
   {
    "duration": 67,
    "start_time": "2022-04-08T09:34:49.245Z"
   },
   {
    "duration": 64,
    "start_time": "2022-04-08T09:34:53.244Z"
   },
   {
    "duration": 2,
    "start_time": "2022-04-08T09:35:21.387Z"
   },
   {
    "duration": 153,
    "start_time": "2022-04-08T09:35:23.290Z"
   },
   {
    "duration": 11,
    "start_time": "2022-04-08T09:35:25.592Z"
   },
   {
    "duration": 28,
    "start_time": "2022-04-08T09:35:32.926Z"
   },
   {
    "duration": 3,
    "start_time": "2022-04-08T09:35:40.596Z"
   },
   {
    "duration": 8,
    "start_time": "2022-04-08T09:35:45.702Z"
   },
   {
    "duration": 3,
    "start_time": "2022-04-08T09:35:51.154Z"
   },
   {
    "duration": 24,
    "start_time": "2022-04-08T09:35:55.155Z"
   },
   {
    "duration": 19,
    "start_time": "2022-04-08T09:35:59.971Z"
   },
   {
    "duration": 23,
    "start_time": "2022-04-08T09:36:03.474Z"
   },
   {
    "duration": 65,
    "start_time": "2022-04-08T09:36:09.248Z"
   },
   {
    "duration": 77,
    "start_time": "2022-04-08T09:36:12.655Z"
   },
   {
    "duration": 56,
    "start_time": "2022-04-08T09:36:15.030Z"
   },
   {
    "duration": 37,
    "start_time": "2022-04-08T09:36:20.310Z"
   },
   {
    "duration": 2,
    "start_time": "2022-04-08T09:36:36.259Z"
   },
   {
    "duration": 9,
    "start_time": "2022-04-08T09:36:41.039Z"
   },
   {
    "duration": 64,
    "start_time": "2022-04-08T09:36:45.865Z"
   },
   {
    "duration": 12,
    "start_time": "2022-04-08T09:37:06.356Z"
   },
   {
    "duration": 14,
    "start_time": "2022-04-08T09:37:21.031Z"
   },
   {
    "duration": 4,
    "start_time": "2022-04-08T09:37:46.086Z"
   },
   {
    "duration": 17,
    "start_time": "2022-04-08T09:37:51.096Z"
   },
   {
    "duration": 15,
    "start_time": "2022-04-08T09:37:52.791Z"
   },
   {
    "duration": 14,
    "start_time": "2022-04-08T09:37:53.621Z"
   },
   {
    "duration": 14,
    "start_time": "2022-04-08T09:37:55.636Z"
   },
   {
    "duration": 16,
    "start_time": "2022-04-08T09:37:56.620Z"
   },
   {
    "duration": 14,
    "start_time": "2022-04-08T09:38:00.060Z"
   },
   {
    "duration": 9,
    "start_time": "2022-04-08T09:38:50.550Z"
   },
   {
    "duration": 11,
    "start_time": "2022-04-08T09:38:53.427Z"
   },
   {
    "duration": 11,
    "start_time": "2022-04-08T09:38:53.918Z"
   },
   {
    "duration": 4,
    "start_time": "2022-04-08T09:38:57.145Z"
   },
   {
    "duration": 18,
    "start_time": "2022-04-08T09:38:59.556Z"
   },
   {
    "duration": 12,
    "start_time": "2022-04-08T09:39:01.721Z"
   },
   {
    "duration": 18,
    "start_time": "2022-04-08T09:39:07.514Z"
   },
   {
    "duration": 12,
    "start_time": "2022-04-08T09:39:08.364Z"
   },
   {
    "duration": 10,
    "start_time": "2022-04-08T09:39:15.382Z"
   },
   {
    "duration": 5,
    "start_time": "2022-04-08T09:39:17.965Z"
   },
   {
    "duration": 4,
    "start_time": "2022-04-08T09:39:28.503Z"
   },
   {
    "duration": 4,
    "start_time": "2022-04-08T09:39:35.587Z"
   },
   {
    "duration": 7,
    "start_time": "2022-04-08T09:39:37.438Z"
   },
   {
    "duration": 3,
    "start_time": "2022-04-08T09:39:39.582Z"
   },
   {
    "duration": 46,
    "start_time": "2022-04-18T11:14:20.353Z"
   },
   {
    "duration": 363,
    "start_time": "2022-04-18T11:14:28.010Z"
   },
   {
    "duration": 145,
    "start_time": "2022-04-18T11:14:28.375Z"
   },
   {
    "duration": 15,
    "start_time": "2022-04-18T11:14:28.522Z"
   },
   {
    "duration": 11,
    "start_time": "2022-04-18T11:14:28.553Z"
   },
   {
    "duration": 27,
    "start_time": "2022-04-18T11:14:28.566Z"
   },
   {
    "duration": 3,
    "start_time": "2022-04-18T11:14:28.595Z"
   },
   {
    "duration": 11,
    "start_time": "2022-04-18T11:14:28.600Z"
   },
   {
    "duration": 6,
    "start_time": "2022-04-18T11:14:28.613Z"
   },
   {
    "duration": 51,
    "start_time": "2022-04-18T11:14:28.620Z"
   },
   {
    "duration": 18,
    "start_time": "2022-04-18T11:14:28.676Z"
   },
   {
    "duration": 21,
    "start_time": "2022-04-18T11:14:28.696Z"
   },
   {
    "duration": 84,
    "start_time": "2022-04-18T11:14:28.719Z"
   },
   {
    "duration": 89,
    "start_time": "2022-04-18T11:14:28.805Z"
   },
   {
    "duration": 68,
    "start_time": "2022-04-18T11:14:28.895Z"
   },
   {
    "duration": 38,
    "start_time": "2022-04-18T11:14:28.964Z"
   },
   {
    "duration": 3,
    "start_time": "2022-04-18T11:14:29.003Z"
   },
   {
    "duration": 12,
    "start_time": "2022-04-18T11:14:29.008Z"
   },
   {
    "duration": 60,
    "start_time": "2022-04-18T11:14:29.021Z"
   },
   {
    "duration": 13,
    "start_time": "2022-04-18T11:14:29.083Z"
   },
   {
    "duration": 65,
    "start_time": "2022-04-18T11:14:29.097Z"
   },
   {
    "duration": 3,
    "start_time": "2022-04-18T11:14:29.165Z"
   },
   {
    "duration": 18,
    "start_time": "2022-04-18T11:14:29.170Z"
   },
   {
    "duration": 12,
    "start_time": "2022-04-18T11:14:29.190Z"
   },
   {
    "duration": 15,
    "start_time": "2022-04-18T11:14:29.203Z"
   },
   {
    "duration": 31,
    "start_time": "2022-04-18T11:14:29.220Z"
   },
   {
    "duration": 22,
    "start_time": "2022-04-18T11:14:29.253Z"
   },
   {
    "duration": 20,
    "start_time": "2022-04-18T11:14:29.277Z"
   },
   {
    "duration": 12,
    "start_time": "2022-04-18T11:14:29.301Z"
   },
   {
    "duration": 47,
    "start_time": "2022-04-18T11:14:29.314Z"
   },
   {
    "duration": 16,
    "start_time": "2022-04-18T11:14:29.363Z"
   },
   {
    "duration": 5,
    "start_time": "2022-04-18T11:14:29.381Z"
   },
   {
    "duration": 23,
    "start_time": "2022-04-18T11:14:29.388Z"
   },
   {
    "duration": 11,
    "start_time": "2022-04-18T11:14:29.413Z"
   },
   {
    "duration": 37,
    "start_time": "2022-04-18T11:14:29.425Z"
   },
   {
    "duration": 12,
    "start_time": "2022-04-18T11:14:29.464Z"
   },
   {
    "duration": 10,
    "start_time": "2022-04-18T11:14:29.477Z"
   },
   {
    "duration": 3,
    "start_time": "2022-04-18T11:14:29.489Z"
   },
   {
    "duration": 7,
    "start_time": "2022-04-18T11:14:29.493Z"
   },
   {
    "duration": 3,
    "start_time": "2022-04-18T11:14:29.502Z"
   },
   {
    "duration": 101,
    "start_time": "2022-04-18T12:29:08.284Z"
   },
   {
    "duration": 544,
    "start_time": "2022-04-18T13:29:28.208Z"
   },
   {
    "duration": 204,
    "start_time": "2022-04-18T13:29:30.331Z"
   },
   {
    "duration": 26,
    "start_time": "2022-04-18T13:30:49.316Z"
   },
   {
    "duration": 15,
    "start_time": "2022-04-18T13:30:52.932Z"
   },
   {
    "duration": 40,
    "start_time": "2022-04-18T13:31:00.095Z"
   },
   {
    "duration": 17,
    "start_time": "2022-04-18T13:31:15.920Z"
   },
   {
    "duration": 119,
    "start_time": "2022-04-18T13:39:15.357Z"
   },
   {
    "duration": 5,
    "start_time": "2022-04-18T13:40:29.832Z"
   },
   {
    "duration": 6,
    "start_time": "2022-04-18T13:41:28.921Z"
   },
   {
    "duration": 34,
    "start_time": "2022-04-18T13:41:57.422Z"
   },
   {
    "duration": 1577,
    "start_time": "2022-04-18T13:42:08.004Z"
   },
   {
    "duration": 35,
    "start_time": "2022-04-18T13:42:14.331Z"
   },
   {
    "duration": 4,
    "start_time": "2022-04-18T13:42:19.712Z"
   },
   {
    "duration": 198,
    "start_time": "2022-04-18T13:42:19.719Z"
   },
   {
    "duration": 15,
    "start_time": "2022-04-18T13:42:19.919Z"
   },
   {
    "duration": 14,
    "start_time": "2022-04-18T13:42:19.952Z"
   },
   {
    "duration": 42,
    "start_time": "2022-04-18T13:42:19.969Z"
   },
   {
    "duration": 5,
    "start_time": "2022-04-18T13:42:20.013Z"
   },
   {
    "duration": 43,
    "start_time": "2022-04-18T13:42:20.020Z"
   },
   {
    "duration": 12,
    "start_time": "2022-04-18T13:42:20.065Z"
   },
   {
    "duration": 40,
    "start_time": "2022-04-18T13:42:20.079Z"
   },
   {
    "duration": 38,
    "start_time": "2022-04-18T13:42:20.122Z"
   },
   {
    "duration": 34,
    "start_time": "2022-04-18T13:42:20.163Z"
   },
   {
    "duration": 122,
    "start_time": "2022-04-18T13:42:20.199Z"
   },
   {
    "duration": 127,
    "start_time": "2022-04-18T13:42:20.323Z"
   },
   {
    "duration": 98,
    "start_time": "2022-04-18T13:42:20.455Z"
   },
   {
    "duration": 52,
    "start_time": "2022-04-18T13:42:20.556Z"
   },
   {
    "duration": 4,
    "start_time": "2022-04-18T13:42:20.610Z"
   },
   {
    "duration": 37,
    "start_time": "2022-04-18T13:42:20.616Z"
   },
   {
    "duration": 52,
    "start_time": "2022-04-18T13:42:20.655Z"
   },
   {
    "duration": 17,
    "start_time": "2022-04-18T13:42:20.710Z"
   },
   {
    "duration": 42,
    "start_time": "2022-04-18T13:42:20.753Z"
   },
   {
    "duration": 6,
    "start_time": "2022-04-18T13:42:20.797Z"
   },
   {
    "duration": 48,
    "start_time": "2022-04-18T13:42:20.806Z"
   },
   {
    "duration": 19,
    "start_time": "2022-04-18T13:42:20.857Z"
   },
   {
    "duration": 21,
    "start_time": "2022-04-18T13:42:20.879Z"
   },
   {
    "duration": 51,
    "start_time": "2022-04-18T13:42:20.902Z"
   },
   {
    "duration": 21,
    "start_time": "2022-04-18T13:42:20.956Z"
   },
   {
    "duration": 20,
    "start_time": "2022-04-18T13:42:20.980Z"
   },
   {
    "duration": 49,
    "start_time": "2022-04-18T13:42:21.003Z"
   },
   {
    "duration": 17,
    "start_time": "2022-04-18T13:42:21.054Z"
   },
   {
    "duration": 15,
    "start_time": "2022-04-18T13:42:21.073Z"
   },
   {
    "duration": 8,
    "start_time": "2022-04-18T13:42:21.091Z"
   },
   {
    "duration": 60,
    "start_time": "2022-04-18T13:42:21.101Z"
   },
   {
    "duration": 16,
    "start_time": "2022-04-18T13:42:21.164Z"
   },
   {
    "duration": 22,
    "start_time": "2022-04-18T13:42:21.182Z"
   },
   {
    "duration": 47,
    "start_time": "2022-04-18T13:42:21.206Z"
   },
   {
    "duration": 13,
    "start_time": "2022-04-18T13:42:21.256Z"
   },
   {
    "duration": 5,
    "start_time": "2022-04-18T13:42:21.271Z"
   },
   {
    "duration": 12,
    "start_time": "2022-04-18T13:42:21.278Z"
   },
   {
    "duration": 5,
    "start_time": "2022-04-18T13:42:21.292Z"
   },
   {
    "duration": 32,
    "start_time": "2022-04-18T13:44:23.241Z"
   },
   {
    "duration": 93,
    "start_time": "2022-04-18T13:44:43.607Z"
   },
   {
    "duration": 90,
    "start_time": "2022-04-18T13:44:52.325Z"
   },
   {
    "duration": 3,
    "start_time": "2022-04-18T13:44:56.380Z"
   },
   {
    "duration": 238,
    "start_time": "2022-04-18T13:44:56.387Z"
   },
   {
    "duration": 27,
    "start_time": "2022-04-18T13:44:56.628Z"
   },
   {
    "duration": 18,
    "start_time": "2022-04-18T13:44:56.658Z"
   },
   {
    "duration": 74,
    "start_time": "2022-04-18T13:44:56.678Z"
   },
   {
    "duration": 5,
    "start_time": "2022-04-18T13:44:56.755Z"
   },
   {
    "duration": 15,
    "start_time": "2022-04-18T13:44:56.762Z"
   },
   {
    "duration": 5,
    "start_time": "2022-04-18T13:44:56.780Z"
   },
   {
    "duration": 36,
    "start_time": "2022-04-18T13:44:56.789Z"
   },
   {
    "duration": 24,
    "start_time": "2022-04-18T13:44:56.852Z"
   },
   {
    "duration": 33,
    "start_time": "2022-04-18T13:44:56.879Z"
   },
   {
    "duration": 123,
    "start_time": "2022-04-18T13:44:56.915Z"
   },
   {
    "duration": 112,
    "start_time": "2022-04-18T13:44:57.052Z"
   },
   {
    "duration": 97,
    "start_time": "2022-04-18T13:44:57.166Z"
   },
   {
    "duration": 55,
    "start_time": "2022-04-18T13:44:57.266Z"
   },
   {
    "duration": 28,
    "start_time": "2022-04-18T13:44:57.324Z"
   },
   {
    "duration": 28,
    "start_time": "2022-04-18T13:44:57.355Z"
   },
   {
    "duration": 58,
    "start_time": "2022-04-18T13:44:57.385Z"
   },
   {
    "duration": 21,
    "start_time": "2022-04-18T13:44:57.451Z"
   },
   {
    "duration": 43,
    "start_time": "2022-04-18T13:44:57.477Z"
   },
   {
    "duration": 30,
    "start_time": "2022-04-18T13:44:57.522Z"
   },
   {
    "duration": 36,
    "start_time": "2022-04-18T13:44:57.554Z"
   },
   {
    "duration": 19,
    "start_time": "2022-04-18T13:44:57.592Z"
   },
   {
    "duration": 44,
    "start_time": "2022-04-18T13:44:57.616Z"
   },
   {
    "duration": 24,
    "start_time": "2022-04-18T13:44:57.662Z"
   },
   {
    "duration": 22,
    "start_time": "2022-04-18T13:44:57.689Z"
   },
   {
    "duration": 43,
    "start_time": "2022-04-18T13:44:57.714Z"
   },
   {
    "duration": 16,
    "start_time": "2022-04-18T13:44:57.760Z"
   },
   {
    "duration": 27,
    "start_time": "2022-04-18T13:44:57.779Z"
   },
   {
    "duration": 38,
    "start_time": "2022-04-18T13:44:57.809Z"
   },
   {
    "duration": 11,
    "start_time": "2022-04-18T13:44:57.849Z"
   },
   {
    "duration": 30,
    "start_time": "2022-04-18T13:44:57.863Z"
   },
   {
    "duration": 54,
    "start_time": "2022-04-18T13:44:57.895Z"
   },
   {
    "duration": 43,
    "start_time": "2022-04-18T13:44:57.952Z"
   },
   {
    "duration": 19,
    "start_time": "2022-04-18T13:44:57.997Z"
   },
   {
    "duration": 15,
    "start_time": "2022-04-18T13:44:58.018Z"
   },
   {
    "duration": 15,
    "start_time": "2022-04-18T13:44:58.036Z"
   },
   {
    "duration": 15,
    "start_time": "2022-04-18T13:44:58.055Z"
   },
   {
    "duration": 7,
    "start_time": "2022-04-18T13:44:58.072Z"
   },
   {
    "duration": 87,
    "start_time": "2022-04-18T13:45:50.969Z"
   },
   {
    "duration": 100,
    "start_time": "2022-04-18T13:45:54.289Z"
   },
   {
    "duration": 55,
    "start_time": "2022-04-18T13:46:05.389Z"
   },
   {
    "duration": 54,
    "start_time": "2022-04-18T14:01:13.897Z"
   },
   {
    "duration": 19,
    "start_time": "2022-04-18T14:01:30.043Z"
   },
   {
    "duration": 41,
    "start_time": "2022-04-18T14:05:27.464Z"
   },
   {
    "duration": 49,
    "start_time": "2022-04-18T14:05:59.387Z"
   },
   {
    "duration": 17,
    "start_time": "2022-04-18T14:07:30.895Z"
   },
   {
    "duration": 22,
    "start_time": "2022-04-18T14:11:23.318Z"
   },
   {
    "duration": 19,
    "start_time": "2022-04-18T14:11:25.058Z"
   },
   {
    "duration": 19,
    "start_time": "2022-04-18T14:11:29.583Z"
   },
   {
    "duration": 18,
    "start_time": "2022-04-18T14:11:36.057Z"
   },
   {
    "duration": 19,
    "start_time": "2022-04-18T14:11:48.895Z"
   },
   {
    "duration": 20,
    "start_time": "2022-04-18T14:11:50.366Z"
   },
   {
    "duration": 94,
    "start_time": "2022-04-18T14:16:43.738Z"
   },
   {
    "duration": 12,
    "start_time": "2022-04-18T14:16:59.652Z"
   },
   {
    "duration": 13,
    "start_time": "2022-04-18T14:17:21.801Z"
   },
   {
    "duration": 92,
    "start_time": "2022-04-18T14:17:25.441Z"
   },
   {
    "duration": 93,
    "start_time": "2022-04-18T14:18:19.582Z"
   },
   {
    "duration": 19,
    "start_time": "2022-04-18T14:19:47.764Z"
   },
   {
    "duration": 15,
    "start_time": "2022-04-18T14:19:53.790Z"
   },
   {
    "duration": 25,
    "start_time": "2022-04-18T14:20:14.927Z"
   },
   {
    "duration": 16,
    "start_time": "2022-04-18T14:20:24.744Z"
   },
   {
    "duration": 30,
    "start_time": "2022-04-18T14:21:24.633Z"
   },
   {
    "duration": 28,
    "start_time": "2022-04-18T14:21:46.060Z"
   },
   {
    "duration": 9,
    "start_time": "2022-04-18T14:26:34.579Z"
   },
   {
    "duration": 6,
    "start_time": "2022-04-18T14:28:52.516Z"
   },
   {
    "duration": 22,
    "start_time": "2022-04-18T14:29:04.698Z"
   },
   {
    "duration": 7,
    "start_time": "2022-04-18T14:32:04.436Z"
   },
   {
    "duration": 8,
    "start_time": "2022-04-18T14:32:15.010Z"
   },
   {
    "duration": 6,
    "start_time": "2022-04-18T14:49:06.872Z"
   },
   {
    "duration": 534,
    "start_time": "2022-04-18T23:52:52.113Z"
   },
   {
    "duration": 215,
    "start_time": "2022-04-18T23:52:52.650Z"
   },
   {
    "duration": 27,
    "start_time": "2022-04-18T23:52:52.868Z"
   },
   {
    "duration": 36,
    "start_time": "2022-04-18T23:52:52.898Z"
   },
   {
    "duration": 58,
    "start_time": "2022-04-18T23:52:52.937Z"
   },
   {
    "duration": 5,
    "start_time": "2022-04-18T23:52:52.998Z"
   },
   {
    "duration": 29,
    "start_time": "2022-04-18T23:52:53.006Z"
   },
   {
    "duration": 29,
    "start_time": "2022-04-18T23:52:53.038Z"
   },
   {
    "duration": 41,
    "start_time": "2022-04-18T23:52:53.069Z"
   },
   {
    "duration": 27,
    "start_time": "2022-04-18T23:52:53.114Z"
   },
   {
    "duration": 41,
    "start_time": "2022-04-18T23:52:53.144Z"
   },
   {
    "duration": 131,
    "start_time": "2022-04-18T23:52:53.187Z"
   },
   {
    "duration": 138,
    "start_time": "2022-04-18T23:52:53.321Z"
   },
   {
    "duration": 112,
    "start_time": "2022-04-18T23:52:53.462Z"
   },
   {
    "duration": 67,
    "start_time": "2022-04-18T23:52:53.576Z"
   },
   {
    "duration": 4,
    "start_time": "2022-04-18T23:52:53.646Z"
   },
   {
    "duration": 23,
    "start_time": "2022-04-18T23:52:53.652Z"
   },
   {
    "duration": 71,
    "start_time": "2022-04-18T23:52:53.677Z"
   },
   {
    "duration": 19,
    "start_time": "2022-04-18T23:52:53.751Z"
   },
   {
    "duration": 71,
    "start_time": "2022-04-18T23:52:53.772Z"
   },
   {
    "duration": 17,
    "start_time": "2022-04-18T23:52:53.846Z"
   },
   {
    "duration": 12,
    "start_time": "2022-04-18T23:52:53.865Z"
   },
   {
    "duration": 50,
    "start_time": "2022-04-18T23:52:53.879Z"
   },
   {
    "duration": 22,
    "start_time": "2022-04-18T23:52:53.932Z"
   },
   {
    "duration": 32,
    "start_time": "2022-04-18T23:52:53.956Z"
   },
   {
    "duration": 35,
    "start_time": "2022-04-18T23:52:53.991Z"
   },
   {
    "duration": 152,
    "start_time": "2022-04-18T23:52:54.028Z"
   },
   {
    "duration": 0,
    "start_time": "2022-04-18T23:52:54.183Z"
   },
   {
    "duration": 0,
    "start_time": "2022-04-18T23:52:54.185Z"
   },
   {
    "duration": 0,
    "start_time": "2022-04-18T23:52:54.187Z"
   },
   {
    "duration": 0,
    "start_time": "2022-04-18T23:52:54.188Z"
   },
   {
    "duration": 0,
    "start_time": "2022-04-18T23:52:54.190Z"
   },
   {
    "duration": 0,
    "start_time": "2022-04-18T23:52:54.191Z"
   },
   {
    "duration": 0,
    "start_time": "2022-04-18T23:52:54.193Z"
   },
   {
    "duration": 0,
    "start_time": "2022-04-18T23:52:54.195Z"
   },
   {
    "duration": 0,
    "start_time": "2022-04-18T23:52:54.196Z"
   },
   {
    "duration": 0,
    "start_time": "2022-04-18T23:52:54.198Z"
   },
   {
    "duration": 0,
    "start_time": "2022-04-18T23:52:54.200Z"
   },
   {
    "duration": 0,
    "start_time": "2022-04-18T23:52:54.201Z"
   },
   {
    "duration": 0,
    "start_time": "2022-04-18T23:52:54.203Z"
   },
   {
    "duration": 0,
    "start_time": "2022-04-18T23:52:54.204Z"
   },
   {
    "duration": 0,
    "start_time": "2022-04-18T23:52:54.206Z"
   },
   {
    "duration": 39,
    "start_time": "2022-04-18T23:54:20.102Z"
   },
   {
    "duration": 702,
    "start_time": "2022-04-18T23:54:31.623Z"
   },
   {
    "duration": 229,
    "start_time": "2022-04-18T23:54:32.327Z"
   },
   {
    "duration": 28,
    "start_time": "2022-04-18T23:54:32.558Z"
   },
   {
    "duration": 34,
    "start_time": "2022-04-18T23:54:32.589Z"
   },
   {
    "duration": 43,
    "start_time": "2022-04-18T23:54:32.627Z"
   },
   {
    "duration": 6,
    "start_time": "2022-04-18T23:54:32.672Z"
   },
   {
    "duration": 47,
    "start_time": "2022-04-18T23:54:32.681Z"
   },
   {
    "duration": 15,
    "start_time": "2022-04-18T23:54:32.730Z"
   },
   {
    "duration": 38,
    "start_time": "2022-04-18T23:54:32.747Z"
   },
   {
    "duration": 42,
    "start_time": "2022-04-18T23:54:32.787Z"
   },
   {
    "duration": 33,
    "start_time": "2022-04-18T23:54:32.832Z"
   },
   {
    "duration": 128,
    "start_time": "2022-04-18T23:54:32.867Z"
   },
   {
    "duration": 141,
    "start_time": "2022-04-18T23:54:32.997Z"
   },
   {
    "duration": 117,
    "start_time": "2022-04-18T23:54:33.144Z"
   },
   {
    "duration": 65,
    "start_time": "2022-04-18T23:54:33.263Z"
   },
   {
    "duration": 4,
    "start_time": "2022-04-18T23:54:33.331Z"
   },
   {
    "duration": 18,
    "start_time": "2022-04-18T23:54:33.337Z"
   },
   {
    "duration": 82,
    "start_time": "2022-04-18T23:54:33.357Z"
   },
   {
    "duration": 20,
    "start_time": "2022-04-18T23:54:33.442Z"
   },
   {
    "duration": 74,
    "start_time": "2022-04-18T23:54:33.465Z"
   },
   {
    "duration": 18,
    "start_time": "2022-04-18T23:54:33.542Z"
   },
   {
    "duration": 46,
    "start_time": "2022-04-18T23:54:33.562Z"
   },
   {
    "duration": 76,
    "start_time": "2022-04-18T23:54:33.610Z"
   },
   {
    "duration": 52,
    "start_time": "2022-04-18T23:54:33.689Z"
   },
   {
    "duration": 41,
    "start_time": "2022-04-18T23:54:33.743Z"
   },
   {
    "duration": 31,
    "start_time": "2022-04-18T23:54:33.787Z"
   },
   {
    "duration": 72,
    "start_time": "2022-04-18T23:54:33.820Z"
   },
   {
    "duration": 20,
    "start_time": "2022-04-18T23:54:33.895Z"
   },
   {
    "duration": 20,
    "start_time": "2022-04-18T23:54:33.918Z"
   },
   {
    "duration": 117,
    "start_time": "2022-04-18T23:54:33.940Z"
   },
   {
    "duration": 31,
    "start_time": "2022-04-18T23:54:34.059Z"
   },
   {
    "duration": 49,
    "start_time": "2022-04-18T23:54:34.093Z"
   },
   {
    "duration": 18,
    "start_time": "2022-04-18T23:54:34.144Z"
   },
   {
    "duration": 6,
    "start_time": "2022-04-18T23:54:34.165Z"
   },
   {
    "duration": 53,
    "start_time": "2022-04-18T23:54:34.173Z"
   },
   {
    "duration": 17,
    "start_time": "2022-04-18T23:54:34.228Z"
   },
   {
    "duration": 23,
    "start_time": "2022-04-18T23:54:34.247Z"
   },
   {
    "duration": 53,
    "start_time": "2022-04-18T23:54:34.272Z"
   },
   {
    "duration": 13,
    "start_time": "2022-04-18T23:54:34.327Z"
   },
   {
    "duration": 6,
    "start_time": "2022-04-18T23:54:34.343Z"
   },
   {
    "duration": 8,
    "start_time": "2022-04-18T23:54:34.355Z"
   },
   {
    "duration": 6,
    "start_time": "2022-04-18T23:54:34.365Z"
   },
   {
    "duration": 22,
    "start_time": "2022-04-18T23:55:25.712Z"
   },
   {
    "duration": 50,
    "start_time": "2022-04-19T06:58:06.466Z"
   },
   {
    "duration": 8,
    "start_time": "2022-04-19T06:58:14.106Z"
   },
   {
    "duration": 7,
    "start_time": "2022-04-19T06:59:16.549Z"
   },
   {
    "duration": 8,
    "start_time": "2022-04-19T07:00:22.107Z"
   },
   {
    "duration": 9,
    "start_time": "2022-04-19T07:00:24.963Z"
   },
   {
    "duration": 8,
    "start_time": "2022-04-19T07:00:35.721Z"
   },
   {
    "duration": 441,
    "start_time": "2022-04-19T07:00:44.484Z"
   },
   {
    "duration": 154,
    "start_time": "2022-04-19T07:00:44.927Z"
   },
   {
    "duration": 17,
    "start_time": "2022-04-19T07:00:45.083Z"
   },
   {
    "duration": 14,
    "start_time": "2022-04-19T07:00:45.101Z"
   },
   {
    "duration": 35,
    "start_time": "2022-04-19T07:00:45.117Z"
   },
   {
    "duration": 4,
    "start_time": "2022-04-19T07:00:45.153Z"
   },
   {
    "duration": 14,
    "start_time": "2022-04-19T07:00:45.159Z"
   },
   {
    "duration": 6,
    "start_time": "2022-04-19T07:00:45.175Z"
   },
   {
    "duration": 45,
    "start_time": "2022-04-19T07:00:45.182Z"
   },
   {
    "duration": 19,
    "start_time": "2022-04-19T07:00:45.229Z"
   },
   {
    "duration": 26,
    "start_time": "2022-04-19T07:00:45.249Z"
   },
   {
    "duration": 92,
    "start_time": "2022-04-19T07:00:45.276Z"
   },
   {
    "duration": 85,
    "start_time": "2022-04-19T07:00:45.369Z"
   },
   {
    "duration": 65,
    "start_time": "2022-04-19T07:00:45.459Z"
   },
   {
    "duration": 42,
    "start_time": "2022-04-19T07:00:45.526Z"
   },
   {
    "duration": 3,
    "start_time": "2022-04-19T07:00:45.569Z"
   },
   {
    "duration": 13,
    "start_time": "2022-04-19T07:00:45.574Z"
   },
   {
    "duration": 42,
    "start_time": "2022-04-19T07:00:45.607Z"
   },
   {
    "duration": 15,
    "start_time": "2022-04-19T07:00:45.651Z"
   },
   {
    "duration": 57,
    "start_time": "2022-04-19T07:00:45.668Z"
   },
   {
    "duration": 14,
    "start_time": "2022-04-19T07:00:45.727Z"
   },
   {
    "duration": 4,
    "start_time": "2022-04-19T07:00:45.743Z"
   },
   {
    "duration": 21,
    "start_time": "2022-04-19T07:00:45.748Z"
   },
   {
    "duration": 38,
    "start_time": "2022-04-19T07:00:45.770Z"
   },
   {
    "duration": 15,
    "start_time": "2022-04-19T07:00:45.810Z"
   },
   {
    "duration": 13,
    "start_time": "2022-04-19T07:00:45.826Z"
   },
   {
    "duration": 16,
    "start_time": "2022-04-19T07:00:45.841Z"
   },
   {
    "duration": 15,
    "start_time": "2022-04-19T07:00:45.858Z"
   },
   {
    "duration": 9,
    "start_time": "2022-04-19T07:00:45.907Z"
   },
   {
    "duration": 68,
    "start_time": "2022-04-19T07:00:45.918Z"
   },
   {
    "duration": 37,
    "start_time": "2022-04-19T07:00:45.988Z"
   },
   {
    "duration": 18,
    "start_time": "2022-04-19T07:00:46.027Z"
   },
   {
    "duration": 12,
    "start_time": "2022-04-19T07:00:46.047Z"
   },
   {
    "duration": 5,
    "start_time": "2022-04-19T07:00:46.061Z"
   },
   {
    "duration": 49,
    "start_time": "2022-04-19T07:00:46.067Z"
   },
   {
    "duration": 10,
    "start_time": "2022-04-19T07:00:46.118Z"
   },
   {
    "duration": 14,
    "start_time": "2022-04-19T07:00:46.130Z"
   },
   {
    "duration": 10,
    "start_time": "2022-04-19T07:00:46.146Z"
   },
   {
    "duration": 9,
    "start_time": "2022-04-19T07:00:46.157Z"
   },
   {
    "duration": 5,
    "start_time": "2022-04-19T07:00:46.167Z"
   },
   {
    "duration": 6,
    "start_time": "2022-04-19T07:00:46.208Z"
   },
   {
    "duration": 5,
    "start_time": "2022-04-19T07:00:46.215Z"
   }
  ],
  "colab": {
   "collapsed_sections": [
    "E0vqbgi9ay0H",
    "VUC88oWjTJw2"
   ],
   "name": "yandex_music_project.ipynb",
   "provenance": []
  },
  "kernelspec": {
   "display_name": "Python 3 (ipykernel)",
   "language": "python",
   "name": "python3"
  },
  "language_info": {
   "codemirror_mode": {
    "name": "ipython",
    "version": 3
   },
   "file_extension": ".py",
   "mimetype": "text/x-python",
   "name": "python",
   "nbconvert_exporter": "python",
   "pygments_lexer": "ipython3",
   "version": "3.9.7"
  },
  "toc": {
   "base_numbering": 1,
   "nav_menu": {},
   "number_sections": true,
   "sideBar": true,
   "skip_h1_title": true,
   "title_cell": "Table of Contents",
   "title_sidebar": "Contents",
   "toc_cell": false,
   "toc_position": {},
   "toc_section_display": true,
   "toc_window_display": true
  }
 },
 "nbformat": 4,
 "nbformat_minor": 1
}
