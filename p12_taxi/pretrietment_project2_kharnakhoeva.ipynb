{
 "cells": [
  {
   "cell_type": "markdown",
   "id": "5b78137e",
   "metadata": {},
   "source": [
    "# Исследование надёжности заёмщиков"
   ]
  },
  {
   "cell_type": "markdown",
   "id": "3aebd45d",
   "metadata": {},
   "source": [
    "**Заказчик исследования** — кредитный отдел банка\n",
    "\n",
    "\n",
    "**Цель исследования** — понять, влияет ли семейное положение и количество детей клиента на факт погашения кредита в срок,  в частности:\n",
    "  1. Есть ли зависимость между количеством детей и возвратом кредита в срок?\n",
    "  2. Есть ли зависимость между семейным положением и возвратом кредита в срок? \n",
    "  3. Есть ли зависимость между уровнем дохода и возвратом кредита в срок?\n",
    "  4. Как разные цели кредита влияют на его возврат в срок?\n",
    "\n",
    "Результаты исследования будут учтены при построении модели кредитного скоринга, которая оценивает способность потенциального заёмщика вернуть кредит банку.\n",
    "\n",
    "**План исследования:**\n",
    " 1. Обзор данных.\n",
    " 2. Предобработка данных (поиск и замена пропущенных значений, аномалий, дубликатов).\n",
    " 3. Проверка гипотез."
   ]
  },
  {
   "cell_type": "markdown",
   "id": "b8c9e47d",
   "metadata": {},
   "source": [
    "## 1. Обзор данных"
   ]
  },
  {
   "cell_type": "code",
   "execution_count": 1,
   "id": "6b463b62",
   "metadata": {
    "scrolled": false
   },
   "outputs": [],
   "source": [
    "import warnings\n",
    "warnings.filterwarnings(\"ignore\")\n",
    "import pandas as pd"
   ]
  },
  {
   "cell_type": "code",
   "execution_count": 2,
   "id": "18282340",
   "metadata": {
    "scrolled": true
   },
   "outputs": [],
   "source": [
    "try:\n",
    "    borrowers = pd.read_csv('/Users/galina/yandex-praktikum-projects/data.csv')\n",
    "except:\n",
    "    borrowers = pd.read_csv('/datasets/data.csv')"
   ]
  },
  {
   "cell_type": "code",
   "execution_count": 3,
   "id": "7b521f3c",
   "metadata": {},
   "outputs": [
    {
     "data": {
      "text/html": [
       "<div>\n",
       "<style scoped>\n",
       "    .dataframe tbody tr th:only-of-type {\n",
       "        vertical-align: middle;\n",
       "    }\n",
       "\n",
       "    .dataframe tbody tr th {\n",
       "        vertical-align: top;\n",
       "    }\n",
       "\n",
       "    .dataframe thead th {\n",
       "        text-align: right;\n",
       "    }\n",
       "</style>\n",
       "<table border=\"1\" class=\"dataframe\">\n",
       "  <thead>\n",
       "    <tr style=\"text-align: right;\">\n",
       "      <th></th>\n",
       "      <th>children</th>\n",
       "      <th>days_employed</th>\n",
       "      <th>dob_years</th>\n",
       "      <th>education</th>\n",
       "      <th>education_id</th>\n",
       "      <th>family_status</th>\n",
       "      <th>family_status_id</th>\n",
       "      <th>gender</th>\n",
       "      <th>income_type</th>\n",
       "      <th>debt</th>\n",
       "      <th>total_income</th>\n",
       "      <th>purpose</th>\n",
       "    </tr>\n",
       "  </thead>\n",
       "  <tbody>\n",
       "    <tr>\n",
       "      <th>0</th>\n",
       "      <td>1</td>\n",
       "      <td>-8437.673028</td>\n",
       "      <td>42</td>\n",
       "      <td>высшее</td>\n",
       "      <td>0</td>\n",
       "      <td>женат / замужем</td>\n",
       "      <td>0</td>\n",
       "      <td>F</td>\n",
       "      <td>сотрудник</td>\n",
       "      <td>0</td>\n",
       "      <td>253875.639453</td>\n",
       "      <td>покупка жилья</td>\n",
       "    </tr>\n",
       "    <tr>\n",
       "      <th>1</th>\n",
       "      <td>1</td>\n",
       "      <td>-4024.803754</td>\n",
       "      <td>36</td>\n",
       "      <td>среднее</td>\n",
       "      <td>1</td>\n",
       "      <td>женат / замужем</td>\n",
       "      <td>0</td>\n",
       "      <td>F</td>\n",
       "      <td>сотрудник</td>\n",
       "      <td>0</td>\n",
       "      <td>112080.014102</td>\n",
       "      <td>приобретение автомобиля</td>\n",
       "    </tr>\n",
       "    <tr>\n",
       "      <th>2</th>\n",
       "      <td>0</td>\n",
       "      <td>-5623.422610</td>\n",
       "      <td>33</td>\n",
       "      <td>Среднее</td>\n",
       "      <td>1</td>\n",
       "      <td>женат / замужем</td>\n",
       "      <td>0</td>\n",
       "      <td>M</td>\n",
       "      <td>сотрудник</td>\n",
       "      <td>0</td>\n",
       "      <td>145885.952297</td>\n",
       "      <td>покупка жилья</td>\n",
       "    </tr>\n",
       "    <tr>\n",
       "      <th>3</th>\n",
       "      <td>3</td>\n",
       "      <td>-4124.747207</td>\n",
       "      <td>32</td>\n",
       "      <td>среднее</td>\n",
       "      <td>1</td>\n",
       "      <td>женат / замужем</td>\n",
       "      <td>0</td>\n",
       "      <td>M</td>\n",
       "      <td>сотрудник</td>\n",
       "      <td>0</td>\n",
       "      <td>267628.550329</td>\n",
       "      <td>дополнительное образование</td>\n",
       "    </tr>\n",
       "    <tr>\n",
       "      <th>4</th>\n",
       "      <td>0</td>\n",
       "      <td>340266.072047</td>\n",
       "      <td>53</td>\n",
       "      <td>среднее</td>\n",
       "      <td>1</td>\n",
       "      <td>гражданский брак</td>\n",
       "      <td>1</td>\n",
       "      <td>F</td>\n",
       "      <td>пенсионер</td>\n",
       "      <td>0</td>\n",
       "      <td>158616.077870</td>\n",
       "      <td>сыграть свадьбу</td>\n",
       "    </tr>\n",
       "  </tbody>\n",
       "</table>\n",
       "</div>"
      ],
      "text/plain": [
       "   children  days_employed  dob_years education  education_id  \\\n",
       "0         1   -8437.673028         42    высшее             0   \n",
       "1         1   -4024.803754         36   среднее             1   \n",
       "2         0   -5623.422610         33   Среднее             1   \n",
       "3         3   -4124.747207         32   среднее             1   \n",
       "4         0  340266.072047         53   среднее             1   \n",
       "\n",
       "      family_status  family_status_id gender income_type  debt   total_income  \\\n",
       "0   женат / замужем                 0      F   сотрудник     0  253875.639453   \n",
       "1   женат / замужем                 0      F   сотрудник     0  112080.014102   \n",
       "2   женат / замужем                 0      M   сотрудник     0  145885.952297   \n",
       "3   женат / замужем                 0      M   сотрудник     0  267628.550329   \n",
       "4  гражданский брак                 1      F   пенсионер     0  158616.077870   \n",
       "\n",
       "                      purpose  \n",
       "0               покупка жилья  \n",
       "1     приобретение автомобиля  \n",
       "2               покупка жилья  \n",
       "3  дополнительное образование  \n",
       "4             сыграть свадьбу  "
      ]
     },
     "execution_count": 3,
     "metadata": {},
     "output_type": "execute_result"
    }
   ],
   "source": [
    "#смотрю первые 5 строк:\n",
    "borrowers.head(5)  "
   ]
  },
  {
   "cell_type": "code",
   "execution_count": 4,
   "id": "e43a2edd",
   "metadata": {
    "scrolled": true
   },
   "outputs": [
    {
     "data": {
      "text/html": [
       "<div>\n",
       "<style scoped>\n",
       "    .dataframe tbody tr th:only-of-type {\n",
       "        vertical-align: middle;\n",
       "    }\n",
       "\n",
       "    .dataframe tbody tr th {\n",
       "        vertical-align: top;\n",
       "    }\n",
       "\n",
       "    .dataframe thead th {\n",
       "        text-align: right;\n",
       "    }\n",
       "</style>\n",
       "<table border=\"1\" class=\"dataframe\">\n",
       "  <thead>\n",
       "    <tr style=\"text-align: right;\">\n",
       "      <th></th>\n",
       "      <th>children</th>\n",
       "      <th>days_employed</th>\n",
       "      <th>dob_years</th>\n",
       "      <th>education</th>\n",
       "      <th>education_id</th>\n",
       "      <th>family_status</th>\n",
       "      <th>family_status_id</th>\n",
       "      <th>gender</th>\n",
       "      <th>income_type</th>\n",
       "      <th>debt</th>\n",
       "      <th>total_income</th>\n",
       "      <th>purpose</th>\n",
       "    </tr>\n",
       "  </thead>\n",
       "  <tbody>\n",
       "    <tr>\n",
       "      <th>21520</th>\n",
       "      <td>1</td>\n",
       "      <td>-4529.316663</td>\n",
       "      <td>43</td>\n",
       "      <td>среднее</td>\n",
       "      <td>1</td>\n",
       "      <td>гражданский брак</td>\n",
       "      <td>1</td>\n",
       "      <td>F</td>\n",
       "      <td>компаньон</td>\n",
       "      <td>0</td>\n",
       "      <td>224791.862382</td>\n",
       "      <td>операции с жильем</td>\n",
       "    </tr>\n",
       "    <tr>\n",
       "      <th>21521</th>\n",
       "      <td>0</td>\n",
       "      <td>343937.404131</td>\n",
       "      <td>67</td>\n",
       "      <td>среднее</td>\n",
       "      <td>1</td>\n",
       "      <td>женат / замужем</td>\n",
       "      <td>0</td>\n",
       "      <td>F</td>\n",
       "      <td>пенсионер</td>\n",
       "      <td>0</td>\n",
       "      <td>155999.806512</td>\n",
       "      <td>сделка с автомобилем</td>\n",
       "    </tr>\n",
       "    <tr>\n",
       "      <th>21522</th>\n",
       "      <td>1</td>\n",
       "      <td>-2113.346888</td>\n",
       "      <td>38</td>\n",
       "      <td>среднее</td>\n",
       "      <td>1</td>\n",
       "      <td>гражданский брак</td>\n",
       "      <td>1</td>\n",
       "      <td>M</td>\n",
       "      <td>сотрудник</td>\n",
       "      <td>1</td>\n",
       "      <td>89672.561153</td>\n",
       "      <td>недвижимость</td>\n",
       "    </tr>\n",
       "    <tr>\n",
       "      <th>21523</th>\n",
       "      <td>3</td>\n",
       "      <td>-3112.481705</td>\n",
       "      <td>38</td>\n",
       "      <td>среднее</td>\n",
       "      <td>1</td>\n",
       "      <td>женат / замужем</td>\n",
       "      <td>0</td>\n",
       "      <td>M</td>\n",
       "      <td>сотрудник</td>\n",
       "      <td>1</td>\n",
       "      <td>244093.050500</td>\n",
       "      <td>на покупку своего автомобиля</td>\n",
       "    </tr>\n",
       "    <tr>\n",
       "      <th>21524</th>\n",
       "      <td>2</td>\n",
       "      <td>-1984.507589</td>\n",
       "      <td>40</td>\n",
       "      <td>среднее</td>\n",
       "      <td>1</td>\n",
       "      <td>женат / замужем</td>\n",
       "      <td>0</td>\n",
       "      <td>F</td>\n",
       "      <td>сотрудник</td>\n",
       "      <td>0</td>\n",
       "      <td>82047.418899</td>\n",
       "      <td>на покупку автомобиля</td>\n",
       "    </tr>\n",
       "  </tbody>\n",
       "</table>\n",
       "</div>"
      ],
      "text/plain": [
       "       children  days_employed  dob_years education  education_id  \\\n",
       "21520         1   -4529.316663         43   среднее             1   \n",
       "21521         0  343937.404131         67   среднее             1   \n",
       "21522         1   -2113.346888         38   среднее             1   \n",
       "21523         3   -3112.481705         38   среднее             1   \n",
       "21524         2   -1984.507589         40   среднее             1   \n",
       "\n",
       "          family_status  family_status_id gender income_type  debt  \\\n",
       "21520  гражданский брак                 1      F   компаньон     0   \n",
       "21521   женат / замужем                 0      F   пенсионер     0   \n",
       "21522  гражданский брак                 1      M   сотрудник     1   \n",
       "21523   женат / замужем                 0      M   сотрудник     1   \n",
       "21524   женат / замужем                 0      F   сотрудник     0   \n",
       "\n",
       "        total_income                       purpose  \n",
       "21520  224791.862382             операции с жильем  \n",
       "21521  155999.806512          сделка с автомобилем  \n",
       "21522   89672.561153                  недвижимость  \n",
       "21523  244093.050500  на покупку своего автомобиля  \n",
       "21524   82047.418899         на покупку автомобиля  "
      ]
     },
     "execution_count": 4,
     "metadata": {},
     "output_type": "execute_result"
    }
   ],
   "source": [
    "#смотрю последние 5 строк:\n",
    "borrowers.tail(5) "
   ]
  },
  {
   "cell_type": "code",
   "execution_count": 5,
   "id": "e44ab655",
   "metadata": {
    "scrolled": true
   },
   "outputs": [
    {
     "name": "stdout",
     "output_type": "stream",
     "text": [
      "<class 'pandas.core.frame.DataFrame'>\n",
      "RangeIndex: 21525 entries, 0 to 21524\n",
      "Data columns (total 12 columns):\n",
      " #   Column            Non-Null Count  Dtype  \n",
      "---  ------            --------------  -----  \n",
      " 0   children          21525 non-null  int64  \n",
      " 1   days_employed     19351 non-null  float64\n",
      " 2   dob_years         21525 non-null  int64  \n",
      " 3   education         21525 non-null  object \n",
      " 4   education_id      21525 non-null  int64  \n",
      " 5   family_status     21525 non-null  object \n",
      " 6   family_status_id  21525 non-null  int64  \n",
      " 7   gender            21525 non-null  object \n",
      " 8   income_type       21525 non-null  object \n",
      " 9   debt              21525 non-null  int64  \n",
      " 10  total_income      19351 non-null  float64\n",
      " 11  purpose           21525 non-null  object \n",
      "dtypes: float64(2), int64(5), object(5)\n",
      "memory usage: 2.0+ MB\n"
     ]
    }
   ],
   "source": [
    "#смотрю общую инфо по таблице:\n",
    "borrowers.info()  "
   ]
  },
  {
   "cell_type": "markdown",
   "id": "f048b970",
   "metadata": {},
   "source": [
    "### Выводы:\n",
    "1. Количество значений в столбцах различается (например, в столбце `children` 21 525 строк, а в столбце `days_employed` и столбце `total_income` - 19 351). Значит, в данных есть пропущенные значения.\n",
    "2. Есть артефакты, например, отрицательное количество дней трудового стажа в столбце `days_employed`, стаж у пенсионеров в столбце `days_employed` более 1000 лет. Значит, и в других столбцах могут быть артефакты\n",
    "3. Тип данных в части столбцов не соответствует данным, например, в столбце `total_income` должен быть тип данных `int` или `float`.\n",
    "4. Есть дубликаты, например, в столбце `education` одни и те же значения записаны либо строчными буквами, либо капслоком, либо с заглавной буквы.\n",
    "5. Сама таблица большая, для удобства работы ее можно разделить на: 1) два \"словаря\" со столбцами `education`, `education_id` и `family_status`, `family_status_id`, 2) с основными данными. \n",
    "\n",
    "Данных достаточно для проверки гипотез, но встречаются пропуски в данных, дубли и ошибки в данных. По возможности надо запросить недостающие данные из CRM / CDP (такое бывает при \"зоопарке\" систем - когда одна получает лиды, другая - клиентов, и при передаче данных из одной в другую появляются ошибки)."
   ]
  },
  {
   "cell_type": "markdown",
   "id": "5c39828e",
   "metadata": {},
   "source": [
    "## 2. Предобработка данных"
   ]
  },
  {
   "cell_type": "markdown",
   "id": "94648209",
   "metadata": {},
   "source": [
    "### 2.1. Пропуски значений"
   ]
  },
  {
   "cell_type": "code",
   "execution_count": 6,
   "id": "ea5e4af9",
   "metadata": {
    "scrolled": false
   },
   "outputs": [
    {
     "data": {
      "text/plain": [
       "children               0\n",
       "days_employed       2174\n",
       "dob_years              0\n",
       "education              0\n",
       "education_id           0\n",
       "family_status          0\n",
       "family_status_id       0\n",
       "gender                 0\n",
       "income_type            0\n",
       "debt                   0\n",
       "total_income        2174\n",
       "purpose                0\n",
       "dtype: int64"
      ]
     },
     "execution_count": 6,
     "metadata": {},
     "output_type": "execute_result"
    }
   ],
   "source": [
    "borrowers.isna().sum()  #смотрю, сколько и в каких столбцах пропусков"
   ]
  },
  {
   "cell_type": "markdown",
   "id": "97a93e2d",
   "metadata": {},
   "source": [
    "В столбце `total_income` и столбце `days_employed` - по 2 174 пропуска значений.<br>"
   ]
  },
  {
   "cell_type": "code",
   "execution_count": 7,
   "id": "2bc603b5",
   "metadata": {
    "scrolled": false
   },
   "outputs": [
    {
     "name": "stdout",
     "output_type": "stream",
     "text": [
      "<class 'pandas.core.frame.DataFrame'>\n",
      "Int64Index: 2174 entries, 12 to 21510\n",
      "Data columns (total 12 columns):\n",
      " #   Column            Non-Null Count  Dtype  \n",
      "---  ------            --------------  -----  \n",
      " 0   children          2174 non-null   int64  \n",
      " 1   days_employed     0 non-null      float64\n",
      " 2   dob_years         2174 non-null   int64  \n",
      " 3   education         2174 non-null   object \n",
      " 4   education_id      2174 non-null   int64  \n",
      " 5   family_status     2174 non-null   object \n",
      " 6   family_status_id  2174 non-null   int64  \n",
      " 7   gender            2174 non-null   object \n",
      " 8   income_type       2174 non-null   object \n",
      " 9   debt              2174 non-null   int64  \n",
      " 10  total_income      0 non-null      float64\n",
      " 11  purpose           2174 non-null   object \n",
      "dtypes: float64(2), int64(5), object(5)\n",
      "memory usage: 220.8+ KB\n"
     ]
    }
   ],
   "source": [
    "borrowers[(borrowers['days_employed'].isnull() == True) & (borrowers['total_income'].isnull() == True)].info()  #добавила этот код, чтобы проверить строки по обоим столбцам, чтобы понять, в одних и тех же ли строках пропуски"
   ]
  },
  {
   "cell_type": "markdown",
   "id": "68f9568b",
   "metadata": {},
   "source": [
    "В строках, где отсутствуют данные в столбце `days_employed`, отсутствуют данные и по `total_income`. Возможно, из-за зависимости значений в одном столбце от значений в другом столбце сбой в одном столбце повлек за собой сбой в другом, поэтому мы получили пустые строки в обоих столбцах. <br>"
   ]
  },
  {
   "cell_type": "markdown",
   "id": "f077ee26",
   "metadata": {},
   "source": [
    "Смотрю максимальное и минимальное значение в столбце `total_income`, чтобы понять \"амплитуду\" данных:"
   ]
  },
  {
   "cell_type": "code",
   "execution_count": 8,
   "id": "4ecb2f0e",
   "metadata": {},
   "outputs": [
    {
     "data": {
      "text/plain": [
       "2265604.028722744"
      ]
     },
     "execution_count": 8,
     "metadata": {},
     "output_type": "execute_result"
    }
   ],
   "source": [
    "borrowers['total_income'].max()"
   ]
  },
  {
   "cell_type": "code",
   "execution_count": 9,
   "id": "9f03a8f7",
   "metadata": {},
   "outputs": [
    {
     "data": {
      "text/plain": [
       "20667.26379327158"
      ]
     },
     "execution_count": 9,
     "metadata": {},
     "output_type": "execute_result"
    }
   ],
   "source": [
    "borrowers['total_income'].min() "
   ]
  },
  {
   "cell_type": "markdown",
   "id": "f7f1e70c",
   "metadata": {},
   "source": [
    "Возможная причина пропуска данных в столбце `total_income` - ошибка при получении или обработке данных. Также причиной пропуска может быть невнесение данных в CRM / CDP, но с гораздо меньшей вероятностью, так как данные по доходу нужны для оценки заемщика и расчета конечной ставку по кредиту. Сокрытие данных о доходе со стороны заемщика, как причину пропуска данных, можно отмести, так как без этих данных заявку на кредит подать можно только в МФО, не в банк."
   ]
  },
  {
   "cell_type": "markdown",
   "id": "c0347040",
   "metadata": {},
   "source": [
    "2 174 пропуска - это 10% от общего кол-ва строк, удаление 10% данных означает искажение результата на выходе. <br>Следовательно, пропуски надо заполнить. "
   ]
  },
  {
   "cell_type": "markdown",
   "id": "99459a39",
   "metadata": {},
   "source": [
    "Для начала проверю, из разных ли это `income_type` заемщики:"
   ]
  },
  {
   "cell_type": "code",
   "execution_count": 10,
   "id": "92c920e2",
   "metadata": {
    "scrolled": true
   },
   "outputs": [
    {
     "data": {
      "text/plain": [
       "сотрудник          1105\n",
       "компаньон           508\n",
       "пенсионер           413\n",
       "госслужащий         147\n",
       "предприниматель       1\n",
       "Name: income_type, dtype: int64"
      ]
     },
     "execution_count": 10,
     "metadata": {},
     "output_type": "execute_result"
    }
   ],
   "source": [
    "borrowers[(borrowers['total_income'].isnull() == True)]['income_type'].value_counts()"
   ]
  },
  {
   "cell_type": "markdown",
   "id": "4952a833",
   "metadata": {},
   "source": [
    "Заемщики, у которых нет данных по `total_income`, имеют разные `income_type`. Поэтому надо искать медианный доход по каждой группе `income_type`. Медиана не даст большого искажения, в отличие от среднего арифметического."
   ]
  },
  {
   "cell_type": "code",
   "execution_count": 11,
   "id": "548debfe",
   "metadata": {
    "scrolled": false
   },
   "outputs": [
    {
     "data": {
      "text/plain": [
       "142594.39684740017"
      ]
     },
     "metadata": {},
     "output_type": "display_data"
    },
    {
     "data": {
      "text/plain": [
       "172357.95096577113"
      ]
     },
     "metadata": {},
     "output_type": "display_data"
    },
    {
     "data": {
      "text/plain": [
       "118514.48641164352"
      ]
     },
     "metadata": {},
     "output_type": "display_data"
    },
    {
     "data": {
      "text/plain": [
       "150447.9352830068"
      ]
     },
     "metadata": {},
     "output_type": "display_data"
    },
    {
     "data": {
      "text/plain": [
       "499163.1449470857"
      ]
     },
     "metadata": {},
     "output_type": "display_data"
    }
   ],
   "source": [
    "#вычисляю медианный доход по типу занятости 'сотрудник':\n",
    "total_income_employee_avg = \\\n",
    "borrowers[(borrowers['income_type']=='сотрудник')]['total_income'].median()  \n",
    "\n",
    "#вычисляю медианный доход по типу занятости 'компаньон':\n",
    "total_income_companion_avg = \\\n",
    "borrowers[(borrowers['income_type']=='компаньон')]['total_income'].median()  \n",
    "\n",
    "#вычисляю медианный доход по типу занятости 'пенсионер':\n",
    "total_income_retiree_avg = \\\n",
    "borrowers[(borrowers['income_type']=='пенсионер')]['total_income'].median()  \n",
    "\n",
    "#вычисляю медианный доход по типу занятости 'госслужащий':\n",
    "total_income_state_employee_avg = \\\n",
    "borrowers[(borrowers['income_type']=='госслужащий')]['total_income'].median()  \n",
    "\n",
    "#вычисляю медианный доход по типу занятости 'предприниматель':\n",
    "total_income_enterpreneur_avg = \\\n",
    "borrowers[(borrowers['income_type']=='предприниматель')]['total_income'].median()  \n",
    "\n",
    "#вывожу посмотреть медианы:\n",
    "display(total_income_employee_avg,\n",
    "        total_income_companion_avg,\n",
    "        total_income_retiree_avg,\n",
    "        total_income_state_employee_avg,\n",
    "        total_income_enterpreneur_avg)  "
   ]
  },
  {
   "cell_type": "markdown",
   "id": "586e8631",
   "metadata": {},
   "source": [
    "Кстати, предпринимателей в таблице всего 2.\n",
    "Я бы удалила обоих, так как вычислять на основе 1 ячейки медианный доход и \"присваивать\" его второй ячейке, статистически странно. Кроме того, удаление 2 заемщиков (меньше сотой процента об общего кол-ва заемщиков в таблице) ничего не исказит.   \n",
    "Но ради тренировки оставила."
   ]
  },
  {
   "cell_type": "markdown",
   "id": "68a0e319",
   "metadata": {},
   "source": [
    "Теперь заменяю медианным доходом пропуски доходов в строках `сотрудник`, `компаньон`, `пенсионер`, `госслужащий`, `предприниматель`:"
   ]
  },
  {
   "cell_type": "code",
   "execution_count": 12,
   "id": "1a69b7b7",
   "metadata": {
    "scrolled": true
   },
   "outputs": [
    {
     "data": {
      "text/plain": [
       "children               0\n",
       "days_employed       2174\n",
       "dob_years              0\n",
       "education              0\n",
       "education_id           0\n",
       "family_status          0\n",
       "family_status_id       0\n",
       "gender                 0\n",
       "income_type            0\n",
       "debt                   0\n",
       "total_income           0\n",
       "purpose                0\n",
       "dtype: int64"
      ]
     },
     "execution_count": 12,
     "metadata": {},
     "output_type": "execute_result"
    }
   ],
   "source": [
    "borrowers.loc[borrowers['income_type']=='сотрудник','total_income'] = \\\n",
    "borrowers[(borrowers['income_type']=='сотрудник')]['total_income'].fillna(value=total_income_employee_avg)\n",
    "\n",
    "borrowers.loc[borrowers['income_type']=='компаньон','total_income'] = \\\n",
    "borrowers[(borrowers['income_type']=='компаньон')]['total_income'].fillna(value=total_income_companion_avg)\n",
    "\n",
    "borrowers.loc[borrowers['income_type']=='пенсионер','total_income'] = \\\n",
    "borrowers[(borrowers['income_type']=='пенсионер')]['total_income'].fillna(value=total_income_retiree_avg)\n",
    "\n",
    "borrowers.loc[borrowers['income_type']=='госслужащий','total_income'] = \\\n",
    "borrowers[(borrowers['income_type']=='госслужащий')]['total_income'].fillna(value=total_income_state_employee_avg)\n",
    "\n",
    "borrowers.loc[borrowers['income_type']=='предприниматель','total_income'] = \\\n",
    "borrowers[(borrowers['income_type']=='предприниматель')]['total_income'].fillna(value=total_income_enterpreneur_avg)\n",
    "\n",
    "#проверяю, заменились ли пропуски в столбце 'total_income' на медианы\n",
    "borrowers.isna().sum()  "
   ]
  },
  {
   "cell_type": "code",
   "execution_count": 13,
   "id": "ddb53698",
   "metadata": {
    "scrolled": false
   },
   "outputs": [],
   "source": [
    "borrowers['total_income'] = \\\n",
    "borrowers['total_income'].fillna(borrowers.groupby('income_type')['total_income'].transform('median'))"
   ]
  },
  {
   "cell_type": "markdown",
   "id": "8365ee25",
   "metadata": {},
   "source": [
    "Вернусь к столбцу `days_employed`:"
   ]
  },
  {
   "cell_type": "code",
   "execution_count": 14,
   "id": "3514d81f",
   "metadata": {
    "scrolled": true
   },
   "outputs": [
    {
     "data": {
      "text/plain": [
       "401755.40047533"
      ]
     },
     "execution_count": 14,
     "metadata": {},
     "output_type": "execute_result"
    }
   ],
   "source": [
    "#смотрю максимальное значение в столбце, чтобы понять разницу в данных\n",
    "borrowers['days_employed'].max() "
   ]
  },
  {
   "cell_type": "markdown",
   "id": "e7d0d0bd",
   "metadata": {},
   "source": [
    "Хм, более 1000 лет стажа..."
   ]
  },
  {
   "cell_type": "code",
   "execution_count": 15,
   "id": "cef334da",
   "metadata": {},
   "outputs": [
    {
     "data": {
      "text/plain": [
       "-18388.949900568383"
      ]
     },
     "execution_count": 15,
     "metadata": {},
     "output_type": "execute_result"
    }
   ],
   "source": [
    "#смотрю минимальное значение в столбце, чтобы понять разницу в данных\n",
    "borrowers['days_employed'].min() "
   ]
  },
  {
   "cell_type": "markdown",
   "id": "968af473",
   "metadata": {},
   "source": [
    "Отрицательный стаж!"
   ]
  },
  {
   "cell_type": "markdown",
   "id": "e7a6b7cb",
   "metadata": {},
   "source": [
    "Возможная причина пропуска данных, завышенных данных, отрицательных значений в столбце `days_employed` - ошибка при получении или обработке данных. Отрицательные значения могли возникнуть из-за ошибки при внесении данных (думали, что ставят тире, а ставили минус)."
   ]
  },
  {
   "cell_type": "markdown",
   "id": "ae4ed6b5",
   "metadata": {},
   "source": [
    "2 174 пропуска - это 10% от общего кол-ва строк, удаление 10% данных означает искажение результата на выходе. Поэтому:\n",
    "<br>- заменю отрицательные значения на положительные, \n",
    "<br>- заполню пропуски медианными значениями по столбцу."
   ]
  },
  {
   "cell_type": "markdown",
   "id": "0d23208f",
   "metadata": {},
   "source": [
    "Сначала заменяю отрицательные значения в столбце `days_employed` на положительные:"
   ]
  },
  {
   "cell_type": "code",
   "execution_count": 16,
   "id": "ad6a7ce0",
   "metadata": {},
   "outputs": [
    {
     "data": {
      "text/html": [
       "<div>\n",
       "<style scoped>\n",
       "    .dataframe tbody tr th:only-of-type {\n",
       "        vertical-align: middle;\n",
       "    }\n",
       "\n",
       "    .dataframe tbody tr th {\n",
       "        vertical-align: top;\n",
       "    }\n",
       "\n",
       "    .dataframe thead th {\n",
       "        text-align: right;\n",
       "    }\n",
       "</style>\n",
       "<table border=\"1\" class=\"dataframe\">\n",
       "  <thead>\n",
       "    <tr style=\"text-align: right;\">\n",
       "      <th></th>\n",
       "      <th>children</th>\n",
       "      <th>days_employed</th>\n",
       "      <th>dob_years</th>\n",
       "      <th>education</th>\n",
       "      <th>education_id</th>\n",
       "      <th>family_status</th>\n",
       "      <th>family_status_id</th>\n",
       "      <th>gender</th>\n",
       "      <th>income_type</th>\n",
       "      <th>debt</th>\n",
       "      <th>total_income</th>\n",
       "      <th>purpose</th>\n",
       "    </tr>\n",
       "  </thead>\n",
       "  <tbody>\n",
       "  </tbody>\n",
       "</table>\n",
       "</div>"
      ],
      "text/plain": [
       "Empty DataFrame\n",
       "Columns: [children, days_employed, dob_years, education, education_id, family_status, family_status_id, gender, income_type, debt, total_income, purpose]\n",
       "Index: []"
      ]
     },
     "execution_count": 16,
     "metadata": {},
     "output_type": "execute_result"
    }
   ],
   "source": [
    "#избавляюсь от минуса за счет модуля:\n",
    "borrowers['days_employed'] = borrowers['days_employed'].abs() \n",
    "\n",
    "#проверяю, есть ли отрицательные значения в столбце:\n",
    "borrowers[borrowers['days_employed']<=0] "
   ]
  },
  {
   "cell_type": "markdown",
   "id": "2a01137a",
   "metadata": {},
   "source": [
    "Пропуски в стаже должны совпать с пропусками в доходе по `income_type`, так как ранее я выяснила, что пропуски по столбцу `total_income` и  `days_employed` совпадают, но проверю:"
   ]
  },
  {
   "cell_type": "code",
   "execution_count": 17,
   "id": "dd8293e7",
   "metadata": {},
   "outputs": [
    {
     "data": {
      "text/plain": [
       "сотрудник          1105\n",
       "компаньон           508\n",
       "пенсионер           413\n",
       "госслужащий         147\n",
       "предприниматель       1\n",
       "Name: income_type, dtype: int64"
      ]
     },
     "execution_count": 17,
     "metadata": {},
     "output_type": "execute_result"
    }
   ],
   "source": [
    "borrowers[(borrowers['days_employed'].isnull()==True)]['income_type'].value_counts()"
   ]
  },
  {
   "cell_type": "code",
   "execution_count": 18,
   "id": "7a49d182",
   "metadata": {
    "scrolled": true
   },
   "outputs": [
    {
     "data": {
      "text/plain": [
       "1574.2028211070854"
      ]
     },
     "metadata": {},
     "output_type": "display_data"
    },
    {
     "data": {
      "text/plain": [
       "1547.3822226779334"
      ]
     },
     "metadata": {},
     "output_type": "display_data"
    },
    {
     "data": {
      "text/plain": [
       "365213.3062657312"
      ]
     },
     "metadata": {},
     "output_type": "display_data"
    },
    {
     "data": {
      "text/plain": [
       "2689.3683533043886"
      ]
     },
     "metadata": {},
     "output_type": "display_data"
    },
    {
     "data": {
      "text/plain": [
       "520.8480834953765"
      ]
     },
     "metadata": {},
     "output_type": "display_data"
    }
   ],
   "source": [
    "#вычисляю медианный стаж для групп:\n",
    "days_employed_employee_avg = \\\n",
    "borrowers[(borrowers['income_type']=='сотрудник')]['days_employed'].median()  \n",
    "\n",
    "days_employed_companion_avg = \\\n",
    "borrowers[(borrowers['income_type']=='компаньон')]['days_employed'].median()  \n",
    "\n",
    "days_employed_retiree_avg = \\\n",
    "borrowers[(borrowers['income_type']=='пенсионер')]['days_employed'].median()  \n",
    "\n",
    "days_employed_state_employee_avg = \\\n",
    "borrowers[(borrowers['income_type']=='госслужащий')]['days_employed'].median()  \n",
    "\n",
    "days_employed_enterpreneur_avg = \\\n",
    "borrowers[(borrowers['income_type']=='предприниматель')]['days_employed'].median()  \n",
    "\n",
    "display(days_employed_employee_avg,\n",
    "        days_employed_companion_avg,\n",
    "        days_employed_retiree_avg,\n",
    "        days_employed_state_employee_avg,\n",
    "        days_employed_enterpreneur_avg)  "
   ]
  },
  {
   "cell_type": "markdown",
   "id": "827210b6",
   "metadata": {},
   "source": [
    "У пенсионеров нереалистично огромный стаж. Разберусь с этим ниже. \n",
    "Пока заменю медианным стажем пропуски"
   ]
  },
  {
   "cell_type": "code",
   "execution_count": 19,
   "id": "dbbcd980",
   "metadata": {},
   "outputs": [
    {
     "data": {
      "text/plain": [
       "children            0\n",
       "days_employed       0\n",
       "dob_years           0\n",
       "education           0\n",
       "education_id        0\n",
       "family_status       0\n",
       "family_status_id    0\n",
       "gender              0\n",
       "income_type         0\n",
       "debt                0\n",
       "total_income        0\n",
       "purpose             0\n",
       "dtype: int64"
      ]
     },
     "execution_count": 19,
     "metadata": {},
     "output_type": "execute_result"
    }
   ],
   "source": [
    "borrowers.loc[borrowers['income_type']=='сотрудник','days_employed'] = \\\n",
    "borrowers[(borrowers['income_type'] == 'сотрудник')]['days_employed'].fillna(value=days_employed_employee_avg)\n",
    "\n",
    "borrowers.loc[borrowers['income_type']=='компаньон','days_employed'] = \\\n",
    "borrowers[(borrowers['income_type'] == 'компаньон')]['days_employed'].fillna(value=days_employed_companion_avg)\n",
    "\n",
    "borrowers.loc[borrowers['income_type']=='пенсионер','days_employed'] = \\\n",
    "borrowers[(borrowers['income_type'] == 'пенсионер')]['days_employed'].fillna(value=days_employed_retiree_avg)\n",
    "\n",
    "borrowers.loc[borrowers['income_type']=='госслужащий','days_employed'] = \\\n",
    "borrowers[(borrowers['income_type'] == 'госслужащий')]['days_employed'].fillna(value=days_employed_state_employee_avg)\n",
    "\n",
    "borrowers.loc[borrowers['income_type']=='предприниматель','days_employed'] = \\\n",
    "borrowers[(borrowers['income_type'] == 'предприниматель')]['days_employed'].fillna(value=days_employed_enterpreneur_avg)\n",
    "\n",
    "borrowers.isna().sum()"
   ]
  },
  {
   "cell_type": "markdown",
   "id": "43509ff3",
   "metadata": {},
   "source": [
    "Вернусь к завышенным данным в столбце `days_employed`. Несмотря на то, что исследование зависимости между длиной стажа и возвратом кредита в срок не входит в задачи, хочу посмотреть на эти артефакты, их кол-во и долю от общего кол-ва заемщиков, и заменить на реалистичные."
   ]
  },
  {
   "cell_type": "markdown",
   "id": "ae1177e1",
   "metadata": {},
   "source": [
    "Так как стаж явно не может быть дольше 1100 лет, поэтому поищу долю тех, у которых стаж выше 50 лет (12 350 дней при 247 рабочих днях в году в среднем):"
   ]
  },
  {
   "cell_type": "code",
   "execution_count": 20,
   "id": "c71d4c43",
   "metadata": {},
   "outputs": [
    {
     "data": {
      "text/plain": [
       "0.18276422764227643"
      ]
     },
     "execution_count": 20,
     "metadata": {},
     "output_type": "execute_result"
    }
   ],
   "source": [
    "count_experience50 = 0\n",
    "\n",
    "for i in borrowers['days_employed']:\n",
    "    if i > 12350:\n",
    "        count_experience50 += 1\n",
    "\n",
    "total = borrowers['days_employed'].count()    \n",
    "count_experience50 / total"
   ]
  },
  {
   "cell_type": "markdown",
   "id": "deb63461",
   "metadata": {},
   "source": [
    "То есть заемщиков, у которых стаж выше реалистичных 50 лет - 18% от общего кол-ва заемщиков.\n",
    "Посмотрю, в каких группах `income_type` эти нарушения:"
   ]
  },
  {
   "cell_type": "code",
   "execution_count": 21,
   "id": "b64baeec",
   "metadata": {
    "scrolled": true
   },
   "outputs": [
    {
     "data": {
      "text/plain": [
       "пенсионер      3856\n",
       "сотрудник        49\n",
       "компаньон        14\n",
       "госслужащий      13\n",
       "безработный       2\n",
       "Name: income_type, dtype: int64"
      ]
     },
     "execution_count": 21,
     "metadata": {},
     "output_type": "execute_result"
    }
   ],
   "source": [
    "borrowers[(borrowers['days_employed']>12350)]['income_type'].value_counts()"
   ]
  },
  {
   "cell_type": "markdown",
   "id": "c95a6edf",
   "metadata": {},
   "source": [
    "Так как:\n",
    "- у нас есть данные по возрасту заемщиков,\n",
    "- в среднем люди идут работать в 18,\n",
    "- пенсионный наступает в 65 лет,\n",
    "<br> то можно вычислить примерный близкий к реалистичному стаж для каждого заемщика, у которого в текущей версии он превышает 12350 дней. \n",
    "\n",
    "<br>(Но лучше запросить дополнительные данные)."
   ]
  },
  {
   "cell_type": "code",
   "execution_count": 22,
   "id": "fca8b45b",
   "metadata": {},
   "outputs": [],
   "source": [
    "borrowers.loc[(borrowers['days_employed']>12350) &\n",
    "              (borrowers['income_type']=='пенсионер'),\n",
    "              ['days_employed']] = 11609\n",
    "\n",
    "borrowers.loc[(borrowers['days_employed']>12350) &\n",
    "              (borrowers['income_type']!='пенсионер'),\n",
    "              ['days_employed']] = (borrowers['dob_years']-18)*247"
   ]
  },
  {
   "cell_type": "markdown",
   "id": "39762b89",
   "metadata": {},
   "source": [
    "### 2.2. Замена значений"
   ]
  },
  {
   "cell_type": "code",
   "execution_count": 23,
   "id": "5908e2ed",
   "metadata": {
    "scrolled": false
   },
   "outputs": [
    {
     "data": {
      "text/plain": [
       " 0     14149\n",
       " 1      4818\n",
       " 2      2055\n",
       " 3       330\n",
       " 20       76\n",
       "-1        47\n",
       " 4        41\n",
       " 5         9\n",
       "Name: children, dtype: int64"
      ]
     },
     "execution_count": 23,
     "metadata": {},
     "output_type": "execute_result"
    }
   ],
   "source": [
    "borrowers['children'].value_counts()  #смотрю распределение по кол-ву детей"
   ]
  },
  {
   "cell_type": "markdown",
   "id": "e934eced",
   "metadata": {},
   "source": [
    "Явно есть ошибки -  у 47 заемщиков по -1 ребенку и у 76 заемщиков по 20 детей.\n",
    "<br>В случае с -1 ребенком заменю -1 на 1 (возможно, причина ошибки - человеческий фактор, ошиблись при вводе значения, просто добавив тире, которое было считано как минус).\n",
    "<br>В случае с 20 детьми заменю 20 на медианное значение по другим строкам (возможно, причина ошибки - человеческий фактор, либо хотели ввести 0, либо 2)."
   ]
  },
  {
   "cell_type": "code",
   "execution_count": 24,
   "id": "0b6db9a5",
   "metadata": {},
   "outputs": [
    {
     "data": {
      "text/plain": [
       "0    14225\n",
       "1     4865\n",
       "2     2055\n",
       "3      330\n",
       "4       41\n",
       "5        9\n",
       "Name: children, dtype: int64"
      ]
     },
     "execution_count": 24,
     "metadata": {},
     "output_type": "execute_result"
    }
   ],
   "source": [
    "#заменяю -1 ребенка на 1 ребенка:\n",
    "borrowers['children'] = borrowers['children'].replace(-1, 1)  \n",
    "\n",
    "#вычисляю медианное кол-во детей по строкам, где не 20 детей \n",
    "children_median = borrowers.loc[borrowers.loc[:, 'children']!=20]['children'].median()  \n",
    "\n",
    "#заменяю 20 детей на медианное кол-во детей\n",
    "borrowers['children'] = borrowers['children'].replace(20, children_median)  \n",
    "\n",
    "#проверяю кол-во детей\n",
    "borrowers['children'].value_counts()  "
   ]
  },
  {
   "cell_type": "markdown",
   "id": "57566667",
   "metadata": {},
   "source": [
    "Что в других столбцах? "
   ]
  },
  {
   "cell_type": "code",
   "execution_count": 25,
   "id": "46186a24",
   "metadata": {
    "scrolled": true
   },
   "outputs": [
    {
     "data": {
      "text/plain": [
       "35    617\n",
       "40    609\n",
       "41    607\n",
       "34    603\n",
       "38    598\n",
       "42    597\n",
       "33    581\n",
       "39    573\n",
       "31    560\n",
       "36    555\n",
       "44    547\n",
       "29    545\n",
       "30    540\n",
       "48    538\n",
       "37    537\n",
       "50    514\n",
       "43    513\n",
       "32    510\n",
       "49    508\n",
       "28    503\n",
       "45    497\n",
       "27    493\n",
       "56    487\n",
       "52    484\n",
       "47    480\n",
       "54    479\n",
       "46    475\n",
       "58    461\n",
       "57    460\n",
       "53    459\n",
       "51    448\n",
       "59    444\n",
       "55    443\n",
       "26    408\n",
       "60    377\n",
       "25    357\n",
       "61    355\n",
       "62    352\n",
       "63    269\n",
       "64    265\n",
       "24    264\n",
       "23    254\n",
       "65    194\n",
       "22    183\n",
       "66    183\n",
       "67    167\n",
       "21    111\n",
       "0     101\n",
       "68     99\n",
       "69     85\n",
       "70     65\n",
       "71     58\n",
       "20     51\n",
       "72     33\n",
       "19     14\n",
       "73      8\n",
       "74      6\n",
       "75      1\n",
       "Name: dob_years, dtype: int64"
      ]
     },
     "execution_count": 25,
     "metadata": {},
     "output_type": "execute_result"
    }
   ],
   "source": [
    "borrowers['dob_years'].value_counts() "
   ]
  },
  {
   "cell_type": "markdown",
   "id": "0e461f41",
   "metadata": {},
   "source": [
    "У 101 заемщика возраст 0. Если бы в задачу входило исследование зависимости между возрастом и возвратом кредита в срок, то эту ошибку стоило бы поправить, запросив данные заново и/или исправив их для других аналитиков. Но так как такой задачи нет, пойдем дальше и посмотрим, как там с другими столбцами."
   ]
  },
  {
   "cell_type": "code",
   "execution_count": 26,
   "id": "e6baa5c9",
   "metadata": {},
   "outputs": [
    {
     "data": {
      "text/plain": [
       "среднее                13750\n",
       "высшее                  4718\n",
       "СРЕДНЕЕ                  772\n",
       "Среднее                  711\n",
       "неоконченное высшее      668\n",
       "ВЫСШЕЕ                   274\n",
       "Высшее                   268\n",
       "начальное                250\n",
       "Неоконченное высшее       47\n",
       "НЕОКОНЧЕННОЕ ВЫСШЕЕ       29\n",
       "НАЧАЛЬНОЕ                 17\n",
       "Начальное                 15\n",
       "ученая степень             4\n",
       "Ученая степень             1\n",
       "УЧЕНАЯ СТЕПЕНЬ             1\n",
       "Name: education, dtype: int64"
      ]
     },
     "execution_count": 26,
     "metadata": {},
     "output_type": "execute_result"
    }
   ],
   "source": [
    "#смотрю уникальные статусы образования и кол-во:\n",
    "borrowers['education'].value_counts()  "
   ]
  },
  {
   "cell_type": "markdown",
   "id": "21bc5e74",
   "metadata": {},
   "source": [
    "Есть неявные дубликаты:\n",
    "* *ВЫСШЕЕ, Высшее и высшее*\n",
    "* *НЕОКОНЧЕННОЕ ВЫСШЕЕ, Неоконченное высшее и неоконченное высшее*\n",
    "* *НАЧАЛЬНОЕ, Начальное и начальное*\n",
    "* *СРЕДНЕЕ, Среднее и среднее*\n",
    "* *УЧЕНАЯ СТЕПЕНЬ, Ученая степень и ученая степень*.<br>\n",
    "\n",
    "От них избавляюсь в п.2.4. Удаление дубликатов."
   ]
  },
  {
   "cell_type": "code",
   "execution_count": 27,
   "id": "82b89764",
   "metadata": {},
   "outputs": [
    {
     "data": {
      "text/plain": [
       "женат / замужем          12380\n",
       "гражданский брак          4177\n",
       "Не женат / не замужем     2813\n",
       "в разводе                 1195\n",
       "вдовец / вдова             960\n",
       "Name: family_status, dtype: int64"
      ]
     },
     "execution_count": 27,
     "metadata": {},
     "output_type": "execute_result"
    }
   ],
   "source": [
    "borrowers['family_status'].value_counts()"
   ]
  },
  {
   "cell_type": "markdown",
   "id": "75cb3dba",
   "metadata": {},
   "source": [
    "Тут дубликатов нет (но можно заменить \"Не женат\" на \"не женат\")"
   ]
  },
  {
   "cell_type": "code",
   "execution_count": 28,
   "id": "0864083e",
   "metadata": {
    "scrolled": true
   },
   "outputs": [
    {
     "data": {
      "text/plain": [
       "F      14236\n",
       "M       7288\n",
       "XNA        1\n",
       "Name: gender, dtype: int64"
      ]
     },
     "execution_count": 28,
     "metadata": {},
     "output_type": "execute_result"
    }
   ],
   "source": [
    "borrowers['gender'].value_counts()"
   ]
  },
  {
   "cell_type": "markdown",
   "id": "7989e6ed",
   "metadata": {},
   "source": [
    "А тут какая-то ошибка - есть один заемщик, пол которого не F и не M. Так как ФИО заемщиков не указаны и задачи проверить зависимость между полом и возвратом кредита нет, то можно пойти дальше или удалить. Удаляю:"
   ]
  },
  {
   "cell_type": "code",
   "execution_count": 29,
   "id": "5767cfa5",
   "metadata": {},
   "outputs": [
    {
     "data": {
      "text/plain": [
       "F    14236\n",
       "M     7288\n",
       "Name: gender, dtype: int64"
      ]
     },
     "execution_count": 29,
     "metadata": {},
     "output_type": "execute_result"
    }
   ],
   "source": [
    "#удалила строку с непонятным гендером\n",
    "borrowers = borrowers.drop(borrowers[borrowers['gender'] == 'XNA'].index)  \n",
    "\n",
    "#проверяю, удалила ли\n",
    "borrowers['gender'].value_counts()  "
   ]
  },
  {
   "cell_type": "code",
   "execution_count": 30,
   "id": "89bcf475",
   "metadata": {
    "scrolled": false
   },
   "outputs": [
    {
     "data": {
      "text/plain": [
       "сотрудник          11119\n",
       "компаньон           5084\n",
       "пенсионер           3856\n",
       "госслужащий         1459\n",
       "безработный            2\n",
       "предприниматель        2\n",
       "студент                1\n",
       "в декрете              1\n",
       "Name: income_type, dtype: int64"
      ]
     },
     "execution_count": 30,
     "metadata": {},
     "output_type": "execute_result"
    }
   ],
   "source": [
    "borrowers['income_type'].value_counts()"
   ]
  },
  {
   "cell_type": "markdown",
   "id": "14d1e638",
   "metadata": {},
   "source": [
    "Тут дубликатов нет."
   ]
  },
  {
   "cell_type": "code",
   "execution_count": 31,
   "id": "5ce0afca",
   "metadata": {},
   "outputs": [
    {
     "data": {
      "text/plain": [
       "0    19783\n",
       "1     1741\n",
       "Name: debt, dtype: int64"
      ]
     },
     "execution_count": 31,
     "metadata": {},
     "output_type": "execute_result"
    }
   ],
   "source": [
    "borrowers['debt'].value_counts()"
   ]
  },
  {
   "cell_type": "markdown",
   "id": "d056172b",
   "metadata": {},
   "source": [
    "У 8,8% была задолженность."
   ]
  },
  {
   "cell_type": "code",
   "execution_count": 32,
   "id": "4eb8d736",
   "metadata": {},
   "outputs": [
    {
     "data": {
      "text/plain": [
       "свадьба                                   797\n",
       "на проведение свадьбы                     777\n",
       "сыграть свадьбу                           774\n",
       "операции с недвижимостью                  676\n",
       "покупка коммерческой недвижимости         664\n",
       "покупка жилья для сдачи                   653\n",
       "операции с жильем                         653\n",
       "операции с коммерческой недвижимостью     651\n",
       "покупка жилья                             647\n",
       "жилье                                     647\n",
       "покупка жилья для семьи                   641\n",
       "строительство собственной недвижимости    635\n",
       "недвижимость                              634\n",
       "операции со своей недвижимостью           630\n",
       "строительство жилой недвижимости          626\n",
       "покупка недвижимости                      623\n",
       "строительство недвижимости                620\n",
       "покупка своего жилья                      620\n",
       "ремонт жилью                              612\n",
       "покупка жилой недвижимости                607\n",
       "на покупку своего автомобиля              505\n",
       "заняться высшим образованием              496\n",
       "автомобиль                                495\n",
       "сделка с подержанным автомобилем          489\n",
       "свой автомобиль                           480\n",
       "на покупку подержанного автомобиля        479\n",
       "автомобили                                478\n",
       "на покупку автомобиля                     472\n",
       "дополнительное образование                462\n",
       "приобретение автомобиля                   462\n",
       "сделка с автомобилем                      455\n",
       "высшее образование                        453\n",
       "образование                               447\n",
       "получение дополнительного образования     447\n",
       "получение образования                     443\n",
       "профильное образование                    436\n",
       "получение высшего образования             426\n",
       "заняться образованием                     412\n",
       "Name: purpose, dtype: int64"
      ]
     },
     "execution_count": 32,
     "metadata": {},
     "output_type": "execute_result"
    }
   ],
   "source": [
    "borrowers['purpose'].value_counts()"
   ]
  },
  {
   "cell_type": "markdown",
   "id": "c3b23d39",
   "metadata": {},
   "source": [
    "Тут цели кредита можно типировать. Этим займусь в п.3. Проверка зависимостей."
   ]
  },
  {
   "cell_type": "markdown",
   "id": "3db8edb0",
   "metadata": {},
   "source": [
    "### 2.3. Замена типов данных "
   ]
  },
  {
   "cell_type": "markdown",
   "id": "e85cbe4b",
   "metadata": {},
   "source": [
    "В столбце `total_income` заменяю вещественный тип данных на целочисленный, так как копейки не влияют на результат."
   ]
  },
  {
   "cell_type": "code",
   "execution_count": 33,
   "id": "e2f614b5",
   "metadata": {
    "scrolled": true
   },
   "outputs": [
    {
     "data": {
      "text/plain": [
       "0    253875\n",
       "1    112080\n",
       "2    145885\n",
       "3    267628\n",
       "4    158616\n",
       "5    255763\n",
       "6    240525\n",
       "7    135823\n",
       "8     95856\n",
       "9    144425\n",
       "Name: total_income, dtype: int64"
      ]
     },
     "execution_count": 33,
     "metadata": {},
     "output_type": "execute_result"
    }
   ],
   "source": [
    "#заменяю вещественный тип данных на целочисленный\n",
    "borrowers['total_income'] = borrowers['total_income'].astype('int') \n",
    "\n",
    "#проверяю первые 10 значений столбца\n",
    "borrowers['total_income'].head(10)  "
   ]
  },
  {
   "cell_type": "markdown",
   "id": "69dd30c0",
   "metadata": {},
   "source": [
    "В столбце `days_employed` заменяю вещественный тип данных на целочисленный, так как дробная часть незначительно влияет на результат, но усложняет визуальный анализ."
   ]
  },
  {
   "cell_type": "code",
   "execution_count": 34,
   "id": "84baaca6",
   "metadata": {
    "scrolled": false
   },
   "outputs": [
    {
     "data": {
      "text/plain": [
       "0     8437\n",
       "1     4024\n",
       "2     5623\n",
       "3     4124\n",
       "4    11609\n",
       "5      926\n",
       "6     2879\n",
       "7      152\n",
       "8     6929\n",
       "9     2188\n",
       "Name: days_employed, dtype: int64"
      ]
     },
     "execution_count": 34,
     "metadata": {},
     "output_type": "execute_result"
    }
   ],
   "source": [
    "#заменяю вещественный тип данных на целочисленный\n",
    "borrowers['days_employed'] = borrowers['days_employed'].astype('int') \n",
    "\n",
    "#проверяю первые 10 значений столбца\n",
    "borrowers['days_employed'].head(10)  "
   ]
  },
  {
   "cell_type": "markdown",
   "id": "d08d9be9",
   "metadata": {},
   "source": [
    "### 2.4. Удаление дубликатов"
   ]
  },
  {
   "cell_type": "markdown",
   "id": "9bccdfe8",
   "metadata": {},
   "source": [
    "Избавляюсь от неявных дубликатов в столбце `education`, выявленных выше:"
   ]
  },
  {
   "cell_type": "code",
   "execution_count": 35,
   "id": "74a02c2a",
   "metadata": {},
   "outputs": [
    {
     "data": {
      "text/plain": [
       "среднее                15233\n",
       "высшее                  5260\n",
       "неоконченное высшее      743\n",
       "начальное                282\n",
       "ученая степень             6\n",
       "Name: education, dtype: int64"
      ]
     },
     "execution_count": 35,
     "metadata": {},
     "output_type": "execute_result"
    }
   ],
   "source": [
    "#перевожу все данные в столбце к одному регистру\n",
    "borrowers['education'] = borrowers['education'].str.lower()  \n",
    "\n",
    "#вывожу данные по столбцу, чтобы посмотреть еше раз уникальные значения и проверить дубликаты\n",
    "borrowers['education'].value_counts() "
   ]
  },
  {
   "cell_type": "code",
   "execution_count": 36,
   "id": "7dbe0329",
   "metadata": {},
   "outputs": [
    {
     "data": {
      "text/plain": [
       "71"
      ]
     },
     "execution_count": 36,
     "metadata": {},
     "output_type": "execute_result"
    }
   ],
   "source": [
    "#проверяю, есть ли явные дубликаты и сколько\n",
    "borrowers.duplicated().sum()  "
   ]
  },
  {
   "cell_type": "markdown",
   "id": "6fd01608",
   "metadata": {},
   "source": [
    "Явные дубликаты могли возникнуть из-за объединения двух и более таблиц или из-за технических проблем, неявные - из-за человеческого фактора. \n",
    "<br>Для избавления от неявных с помощью value_counts() посмотрела уникальные статусы образования и кол-во. Поскольку дубликаты отличались друг от друга только регистрами, то применила str.lower(). \n",
    "<br>Для избавления от явных дубликатов я применяю обычный drop_duplicates() с формированием новых индексов:"
   ]
  },
  {
   "cell_type": "code",
   "execution_count": 37,
   "id": "de934246",
   "metadata": {
    "scrolled": true
   },
   "outputs": [
    {
     "data": {
      "text/plain": [
       "0"
      ]
     },
     "execution_count": 37,
     "metadata": {},
     "output_type": "execute_result"
    }
   ],
   "source": [
    "#удаляю явные дубликаты (с формированием новых индексов)\n",
    "borrowers = borrowers.drop_duplicates().reset_index(drop=True) \n",
    "\n",
    "#считаю явные дубликаты, чтобы понять, избавилась ли от них\n",
    "borrowers.duplicated().sum()  "
   ]
  },
  {
   "cell_type": "markdown",
   "id": "dc2eaa20",
   "metadata": {},
   "source": [
    "### 2.5. Категоризация"
   ]
  },
  {
   "cell_type": "markdown",
   "id": "5d6bb369",
   "metadata": {},
   "source": [
    "Создам 2 отдельных «словаря», где:\n",
    "<br>1) каждому уникальному значению из education соответствует уникальное значение education_id\n",
    "<br>2) каждому уникальному значению из family_status соответствует уникальное значение family_status_id\n",
    "<br>чтобы оставить в таблице education_id и family_status_id. Это упростит работу с таблицей."
   ]
  },
  {
   "cell_type": "code",
   "execution_count": 38,
   "id": "e3a2497e",
   "metadata": {},
   "outputs": [
    {
     "data": {
      "text/html": [
       "<div>\n",
       "<style scoped>\n",
       "    .dataframe tbody tr th:only-of-type {\n",
       "        vertical-align: middle;\n",
       "    }\n",
       "\n",
       "    .dataframe tbody tr th {\n",
       "        vertical-align: top;\n",
       "    }\n",
       "\n",
       "    .dataframe thead th {\n",
       "        text-align: right;\n",
       "    }\n",
       "</style>\n",
       "<table border=\"1\" class=\"dataframe\">\n",
       "  <thead>\n",
       "    <tr style=\"text-align: right;\">\n",
       "      <th></th>\n",
       "      <th>education</th>\n",
       "      <th>education_id</th>\n",
       "    </tr>\n",
       "  </thead>\n",
       "  <tbody>\n",
       "    <tr>\n",
       "      <th>0</th>\n",
       "      <td>высшее</td>\n",
       "      <td>0</td>\n",
       "    </tr>\n",
       "    <tr>\n",
       "      <th>1</th>\n",
       "      <td>среднее</td>\n",
       "      <td>1</td>\n",
       "    </tr>\n",
       "    <tr>\n",
       "      <th>2</th>\n",
       "      <td>неоконченное высшее</td>\n",
       "      <td>2</td>\n",
       "    </tr>\n",
       "    <tr>\n",
       "      <th>3</th>\n",
       "      <td>начальное</td>\n",
       "      <td>3</td>\n",
       "    </tr>\n",
       "    <tr>\n",
       "      <th>4</th>\n",
       "      <td>ученая степень</td>\n",
       "      <td>4</td>\n",
       "    </tr>\n",
       "  </tbody>\n",
       "</table>\n",
       "</div>"
      ],
      "text/plain": [
       "             education  education_id\n",
       "0               высшее             0\n",
       "1              среднее             1\n",
       "2  неоконченное высшее             2\n",
       "3            начальное             3\n",
       "4       ученая степень             4"
      ]
     },
     "execution_count": 38,
     "metadata": {},
     "output_type": "execute_result"
    }
   ],
   "source": [
    "#составляю \"словарь\", который соотносит education и education_id без дубликатов\n",
    "education_dict = borrowers[['education','education_id']].drop_duplicates().reset_index(drop=True) \n",
    "\n",
    "#вывожу, чтобы посмотреть результат\n",
    "education_dict.head()  "
   ]
  },
  {
   "cell_type": "code",
   "execution_count": 39,
   "id": "ab5b42b4",
   "metadata": {},
   "outputs": [
    {
     "data": {
      "text/html": [
       "<div>\n",
       "<style scoped>\n",
       "    .dataframe tbody tr th:only-of-type {\n",
       "        vertical-align: middle;\n",
       "    }\n",
       "\n",
       "    .dataframe tbody tr th {\n",
       "        vertical-align: top;\n",
       "    }\n",
       "\n",
       "    .dataframe thead th {\n",
       "        text-align: right;\n",
       "    }\n",
       "</style>\n",
       "<table border=\"1\" class=\"dataframe\">\n",
       "  <thead>\n",
       "    <tr style=\"text-align: right;\">\n",
       "      <th></th>\n",
       "      <th>family_status</th>\n",
       "      <th>family_status_id</th>\n",
       "    </tr>\n",
       "  </thead>\n",
       "  <tbody>\n",
       "    <tr>\n",
       "      <th>0</th>\n",
       "      <td>женат / замужем</td>\n",
       "      <td>0</td>\n",
       "    </tr>\n",
       "    <tr>\n",
       "      <th>1</th>\n",
       "      <td>гражданский брак</td>\n",
       "      <td>1</td>\n",
       "    </tr>\n",
       "    <tr>\n",
       "      <th>2</th>\n",
       "      <td>вдовец / вдова</td>\n",
       "      <td>2</td>\n",
       "    </tr>\n",
       "    <tr>\n",
       "      <th>3</th>\n",
       "      <td>в разводе</td>\n",
       "      <td>3</td>\n",
       "    </tr>\n",
       "    <tr>\n",
       "      <th>4</th>\n",
       "      <td>Не женат / не замужем</td>\n",
       "      <td>4</td>\n",
       "    </tr>\n",
       "  </tbody>\n",
       "</table>\n",
       "</div>"
      ],
      "text/plain": [
       "           family_status  family_status_id\n",
       "0        женат / замужем                 0\n",
       "1       гражданский брак                 1\n",
       "2         вдовец / вдова                 2\n",
       "3              в разводе                 3\n",
       "4  Не женат / не замужем                 4"
      ]
     },
     "execution_count": 39,
     "metadata": {},
     "output_type": "execute_result"
    }
   ],
   "source": [
    "family_status_dict = borrowers[['family_status','family_status_id']].drop_duplicates().reset_index(drop=True)\n",
    "family_status_dict.head()"
   ]
  },
  {
   "cell_type": "code",
   "execution_count": 40,
   "id": "2dd60e14",
   "metadata": {
    "scrolled": true
   },
   "outputs": [
    {
     "data": {
      "text/html": [
       "<div>\n",
       "<style scoped>\n",
       "    .dataframe tbody tr th:only-of-type {\n",
       "        vertical-align: middle;\n",
       "    }\n",
       "\n",
       "    .dataframe tbody tr th {\n",
       "        vertical-align: top;\n",
       "    }\n",
       "\n",
       "    .dataframe thead th {\n",
       "        text-align: right;\n",
       "    }\n",
       "</style>\n",
       "<table border=\"1\" class=\"dataframe\">\n",
       "  <thead>\n",
       "    <tr style=\"text-align: right;\">\n",
       "      <th></th>\n",
       "      <th>children</th>\n",
       "      <th>days_employed</th>\n",
       "      <th>dob_years</th>\n",
       "      <th>education_id</th>\n",
       "      <th>family_status_id</th>\n",
       "      <th>gender</th>\n",
       "      <th>income_type</th>\n",
       "      <th>debt</th>\n",
       "      <th>total_income</th>\n",
       "      <th>purpose</th>\n",
       "    </tr>\n",
       "  </thead>\n",
       "  <tbody>\n",
       "    <tr>\n",
       "      <th>0</th>\n",
       "      <td>1</td>\n",
       "      <td>8437</td>\n",
       "      <td>42</td>\n",
       "      <td>0</td>\n",
       "      <td>0</td>\n",
       "      <td>F</td>\n",
       "      <td>сотрудник</td>\n",
       "      <td>0</td>\n",
       "      <td>253875</td>\n",
       "      <td>покупка жилья</td>\n",
       "    </tr>\n",
       "    <tr>\n",
       "      <th>1</th>\n",
       "      <td>1</td>\n",
       "      <td>4024</td>\n",
       "      <td>36</td>\n",
       "      <td>1</td>\n",
       "      <td>0</td>\n",
       "      <td>F</td>\n",
       "      <td>сотрудник</td>\n",
       "      <td>0</td>\n",
       "      <td>112080</td>\n",
       "      <td>приобретение автомобиля</td>\n",
       "    </tr>\n",
       "    <tr>\n",
       "      <th>2</th>\n",
       "      <td>0</td>\n",
       "      <td>5623</td>\n",
       "      <td>33</td>\n",
       "      <td>1</td>\n",
       "      <td>0</td>\n",
       "      <td>M</td>\n",
       "      <td>сотрудник</td>\n",
       "      <td>0</td>\n",
       "      <td>145885</td>\n",
       "      <td>покупка жилья</td>\n",
       "    </tr>\n",
       "    <tr>\n",
       "      <th>3</th>\n",
       "      <td>3</td>\n",
       "      <td>4124</td>\n",
       "      <td>32</td>\n",
       "      <td>1</td>\n",
       "      <td>0</td>\n",
       "      <td>M</td>\n",
       "      <td>сотрудник</td>\n",
       "      <td>0</td>\n",
       "      <td>267628</td>\n",
       "      <td>дополнительное образование</td>\n",
       "    </tr>\n",
       "    <tr>\n",
       "      <th>4</th>\n",
       "      <td>0</td>\n",
       "      <td>11609</td>\n",
       "      <td>53</td>\n",
       "      <td>1</td>\n",
       "      <td>1</td>\n",
       "      <td>F</td>\n",
       "      <td>пенсионер</td>\n",
       "      <td>0</td>\n",
       "      <td>158616</td>\n",
       "      <td>сыграть свадьбу</td>\n",
       "    </tr>\n",
       "    <tr>\n",
       "      <th>5</th>\n",
       "      <td>0</td>\n",
       "      <td>926</td>\n",
       "      <td>27</td>\n",
       "      <td>0</td>\n",
       "      <td>1</td>\n",
       "      <td>M</td>\n",
       "      <td>компаньон</td>\n",
       "      <td>0</td>\n",
       "      <td>255763</td>\n",
       "      <td>покупка жилья</td>\n",
       "    </tr>\n",
       "    <tr>\n",
       "      <th>6</th>\n",
       "      <td>0</td>\n",
       "      <td>2879</td>\n",
       "      <td>43</td>\n",
       "      <td>0</td>\n",
       "      <td>0</td>\n",
       "      <td>F</td>\n",
       "      <td>компаньон</td>\n",
       "      <td>0</td>\n",
       "      <td>240525</td>\n",
       "      <td>операции с жильем</td>\n",
       "    </tr>\n",
       "    <tr>\n",
       "      <th>7</th>\n",
       "      <td>0</td>\n",
       "      <td>152</td>\n",
       "      <td>50</td>\n",
       "      <td>1</td>\n",
       "      <td>0</td>\n",
       "      <td>M</td>\n",
       "      <td>сотрудник</td>\n",
       "      <td>0</td>\n",
       "      <td>135823</td>\n",
       "      <td>образование</td>\n",
       "    </tr>\n",
       "    <tr>\n",
       "      <th>8</th>\n",
       "      <td>2</td>\n",
       "      <td>6929</td>\n",
       "      <td>35</td>\n",
       "      <td>0</td>\n",
       "      <td>1</td>\n",
       "      <td>F</td>\n",
       "      <td>сотрудник</td>\n",
       "      <td>0</td>\n",
       "      <td>95856</td>\n",
       "      <td>на проведение свадьбы</td>\n",
       "    </tr>\n",
       "    <tr>\n",
       "      <th>9</th>\n",
       "      <td>0</td>\n",
       "      <td>2188</td>\n",
       "      <td>41</td>\n",
       "      <td>1</td>\n",
       "      <td>0</td>\n",
       "      <td>M</td>\n",
       "      <td>сотрудник</td>\n",
       "      <td>0</td>\n",
       "      <td>144425</td>\n",
       "      <td>покупка жилья для семьи</td>\n",
       "    </tr>\n",
       "  </tbody>\n",
       "</table>\n",
       "</div>"
      ],
      "text/plain": [
       "   children  days_employed  dob_years  education_id  family_status_id gender  \\\n",
       "0         1           8437         42             0                 0      F   \n",
       "1         1           4024         36             1                 0      F   \n",
       "2         0           5623         33             1                 0      M   \n",
       "3         3           4124         32             1                 0      M   \n",
       "4         0          11609         53             1                 1      F   \n",
       "5         0            926         27             0                 1      M   \n",
       "6         0           2879         43             0                 0      F   \n",
       "7         0            152         50             1                 0      M   \n",
       "8         2           6929         35             0                 1      F   \n",
       "9         0           2188         41             1                 0      M   \n",
       "\n",
       "  income_type  debt  total_income                     purpose  \n",
       "0   сотрудник     0        253875               покупка жилья  \n",
       "1   сотрудник     0        112080     приобретение автомобиля  \n",
       "2   сотрудник     0        145885               покупка жилья  \n",
       "3   сотрудник     0        267628  дополнительное образование  \n",
       "4   пенсионер     0        158616             сыграть свадьбу  \n",
       "5   компаньон     0        255763               покупка жилья  \n",
       "6   компаньон     0        240525           операции с жильем  \n",
       "7   сотрудник     0        135823                 образование  \n",
       "8   сотрудник     0         95856       на проведение свадьбы  \n",
       "9   сотрудник     0        144425     покупка жилья для семьи  "
      ]
     },
     "execution_count": 40,
     "metadata": {},
     "output_type": "execute_result"
    }
   ],
   "source": [
    "#составляю новую таблицу без 'family_status' и без 'education' \n",
    "borrowers_log = borrowers[['children',\n",
    "                           'days_employed',\n",
    "                           'dob_years',\n",
    "                           'education_id',\n",
    "                           'family_status_id',\n",
    "                           'gender',\n",
    "                           'income_type',\n",
    "                           'debt',\n",
    "                           'total_income',\n",
    "                           'purpose']]  \n",
    "borrowers_log.head(10) "
   ]
  },
  {
   "cell_type": "markdown",
   "id": "74131ddd",
   "metadata": {},
   "source": [
    "Категоризирую заемщиков по уровню ежемесячного дохода."
   ]
  },
  {
   "cell_type": "code",
   "execution_count": 41,
   "id": "16e3d317",
   "metadata": {
    "scrolled": true
   },
   "outputs": [
    {
     "data": {
      "text/html": [
       "<div>\n",
       "<style scoped>\n",
       "    .dataframe tbody tr th:only-of-type {\n",
       "        vertical-align: middle;\n",
       "    }\n",
       "\n",
       "    .dataframe tbody tr th {\n",
       "        vertical-align: top;\n",
       "    }\n",
       "\n",
       "    .dataframe thead th {\n",
       "        text-align: right;\n",
       "    }\n",
       "</style>\n",
       "<table border=\"1\" class=\"dataframe\">\n",
       "  <thead>\n",
       "    <tr style=\"text-align: right;\">\n",
       "      <th></th>\n",
       "      <th>children</th>\n",
       "      <th>days_employed</th>\n",
       "      <th>dob_years</th>\n",
       "      <th>education_id</th>\n",
       "      <th>family_status_id</th>\n",
       "      <th>gender</th>\n",
       "      <th>income_type</th>\n",
       "      <th>debt</th>\n",
       "      <th>total_income</th>\n",
       "      <th>purpose</th>\n",
       "      <th>total_income_category</th>\n",
       "    </tr>\n",
       "  </thead>\n",
       "  <tbody>\n",
       "    <tr>\n",
       "      <th>0</th>\n",
       "      <td>1</td>\n",
       "      <td>8437</td>\n",
       "      <td>42</td>\n",
       "      <td>0</td>\n",
       "      <td>0</td>\n",
       "      <td>F</td>\n",
       "      <td>сотрудник</td>\n",
       "      <td>0</td>\n",
       "      <td>253875</td>\n",
       "      <td>покупка жилья</td>\n",
       "      <td>B</td>\n",
       "    </tr>\n",
       "    <tr>\n",
       "      <th>1</th>\n",
       "      <td>1</td>\n",
       "      <td>4024</td>\n",
       "      <td>36</td>\n",
       "      <td>1</td>\n",
       "      <td>0</td>\n",
       "      <td>F</td>\n",
       "      <td>сотрудник</td>\n",
       "      <td>0</td>\n",
       "      <td>112080</td>\n",
       "      <td>приобретение автомобиля</td>\n",
       "      <td>C</td>\n",
       "    </tr>\n",
       "    <tr>\n",
       "      <th>2</th>\n",
       "      <td>0</td>\n",
       "      <td>5623</td>\n",
       "      <td>33</td>\n",
       "      <td>1</td>\n",
       "      <td>0</td>\n",
       "      <td>M</td>\n",
       "      <td>сотрудник</td>\n",
       "      <td>0</td>\n",
       "      <td>145885</td>\n",
       "      <td>покупка жилья</td>\n",
       "      <td>C</td>\n",
       "    </tr>\n",
       "    <tr>\n",
       "      <th>3</th>\n",
       "      <td>3</td>\n",
       "      <td>4124</td>\n",
       "      <td>32</td>\n",
       "      <td>1</td>\n",
       "      <td>0</td>\n",
       "      <td>M</td>\n",
       "      <td>сотрудник</td>\n",
       "      <td>0</td>\n",
       "      <td>267628</td>\n",
       "      <td>дополнительное образование</td>\n",
       "      <td>B</td>\n",
       "    </tr>\n",
       "    <tr>\n",
       "      <th>4</th>\n",
       "      <td>0</td>\n",
       "      <td>11609</td>\n",
       "      <td>53</td>\n",
       "      <td>1</td>\n",
       "      <td>1</td>\n",
       "      <td>F</td>\n",
       "      <td>пенсионер</td>\n",
       "      <td>0</td>\n",
       "      <td>158616</td>\n",
       "      <td>сыграть свадьбу</td>\n",
       "      <td>C</td>\n",
       "    </tr>\n",
       "    <tr>\n",
       "      <th>...</th>\n",
       "      <td>...</td>\n",
       "      <td>...</td>\n",
       "      <td>...</td>\n",
       "      <td>...</td>\n",
       "      <td>...</td>\n",
       "      <td>...</td>\n",
       "      <td>...</td>\n",
       "      <td>...</td>\n",
       "      <td>...</td>\n",
       "      <td>...</td>\n",
       "      <td>...</td>\n",
       "    </tr>\n",
       "    <tr>\n",
       "      <th>21448</th>\n",
       "      <td>1</td>\n",
       "      <td>4529</td>\n",
       "      <td>43</td>\n",
       "      <td>1</td>\n",
       "      <td>1</td>\n",
       "      <td>F</td>\n",
       "      <td>компаньон</td>\n",
       "      <td>0</td>\n",
       "      <td>224791</td>\n",
       "      <td>операции с жильем</td>\n",
       "      <td>B</td>\n",
       "    </tr>\n",
       "    <tr>\n",
       "      <th>21449</th>\n",
       "      <td>0</td>\n",
       "      <td>11609</td>\n",
       "      <td>67</td>\n",
       "      <td>1</td>\n",
       "      <td>0</td>\n",
       "      <td>F</td>\n",
       "      <td>пенсионер</td>\n",
       "      <td>0</td>\n",
       "      <td>155999</td>\n",
       "      <td>сделка с автомобилем</td>\n",
       "      <td>C</td>\n",
       "    </tr>\n",
       "    <tr>\n",
       "      <th>21450</th>\n",
       "      <td>1</td>\n",
       "      <td>2113</td>\n",
       "      <td>38</td>\n",
       "      <td>1</td>\n",
       "      <td>1</td>\n",
       "      <td>M</td>\n",
       "      <td>сотрудник</td>\n",
       "      <td>1</td>\n",
       "      <td>89672</td>\n",
       "      <td>недвижимость</td>\n",
       "      <td>C</td>\n",
       "    </tr>\n",
       "    <tr>\n",
       "      <th>21451</th>\n",
       "      <td>3</td>\n",
       "      <td>3112</td>\n",
       "      <td>38</td>\n",
       "      <td>1</td>\n",
       "      <td>0</td>\n",
       "      <td>M</td>\n",
       "      <td>сотрудник</td>\n",
       "      <td>1</td>\n",
       "      <td>244093</td>\n",
       "      <td>на покупку своего автомобиля</td>\n",
       "      <td>B</td>\n",
       "    </tr>\n",
       "    <tr>\n",
       "      <th>21452</th>\n",
       "      <td>2</td>\n",
       "      <td>1984</td>\n",
       "      <td>40</td>\n",
       "      <td>1</td>\n",
       "      <td>0</td>\n",
       "      <td>F</td>\n",
       "      <td>сотрудник</td>\n",
       "      <td>0</td>\n",
       "      <td>82047</td>\n",
       "      <td>на покупку автомобиля</td>\n",
       "      <td>C</td>\n",
       "    </tr>\n",
       "  </tbody>\n",
       "</table>\n",
       "<p>21453 rows × 11 columns</p>\n",
       "</div>"
      ],
      "text/plain": [
       "       children  days_employed  dob_years  education_id  family_status_id  \\\n",
       "0             1           8437         42             0                 0   \n",
       "1             1           4024         36             1                 0   \n",
       "2             0           5623         33             1                 0   \n",
       "3             3           4124         32             1                 0   \n",
       "4             0          11609         53             1                 1   \n",
       "...         ...            ...        ...           ...               ...   \n",
       "21448         1           4529         43             1                 1   \n",
       "21449         0          11609         67             1                 0   \n",
       "21450         1           2113         38             1                 1   \n",
       "21451         3           3112         38             1                 0   \n",
       "21452         2           1984         40             1                 0   \n",
       "\n",
       "      gender income_type  debt  total_income                       purpose  \\\n",
       "0          F   сотрудник     0        253875                 покупка жилья   \n",
       "1          F   сотрудник     0        112080       приобретение автомобиля   \n",
       "2          M   сотрудник     0        145885                 покупка жилья   \n",
       "3          M   сотрудник     0        267628    дополнительное образование   \n",
       "4          F   пенсионер     0        158616               сыграть свадьбу   \n",
       "...      ...         ...   ...           ...                           ...   \n",
       "21448      F   компаньон     0        224791             операции с жильем   \n",
       "21449      F   пенсионер     0        155999          сделка с автомобилем   \n",
       "21450      M   сотрудник     1         89672                  недвижимость   \n",
       "21451      M   сотрудник     1        244093  на покупку своего автомобиля   \n",
       "21452      F   сотрудник     0         82047         на покупку автомобиля   \n",
       "\n",
       "      total_income_category  \n",
       "0                         B  \n",
       "1                         C  \n",
       "2                         C  \n",
       "3                         B  \n",
       "4                         C  \n",
       "...                     ...  \n",
       "21448                     B  \n",
       "21449                     C  \n",
       "21450                     C  \n",
       "21451                     B  \n",
       "21452                     C  \n",
       "\n",
       "[21453 rows x 11 columns]"
      ]
     },
     "execution_count": 41,
     "metadata": {},
     "output_type": "execute_result"
    }
   ],
   "source": [
    "#создаю функцию, определяющую категорию заемщика в зависимости от ежемесячного дохода\n",
    "\n",
    "def total_income_category(category):  \n",
    "    if 0 <= category <= 30000:\n",
    "        return 'E'\n",
    "    \n",
    "    if 30001 <= category <= 50000:\n",
    "        return 'D'\n",
    "    \n",
    "    if 50001 <= category <= 200000:\n",
    "        return 'C'\n",
    "    \n",
    "    if 200001 <= category <= 1000000:\n",
    "        return 'B'\n",
    "    \n",
    "    if category >= 1000001:\n",
    "        return 'A'\n",
    "\n",
    "borrowers_log['total_income_category'] = borrowers_log['total_income'].apply(total_income_category)\n",
    "\n",
    "borrowers_log"
   ]
  },
  {
   "cell_type": "markdown",
   "id": "aad421a8",
   "metadata": {},
   "source": [
    "Так как ранее я увидела, что многие цели кредита названы очень похоже, можно разбить их на категории."
   ]
  },
  {
   "cell_type": "code",
   "execution_count": 42,
   "id": "767a1a96",
   "metadata": {
    "scrolled": false
   },
   "outputs": [
    {
     "data": {
      "text/html": [
       "<div>\n",
       "<style scoped>\n",
       "    .dataframe tbody tr th:only-of-type {\n",
       "        vertical-align: middle;\n",
       "    }\n",
       "\n",
       "    .dataframe tbody tr th {\n",
       "        vertical-align: top;\n",
       "    }\n",
       "\n",
       "    .dataframe thead th {\n",
       "        text-align: right;\n",
       "    }\n",
       "</style>\n",
       "<table border=\"1\" class=\"dataframe\">\n",
       "  <thead>\n",
       "    <tr style=\"text-align: right;\">\n",
       "      <th></th>\n",
       "      <th>children</th>\n",
       "      <th>days_employed</th>\n",
       "      <th>dob_years</th>\n",
       "      <th>education_id</th>\n",
       "      <th>family_status_id</th>\n",
       "      <th>gender</th>\n",
       "      <th>income_type</th>\n",
       "      <th>debt</th>\n",
       "      <th>total_income</th>\n",
       "      <th>purpose</th>\n",
       "      <th>total_income_category</th>\n",
       "      <th>purpose_category</th>\n",
       "    </tr>\n",
       "  </thead>\n",
       "  <tbody>\n",
       "    <tr>\n",
       "      <th>0</th>\n",
       "      <td>1</td>\n",
       "      <td>8437</td>\n",
       "      <td>42</td>\n",
       "      <td>0</td>\n",
       "      <td>0</td>\n",
       "      <td>F</td>\n",
       "      <td>сотрудник</td>\n",
       "      <td>0</td>\n",
       "      <td>253875</td>\n",
       "      <td>покупка жилья</td>\n",
       "      <td>B</td>\n",
       "      <td>операции с недвижимостью</td>\n",
       "    </tr>\n",
       "    <tr>\n",
       "      <th>1</th>\n",
       "      <td>1</td>\n",
       "      <td>4024</td>\n",
       "      <td>36</td>\n",
       "      <td>1</td>\n",
       "      <td>0</td>\n",
       "      <td>F</td>\n",
       "      <td>сотрудник</td>\n",
       "      <td>0</td>\n",
       "      <td>112080</td>\n",
       "      <td>приобретение автомобиля</td>\n",
       "      <td>C</td>\n",
       "      <td>операции с автомобилем</td>\n",
       "    </tr>\n",
       "    <tr>\n",
       "      <th>2</th>\n",
       "      <td>0</td>\n",
       "      <td>5623</td>\n",
       "      <td>33</td>\n",
       "      <td>1</td>\n",
       "      <td>0</td>\n",
       "      <td>M</td>\n",
       "      <td>сотрудник</td>\n",
       "      <td>0</td>\n",
       "      <td>145885</td>\n",
       "      <td>покупка жилья</td>\n",
       "      <td>C</td>\n",
       "      <td>операции с недвижимостью</td>\n",
       "    </tr>\n",
       "    <tr>\n",
       "      <th>3</th>\n",
       "      <td>3</td>\n",
       "      <td>4124</td>\n",
       "      <td>32</td>\n",
       "      <td>1</td>\n",
       "      <td>0</td>\n",
       "      <td>M</td>\n",
       "      <td>сотрудник</td>\n",
       "      <td>0</td>\n",
       "      <td>267628</td>\n",
       "      <td>дополнительное образование</td>\n",
       "      <td>B</td>\n",
       "      <td>получение образования</td>\n",
       "    </tr>\n",
       "    <tr>\n",
       "      <th>4</th>\n",
       "      <td>0</td>\n",
       "      <td>11609</td>\n",
       "      <td>53</td>\n",
       "      <td>1</td>\n",
       "      <td>1</td>\n",
       "      <td>F</td>\n",
       "      <td>пенсионер</td>\n",
       "      <td>0</td>\n",
       "      <td>158616</td>\n",
       "      <td>сыграть свадьбу</td>\n",
       "      <td>C</td>\n",
       "      <td>проведение свадьбы</td>\n",
       "    </tr>\n",
       "    <tr>\n",
       "      <th>...</th>\n",
       "      <td>...</td>\n",
       "      <td>...</td>\n",
       "      <td>...</td>\n",
       "      <td>...</td>\n",
       "      <td>...</td>\n",
       "      <td>...</td>\n",
       "      <td>...</td>\n",
       "      <td>...</td>\n",
       "      <td>...</td>\n",
       "      <td>...</td>\n",
       "      <td>...</td>\n",
       "      <td>...</td>\n",
       "    </tr>\n",
       "    <tr>\n",
       "      <th>21448</th>\n",
       "      <td>1</td>\n",
       "      <td>4529</td>\n",
       "      <td>43</td>\n",
       "      <td>1</td>\n",
       "      <td>1</td>\n",
       "      <td>F</td>\n",
       "      <td>компаньон</td>\n",
       "      <td>0</td>\n",
       "      <td>224791</td>\n",
       "      <td>операции с жильем</td>\n",
       "      <td>B</td>\n",
       "      <td>операции с недвижимостью</td>\n",
       "    </tr>\n",
       "    <tr>\n",
       "      <th>21449</th>\n",
       "      <td>0</td>\n",
       "      <td>11609</td>\n",
       "      <td>67</td>\n",
       "      <td>1</td>\n",
       "      <td>0</td>\n",
       "      <td>F</td>\n",
       "      <td>пенсионер</td>\n",
       "      <td>0</td>\n",
       "      <td>155999</td>\n",
       "      <td>сделка с автомобилем</td>\n",
       "      <td>C</td>\n",
       "      <td>операции с автомобилем</td>\n",
       "    </tr>\n",
       "    <tr>\n",
       "      <th>21450</th>\n",
       "      <td>1</td>\n",
       "      <td>2113</td>\n",
       "      <td>38</td>\n",
       "      <td>1</td>\n",
       "      <td>1</td>\n",
       "      <td>M</td>\n",
       "      <td>сотрудник</td>\n",
       "      <td>1</td>\n",
       "      <td>89672</td>\n",
       "      <td>недвижимость</td>\n",
       "      <td>C</td>\n",
       "      <td>операции с недвижимостью</td>\n",
       "    </tr>\n",
       "    <tr>\n",
       "      <th>21451</th>\n",
       "      <td>3</td>\n",
       "      <td>3112</td>\n",
       "      <td>38</td>\n",
       "      <td>1</td>\n",
       "      <td>0</td>\n",
       "      <td>M</td>\n",
       "      <td>сотрудник</td>\n",
       "      <td>1</td>\n",
       "      <td>244093</td>\n",
       "      <td>на покупку своего автомобиля</td>\n",
       "      <td>B</td>\n",
       "      <td>операции с автомобилем</td>\n",
       "    </tr>\n",
       "    <tr>\n",
       "      <th>21452</th>\n",
       "      <td>2</td>\n",
       "      <td>1984</td>\n",
       "      <td>40</td>\n",
       "      <td>1</td>\n",
       "      <td>0</td>\n",
       "      <td>F</td>\n",
       "      <td>сотрудник</td>\n",
       "      <td>0</td>\n",
       "      <td>82047</td>\n",
       "      <td>на покупку автомобиля</td>\n",
       "      <td>C</td>\n",
       "      <td>операции с автомобилем</td>\n",
       "    </tr>\n",
       "  </tbody>\n",
       "</table>\n",
       "<p>21453 rows × 12 columns</p>\n",
       "</div>"
      ],
      "text/plain": [
       "       children  days_employed  dob_years  education_id  family_status_id  \\\n",
       "0             1           8437         42             0                 0   \n",
       "1             1           4024         36             1                 0   \n",
       "2             0           5623         33             1                 0   \n",
       "3             3           4124         32             1                 0   \n",
       "4             0          11609         53             1                 1   \n",
       "...         ...            ...        ...           ...               ...   \n",
       "21448         1           4529         43             1                 1   \n",
       "21449         0          11609         67             1                 0   \n",
       "21450         1           2113         38             1                 1   \n",
       "21451         3           3112         38             1                 0   \n",
       "21452         2           1984         40             1                 0   \n",
       "\n",
       "      gender income_type  debt  total_income                       purpose  \\\n",
       "0          F   сотрудник     0        253875                 покупка жилья   \n",
       "1          F   сотрудник     0        112080       приобретение автомобиля   \n",
       "2          M   сотрудник     0        145885                 покупка жилья   \n",
       "3          M   сотрудник     0        267628    дополнительное образование   \n",
       "4          F   пенсионер     0        158616               сыграть свадьбу   \n",
       "...      ...         ...   ...           ...                           ...   \n",
       "21448      F   компаньон     0        224791             операции с жильем   \n",
       "21449      F   пенсионер     0        155999          сделка с автомобилем   \n",
       "21450      M   сотрудник     1         89672                  недвижимость   \n",
       "21451      M   сотрудник     1        244093  на покупку своего автомобиля   \n",
       "21452      F   сотрудник     0         82047         на покупку автомобиля   \n",
       "\n",
       "      total_income_category          purpose_category  \n",
       "0                         B  операции с недвижимостью  \n",
       "1                         C    операции с автомобилем  \n",
       "2                         C  операции с недвижимостью  \n",
       "3                         B     получение образования  \n",
       "4                         C        проведение свадьбы  \n",
       "...                     ...                       ...  \n",
       "21448                     B  операции с недвижимостью  \n",
       "21449                     C    операции с автомобилем  \n",
       "21450                     C  операции с недвижимостью  \n",
       "21451                     B    операции с автомобилем  \n",
       "21452                     C    операции с автомобилем  \n",
       "\n",
       "[21453 rows x 12 columns]"
      ]
     },
     "execution_count": 42,
     "metadata": {},
     "output_type": "execute_result"
    }
   ],
   "source": [
    "#создаю функцию, которая на основании purpose формирует purpose_category\n",
    "\n",
    "def purpose_category(category):  \n",
    "        if 'свадьб' in category:\n",
    "            return 'проведение свадьбы'\n",
    "    \n",
    "        if 'автомобил' in category:\n",
    "            return 'операции с автомобилем'\n",
    "   \n",
    "        if 'недвижимост' in category or 'жил' in category:\n",
    "            return 'операции с недвижимостью'\n",
    "        \n",
    "        if 'образован' in category:\n",
    "            return 'получение образования'\n",
    "        \n",
    "borrowers_log['purpose_category'] = borrowers_log['purpose'].apply(purpose_category)  #формирую столбец purpose_category\n",
    "borrowers_log"
   ]
  },
  {
   "cell_type": "markdown",
   "id": "f15d49e4",
   "metadata": {},
   "source": [
    "### Выводы по п.2. Предобработка данных\n",
    "<br>Без пропусков, без дубликатов, с нужным типом данных результат исследования должен стать точнее.\n",
    "<br>С разбивкой на основную таблицу и \"словари\" работать удобнее и быстрее.\n",
    "<br>Теперь можно перейти к проверке зависимостей."
   ]
  },
  {
   "cell_type": "markdown",
   "id": "d8dd8a2e",
   "metadata": {},
   "source": [
    " ## 3. Проверка зависимостей"
   ]
  },
  {
   "cell_type": "markdown",
   "id": "63bcb2ea",
   "metadata": {},
   "source": [
    "### 3.1. Есть ли зависимость между уровнем дохода и возвратом кредита в срок?"
   ]
  },
  {
   "cell_type": "markdown",
   "id": "204984e4",
   "metadata": {},
   "source": [
    "Теперь можно сделать сводную таблицу:"
   ]
  },
  {
   "cell_type": "code",
   "execution_count": 43,
   "id": "62758cec",
   "metadata": {
    "scrolled": true
   },
   "outputs": [
    {
     "data": {
      "text/html": [
       "<div>\n",
       "<style scoped>\n",
       "    .dataframe tbody tr th:only-of-type {\n",
       "        vertical-align: middle;\n",
       "    }\n",
       "\n",
       "    .dataframe tbody tr th {\n",
       "        vertical-align: top;\n",
       "    }\n",
       "\n",
       "    .dataframe thead tr th {\n",
       "        text-align: left;\n",
       "    }\n",
       "\n",
       "    .dataframe thead tr:last-of-type th {\n",
       "        text-align: right;\n",
       "    }\n",
       "</style>\n",
       "<table border=\"1\" class=\"dataframe\">\n",
       "  <thead>\n",
       "    <tr>\n",
       "      <th></th>\n",
       "      <th>count</th>\n",
       "      <th>sum</th>\n",
       "      <th>mean</th>\n",
       "    </tr>\n",
       "    <tr>\n",
       "      <th></th>\n",
       "      <th>debt</th>\n",
       "      <th>debt</th>\n",
       "      <th>debt</th>\n",
       "    </tr>\n",
       "    <tr>\n",
       "      <th>total_income_category</th>\n",
       "      <th></th>\n",
       "      <th></th>\n",
       "      <th></th>\n",
       "    </tr>\n",
       "  </thead>\n",
       "  <tbody>\n",
       "    <tr>\n",
       "      <th>A</th>\n",
       "      <td>25</td>\n",
       "      <td>2</td>\n",
       "      <td>0.080000</td>\n",
       "    </tr>\n",
       "    <tr>\n",
       "      <th>B</th>\n",
       "      <td>5041</td>\n",
       "      <td>356</td>\n",
       "      <td>0.070621</td>\n",
       "    </tr>\n",
       "    <tr>\n",
       "      <th>C</th>\n",
       "      <td>16015</td>\n",
       "      <td>1360</td>\n",
       "      <td>0.084920</td>\n",
       "    </tr>\n",
       "    <tr>\n",
       "      <th>D</th>\n",
       "      <td>350</td>\n",
       "      <td>21</td>\n",
       "      <td>0.060000</td>\n",
       "    </tr>\n",
       "    <tr>\n",
       "      <th>E</th>\n",
       "      <td>22</td>\n",
       "      <td>2</td>\n",
       "      <td>0.090909</td>\n",
       "    </tr>\n",
       "  </tbody>\n",
       "</table>\n",
       "</div>"
      ],
      "text/plain": [
       "                       count   sum      mean\n",
       "                        debt  debt      debt\n",
       "total_income_category                       \n",
       "A                         25     2  0.080000\n",
       "B                       5041   356  0.070621\n",
       "C                      16015  1360  0.084920\n",
       "D                        350    21  0.060000\n",
       "E                         22     2  0.090909"
      ]
     },
     "execution_count": 43,
     "metadata": {},
     "output_type": "execute_result"
    }
   ],
   "source": [
    "debt_total_income = borrowers_log.pivot_table(index='total_income_category',\n",
    "                                              values='debt',\n",
    "                                              aggfunc=['count', 'sum','mean']) \n",
    "debt_total_income"
   ]
  },
  {
   "cell_type": "markdown",
   "id": "4a88b08e",
   "metadata": {},
   "source": [
    "Зависимости между уровнем дохода и уходом в просрочку нет, так как в просрочка 6-9% вне зависимости от категории."
   ]
  },
  {
   "cell_type": "markdown",
   "id": "e8f43d08",
   "metadata": {},
   "source": [
    "### 3.2. Как разные цели кредита влияют на его возврат в срок?"
   ]
  },
  {
   "cell_type": "code",
   "execution_count": 44,
   "id": "e997e360",
   "metadata": {},
   "outputs": [
    {
     "data": {
      "text/html": [
       "<div>\n",
       "<style scoped>\n",
       "    .dataframe tbody tr th:only-of-type {\n",
       "        vertical-align: middle;\n",
       "    }\n",
       "\n",
       "    .dataframe tbody tr th {\n",
       "        vertical-align: top;\n",
       "    }\n",
       "\n",
       "    .dataframe thead tr th {\n",
       "        text-align: left;\n",
       "    }\n",
       "\n",
       "    .dataframe thead tr:last-of-type th {\n",
       "        text-align: right;\n",
       "    }\n",
       "</style>\n",
       "<table border=\"1\" class=\"dataframe\">\n",
       "  <thead>\n",
       "    <tr>\n",
       "      <th></th>\n",
       "      <th>count</th>\n",
       "      <th>sum</th>\n",
       "      <th>mean</th>\n",
       "    </tr>\n",
       "    <tr>\n",
       "      <th></th>\n",
       "      <th>debt</th>\n",
       "      <th>debt</th>\n",
       "      <th>debt</th>\n",
       "    </tr>\n",
       "    <tr>\n",
       "      <th>purpose_category</th>\n",
       "      <th></th>\n",
       "      <th></th>\n",
       "      <th></th>\n",
       "    </tr>\n",
       "  </thead>\n",
       "  <tbody>\n",
       "    <tr>\n",
       "      <th>операции с автомобилем</th>\n",
       "      <td>4306</td>\n",
       "      <td>403</td>\n",
       "      <td>0.093590</td>\n",
       "    </tr>\n",
       "    <tr>\n",
       "      <th>операции с недвижимостью</th>\n",
       "      <td>10810</td>\n",
       "      <td>782</td>\n",
       "      <td>0.072340</td>\n",
       "    </tr>\n",
       "    <tr>\n",
       "      <th>получение образования</th>\n",
       "      <td>4013</td>\n",
       "      <td>370</td>\n",
       "      <td>0.092200</td>\n",
       "    </tr>\n",
       "    <tr>\n",
       "      <th>проведение свадьбы</th>\n",
       "      <td>2324</td>\n",
       "      <td>186</td>\n",
       "      <td>0.080034</td>\n",
       "    </tr>\n",
       "  </tbody>\n",
       "</table>\n",
       "</div>"
      ],
      "text/plain": [
       "                          count  sum      mean\n",
       "                           debt debt      debt\n",
       "purpose_category                              \n",
       "операции с автомобилем     4306  403  0.093590\n",
       "операции с недвижимостью  10810  782  0.072340\n",
       "получение образования      4013  370  0.092200\n",
       "проведение свадьбы         2324  186  0.080034"
      ]
     },
     "execution_count": 44,
     "metadata": {},
     "output_type": "execute_result"
    }
   ],
   "source": [
    "debt_purpose_category = borrowers_log.pivot_table(index='purpose_category',\n",
    "                                              values='debt',\n",
    "                                              aggfunc=['count', 'sum','mean']) \n",
    "debt_purpose_category"
   ]
  },
  {
   "cell_type": "markdown",
   "id": "cc259d49",
   "metadata": {},
   "source": [
    "Наименьшая просрочка в категории \"операции с недвижимостью\", наибольшая - \"получение образования\" и \"операции с автомобилем\""
   ]
  },
  {
   "cell_type": "markdown",
   "id": "8c46146d",
   "metadata": {},
   "source": [
    "### 3.3. Есть ли зависимость между количеством детей и возвратом кредита в срок?"
   ]
  },
  {
   "cell_type": "markdown",
   "id": "bee29402",
   "metadata": {},
   "source": [
    "Так как дети уже сами себя категоризировали по кол-ву, то можно сразу составлять сводную таблицу:"
   ]
  },
  {
   "cell_type": "raw",
   "id": "639fe7cc",
   "metadata": {
    "scrolled": true
   },
   "source": [
    "debt_children = pd.DataFrame() \n",
    "debt_children['sum'] = data_log.groupby('children')['debt'].sum()  \n",
    "debt_children['count'] = data_log.groupby('children')['debt'].count()  \n",
    "debt_children['conversion'] = debt_children['sum'] / debt_children['count'] \n",
    "debt_children.sort_values('conversion', ascending = False)"
   ]
  },
  {
   "cell_type": "markdown",
   "id": "002081cb",
   "metadata": {},
   "source": [
    "Делаю то же с использованием метода `.pivot_table`:"
   ]
  },
  {
   "cell_type": "code",
   "execution_count": 45,
   "id": "219ee60f",
   "metadata": {},
   "outputs": [
    {
     "data": {
      "text/html": [
       "<div>\n",
       "<style scoped>\n",
       "    .dataframe tbody tr th:only-of-type {\n",
       "        vertical-align: middle;\n",
       "    }\n",
       "\n",
       "    .dataframe tbody tr th {\n",
       "        vertical-align: top;\n",
       "    }\n",
       "\n",
       "    .dataframe thead tr th {\n",
       "        text-align: left;\n",
       "    }\n",
       "\n",
       "    .dataframe thead tr:last-of-type th {\n",
       "        text-align: right;\n",
       "    }\n",
       "</style>\n",
       "<table border=\"1\" class=\"dataframe\">\n",
       "  <thead>\n",
       "    <tr>\n",
       "      <th></th>\n",
       "      <th>count</th>\n",
       "      <th>sum</th>\n",
       "      <th>mean</th>\n",
       "    </tr>\n",
       "    <tr>\n",
       "      <th></th>\n",
       "      <th>debt</th>\n",
       "      <th>debt</th>\n",
       "      <th>debt</th>\n",
       "    </tr>\n",
       "    <tr>\n",
       "      <th>children</th>\n",
       "      <th></th>\n",
       "      <th></th>\n",
       "      <th></th>\n",
       "    </tr>\n",
       "  </thead>\n",
       "  <tbody>\n",
       "    <tr>\n",
       "      <th>0</th>\n",
       "      <td>14166</td>\n",
       "      <td>1071</td>\n",
       "      <td>0.075604</td>\n",
       "    </tr>\n",
       "    <tr>\n",
       "      <th>1</th>\n",
       "      <td>4855</td>\n",
       "      <td>445</td>\n",
       "      <td>0.091658</td>\n",
       "    </tr>\n",
       "    <tr>\n",
       "      <th>2</th>\n",
       "      <td>2052</td>\n",
       "      <td>194</td>\n",
       "      <td>0.094542</td>\n",
       "    </tr>\n",
       "    <tr>\n",
       "      <th>3</th>\n",
       "      <td>330</td>\n",
       "      <td>27</td>\n",
       "      <td>0.081818</td>\n",
       "    </tr>\n",
       "    <tr>\n",
       "      <th>4</th>\n",
       "      <td>41</td>\n",
       "      <td>4</td>\n",
       "      <td>0.097561</td>\n",
       "    </tr>\n",
       "    <tr>\n",
       "      <th>5</th>\n",
       "      <td>9</td>\n",
       "      <td>0</td>\n",
       "      <td>0.000000</td>\n",
       "    </tr>\n",
       "  </tbody>\n",
       "</table>\n",
       "</div>"
      ],
      "text/plain": [
       "          count   sum      mean\n",
       "           debt  debt      debt\n",
       "children                       \n",
       "0         14166  1071  0.075604\n",
       "1          4855   445  0.091658\n",
       "2          2052   194  0.094542\n",
       "3           330    27  0.081818\n",
       "4            41     4  0.097561\n",
       "5             9     0  0.000000"
      ]
     },
     "execution_count": 45,
     "metadata": {},
     "output_type": "execute_result"
    }
   ],
   "source": [
    "debt_children = borrowers_log.pivot_table(index='children',\n",
    "                                              values='debt',\n",
    "                                              aggfunc=['count', 'sum','mean']) \n",
    "debt_children"
   ]
  },
  {
   "cell_type": "markdown",
   "id": "c5803f3a",
   "metadata": {},
   "source": [
    "Наименьшая просрочка у заемщиков c 5 детьми, однако их всего 9 шт, то есть результат может быть непоказательный.<br> Явной зависимости между кол-вом детей и возвратом кредита в срок не вижу, так как у заемщиков с 1-3 детьми примерно одинаковый уровень задолженности. Только у замщиков с 3 детьми немного меньше просрочка "
   ]
  },
  {
   "cell_type": "markdown",
   "id": "6d685851",
   "metadata": {},
   "source": [
    "### 3.4. Есть ли зависимость между семейным положением и возвратом кредита в срок?"
   ]
  },
  {
   "cell_type": "code",
   "execution_count": 46,
   "id": "5e6139b5",
   "metadata": {
    "scrolled": true
   },
   "outputs": [
    {
     "data": {
      "text/html": [
       "<div>\n",
       "<style scoped>\n",
       "    .dataframe tbody tr th:only-of-type {\n",
       "        vertical-align: middle;\n",
       "    }\n",
       "\n",
       "    .dataframe tbody tr th {\n",
       "        vertical-align: top;\n",
       "    }\n",
       "\n",
       "    .dataframe thead tr th {\n",
       "        text-align: left;\n",
       "    }\n",
       "\n",
       "    .dataframe thead tr:last-of-type th {\n",
       "        text-align: right;\n",
       "    }\n",
       "</style>\n",
       "<table border=\"1\" class=\"dataframe\">\n",
       "  <thead>\n",
       "    <tr>\n",
       "      <th></th>\n",
       "      <th>count</th>\n",
       "      <th>sum</th>\n",
       "      <th>mean</th>\n",
       "    </tr>\n",
       "    <tr>\n",
       "      <th></th>\n",
       "      <th>debt</th>\n",
       "      <th>debt</th>\n",
       "      <th>debt</th>\n",
       "    </tr>\n",
       "    <tr>\n",
       "      <th>family_status_id</th>\n",
       "      <th></th>\n",
       "      <th></th>\n",
       "      <th></th>\n",
       "    </tr>\n",
       "  </thead>\n",
       "  <tbody>\n",
       "    <tr>\n",
       "      <th>0</th>\n",
       "      <td>12339</td>\n",
       "      <td>931</td>\n",
       "      <td>0.075452</td>\n",
       "    </tr>\n",
       "    <tr>\n",
       "      <th>1</th>\n",
       "      <td>4150</td>\n",
       "      <td>388</td>\n",
       "      <td>0.093494</td>\n",
       "    </tr>\n",
       "    <tr>\n",
       "      <th>2</th>\n",
       "      <td>959</td>\n",
       "      <td>63</td>\n",
       "      <td>0.065693</td>\n",
       "    </tr>\n",
       "    <tr>\n",
       "      <th>3</th>\n",
       "      <td>1195</td>\n",
       "      <td>85</td>\n",
       "      <td>0.071130</td>\n",
       "    </tr>\n",
       "    <tr>\n",
       "      <th>4</th>\n",
       "      <td>2810</td>\n",
       "      <td>274</td>\n",
       "      <td>0.097509</td>\n",
       "    </tr>\n",
       "  </tbody>\n",
       "</table>\n",
       "</div>"
      ],
      "text/plain": [
       "                  count  sum      mean\n",
       "                   debt debt      debt\n",
       "family_status_id                      \n",
       "0                 12339  931  0.075452\n",
       "1                  4150  388  0.093494\n",
       "2                   959   63  0.065693\n",
       "3                  1195   85  0.071130\n",
       "4                  2810  274  0.097509"
      ]
     },
     "execution_count": 46,
     "metadata": {},
     "output_type": "execute_result"
    }
   ],
   "source": [
    "debt_family_status_id = borrowers_log.pivot_table(index='family_status_id',\n",
    "                                              values='debt',\n",
    "                                              aggfunc=['count', 'sum','mean']) \n",
    "debt_family_status_id"
   ]
  },
  {
   "cell_type": "code",
   "execution_count": 47,
   "id": "09c01096",
   "metadata": {},
   "outputs": [
    {
     "data": {
      "text/plain": [
       "family_status          family_status_id\n",
       "женат / замужем        0                   12339\n",
       "гражданский брак       1                    4150\n",
       "Не женат / не замужем  4                    2810\n",
       "в разводе              3                    1195\n",
       "вдовец / вдова         2                     959\n",
       "dtype: int64"
      ]
     },
     "execution_count": 47,
     "metadata": {},
     "output_type": "execute_result"
    }
   ],
   "source": [
    "borrowers[['family_status','family_status_id']].value_counts()"
   ]
  },
  {
   "cell_type": "markdown",
   "id": "59e1355a",
   "metadata": {},
   "source": [
    "Максимальная просрочка у неженатых / незамужних заемщиков и тех, кто в гражданском браке. Минимальная - у вдовцов и разведенных. То есть при скоринге стоит обратить внимание на семейный статус и повышать ставку тз-за риска просрочки неженатым / незамужним заемщиков и тем, кто в гражданском браке"
   ]
  },
  {
   "cell_type": "markdown",
   "id": "a8708075",
   "metadata": {},
   "source": [
    "## Итоги исследования:\n",
    "\n",
    "Общий уровень просроченной задолженности - 8,8%. При этом наименее ответственно погашают кредиты и, соответсвенно, уходят в просрочку:\n",
    "1) заемщики с ежемесячным доходом менее 30 тыс. рублей и с доходом от 50 до 200 тыс. рублей,<br>\n",
    "2) взявшие кредит на получение образования и операции с автомобилем,<br>\n",
    "3) заемщики с 4 детьми,<br>\n",
    "4) неженатые / незамужние заемщики.<br>\n",
    "\n",
    "При этом явной зависимости между возвратом кредита в срок и доходом / семейным статусом / детьми / целью кредита не выявила.\n",
    "\n",
    "Однако в целом 8,8% - это высокий уровень просроченной задолженности, следовательно, повод проанализировать: <br>\n",
    "1) кредитный портфель банка в целом и в частности по бОльшей выборке заемщиков-физлиц, <br>\n",
    "2) на основании результатов этого исследования, возможно, изменить кредитную политику банка в отношении физлиц (либо требования жестче, либо фонды больше)."
   ]
  }
 ],
 "metadata": {
  "ExecuteTimeLog": [
   {
    "duration": 503,
    "start_time": "2022-05-01T09:37:21.767Z"
   },
   {
    "duration": 0,
    "start_time": "2022-05-01T09:37:22.273Z"
   },
   {
    "duration": 0,
    "start_time": "2022-05-01T09:37:22.274Z"
   },
   {
    "duration": 0,
    "start_time": "2022-05-01T09:37:22.275Z"
   },
   {
    "duration": 0,
    "start_time": "2022-05-01T09:37:22.276Z"
   },
   {
    "duration": 0,
    "start_time": "2022-05-01T09:37:22.277Z"
   },
   {
    "duration": 0,
    "start_time": "2022-05-01T09:37:22.278Z"
   },
   {
    "duration": 0,
    "start_time": "2022-05-01T09:37:22.279Z"
   },
   {
    "duration": 0,
    "start_time": "2022-05-01T09:37:22.279Z"
   },
   {
    "duration": 0,
    "start_time": "2022-05-01T09:37:22.281Z"
   },
   {
    "duration": 0,
    "start_time": "2022-05-01T09:37:22.282Z"
   },
   {
    "duration": 0,
    "start_time": "2022-05-01T09:37:22.283Z"
   },
   {
    "duration": 0,
    "start_time": "2022-05-01T09:37:22.284Z"
   },
   {
    "duration": 0,
    "start_time": "2022-05-01T09:37:22.285Z"
   },
   {
    "duration": 0,
    "start_time": "2022-05-01T09:37:22.285Z"
   },
   {
    "duration": 0,
    "start_time": "2022-05-01T09:37:22.287Z"
   },
   {
    "duration": 0,
    "start_time": "2022-05-01T09:37:22.287Z"
   },
   {
    "duration": 0,
    "start_time": "2022-05-01T09:37:22.288Z"
   },
   {
    "duration": 0,
    "start_time": "2022-05-01T09:37:22.289Z"
   },
   {
    "duration": 0,
    "start_time": "2022-05-01T09:37:22.290Z"
   },
   {
    "duration": 0,
    "start_time": "2022-05-01T09:37:22.291Z"
   },
   {
    "duration": 0,
    "start_time": "2022-05-01T09:37:22.292Z"
   },
   {
    "duration": 0,
    "start_time": "2022-05-01T09:37:22.293Z"
   },
   {
    "duration": 0,
    "start_time": "2022-05-01T09:37:22.294Z"
   },
   {
    "duration": 0,
    "start_time": "2022-05-01T09:37:22.295Z"
   },
   {
    "duration": 0,
    "start_time": "2022-05-01T09:37:22.296Z"
   },
   {
    "duration": 0,
    "start_time": "2022-05-01T09:37:22.338Z"
   },
   {
    "duration": 0,
    "start_time": "2022-05-01T09:37:22.340Z"
   },
   {
    "duration": 0,
    "start_time": "2022-05-01T09:37:22.342Z"
   },
   {
    "duration": 0,
    "start_time": "2022-05-01T09:37:22.343Z"
   },
   {
    "duration": 0,
    "start_time": "2022-05-01T09:37:22.345Z"
   },
   {
    "duration": 0,
    "start_time": "2022-05-01T09:37:22.346Z"
   },
   {
    "duration": 0,
    "start_time": "2022-05-01T09:37:22.348Z"
   },
   {
    "duration": 0,
    "start_time": "2022-05-01T09:37:22.349Z"
   },
   {
    "duration": 0,
    "start_time": "2022-05-01T09:37:22.350Z"
   },
   {
    "duration": 0,
    "start_time": "2022-05-01T09:37:22.352Z"
   },
   {
    "duration": 1,
    "start_time": "2022-05-01T09:37:22.353Z"
   },
   {
    "duration": 509,
    "start_time": "2022-05-01T09:37:43.774Z"
   },
   {
    "duration": 13,
    "start_time": "2022-05-01T09:37:44.285Z"
   },
   {
    "duration": 29,
    "start_time": "2022-05-01T09:37:44.300Z"
   },
   {
    "duration": 22,
    "start_time": "2022-05-01T09:37:44.331Z"
   },
   {
    "duration": 18,
    "start_time": "2022-05-01T09:37:44.358Z"
   },
   {
    "duration": 17,
    "start_time": "2022-05-01T09:37:44.377Z"
   },
   {
    "duration": 11,
    "start_time": "2022-05-01T09:37:44.396Z"
   },
   {
    "duration": 12,
    "start_time": "2022-05-01T09:37:44.408Z"
   },
   {
    "duration": 25,
    "start_time": "2022-05-01T09:37:44.422Z"
   },
   {
    "duration": 27,
    "start_time": "2022-05-01T09:37:44.449Z"
   },
   {
    "duration": 22,
    "start_time": "2022-05-01T09:37:44.477Z"
   },
   {
    "duration": 17,
    "start_time": "2022-05-01T09:37:44.501Z"
   },
   {
    "duration": 8,
    "start_time": "2022-05-01T09:37:44.519Z"
   },
   {
    "duration": 38,
    "start_time": "2022-05-01T09:37:44.530Z"
   },
   {
    "duration": 6,
    "start_time": "2022-05-01T09:37:44.569Z"
   },
   {
    "duration": 15,
    "start_time": "2022-05-01T09:37:44.576Z"
   },
   {
    "duration": 17,
    "start_time": "2022-05-01T09:37:44.592Z"
   },
   {
    "duration": 12,
    "start_time": "2022-05-01T09:37:44.610Z"
   },
   {
    "duration": 22,
    "start_time": "2022-05-01T09:37:44.623Z"
   },
   {
    "duration": 24,
    "start_time": "2022-05-01T09:37:44.647Z"
   },
   {
    "duration": 23,
    "start_time": "2022-05-01T09:37:44.672Z"
   },
   {
    "duration": 19,
    "start_time": "2022-05-01T09:37:44.697Z"
   },
   {
    "duration": 6,
    "start_time": "2022-05-01T09:37:44.719Z"
   },
   {
    "duration": 35,
    "start_time": "2022-05-01T09:37:44.726Z"
   },
   {
    "duration": 32,
    "start_time": "2022-05-01T09:37:44.763Z"
   },
   {
    "duration": 16,
    "start_time": "2022-05-01T09:37:44.796Z"
   },
   {
    "duration": 48,
    "start_time": "2022-05-01T09:37:44.813Z"
   },
   {
    "duration": 32,
    "start_time": "2022-05-01T09:37:44.862Z"
   },
   {
    "duration": 11,
    "start_time": "2022-05-01T09:37:44.896Z"
   },
   {
    "duration": 38,
    "start_time": "2022-05-01T09:37:44.909Z"
   },
   {
    "duration": 20,
    "start_time": "2022-05-01T09:37:44.950Z"
   },
   {
    "duration": 49,
    "start_time": "2022-05-01T09:37:44.972Z"
   },
   {
    "duration": 50,
    "start_time": "2022-05-01T09:37:45.023Z"
   },
   {
    "duration": 26,
    "start_time": "2022-05-01T09:37:45.075Z"
   },
   {
    "duration": 20,
    "start_time": "2022-05-01T09:37:45.102Z"
   },
   {
    "duration": 14,
    "start_time": "2022-05-01T09:37:45.124Z"
   },
   {
    "duration": 32,
    "start_time": "2022-05-01T09:37:45.140Z"
   },
   {
    "duration": 173,
    "start_time": "2022-05-01T09:43:24.165Z"
   },
   {
    "duration": 509,
    "start_time": "2022-05-03T21:13:51.832Z"
   },
   {
    "duration": 108,
    "start_time": "2022-05-03T21:13:52.343Z"
   },
   {
    "duration": 0,
    "start_time": "2022-05-03T21:13:52.454Z"
   },
   {
    "duration": 0,
    "start_time": "2022-05-03T21:13:52.455Z"
   },
   {
    "duration": 0,
    "start_time": "2022-05-03T21:13:52.456Z"
   },
   {
    "duration": 0,
    "start_time": "2022-05-03T21:13:52.458Z"
   },
   {
    "duration": 0,
    "start_time": "2022-05-03T21:13:52.459Z"
   },
   {
    "duration": 0,
    "start_time": "2022-05-03T21:13:52.460Z"
   },
   {
    "duration": 0,
    "start_time": "2022-05-03T21:13:52.461Z"
   },
   {
    "duration": 0,
    "start_time": "2022-05-03T21:13:52.462Z"
   },
   {
    "duration": 0,
    "start_time": "2022-05-03T21:13:52.463Z"
   },
   {
    "duration": 0,
    "start_time": "2022-05-03T21:13:52.464Z"
   },
   {
    "duration": 0,
    "start_time": "2022-05-03T21:13:52.465Z"
   },
   {
    "duration": 0,
    "start_time": "2022-05-03T21:13:52.466Z"
   },
   {
    "duration": 0,
    "start_time": "2022-05-03T21:13:52.467Z"
   },
   {
    "duration": 0,
    "start_time": "2022-05-03T21:13:52.468Z"
   },
   {
    "duration": 0,
    "start_time": "2022-05-03T21:13:52.469Z"
   },
   {
    "duration": 1,
    "start_time": "2022-05-03T21:13:52.470Z"
   },
   {
    "duration": 0,
    "start_time": "2022-05-03T21:13:52.472Z"
   },
   {
    "duration": 0,
    "start_time": "2022-05-03T21:13:52.473Z"
   },
   {
    "duration": 0,
    "start_time": "2022-05-03T21:13:52.474Z"
   },
   {
    "duration": 0,
    "start_time": "2022-05-03T21:13:52.475Z"
   },
   {
    "duration": 0,
    "start_time": "2022-05-03T21:13:52.476Z"
   },
   {
    "duration": 0,
    "start_time": "2022-05-03T21:13:52.477Z"
   },
   {
    "duration": 0,
    "start_time": "2022-05-03T21:13:52.478Z"
   },
   {
    "duration": 0,
    "start_time": "2022-05-03T21:13:52.479Z"
   },
   {
    "duration": 0,
    "start_time": "2022-05-03T21:13:52.481Z"
   },
   {
    "duration": 1,
    "start_time": "2022-05-03T21:13:52.481Z"
   },
   {
    "duration": 0,
    "start_time": "2022-05-03T21:13:52.523Z"
   },
   {
    "duration": 0,
    "start_time": "2022-05-03T21:13:52.524Z"
   },
   {
    "duration": 0,
    "start_time": "2022-05-03T21:13:52.525Z"
   },
   {
    "duration": 0,
    "start_time": "2022-05-03T21:13:52.526Z"
   },
   {
    "duration": 0,
    "start_time": "2022-05-03T21:13:52.527Z"
   },
   {
    "duration": 0,
    "start_time": "2022-05-03T21:13:52.528Z"
   },
   {
    "duration": 0,
    "start_time": "2022-05-03T21:13:52.529Z"
   },
   {
    "duration": 0,
    "start_time": "2022-05-03T21:13:52.530Z"
   },
   {
    "duration": 0,
    "start_time": "2022-05-03T21:13:52.531Z"
   },
   {
    "duration": 0,
    "start_time": "2022-05-03T21:13:52.532Z"
   },
   {
    "duration": 0,
    "start_time": "2022-05-03T21:13:52.534Z"
   },
   {
    "duration": 0,
    "start_time": "2022-05-03T21:13:52.535Z"
   },
   {
    "duration": 0,
    "start_time": "2022-05-03T21:13:52.536Z"
   },
   {
    "duration": 0,
    "start_time": "2022-05-03T21:13:52.536Z"
   },
   {
    "duration": 0,
    "start_time": "2022-05-03T21:13:52.538Z"
   },
   {
    "duration": 0,
    "start_time": "2022-05-03T21:13:52.539Z"
   },
   {
    "duration": 0,
    "start_time": "2022-05-03T21:13:52.540Z"
   },
   {
    "duration": 0,
    "start_time": "2022-05-03T21:13:52.541Z"
   },
   {
    "duration": 0,
    "start_time": "2022-05-03T21:13:52.542Z"
   },
   {
    "duration": 0,
    "start_time": "2022-05-03T21:13:52.543Z"
   },
   {
    "duration": 666,
    "start_time": "2022-05-04T14:56:33.966Z"
   },
   {
    "duration": 156,
    "start_time": "2022-05-04T14:56:34.635Z"
   },
   {
    "duration": 20,
    "start_time": "2022-05-04T14:56:34.793Z"
   },
   {
    "duration": 44,
    "start_time": "2022-05-04T14:56:34.817Z"
   },
   {
    "duration": 18,
    "start_time": "2022-05-04T14:56:34.864Z"
   },
   {
    "duration": 26,
    "start_time": "2022-05-04T14:56:34.885Z"
   },
   {
    "duration": 41,
    "start_time": "2022-05-04T14:56:34.914Z"
   },
   {
    "duration": 7,
    "start_time": "2022-05-04T14:56:34.958Z"
   },
   {
    "duration": 12,
    "start_time": "2022-05-04T14:56:34.968Z"
   },
   {
    "duration": 97,
    "start_time": "2022-05-04T14:56:34.986Z"
   },
   {
    "duration": 95,
    "start_time": "2022-05-04T14:56:35.086Z"
   },
   {
    "duration": 7,
    "start_time": "2022-05-04T14:56:35.184Z"
   },
   {
    "duration": 10,
    "start_time": "2022-05-04T14:56:35.194Z"
   },
   {
    "duration": 47,
    "start_time": "2022-05-04T14:56:35.207Z"
   },
   {
    "duration": 19,
    "start_time": "2022-05-04T14:56:35.256Z"
   },
   {
    "duration": 39,
    "start_time": "2022-05-04T14:56:35.278Z"
   },
   {
    "duration": 52,
    "start_time": "2022-05-04T14:56:35.351Z"
   },
   {
    "duration": 44,
    "start_time": "2022-05-04T14:56:35.407Z"
   },
   {
    "duration": 13,
    "start_time": "2022-05-04T14:56:35.454Z"
   },
   {
    "duration": 23,
    "start_time": "2022-05-04T14:56:35.469Z"
   },
   {
    "duration": 10,
    "start_time": "2022-05-04T14:56:35.495Z"
   },
   {
    "duration": 64,
    "start_time": "2022-05-04T14:56:35.507Z"
   },
   {
    "duration": 9,
    "start_time": "2022-05-04T14:56:35.573Z"
   },
   {
    "duration": 17,
    "start_time": "2022-05-04T14:56:35.584Z"
   },
   {
    "duration": 49,
    "start_time": "2022-05-04T14:56:35.604Z"
   },
   {
    "duration": 12,
    "start_time": "2022-05-04T14:56:35.656Z"
   },
   {
    "duration": 20,
    "start_time": "2022-05-04T14:56:35.670Z"
   },
   {
    "duration": 13,
    "start_time": "2022-05-04T14:56:35.698Z"
   },
   {
    "duration": 12,
    "start_time": "2022-05-04T14:56:35.753Z"
   },
   {
    "duration": 17,
    "start_time": "2022-05-04T14:56:35.768Z"
   },
   {
    "duration": 17,
    "start_time": "2022-05-04T14:56:35.788Z"
   },
   {
    "duration": 10,
    "start_time": "2022-05-04T14:56:35.809Z"
   },
   {
    "duration": 37,
    "start_time": "2022-05-04T14:56:35.852Z"
   },
   {
    "duration": 30,
    "start_time": "2022-05-04T14:56:35.891Z"
   },
   {
    "duration": 80,
    "start_time": "2022-05-04T14:56:35.924Z"
   },
   {
    "duration": 47,
    "start_time": "2022-05-04T14:56:36.007Z"
   },
   {
    "duration": 16,
    "start_time": "2022-05-04T14:56:36.058Z"
   },
   {
    "duration": 30,
    "start_time": "2022-05-04T14:56:36.077Z"
   },
   {
    "duration": 91,
    "start_time": "2022-05-04T14:56:36.110Z"
   },
   {
    "duration": 79,
    "start_time": "2022-05-04T14:56:36.204Z"
   },
   {
    "duration": 30,
    "start_time": "2022-05-04T14:56:36.286Z"
   },
   {
    "duration": 72,
    "start_time": "2022-05-04T14:56:36.318Z"
   },
   {
    "duration": 196,
    "start_time": "2022-05-04T14:56:36.393Z"
   },
   {
    "duration": 0,
    "start_time": "2022-05-04T14:56:36.593Z"
   },
   {
    "duration": 0,
    "start_time": "2022-05-04T14:56:36.595Z"
   },
   {
    "duration": 0,
    "start_time": "2022-05-04T14:56:36.597Z"
   },
   {
    "duration": 0,
    "start_time": "2022-05-04T14:56:36.599Z"
   },
   {
    "duration": 0,
    "start_time": "2022-05-04T14:56:36.602Z"
   },
   {
    "duration": 38,
    "start_time": "2022-05-04T14:56:47.305Z"
   },
   {
    "duration": 12,
    "start_time": "2022-05-04T14:56:49.799Z"
   },
   {
    "duration": 42,
    "start_time": "2022-05-04T14:56:51.021Z"
   },
   {
    "duration": 17,
    "start_time": "2022-05-04T14:56:52.568Z"
   },
   {
    "duration": 39,
    "start_time": "2022-05-04T14:56:53.310Z"
   },
   {
    "duration": 488,
    "start_time": "2022-05-04T14:57:14.896Z"
   },
   {
    "duration": 148,
    "start_time": "2022-05-04T14:57:15.387Z"
   },
   {
    "duration": 28,
    "start_time": "2022-05-04T14:57:15.551Z"
   },
   {
    "duration": 34,
    "start_time": "2022-05-04T14:57:15.582Z"
   },
   {
    "duration": 42,
    "start_time": "2022-05-04T14:57:15.618Z"
   },
   {
    "duration": 28,
    "start_time": "2022-05-04T14:57:15.663Z"
   },
   {
    "duration": 8,
    "start_time": "2022-05-04T14:57:15.693Z"
   },
   {
    "duration": 49,
    "start_time": "2022-05-04T14:57:15.704Z"
   },
   {
    "duration": 14,
    "start_time": "2022-05-04T14:57:15.758Z"
   },
   {
    "duration": 36,
    "start_time": "2022-05-04T14:57:15.776Z"
   },
   {
    "duration": 107,
    "start_time": "2022-05-04T14:57:15.815Z"
   },
   {
    "duration": 28,
    "start_time": "2022-05-04T14:57:15.925Z"
   },
   {
    "duration": 6,
    "start_time": "2022-05-04T14:57:15.956Z"
   },
   {
    "duration": 16,
    "start_time": "2022-05-04T14:57:15.964Z"
   },
   {
    "duration": 17,
    "start_time": "2022-05-04T14:57:15.982Z"
   },
   {
    "duration": 86,
    "start_time": "2022-05-04T14:57:16.002Z"
   },
   {
    "duration": 101,
    "start_time": "2022-05-04T14:57:16.091Z"
   },
   {
    "duration": 14,
    "start_time": "2022-05-04T14:57:16.195Z"
   },
   {
    "duration": 12,
    "start_time": "2022-05-04T14:57:16.212Z"
   },
   {
    "duration": 21,
    "start_time": "2022-05-04T14:57:16.251Z"
   },
   {
    "duration": 7,
    "start_time": "2022-05-04T14:57:16.275Z"
   },
   {
    "duration": 24,
    "start_time": "2022-05-04T14:57:16.285Z"
   },
   {
    "duration": 46,
    "start_time": "2022-05-04T14:57:16.311Z"
   },
   {
    "duration": 17,
    "start_time": "2022-05-04T14:57:16.359Z"
   },
   {
    "duration": 16,
    "start_time": "2022-05-04T14:57:16.379Z"
   },
   {
    "duration": 12,
    "start_time": "2022-05-04T14:57:16.397Z"
   },
   {
    "duration": 52,
    "start_time": "2022-05-04T14:57:16.415Z"
   },
   {
    "duration": 11,
    "start_time": "2022-05-04T14:57:16.469Z"
   },
   {
    "duration": 17,
    "start_time": "2022-05-04T14:57:16.483Z"
   },
   {
    "duration": 17,
    "start_time": "2022-05-04T14:57:16.503Z"
   },
   {
    "duration": 40,
    "start_time": "2022-05-04T14:57:16.522Z"
   },
   {
    "duration": 10,
    "start_time": "2022-05-04T14:57:16.564Z"
   },
   {
    "duration": 25,
    "start_time": "2022-05-04T14:57:16.576Z"
   },
   {
    "duration": 79,
    "start_time": "2022-05-04T14:57:16.603Z"
   },
   {
    "duration": 84,
    "start_time": "2022-05-04T14:57:16.686Z"
   },
   {
    "duration": 15,
    "start_time": "2022-05-04T14:57:16.772Z"
   },
   {
    "duration": 15,
    "start_time": "2022-05-04T14:57:16.789Z"
   },
   {
    "duration": 54,
    "start_time": "2022-05-04T14:57:16.806Z"
   },
   {
    "duration": 61,
    "start_time": "2022-05-04T14:57:16.863Z"
   },
   {
    "duration": 63,
    "start_time": "2022-05-04T14:57:16.926Z"
   },
   {
    "duration": 32,
    "start_time": "2022-05-04T14:57:16.992Z"
   },
   {
    "duration": 48,
    "start_time": "2022-05-04T14:57:17.051Z"
   },
   {
    "duration": 67,
    "start_time": "2022-05-04T14:57:17.101Z"
   },
   {
    "duration": 45,
    "start_time": "2022-05-04T14:57:17.171Z"
   },
   {
    "duration": 65,
    "start_time": "2022-05-04T14:57:17.219Z"
   },
   {
    "duration": 533,
    "start_time": "2022-05-04T15:21:10.213Z"
   },
   {
    "duration": 106,
    "start_time": "2022-05-04T15:21:10.749Z"
   },
   {
    "duration": 19,
    "start_time": "2022-05-04T15:21:10.857Z"
   },
   {
    "duration": 24,
    "start_time": "2022-05-04T15:21:10.879Z"
   },
   {
    "duration": 13,
    "start_time": "2022-05-04T15:21:10.905Z"
   },
   {
    "duration": 20,
    "start_time": "2022-05-04T15:21:10.953Z"
   },
   {
    "duration": 6,
    "start_time": "2022-05-04T15:21:10.976Z"
   },
   {
    "duration": 12,
    "start_time": "2022-05-04T15:21:10.984Z"
   },
   {
    "duration": 13,
    "start_time": "2022-05-04T15:21:10.998Z"
   },
   {
    "duration": 34,
    "start_time": "2022-05-04T15:21:11.054Z"
   },
   {
    "duration": 74,
    "start_time": "2022-05-04T15:21:11.090Z"
   },
   {
    "duration": 7,
    "start_time": "2022-05-04T15:21:11.167Z"
   },
   {
    "duration": 13,
    "start_time": "2022-05-04T15:21:11.176Z"
   },
   {
    "duration": 17,
    "start_time": "2022-05-04T15:21:11.191Z"
   },
   {
    "duration": 13,
    "start_time": "2022-05-04T15:21:11.210Z"
   },
   {
    "duration": 34,
    "start_time": "2022-05-04T15:21:11.251Z"
   },
   {
    "duration": 82,
    "start_time": "2022-05-04T15:21:11.287Z"
   },
   {
    "duration": 11,
    "start_time": "2022-05-04T15:21:11.371Z"
   },
   {
    "duration": 12,
    "start_time": "2022-05-04T15:21:11.385Z"
   },
   {
    "duration": 15,
    "start_time": "2022-05-04T15:21:11.399Z"
   },
   {
    "duration": 38,
    "start_time": "2022-05-04T15:21:11.416Z"
   },
   {
    "duration": 23,
    "start_time": "2022-05-04T15:21:11.456Z"
   },
   {
    "duration": 7,
    "start_time": "2022-05-04T15:21:11.481Z"
   },
   {
    "duration": 11,
    "start_time": "2022-05-04T15:21:11.490Z"
   },
   {
    "duration": 49,
    "start_time": "2022-05-04T15:21:11.503Z"
   },
   {
    "duration": 10,
    "start_time": "2022-05-04T15:21:11.554Z"
   },
   {
    "duration": 19,
    "start_time": "2022-05-04T15:21:11.566Z"
   },
   {
    "duration": 10,
    "start_time": "2022-05-04T15:21:11.590Z"
   },
   {
    "duration": 50,
    "start_time": "2022-05-04T15:21:11.603Z"
   },
   {
    "duration": 12,
    "start_time": "2022-05-04T15:21:11.656Z"
   },
   {
    "duration": 9,
    "start_time": "2022-05-04T15:21:11.671Z"
   },
   {
    "duration": 11,
    "start_time": "2022-05-04T15:21:11.682Z"
   },
   {
    "duration": 72,
    "start_time": "2022-05-04T15:21:11.695Z"
   },
   {
    "duration": 34,
    "start_time": "2022-05-04T15:21:11.769Z"
   },
   {
    "duration": 64,
    "start_time": "2022-05-04T15:21:11.805Z"
   },
   {
    "duration": 18,
    "start_time": "2022-05-04T15:21:11.871Z"
   },
   {
    "duration": 17,
    "start_time": "2022-05-04T15:21:11.891Z"
   },
   {
    "duration": 48,
    "start_time": "2022-05-04T15:21:11.911Z"
   },
   {
    "duration": 39,
    "start_time": "2022-05-04T15:21:11.961Z"
   },
   {
    "duration": 64,
    "start_time": "2022-05-04T15:21:12.002Z"
   },
   {
    "duration": 22,
    "start_time": "2022-05-04T15:21:12.068Z"
   },
   {
    "duration": 60,
    "start_time": "2022-05-04T15:21:12.093Z"
   },
   {
    "duration": 34,
    "start_time": "2022-05-04T15:21:12.155Z"
   },
   {
    "duration": 31,
    "start_time": "2022-05-04T15:21:12.191Z"
   },
   {
    "duration": 56,
    "start_time": "2022-05-04T15:21:12.223Z"
   }
  ],
  "kernelspec": {
   "display_name": "Python 3 (ipykernel)",
   "language": "python",
   "name": "python3"
  },
  "language_info": {
   "codemirror_mode": {
    "name": "ipython",
    "version": 3
   },
   "file_extension": ".py",
   "mimetype": "text/x-python",
   "name": "python",
   "nbconvert_exporter": "python",
   "pygments_lexer": "ipython3",
   "version": "3.9.7"
  },
  "toc": {
   "base_numbering": 1,
   "nav_menu": {},
   "number_sections": true,
   "sideBar": true,
   "skip_h1_title": true,
   "title_cell": "Table of Contents",
   "title_sidebar": "Contents",
   "toc_cell": false,
   "toc_position": {},
   "toc_section_display": true,
   "toc_window_display": false
  }
 },
 "nbformat": 4,
 "nbformat_minor": 5
}
