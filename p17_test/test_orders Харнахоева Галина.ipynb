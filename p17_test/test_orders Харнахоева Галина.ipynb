{
 "cells": [
  {
   "cell_type": "markdown",
   "id": "4a9852f3",
   "metadata": {},
   "source": [
    "# Тестовое задание"
   ]
  },
  {
   "cell_type": "markdown",
   "id": "67e465d7",
   "metadata": {},
   "source": [
    "### 0. Изучить данные"
   ]
  },
  {
   "cell_type": "code",
   "execution_count": 1,
   "id": "cf14e1a3",
   "metadata": {},
   "outputs": [
    {
     "name": "stderr",
     "output_type": "stream",
     "text": [
      "/Users/galina/opt/anaconda3/lib/python3.9/site-packages/scipy/__init__.py:146: UserWarning: A NumPy version >=1.16.5 and <1.23.0 is required for this version of SciPy (detected version 1.23.3\n",
      "  warnings.warn(f\"A NumPy version >={np_minversion} and <{np_maxversion}\"\n",
      "/Users/galina/opt/anaconda3/lib/python3.9/site-packages/statsmodels/tsa/base/tsa_model.py:7: FutureWarning: pandas.Int64Index is deprecated and will be removed from pandas in a future version. Use pandas.Index with the appropriate dtype instead.\n",
      "  from pandas import (to_datetime, Int64Index, DatetimeIndex, Period,\n",
      "/Users/galina/opt/anaconda3/lib/python3.9/site-packages/statsmodels/tsa/base/tsa_model.py:7: FutureWarning: pandas.Float64Index is deprecated and will be removed from pandas in a future version. Use pandas.Index with the appropriate dtype instead.\n",
      "  from pandas import (to_datetime, Int64Index, DatetimeIndex, Period,\n"
     ]
    }
   ],
   "source": [
    "import pandas as pd\n",
    "\n",
    "import numpy as np \n",
    "\n",
    "import statsmodels.api as sm\n",
    "\n",
    "import matplotlib.pyplot as plt\n",
    "\n",
    "from statsmodels.tsa.seasonal import seasonal_decompose\n",
    "\n",
    "from prophet import Prophet"
   ]
  },
  {
   "cell_type": "code",
   "execution_count": 2,
   "id": "97ce09b8",
   "metadata": {},
   "outputs": [],
   "source": [
    "#загружаю таблицу \n",
    "df = pd.read_excel('Тест ордерс.xlsx')"
   ]
  },
  {
   "cell_type": "code",
   "execution_count": 3,
   "id": "3a472ca5",
   "metadata": {
    "scrolled": true
   },
   "outputs": [
    {
     "name": "stdout",
     "output_type": "stream",
     "text": [
      "<class 'pandas.core.frame.DataFrame'>\n",
      "RangeIndex: 1000000 entries, 0 to 999999\n",
      "Data columns (total 4 columns):\n",
      " #   Column   Non-Null Count    Dtype  \n",
      "---  ------   --------------    -----  \n",
      " 0   id_o     1000000 non-null  int64  \n",
      " 1   user_id  1000000 non-null  int64  \n",
      " 2   price    1000000 non-null  float64\n",
      " 3   o_date   1000000 non-null  object \n",
      "dtypes: float64(1), int64(2), object(1)\n",
      "memory usage: 30.5+ MB\n"
     ]
    }
   ],
   "source": [
    "#смотрю основную инфо по таблице \n",
    "df.info()"
   ]
  },
  {
   "cell_type": "code",
   "execution_count": 4,
   "id": "3dd9bd71",
   "metadata": {
    "scrolled": true
   },
   "outputs": [
    {
     "data": {
      "text/html": [
       "<div>\n",
       "<style scoped>\n",
       "    .dataframe tbody tr th:only-of-type {\n",
       "        vertical-align: middle;\n",
       "    }\n",
       "\n",
       "    .dataframe tbody tr th {\n",
       "        vertical-align: top;\n",
       "    }\n",
       "\n",
       "    .dataframe thead th {\n",
       "        text-align: right;\n",
       "    }\n",
       "</style>\n",
       "<table border=\"1\" class=\"dataframe\">\n",
       "  <thead>\n",
       "    <tr style=\"text-align: right;\">\n",
       "      <th></th>\n",
       "      <th>id_o</th>\n",
       "      <th>user_id</th>\n",
       "      <th>price</th>\n",
       "      <th>o_date</th>\n",
       "    </tr>\n",
       "  </thead>\n",
       "  <tbody>\n",
       "    <tr>\n",
       "      <th>0</th>\n",
       "      <td>3529360</td>\n",
       "      <td>2838448</td>\n",
       "      <td>1223.6</td>\n",
       "      <td>01.01.2017 AD</td>\n",
       "    </tr>\n",
       "    <tr>\n",
       "      <th>1</th>\n",
       "      <td>3529361</td>\n",
       "      <td>2838449</td>\n",
       "      <td>1893.5</td>\n",
       "      <td>01.01.2017 AD</td>\n",
       "    </tr>\n",
       "    <tr>\n",
       "      <th>2</th>\n",
       "      <td>3529362</td>\n",
       "      <td>2184575</td>\n",
       "      <td>1407.0</td>\n",
       "      <td>01.01.2017 AD</td>\n",
       "    </tr>\n",
       "    <tr>\n",
       "      <th>3</th>\n",
       "      <td>3529366</td>\n",
       "      <td>1935335</td>\n",
       "      <td>664.3</td>\n",
       "      <td>01.01.2017 AD</td>\n",
       "    </tr>\n",
       "    <tr>\n",
       "      <th>4</th>\n",
       "      <td>3529372</td>\n",
       "      <td>1935335</td>\n",
       "      <td>418.6</td>\n",
       "      <td>01.01.2017 AD</td>\n",
       "    </tr>\n",
       "  </tbody>\n",
       "</table>\n",
       "</div>"
      ],
      "text/plain": [
       "      id_o  user_id   price         o_date\n",
       "0  3529360  2838448  1223.6  01.01.2017 AD\n",
       "1  3529361  2838449  1893.5  01.01.2017 AD\n",
       "2  3529362  2184575  1407.0  01.01.2017 AD\n",
       "3  3529366  1935335   664.3  01.01.2017 AD\n",
       "4  3529372  1935335   418.6  01.01.2017 AD"
      ]
     },
     "execution_count": 4,
     "metadata": {},
     "output_type": "execute_result"
    }
   ],
   "source": [
    "df.head()"
   ]
  },
  {
   "cell_type": "code",
   "execution_count": 5,
   "id": "e3519883",
   "metadata": {},
   "outputs": [
    {
     "data": {
      "text/html": [
       "<div>\n",
       "<style scoped>\n",
       "    .dataframe tbody tr th:only-of-type {\n",
       "        vertical-align: middle;\n",
       "    }\n",
       "\n",
       "    .dataframe tbody tr th {\n",
       "        vertical-align: top;\n",
       "    }\n",
       "\n",
       "    .dataframe thead th {\n",
       "        text-align: right;\n",
       "    }\n",
       "</style>\n",
       "<table border=\"1\" class=\"dataframe\">\n",
       "  <thead>\n",
       "    <tr style=\"text-align: right;\">\n",
       "      <th></th>\n",
       "      <th>id_o</th>\n",
       "      <th>user_id</th>\n",
       "      <th>price</th>\n",
       "      <th>o_date</th>\n",
       "    </tr>\n",
       "  </thead>\n",
       "  <tbody>\n",
       "    <tr>\n",
       "      <th>999995</th>\n",
       "      <td>6522240</td>\n",
       "      <td>5468664</td>\n",
       "      <td>1399.3</td>\n",
       "      <td>07.12.2017 AD</td>\n",
       "    </tr>\n",
       "    <tr>\n",
       "      <th>999996</th>\n",
       "      <td>6522243</td>\n",
       "      <td>5468601</td>\n",
       "      <td>1603.0</td>\n",
       "      <td>07.12.2017 AD</td>\n",
       "    </tr>\n",
       "    <tr>\n",
       "      <th>999997</th>\n",
       "      <td>6522248</td>\n",
       "      <td>5033387</td>\n",
       "      <td>8398.6</td>\n",
       "      <td>07.12.2017 AD</td>\n",
       "    </tr>\n",
       "    <tr>\n",
       "      <th>999998</th>\n",
       "      <td>6522249</td>\n",
       "      <td>5468667</td>\n",
       "      <td>730.8</td>\n",
       "      <td>07.12.2017 AD</td>\n",
       "    </tr>\n",
       "    <tr>\n",
       "      <th>999999</th>\n",
       "      <td>6522255</td>\n",
       "      <td>5468697</td>\n",
       "      <td>864.5</td>\n",
       "      <td>07.12.2017 AD</td>\n",
       "    </tr>\n",
       "  </tbody>\n",
       "</table>\n",
       "</div>"
      ],
      "text/plain": [
       "           id_o  user_id   price         o_date\n",
       "999995  6522240  5468664  1399.3  07.12.2017 AD\n",
       "999996  6522243  5468601  1603.0  07.12.2017 AD\n",
       "999997  6522248  5033387  8398.6  07.12.2017 AD\n",
       "999998  6522249  5468667   730.8  07.12.2017 AD\n",
       "999999  6522255  5468697   864.5  07.12.2017 AD"
      ]
     },
     "execution_count": 5,
     "metadata": {},
     "output_type": "execute_result"
    }
   ],
   "source": [
    "df.tail()"
   ]
  },
  {
   "cell_type": "code",
   "execution_count": 6,
   "id": "b8e84cab",
   "metadata": {},
   "outputs": [],
   "source": [
    "#удаляю из o_date символы _AD\n",
    "df['o_date'] = df['o_date'].map(lambda x: str(x)[:-3]) "
   ]
  },
  {
   "cell_type": "code",
   "execution_count": 7,
   "id": "2a92449b",
   "metadata": {
    "scrolled": true
   },
   "outputs": [],
   "source": [
    "#перевожу данные в столбце o_date в дату\n",
    "df['o_date'] = pd.to_datetime(df['o_date'], format='%d.%m.%Y')"
   ]
  },
  {
   "cell_type": "code",
   "execution_count": 8,
   "id": "79941130",
   "metadata": {},
   "outputs": [],
   "source": [
    "#индексирую по дате:\n",
    "df = df.set_index('o_date')"
   ]
  },
  {
   "cell_type": "code",
   "execution_count": 9,
   "id": "094957b0",
   "metadata": {},
   "outputs": [],
   "source": [
    "#оставляю в столбце price данные больше 0, так как ни цен, ни выручки < 0 нет\n",
    "df = df.loc[df['price'] >= 0]"
   ]
  },
  {
   "cell_type": "markdown",
   "id": "5148cc61",
   "metadata": {},
   "source": [
    "### 1. Найти данные по выручке в разрезе год-месяц,  кол-ву заказов, количеству уникальных купивших пользователей."
   ]
  },
  {
   "cell_type": "code",
   "execution_count": 26,
   "id": "b371b433",
   "metadata": {},
   "outputs": [
    {
     "data": {
      "text/plain": [
       "o_date\n",
       "December      62575197.3\n",
       "February     161617657.6\n",
       "January      176756702.5\n",
       "June         184955837.5\n",
       "July         187225893.4\n",
       "April        197661211.3\n",
       "August       205855839.7\n",
       "September    212034384.1\n",
       "March        214789307.6\n",
       "May          217075552.4\n",
       "October      280213863.3\n",
       "November     326694750.9\n",
       "Name: price, dtype: float64"
      ]
     },
     "execution_count": 26,
     "metadata": {},
     "output_type": "execute_result"
    }
   ],
   "source": [
    "df.groupby(df.index.strftime('%B'))['price'].sum().sort_values()"
   ]
  },
  {
   "cell_type": "code",
   "execution_count": 10,
   "id": "9693b513",
   "metadata": {},
   "outputs": [
    {
     "name": "stdout",
     "output_type": "stream",
     "text": [
      "Выручка total: 2427456197.6\n",
      "\n",
      "Месячная выручка по возрастанию:\n"
     ]
    },
    {
     "data": {
      "text/plain": [
       "o_date\n",
       "December      62575197.3\n",
       "February     161617657.6\n",
       "January      176756702.5\n",
       "June         184955837.5\n",
       "July         187225893.4\n",
       "April        197661211.3\n",
       "August       205855839.7\n",
       "September    212034384.1\n",
       "March        214789307.6\n",
       "May          217075552.4\n",
       "October      280213863.3\n",
       "November     326694750.9\n",
       "Name: price, dtype: float64"
      ]
     },
     "execution_count": 10,
     "metadata": {},
     "output_type": "execute_result"
    }
   ],
   "source": [
    "print('Выручка total:', round(df['price'].sum(), 2))\n",
    "print()\n",
    "print('Месячная выручка по возрастанию:')\n",
    "df.groupby(df.index.strftime('%B'))['price'].sum().sort_values()"
   ]
  },
  {
   "cell_type": "markdown",
   "id": "d55f57d1",
   "metadata": {},
   "source": [
    "Наиболее прибыльный месяц 2017 года - ноябрь, наименее - декабрь, это объясняется тем, что есть данные только за первые 7 дней декабря"
   ]
  },
  {
   "cell_type": "code",
   "execution_count": 11,
   "id": "a1556f27",
   "metadata": {
    "scrolled": true
   },
   "outputs": [
    {
     "name": "stdout",
     "output_type": "stream",
     "text": [
      "Общее кол-во заказов: 999998\n",
      "\n",
      "Месячное кол-во заказов по возрастанию:\n"
     ]
    },
    {
     "data": {
      "text/plain": [
       "o_date\n",
       "December      27224\n",
       "February      70652\n",
       "January       75968\n",
       "July          77002\n",
       "June          77343\n",
       "September     80976\n",
       "August        84375\n",
       "April         85307\n",
       "March         90348\n",
       "May           91949\n",
       "October      106972\n",
       "November     131882\n",
       "Name: id_o, dtype: int64"
      ]
     },
     "execution_count": 11,
     "metadata": {},
     "output_type": "execute_result"
    }
   ],
   "source": [
    "print('Общее кол-во заказов:', len(df['user_id']))\n",
    "print()\n",
    "print('Месячное кол-во заказов по возрастанию:')\n",
    "df.groupby(df.index.strftime('%B'))['id_o'].count().sort_values()"
   ]
  },
  {
   "cell_type": "markdown",
   "id": "8d349bbb",
   "metadata": {},
   "source": [
    "Ожидаемо между месячным кол-вом заказов и выручкой зависимость прямо пропорциональная"
   ]
  },
  {
   "cell_type": "code",
   "execution_count": 12,
   "id": "9c98d85e",
   "metadata": {},
   "outputs": [
    {
     "name": "stdout",
     "output_type": "stream",
     "text": [
      "Всего покупателей-уников: 568003\n",
      "\n",
      "Кол-во покупателей-уников в месяц по возрастанию:\n"
     ]
    },
    {
     "data": {
      "text/plain": [
       "o_date\n",
       "December      24365\n",
       "February      55014\n",
       "January       58409\n",
       "June          59830\n",
       "July          60253\n",
       "April         63825\n",
       "September     64765\n",
       "August        66784\n",
       "March         68011\n",
       "May           68670\n",
       "October       84248\n",
       "November     105336\n",
       "Name: user_id, dtype: int64"
      ]
     },
     "execution_count": 12,
     "metadata": {},
     "output_type": "execute_result"
    }
   ],
   "source": [
    "print('Всего покупателей-уников:', len(df['user_id'].unique()))\n",
    "print()\n",
    "print('Кол-во покупателей-уников в месяц по возрастанию:')\n",
    "df.groupby(df.index.strftime('%B'))['user_id'].nunique().sort_values()"
   ]
  },
  {
   "cell_type": "markdown",
   "id": "381cd5db",
   "metadata": {},
   "source": [
    "Ожидаемо между месячным кол-вом уников и выручкой зависимость прямо пропорциональная"
   ]
  },
  {
   "cell_type": "markdown",
   "id": "14e5e671",
   "metadata": {},
   "source": [
    "### 2. Найти коэффициенты сезонности по месяцам"
   ]
  },
  {
   "cell_type": "code",
   "execution_count": 13,
   "id": "f0cff3df",
   "metadata": {},
   "outputs": [
    {
     "name": "stdout",
     "output_type": "stream",
     "text": [
      "Коэффициенты сезонности по месяцам по возрастанию:\n",
      "o_date\n",
      "December     0.027224\n",
      "February     0.070652\n",
      "January      0.075968\n",
      "July         0.077002\n",
      "June         0.077343\n",
      "September    0.080976\n",
      "August       0.084375\n",
      "April        0.085307\n",
      "March        0.090348\n",
      "May          0.091949\n",
      "October      0.106972\n",
      "November     0.131882\n",
      "Name: id_o, dtype: float64\n"
     ]
    }
   ],
   "source": [
    "#коэффициент сезонности месяца = продажи в штуках месяца/ продажи за год\n",
    "season = df.groupby(df.index.strftime('%B'))['id_o'].count()/len(df['id_o'])\n",
    "print('Коэффициенты сезонности по месяцам по возрастанию:')\n",
    "print(season.sort_values())"
   ]
  },
  {
   "cell_type": "markdown",
   "id": "d8fabfd0",
   "metadata": {},
   "source": [
    "Самый высокий коэффициент сезонности в ноябре, октябре и мае, что логично, так как родители закупают товары к лету, к зиме и к НГ"
   ]
  },
  {
   "cell_type": "markdown",
   "id": "09c14d68",
   "metadata": {},
   "source": [
    "### 3. Найти тренд и его уравнение"
   ]
  },
  {
   "cell_type": "code",
   "execution_count": 14,
   "id": "5f36a5ad",
   "metadata": {
    "scrolled": true
   },
   "outputs": [
    {
     "data": {
      "image/png": "[encoded data removed]",
      "text/plain": [
       "<Figure size 432x288 with 1 Axes>"
      ]
     },
     "metadata": {
      "needs_background": "light"
     },
     "output_type": "display_data"
    },
    {
     "name": "stdout",
     "output_type": "stream",
     "text": [
      "Уравнение тренда:\n",
      "8962.089613768614 * x + 37789781.882714964\n"
     ]
    }
   ],
   "source": [
    "#поскольку декабрь представлен только первыми 7 днями, тренд сделала с разбивкой выручки понедельно\n",
    "weekly_revenue = pd.DataFrame(df.groupby(df.index.strftime('%W'))['price'].sum())\n",
    "\n",
    "x = weekly_revenue.index.values.astype('int')\n",
    "y = weekly_revenue.price\n",
    "\n",
    "plt.scatter(x, y, alpha=.5)\n",
    "\n",
    "z = np.polyfit(x, y, 2)\n",
    "p = np.poly1d(z)\n",
    "\n",
    "plt.plot(x, p(x), color='purple', linewidth=3 , linestyle='--') \n",
    "\n",
    "plt.title('Тренд понедельной выручки')\n",
    "plt.xlabel('Недели года')\n",
    "plt.ylabel('Выручка за неделю')\n",
    "plt.grid(True)\n",
    "plt.show()\n",
    "\n",
    "print('Уравнение тренда:')\n",
    "print(\"{0} * x + {2}\".format(*z))"
   ]
  },
  {
   "cell_type": "markdown",
   "id": "aaf32fb1",
   "metadata": {},
   "source": [
    "### 4. Спрогнозировать продажи на след год (именно выручку) в разрезе год-месяц по любой методологии"
   ]
  },
  {
   "cell_type": "code",
   "execution_count": 15,
   "id": "b90f3af2",
   "metadata": {},
   "outputs": [],
   "source": [
    "monthly_revenue = pd.DataFrame(df.groupby(df.index.strftime('%Y-%b'))['price'].sum())\n",
    "monthly_revenue['ds'] = monthly_revenue.index\n",
    "monthly_revenue.rename(columns={'price':'y'}, inplace=True)\n",
    "monthly_revenue['ds'] = pd.to_datetime(monthly_revenue['ds'])"
   ]
  },
  {
   "cell_type": "code",
   "execution_count": 16,
   "id": "59465539",
   "metadata": {
    "scrolled": true
   },
   "outputs": [
    {
     "name": "stderr",
     "output_type": "stream",
     "text": [
      "16:36:14 - cmdstanpy - INFO - Chain [1] start processing\n",
      "16:36:14 - cmdstanpy - INFO - Chain [1] done processing\n"
     ]
    },
    {
     "data": {
      "image/png": "[encoded data removed]",
      "text/plain": [
       "<Figure size 720x432 with 1 Axes>"
      ]
     },
     "metadata": {},
     "output_type": "display_data"
    }
   ],
   "source": [
    "model = Prophet() #yearly_seasonality=True, weekly_seasonality=True, daily_seasonality=False, seasonality_mode='multiplicative'\n",
    "model.fit(monthly_revenue)\n",
    "future = model.make_future_dataframe(periods=13, freq='m')\n",
    "forecast = model.predict(future)\n",
    "\n",
    "model.plot(forecast)\n",
    "plt.title('Прогноз продаж на год')\n",
    "plt.xlabel('Месяцы')\n",
    "plt.ylabel('Выручка')\n",
    "plt.grid(True)\n",
    "plt.show()"
   ]
  },
  {
   "cell_type": "code",
   "execution_count": 20,
   "id": "e94667a8",
   "metadata": {
    "scrolled": true
   },
   "outputs": [
    {
     "name": "stdout",
     "output_type": "stream",
     "text": [
      "Прогноз выручки на 2018 год\n"
     ]
    },
    {
     "data": {
      "text/html": [
       "<div>\n",
       "<style scoped>\n",
       "    .dataframe tbody tr th:only-of-type {\n",
       "        vertical-align: middle;\n",
       "    }\n",
       "\n",
       "    .dataframe tbody tr th {\n",
       "        vertical-align: top;\n",
       "    }\n",
       "\n",
       "    .dataframe thead th {\n",
       "        text-align: right;\n",
       "    }\n",
       "</style>\n",
       "<table border=\"1\" class=\"dataframe\">\n",
       "  <thead>\n",
       "    <tr style=\"text-align: right;\">\n",
       "      <th></th>\n",
       "      <th>month-2018</th>\n",
       "      <th>revenue_forecast</th>\n",
       "    </tr>\n",
       "  </thead>\n",
       "  <tbody>\n",
       "    <tr>\n",
       "      <th>13</th>\n",
       "      <td>2018-01-31</td>\n",
       "      <td>221387919.92</td>\n",
       "    </tr>\n",
       "    <tr>\n",
       "      <th>14</th>\n",
       "      <td>2018-02-28</td>\n",
       "      <td>223731146.82</td>\n",
       "    </tr>\n",
       "    <tr>\n",
       "      <th>15</th>\n",
       "      <td>2018-03-31</td>\n",
       "      <td>226325433.75</td>\n",
       "    </tr>\n",
       "    <tr>\n",
       "      <th>16</th>\n",
       "      <td>2018-04-30</td>\n",
       "      <td>228836034.00</td>\n",
       "    </tr>\n",
       "    <tr>\n",
       "      <th>17</th>\n",
       "      <td>2018-05-31</td>\n",
       "      <td>231430320.93</td>\n",
       "    </tr>\n",
       "    <tr>\n",
       "      <th>18</th>\n",
       "      <td>2018-06-30</td>\n",
       "      <td>233940921.19</td>\n",
       "    </tr>\n",
       "    <tr>\n",
       "      <th>19</th>\n",
       "      <td>2018-07-31</td>\n",
       "      <td>236535208.12</td>\n",
       "    </tr>\n",
       "    <tr>\n",
       "      <th>20</th>\n",
       "      <td>2018-08-31</td>\n",
       "      <td>239129495.05</td>\n",
       "    </tr>\n",
       "    <tr>\n",
       "      <th>21</th>\n",
       "      <td>2018-09-30</td>\n",
       "      <td>241640095.30</td>\n",
       "    </tr>\n",
       "    <tr>\n",
       "      <th>22</th>\n",
       "      <td>2018-10-31</td>\n",
       "      <td>244234382.23</td>\n",
       "    </tr>\n",
       "    <tr>\n",
       "      <th>23</th>\n",
       "      <td>2018-11-30</td>\n",
       "      <td>246744982.49</td>\n",
       "    </tr>\n",
       "    <tr>\n",
       "      <th>24</th>\n",
       "      <td>2018-12-31</td>\n",
       "      <td>249339269.42</td>\n",
       "    </tr>\n",
       "  </tbody>\n",
       "</table>\n",
       "</div>"
      ],
      "text/plain": [
       "   month-2018  revenue_forecast\n",
       "13 2018-01-31      221387919.92\n",
       "14 2018-02-28      223731146.82\n",
       "15 2018-03-31      226325433.75\n",
       "16 2018-04-30      228836034.00\n",
       "17 2018-05-31      231430320.93\n",
       "18 2018-06-30      233940921.19\n",
       "19 2018-07-31      236535208.12\n",
       "20 2018-08-31      239129495.05\n",
       "21 2018-09-30      241640095.30\n",
       "22 2018-10-31      244234382.23\n",
       "23 2018-11-30      246744982.49\n",
       "24 2018-12-31      249339269.42"
      ]
     },
     "execution_count": 20,
     "metadata": {},
     "output_type": "execute_result"
    }
   ],
   "source": [
    "forecast_1year = pd.DataFrame(forecast[13:][['ds', 'yhat']])\n",
    "forecast_1year.rename(columns={'ds':'month-2018', 'yhat':'revenue_forecast'}, inplace=True)\n",
    "pd.options.display.float_format ='{:.2f}'.format\n",
    "print('Прогноз выручки на 2018 год')\n",
    "forecast_1year                                                                "
   ]
  },
  {
   "cell_type": "markdown",
   "id": "e5783aea",
   "metadata": {},
   "source": [
    "### 5. Ответить на вопрос, от чего зависит товарооборот конкретного дня"
   ]
  },
  {
   "cell_type": "markdown",
   "id": "76c20fb0",
   "metadata": {},
   "source": [
    "От количества заказов и суммы заказов (либо всего магазина, тогда это суммарный товарооборот, либо конкретного товара). То есть суммарный товарооборот первого дня будет такой:"
   ]
  },
  {
   "cell_type": "code",
   "execution_count": 18,
   "id": "d0a452cb",
   "metadata": {
    "scrolled": true
   },
   "outputs": [
    {
     "name": "stdout",
     "output_type": "stream",
     "text": [
      "Товарооборот первого дня = 74412817.5\n"
     ]
    }
   ],
   "source": [
    "print('Товарооборот первого дня =', df.groupby(df.index.strftime('%d'))['price'].sum()[0])"
   ]
  },
  {
   "cell_type": "markdown",
   "id": "43282963",
   "metadata": {},
   "source": [
    "Очень успешный магазин, если 1 января он продал аж на 74.4 млн руб"
   ]
  },
  {
   "cell_type": "markdown",
   "id": "c17cd4f7",
   "metadata": {},
   "source": [
    "### 6. Сделать предположение по возможной очистке данных и /или их особенностям"
   ]
  },
  {
   "cell_type": "markdown",
   "id": "d5cb53d3",
   "metadata": {},
   "source": [
    "Что касается очистки, то выше я удалила отрицательные значения в столбце price и AD из даты (кстати, что  значит AD? Anno Domini?)\n",
    "\n",
    "Также я бы посмотрела недельную сезонность, так как в рознице иногда бывают \"кошачьи уши\" в определенные дни недели. Предполагаю, что родители больше покупают детских товаров в пятницу-субботу"
   ]
  }
 ],
 "metadata": {
  "kernelspec": {
   "display_name": "Python 3 (ipykernel)",
   "language": "python",
   "name": "python3"
  },
  "language_info": {
   "codemirror_mode": {
    "name": "ipython",
    "version": 3
   },
   "file_extension": ".py",
   "mimetype": "text/x-python",
   "name": "python",
   "nbconvert_exporter": "python",
   "pygments_lexer": "ipython3",
   "version": "3.9.7"
  }
 },
 "nbformat": 4,
 "nbformat_minor": 5
}
