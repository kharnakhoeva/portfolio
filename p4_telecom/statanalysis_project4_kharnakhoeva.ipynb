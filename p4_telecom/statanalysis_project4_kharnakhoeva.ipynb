{
 "cells": [
  {
   "cell_type": "markdown",
   "id": "5abf5f66",
   "metadata": {},
   "source": [
    "# Определение перспективного тарифа для телеком-компании"
   ]
  },
  {
   "cell_type": "markdown",
   "id": "60c5b2ff",
   "metadata": {},
   "source": [
    "**Дано:** компания «Мегалайн», федеральный оператор сотовой связи, предлагает клиентам два тарифных плана: «Смарт» и «Ультра».\n",
    "<br>Есть данные 500 пользователей «Мегалайна»: кто они, откуда, каким тарифом пользуются, сколько звонков и сообщений каждый отправил за 2018 год. Нужно проанализировать поведение клиентов и сделать вывод — какой тариф лучше.\n",
    "\n",
    "**Задача:** сделать предварительный анализ тарифов на небольшой выборке клиентов, чтобы понять, какой тариф приносит больше денег.\n",
    "\n",
    "**План исследования:**\n",
    " 1. Обзор данных.\n",
    " 2. Предобработка данных (поиск и замена пропущенных значений, аномалий, дубликатов).\n",
    " 3. Анализ данных.\n",
    " 4. Проверка гипотез."
   ]
  },
  {
   "cell_type": "markdown",
   "id": "0759baa5",
   "metadata": {},
   "source": [
    "## 1. Обзор данных"
   ]
  },
  {
   "cell_type": "code",
   "execution_count": 1,
   "id": "d274ae89",
   "metadata": {},
   "outputs": [],
   "source": [
    "import warnings\n",
    "warnings.filterwarnings(\"ignore\")\n",
    "import pandas as pd\n",
    "import math\n",
    "import numpy as np\n",
    "from datetime import date\n",
    "import matplotlib.pyplot as plt\n",
    "from scipy import stats as st"
   ]
  },
  {
   "cell_type": "code",
   "execution_count": 2,
   "id": "a30ea475",
   "metadata": {},
   "outputs": [],
   "source": [
    "try:\n",
    "    calls = pd.read_csv('/Users/galina/yandex-praktikum-projects/проект 4/calls.csv')\n",
    "    internet = pd.read_csv('/Users/galina/yandex-praktikum-projects/проект 4/internet.csv')\n",
    "    messages = pd.read_csv('/Users/galina/yandex-praktikum-projects/проект 4/messages.csv')\n",
    "    tariffs = pd.read_csv('/Users/galina/yandex-praktikum-projects/проект 4/tariffs.csv')\n",
    "    users = pd.read_csv('/Users/galina/yandex-praktikum-projects/проект 4/users.csv') \n",
    "except:\n",
    "    calls = pd.read_csv('/datasets/calls.csv')\n",
    "    internet = pd.read_csv('/datasets/internet.csv')\n",
    "    messages = pd.read_csv('/datasets/messages.csv')\n",
    "    tariffs = pd.read_csv('/datasets/tariffs.csv')\n",
    "    users = pd.read_csv('/datasets/users.csv') "
   ]
  },
  {
   "cell_type": "code",
   "execution_count": 3,
   "id": "5abc8006",
   "metadata": {
    "scrolled": true
   },
   "outputs": [
    {
     "data": {
      "text/html": [
       "<div>\n",
       "<style scoped>\n",
       "    .dataframe tbody tr th:only-of-type {\n",
       "        vertical-align: middle;\n",
       "    }\n",
       "\n",
       "    .dataframe tbody tr th {\n",
       "        vertical-align: top;\n",
       "    }\n",
       "\n",
       "    .dataframe thead th {\n",
       "        text-align: right;\n",
       "    }\n",
       "</style>\n",
       "<table border=\"1\" class=\"dataframe\">\n",
       "  <thead>\n",
       "    <tr style=\"text-align: right;\">\n",
       "      <th></th>\n",
       "      <th>id</th>\n",
       "      <th>call_date</th>\n",
       "      <th>duration</th>\n",
       "      <th>user_id</th>\n",
       "    </tr>\n",
       "  </thead>\n",
       "  <tbody>\n",
       "    <tr>\n",
       "      <th>0</th>\n",
       "      <td>1000_0</td>\n",
       "      <td>2018-07-25</td>\n",
       "      <td>0.00</td>\n",
       "      <td>1000</td>\n",
       "    </tr>\n",
       "    <tr>\n",
       "      <th>1</th>\n",
       "      <td>1000_1</td>\n",
       "      <td>2018-08-17</td>\n",
       "      <td>0.00</td>\n",
       "      <td>1000</td>\n",
       "    </tr>\n",
       "    <tr>\n",
       "      <th>2</th>\n",
       "      <td>1000_2</td>\n",
       "      <td>2018-06-11</td>\n",
       "      <td>2.85</td>\n",
       "      <td>1000</td>\n",
       "    </tr>\n",
       "    <tr>\n",
       "      <th>3</th>\n",
       "      <td>1000_3</td>\n",
       "      <td>2018-09-21</td>\n",
       "      <td>13.80</td>\n",
       "      <td>1000</td>\n",
       "    </tr>\n",
       "    <tr>\n",
       "      <th>4</th>\n",
       "      <td>1000_4</td>\n",
       "      <td>2018-12-15</td>\n",
       "      <td>5.18</td>\n",
       "      <td>1000</td>\n",
       "    </tr>\n",
       "  </tbody>\n",
       "</table>\n",
       "</div>"
      ],
      "text/plain": [
       "       id   call_date  duration  user_id\n",
       "0  1000_0  2018-07-25      0.00     1000\n",
       "1  1000_1  2018-08-17      0.00     1000\n",
       "2  1000_2  2018-06-11      2.85     1000\n",
       "3  1000_3  2018-09-21     13.80     1000\n",
       "4  1000_4  2018-12-15      5.18     1000"
      ]
     },
     "metadata": {},
     "output_type": "display_data"
    },
    {
     "name": "stdout",
     "output_type": "stream",
     "text": [
      "<class 'pandas.core.frame.DataFrame'>\n",
      "RangeIndex: 202607 entries, 0 to 202606\n",
      "Data columns (total 4 columns):\n",
      " #   Column     Non-Null Count   Dtype  \n",
      "---  ------     --------------   -----  \n",
      " 0   id         202607 non-null  object \n",
      " 1   call_date  202607 non-null  object \n",
      " 2   duration   202607 non-null  float64\n",
      " 3   user_id    202607 non-null  int64  \n",
      "dtypes: float64(1), int64(1), object(2)\n",
      "memory usage: 6.2+ MB\n",
      "None\n",
      "\n"
     ]
    },
    {
     "data": {
      "text/html": [
       "<div>\n",
       "<style scoped>\n",
       "    .dataframe tbody tr th:only-of-type {\n",
       "        vertical-align: middle;\n",
       "    }\n",
       "\n",
       "    .dataframe tbody tr th {\n",
       "        vertical-align: top;\n",
       "    }\n",
       "\n",
       "    .dataframe thead th {\n",
       "        text-align: right;\n",
       "    }\n",
       "</style>\n",
       "<table border=\"1\" class=\"dataframe\">\n",
       "  <thead>\n",
       "    <tr style=\"text-align: right;\">\n",
       "      <th></th>\n",
       "      <th>Unnamed: 0</th>\n",
       "      <th>id</th>\n",
       "      <th>mb_used</th>\n",
       "      <th>session_date</th>\n",
       "      <th>user_id</th>\n",
       "    </tr>\n",
       "  </thead>\n",
       "  <tbody>\n",
       "    <tr>\n",
       "      <th>0</th>\n",
       "      <td>0</td>\n",
       "      <td>1000_0</td>\n",
       "      <td>112.95</td>\n",
       "      <td>2018-11-25</td>\n",
       "      <td>1000</td>\n",
       "    </tr>\n",
       "    <tr>\n",
       "      <th>1</th>\n",
       "      <td>1</td>\n",
       "      <td>1000_1</td>\n",
       "      <td>1052.81</td>\n",
       "      <td>2018-09-07</td>\n",
       "      <td>1000</td>\n",
       "    </tr>\n",
       "    <tr>\n",
       "      <th>2</th>\n",
       "      <td>2</td>\n",
       "      <td>1000_2</td>\n",
       "      <td>1197.26</td>\n",
       "      <td>2018-06-25</td>\n",
       "      <td>1000</td>\n",
       "    </tr>\n",
       "    <tr>\n",
       "      <th>3</th>\n",
       "      <td>3</td>\n",
       "      <td>1000_3</td>\n",
       "      <td>550.27</td>\n",
       "      <td>2018-08-22</td>\n",
       "      <td>1000</td>\n",
       "    </tr>\n",
       "    <tr>\n",
       "      <th>4</th>\n",
       "      <td>4</td>\n",
       "      <td>1000_4</td>\n",
       "      <td>302.56</td>\n",
       "      <td>2018-09-24</td>\n",
       "      <td>1000</td>\n",
       "    </tr>\n",
       "  </tbody>\n",
       "</table>\n",
       "</div>"
      ],
      "text/plain": [
       "   Unnamed: 0      id  mb_used session_date  user_id\n",
       "0           0  1000_0   112.95   2018-11-25     1000\n",
       "1           1  1000_1  1052.81   2018-09-07     1000\n",
       "2           2  1000_2  1197.26   2018-06-25     1000\n",
       "3           3  1000_3   550.27   2018-08-22     1000\n",
       "4           4  1000_4   302.56   2018-09-24     1000"
      ]
     },
     "metadata": {},
     "output_type": "display_data"
    },
    {
     "name": "stdout",
     "output_type": "stream",
     "text": [
      "<class 'pandas.core.frame.DataFrame'>\n",
      "RangeIndex: 149396 entries, 0 to 149395\n",
      "Data columns (total 5 columns):\n",
      " #   Column        Non-Null Count   Dtype  \n",
      "---  ------        --------------   -----  \n",
      " 0   Unnamed: 0    149396 non-null  int64  \n",
      " 1   id            149396 non-null  object \n",
      " 2   mb_used       149396 non-null  float64\n",
      " 3   session_date  149396 non-null  object \n",
      " 4   user_id       149396 non-null  int64  \n",
      "dtypes: float64(1), int64(2), object(2)\n",
      "memory usage: 5.7+ MB\n",
      "None\n",
      "\n"
     ]
    },
    {
     "data": {
      "text/html": [
       "<div>\n",
       "<style scoped>\n",
       "    .dataframe tbody tr th:only-of-type {\n",
       "        vertical-align: middle;\n",
       "    }\n",
       "\n",
       "    .dataframe tbody tr th {\n",
       "        vertical-align: top;\n",
       "    }\n",
       "\n",
       "    .dataframe thead th {\n",
       "        text-align: right;\n",
       "    }\n",
       "</style>\n",
       "<table border=\"1\" class=\"dataframe\">\n",
       "  <thead>\n",
       "    <tr style=\"text-align: right;\">\n",
       "      <th></th>\n",
       "      <th>id</th>\n",
       "      <th>message_date</th>\n",
       "      <th>user_id</th>\n",
       "    </tr>\n",
       "  </thead>\n",
       "  <tbody>\n",
       "    <tr>\n",
       "      <th>0</th>\n",
       "      <td>1000_0</td>\n",
       "      <td>2018-06-27</td>\n",
       "      <td>1000</td>\n",
       "    </tr>\n",
       "    <tr>\n",
       "      <th>1</th>\n",
       "      <td>1000_1</td>\n",
       "      <td>2018-10-08</td>\n",
       "      <td>1000</td>\n",
       "    </tr>\n",
       "    <tr>\n",
       "      <th>2</th>\n",
       "      <td>1000_2</td>\n",
       "      <td>2018-08-04</td>\n",
       "      <td>1000</td>\n",
       "    </tr>\n",
       "    <tr>\n",
       "      <th>3</th>\n",
       "      <td>1000_3</td>\n",
       "      <td>2018-06-16</td>\n",
       "      <td>1000</td>\n",
       "    </tr>\n",
       "    <tr>\n",
       "      <th>4</th>\n",
       "      <td>1000_4</td>\n",
       "      <td>2018-12-05</td>\n",
       "      <td>1000</td>\n",
       "    </tr>\n",
       "  </tbody>\n",
       "</table>\n",
       "</div>"
      ],
      "text/plain": [
       "       id message_date  user_id\n",
       "0  1000_0   2018-06-27     1000\n",
       "1  1000_1   2018-10-08     1000\n",
       "2  1000_2   2018-08-04     1000\n",
       "3  1000_3   2018-06-16     1000\n",
       "4  1000_4   2018-12-05     1000"
      ]
     },
     "metadata": {},
     "output_type": "display_data"
    },
    {
     "name": "stdout",
     "output_type": "stream",
     "text": [
      "<class 'pandas.core.frame.DataFrame'>\n",
      "RangeIndex: 123036 entries, 0 to 123035\n",
      "Data columns (total 3 columns):\n",
      " #   Column        Non-Null Count   Dtype \n",
      "---  ------        --------------   ----- \n",
      " 0   id            123036 non-null  object\n",
      " 1   message_date  123036 non-null  object\n",
      " 2   user_id       123036 non-null  int64 \n",
      "dtypes: int64(1), object(2)\n",
      "memory usage: 2.8+ MB\n",
      "None\n",
      "\n"
     ]
    },
    {
     "data": {
      "text/html": [
       "<div>\n",
       "<style scoped>\n",
       "    .dataframe tbody tr th:only-of-type {\n",
       "        vertical-align: middle;\n",
       "    }\n",
       "\n",
       "    .dataframe tbody tr th {\n",
       "        vertical-align: top;\n",
       "    }\n",
       "\n",
       "    .dataframe thead th {\n",
       "        text-align: right;\n",
       "    }\n",
       "</style>\n",
       "<table border=\"1\" class=\"dataframe\">\n",
       "  <thead>\n",
       "    <tr style=\"text-align: right;\">\n",
       "      <th></th>\n",
       "      <th>messages_included</th>\n",
       "      <th>mb_per_month_included</th>\n",
       "      <th>minutes_included</th>\n",
       "      <th>rub_monthly_fee</th>\n",
       "      <th>rub_per_gb</th>\n",
       "      <th>rub_per_message</th>\n",
       "      <th>rub_per_minute</th>\n",
       "      <th>tariff_name</th>\n",
       "    </tr>\n",
       "  </thead>\n",
       "  <tbody>\n",
       "    <tr>\n",
       "      <th>0</th>\n",
       "      <td>50</td>\n",
       "      <td>15360</td>\n",
       "      <td>500</td>\n",
       "      <td>550</td>\n",
       "      <td>200</td>\n",
       "      <td>3</td>\n",
       "      <td>3</td>\n",
       "      <td>smart</td>\n",
       "    </tr>\n",
       "    <tr>\n",
       "      <th>1</th>\n",
       "      <td>1000</td>\n",
       "      <td>30720</td>\n",
       "      <td>3000</td>\n",
       "      <td>1950</td>\n",
       "      <td>150</td>\n",
       "      <td>1</td>\n",
       "      <td>1</td>\n",
       "      <td>ultra</td>\n",
       "    </tr>\n",
       "  </tbody>\n",
       "</table>\n",
       "</div>"
      ],
      "text/plain": [
       "   messages_included  mb_per_month_included  minutes_included  \\\n",
       "0                 50                  15360               500   \n",
       "1               1000                  30720              3000   \n",
       "\n",
       "   rub_monthly_fee  rub_per_gb  rub_per_message  rub_per_minute tariff_name  \n",
       "0              550         200                3               3       smart  \n",
       "1             1950         150                1               1       ultra  "
      ]
     },
     "metadata": {},
     "output_type": "display_data"
    },
    {
     "name": "stdout",
     "output_type": "stream",
     "text": [
      "<class 'pandas.core.frame.DataFrame'>\n",
      "RangeIndex: 2 entries, 0 to 1\n",
      "Data columns (total 8 columns):\n",
      " #   Column                 Non-Null Count  Dtype \n",
      "---  ------                 --------------  ----- \n",
      " 0   messages_included      2 non-null      int64 \n",
      " 1   mb_per_month_included  2 non-null      int64 \n",
      " 2   minutes_included       2 non-null      int64 \n",
      " 3   rub_monthly_fee        2 non-null      int64 \n",
      " 4   rub_per_gb             2 non-null      int64 \n",
      " 5   rub_per_message        2 non-null      int64 \n",
      " 6   rub_per_minute         2 non-null      int64 \n",
      " 7   tariff_name            2 non-null      object\n",
      "dtypes: int64(7), object(1)\n",
      "memory usage: 256.0+ bytes\n",
      "None\n",
      "\n"
     ]
    },
    {
     "data": {
      "text/html": [
       "<div>\n",
       "<style scoped>\n",
       "    .dataframe tbody tr th:only-of-type {\n",
       "        vertical-align: middle;\n",
       "    }\n",
       "\n",
       "    .dataframe tbody tr th {\n",
       "        vertical-align: top;\n",
       "    }\n",
       "\n",
       "    .dataframe thead th {\n",
       "        text-align: right;\n",
       "    }\n",
       "</style>\n",
       "<table border=\"1\" class=\"dataframe\">\n",
       "  <thead>\n",
       "    <tr style=\"text-align: right;\">\n",
       "      <th></th>\n",
       "      <th>user_id</th>\n",
       "      <th>age</th>\n",
       "      <th>churn_date</th>\n",
       "      <th>city</th>\n",
       "      <th>first_name</th>\n",
       "      <th>last_name</th>\n",
       "      <th>reg_date</th>\n",
       "      <th>tariff</th>\n",
       "    </tr>\n",
       "  </thead>\n",
       "  <tbody>\n",
       "    <tr>\n",
       "      <th>0</th>\n",
       "      <td>1000</td>\n",
       "      <td>52</td>\n",
       "      <td>NaN</td>\n",
       "      <td>Краснодар</td>\n",
       "      <td>Рафаил</td>\n",
       "      <td>Верещагин</td>\n",
       "      <td>2018-05-25</td>\n",
       "      <td>ultra</td>\n",
       "    </tr>\n",
       "    <tr>\n",
       "      <th>1</th>\n",
       "      <td>1001</td>\n",
       "      <td>41</td>\n",
       "      <td>NaN</td>\n",
       "      <td>Москва</td>\n",
       "      <td>Иван</td>\n",
       "      <td>Ежов</td>\n",
       "      <td>2018-11-01</td>\n",
       "      <td>smart</td>\n",
       "    </tr>\n",
       "    <tr>\n",
       "      <th>2</th>\n",
       "      <td>1002</td>\n",
       "      <td>59</td>\n",
       "      <td>NaN</td>\n",
       "      <td>Стерлитамак</td>\n",
       "      <td>Евгений</td>\n",
       "      <td>Абрамович</td>\n",
       "      <td>2018-06-17</td>\n",
       "      <td>smart</td>\n",
       "    </tr>\n",
       "    <tr>\n",
       "      <th>3</th>\n",
       "      <td>1003</td>\n",
       "      <td>23</td>\n",
       "      <td>NaN</td>\n",
       "      <td>Москва</td>\n",
       "      <td>Белла</td>\n",
       "      <td>Белякова</td>\n",
       "      <td>2018-08-17</td>\n",
       "      <td>ultra</td>\n",
       "    </tr>\n",
       "    <tr>\n",
       "      <th>4</th>\n",
       "      <td>1004</td>\n",
       "      <td>68</td>\n",
       "      <td>NaN</td>\n",
       "      <td>Новокузнецк</td>\n",
       "      <td>Татьяна</td>\n",
       "      <td>Авдеенко</td>\n",
       "      <td>2018-05-14</td>\n",
       "      <td>ultra</td>\n",
       "    </tr>\n",
       "  </tbody>\n",
       "</table>\n",
       "</div>"
      ],
      "text/plain": [
       "   user_id  age churn_date         city first_name  last_name    reg_date  \\\n",
       "0     1000   52        NaN    Краснодар     Рафаил  Верещагин  2018-05-25   \n",
       "1     1001   41        NaN       Москва       Иван       Ежов  2018-11-01   \n",
       "2     1002   59        NaN  Стерлитамак    Евгений  Абрамович  2018-06-17   \n",
       "3     1003   23        NaN       Москва      Белла   Белякова  2018-08-17   \n",
       "4     1004   68        NaN  Новокузнецк    Татьяна   Авдеенко  2018-05-14   \n",
       "\n",
       "  tariff  \n",
       "0  ultra  \n",
       "1  smart  \n",
       "2  smart  \n",
       "3  ultra  \n",
       "4  ultra  "
      ]
     },
     "metadata": {},
     "output_type": "display_data"
    },
    {
     "name": "stdout",
     "output_type": "stream",
     "text": [
      "<class 'pandas.core.frame.DataFrame'>\n",
      "RangeIndex: 500 entries, 0 to 499\n",
      "Data columns (total 8 columns):\n",
      " #   Column      Non-Null Count  Dtype \n",
      "---  ------      --------------  ----- \n",
      " 0   user_id     500 non-null    int64 \n",
      " 1   age         500 non-null    int64 \n",
      " 2   churn_date  38 non-null     object\n",
      " 3   city        500 non-null    object\n",
      " 4   first_name  500 non-null    object\n",
      " 5   last_name   500 non-null    object\n",
      " 6   reg_date    500 non-null    object\n",
      " 7   tariff      500 non-null    object\n",
      "dtypes: int64(2), object(6)\n",
      "memory usage: 31.4+ KB\n",
      "None\n",
      "\n"
     ]
    }
   ],
   "source": [
    "for _ in [calls, internet, messages, tariffs, users]:\n",
    "    display(_.head())\n",
    "    print(_.info())\n",
    "    print()"
   ]
  },
  {
   "cell_type": "markdown",
   "id": "a40d0a12",
   "metadata": {},
   "source": [
    "### Выводы по п.1. Обзор данных:\n",
    "\n",
    "1. Есть пропущенные значения в столбце `churn_date` датафрейма `users`. Видимо, пропуск означает, что тариф еще действует.\n",
    "\n",
    "2. Тип данных в столбце:\n",
    "- `call_date` в датафрейме `call`\n",
    "- `session_date` в датафрейме `internet`\n",
    "- `message_date` в датафрейме `messeges`\n",
    "- `reg_date`, `churn_date` в датафрейме `users`\n",
    "<br>лучше заменить c object на datetime.\n",
    "\n",
    "3. Согласно вводным, можно округлить значения в стобце `duration` датасета `calls` вверх до целых минут\n",
    "\n",
    "4. В столбце `duration` датасета `calls` есть нули, но ими обозначены пропущенные звонки, поэтому их не нужно удалять.\n",
    "\n",
    "5. Есть лишний столбец в датафрейме `internet`"
   ]
  },
  {
   "cell_type": "markdown",
   "id": "d154b6b0",
   "metadata": {},
   "source": [
    "## 2. Предобработка данных и расчеты"
   ]
  },
  {
   "cell_type": "markdown",
   "id": "6831ecf2",
   "metadata": {},
   "source": [
    "### 2.1. Предобработка данных"
   ]
  },
  {
   "cell_type": "markdown",
   "id": "7e2025fa",
   "metadata": {},
   "source": [
    "#### 2.1.1. Датасет calls"
   ]
  },
  {
   "cell_type": "code",
   "execution_count": 4,
   "id": "72b577fa",
   "metadata": {},
   "outputs": [],
   "source": [
    "#заменяю тип данных с object на datetime:\n",
    "calls['call_date'] = pd.to_datetime(calls['call_date'], format='%Y-%m-%d')"
   ]
  },
  {
   "cell_type": "code",
   "execution_count": 5,
   "id": "5938c54e",
   "metadata": {},
   "outputs": [],
   "source": [
    "#округляю значения в duration:\n",
    "calls['duration'] = calls['duration'].apply(math.ceil)  "
   ]
  },
  {
   "cell_type": "code",
   "execution_count": 6,
   "id": "ff54c07d",
   "metadata": {},
   "outputs": [
    {
     "data": {
      "text/plain": [
       "0.19551644316336553"
      ]
     },
     "execution_count": 6,
     "metadata": {},
     "output_type": "execute_result"
    }
   ],
   "source": [
    "#проверяю долю  звонков с 0-вой продолжительностью:\n",
    "len(calls.query('duration == 0'))/len(calls['duration'])"
   ]
  },
  {
   "cell_type": "markdown",
   "id": "e58e43a0",
   "metadata": {},
   "source": [
    "Почти 20% звонков с 0-вой продолжительностью. Но поскольку в задании сказано, что это не ошибка, и нулями обозначены пропущенные звонки, то ни удалять, ни заменять не буду."
   ]
  },
  {
   "cell_type": "code",
   "execution_count": 7,
   "id": "2370aa4b",
   "metadata": {
    "scrolled": true
   },
   "outputs": [
    {
     "data": {
      "text/html": [
       "<div>\n",
       "<style scoped>\n",
       "    .dataframe tbody tr th:only-of-type {\n",
       "        vertical-align: middle;\n",
       "    }\n",
       "\n",
       "    .dataframe tbody tr th {\n",
       "        vertical-align: top;\n",
       "    }\n",
       "\n",
       "    .dataframe thead th {\n",
       "        text-align: right;\n",
       "    }\n",
       "</style>\n",
       "<table border=\"1\" class=\"dataframe\">\n",
       "  <thead>\n",
       "    <tr style=\"text-align: right;\">\n",
       "      <th></th>\n",
       "      <th>id</th>\n",
       "      <th>call_date</th>\n",
       "      <th>duration</th>\n",
       "      <th>user_id</th>\n",
       "      <th>month</th>\n",
       "    </tr>\n",
       "  </thead>\n",
       "  <tbody>\n",
       "    <tr>\n",
       "      <th>0</th>\n",
       "      <td>1000_0</td>\n",
       "      <td>2018-07-25</td>\n",
       "      <td>0</td>\n",
       "      <td>1000</td>\n",
       "      <td>July</td>\n",
       "    </tr>\n",
       "    <tr>\n",
       "      <th>1</th>\n",
       "      <td>1000_1</td>\n",
       "      <td>2018-08-17</td>\n",
       "      <td>0</td>\n",
       "      <td>1000</td>\n",
       "      <td>August</td>\n",
       "    </tr>\n",
       "    <tr>\n",
       "      <th>2</th>\n",
       "      <td>1000_2</td>\n",
       "      <td>2018-06-11</td>\n",
       "      <td>3</td>\n",
       "      <td>1000</td>\n",
       "      <td>June</td>\n",
       "    </tr>\n",
       "    <tr>\n",
       "      <th>3</th>\n",
       "      <td>1000_3</td>\n",
       "      <td>2018-09-21</td>\n",
       "      <td>14</td>\n",
       "      <td>1000</td>\n",
       "      <td>September</td>\n",
       "    </tr>\n",
       "    <tr>\n",
       "      <th>4</th>\n",
       "      <td>1000_4</td>\n",
       "      <td>2018-12-15</td>\n",
       "      <td>6</td>\n",
       "      <td>1000</td>\n",
       "      <td>December</td>\n",
       "    </tr>\n",
       "  </tbody>\n",
       "</table>\n",
       "</div>"
      ],
      "text/plain": [
       "       id  call_date  duration  user_id      month\n",
       "0  1000_0 2018-07-25         0     1000       July\n",
       "1  1000_1 2018-08-17         0     1000     August\n",
       "2  1000_2 2018-06-11         3     1000       June\n",
       "3  1000_3 2018-09-21        14     1000  September\n",
       "4  1000_4 2018-12-15         6     1000   December"
      ]
     },
     "execution_count": 7,
     "metadata": {},
     "output_type": "execute_result"
    }
   ],
   "source": [
    "#добавляю столбец с месяцем, так как в дальнейшем надо считать много помесячных показателей:\n",
    "calls['month'] = calls['call_date'].dt.month_name()\n",
    "calls.head()"
   ]
  },
  {
   "cell_type": "code",
   "execution_count": 8,
   "id": "c204b6f6",
   "metadata": {
    "scrolled": true
   },
   "outputs": [
    {
     "name": "stdout",
     "output_type": "stream",
     "text": [
      "<class 'pandas.core.frame.DataFrame'>\n",
      "RangeIndex: 202607 entries, 0 to 202606\n",
      "Data columns (total 5 columns):\n",
      " #   Column     Non-Null Count   Dtype         \n",
      "---  ------     --------------   -----         \n",
      " 0   id         202607 non-null  object        \n",
      " 1   call_date  202607 non-null  datetime64[ns]\n",
      " 2   duration   202607 non-null  int64         \n",
      " 3   user_id    202607 non-null  int64         \n",
      " 4   month      202607 non-null  object        \n",
      "dtypes: datetime64[ns](1), int64(2), object(2)\n",
      "memory usage: 7.7+ MB\n"
     ]
    }
   ],
   "source": [
    "#смотрю, как изменился датафрейм:\n",
    "calls.info()"
   ]
  },
  {
   "cell_type": "markdown",
   "id": "f6672d84",
   "metadata": {},
   "source": [
    "#### 2.1.2. Датафрейм internet"
   ]
  },
  {
   "cell_type": "code",
   "execution_count": 9,
   "id": "a45b23ff",
   "metadata": {},
   "outputs": [],
   "source": [
    "#заменяю тип данных с object на datetime:\n",
    "internet['session_date'] = pd.to_datetime(internet['session_date'], format='%Y-%m-%d')"
   ]
  },
  {
   "cell_type": "code",
   "execution_count": 10,
   "id": "3ec25776",
   "metadata": {},
   "outputs": [
    {
     "data": {
      "text/html": [
       "<div>\n",
       "<style scoped>\n",
       "    .dataframe tbody tr th:only-of-type {\n",
       "        vertical-align: middle;\n",
       "    }\n",
       "\n",
       "    .dataframe tbody tr th {\n",
       "        vertical-align: top;\n",
       "    }\n",
       "\n",
       "    .dataframe thead th {\n",
       "        text-align: right;\n",
       "    }\n",
       "</style>\n",
       "<table border=\"1\" class=\"dataframe\">\n",
       "  <thead>\n",
       "    <tr style=\"text-align: right;\">\n",
       "      <th></th>\n",
       "      <th>Unnamed: 0</th>\n",
       "      <th>id</th>\n",
       "      <th>mb_used</th>\n",
       "      <th>session_date</th>\n",
       "      <th>user_id</th>\n",
       "      <th>month</th>\n",
       "    </tr>\n",
       "  </thead>\n",
       "  <tbody>\n",
       "    <tr>\n",
       "      <th>0</th>\n",
       "      <td>0</td>\n",
       "      <td>1000_0</td>\n",
       "      <td>112.95</td>\n",
       "      <td>2018-11-25</td>\n",
       "      <td>1000</td>\n",
       "      <td>November</td>\n",
       "    </tr>\n",
       "    <tr>\n",
       "      <th>1</th>\n",
       "      <td>1</td>\n",
       "      <td>1000_1</td>\n",
       "      <td>1052.81</td>\n",
       "      <td>2018-09-07</td>\n",
       "      <td>1000</td>\n",
       "      <td>September</td>\n",
       "    </tr>\n",
       "    <tr>\n",
       "      <th>2</th>\n",
       "      <td>2</td>\n",
       "      <td>1000_2</td>\n",
       "      <td>1197.26</td>\n",
       "      <td>2018-06-25</td>\n",
       "      <td>1000</td>\n",
       "      <td>June</td>\n",
       "    </tr>\n",
       "    <tr>\n",
       "      <th>3</th>\n",
       "      <td>3</td>\n",
       "      <td>1000_3</td>\n",
       "      <td>550.27</td>\n",
       "      <td>2018-08-22</td>\n",
       "      <td>1000</td>\n",
       "      <td>August</td>\n",
       "    </tr>\n",
       "    <tr>\n",
       "      <th>4</th>\n",
       "      <td>4</td>\n",
       "      <td>1000_4</td>\n",
       "      <td>302.56</td>\n",
       "      <td>2018-09-24</td>\n",
       "      <td>1000</td>\n",
       "      <td>September</td>\n",
       "    </tr>\n",
       "  </tbody>\n",
       "</table>\n",
       "</div>"
      ],
      "text/plain": [
       "   Unnamed: 0      id  mb_used session_date  user_id      month\n",
       "0           0  1000_0   112.95   2018-11-25     1000   November\n",
       "1           1  1000_1  1052.81   2018-09-07     1000  September\n",
       "2           2  1000_2  1197.26   2018-06-25     1000       June\n",
       "3           3  1000_3   550.27   2018-08-22     1000     August\n",
       "4           4  1000_4   302.56   2018-09-24     1000  September"
      ]
     },
     "execution_count": 10,
     "metadata": {},
     "output_type": "execute_result"
    }
   ],
   "source": [
    "#добавляю столбец с месяцем:\n",
    "internet['month'] = internet['session_date'].dt.month_name()\n",
    "internet.head()"
   ]
  },
  {
   "cell_type": "code",
   "execution_count": 11,
   "id": "b46021eb",
   "metadata": {},
   "outputs": [
    {
     "data": {
      "text/plain": [
       "0.13118155773916304"
      ]
     },
     "execution_count": 11,
     "metadata": {},
     "output_type": "execute_result"
    }
   ],
   "source": [
    "#проверяю долю пользователей, которые не воспользовались интернетом:\n",
    "len(internet.query('mb_used == 0'))/len(internet['mb_used']) "
   ]
  },
  {
   "cell_type": "markdown",
   "id": "ba975e8e",
   "metadata": {},
   "source": [
    "Более 13%."
   ]
  },
  {
   "cell_type": "code",
   "execution_count": 12,
   "id": "40355dc0",
   "metadata": {
    "scrolled": true
   },
   "outputs": [],
   "source": [
    "#удаляю столбец `Unnamed: 0`:\n",
    "internet = internet.drop(columns=['Unnamed: 0'], axis=1)"
   ]
  },
  {
   "cell_type": "code",
   "execution_count": 13,
   "id": "0d0c859d",
   "metadata": {
    "scrolled": false
   },
   "outputs": [
    {
     "name": "stdout",
     "output_type": "stream",
     "text": [
      "<class 'pandas.core.frame.DataFrame'>\n",
      "RangeIndex: 149396 entries, 0 to 149395\n",
      "Data columns (total 5 columns):\n",
      " #   Column        Non-Null Count   Dtype         \n",
      "---  ------        --------------   -----         \n",
      " 0   id            149396 non-null  object        \n",
      " 1   mb_used       149396 non-null  float64       \n",
      " 2   session_date  149396 non-null  datetime64[ns]\n",
      " 3   user_id       149396 non-null  int64         \n",
      " 4   month         149396 non-null  object        \n",
      "dtypes: datetime64[ns](1), float64(1), int64(1), object(2)\n",
      "memory usage: 5.7+ MB\n"
     ]
    }
   ],
   "source": [
    "#смотрю, как изменился датафрейм:\n",
    "internet.info()"
   ]
  },
  {
   "cell_type": "markdown",
   "id": "19ccdce5",
   "metadata": {},
   "source": [
    "#### 2.1.3.  Датафрейм messages"
   ]
  },
  {
   "cell_type": "code",
   "execution_count": 14,
   "id": "c9b3862b",
   "metadata": {},
   "outputs": [],
   "source": [
    "#заменяю тип данных с object на datetime:\n",
    "messages['message_date'] = pd.to_datetime(messages['message_date'], format='%Y-%m-%d')"
   ]
  },
  {
   "cell_type": "code",
   "execution_count": 15,
   "id": "093ebf53",
   "metadata": {},
   "outputs": [
    {
     "data": {
      "text/html": [
       "<div>\n",
       "<style scoped>\n",
       "    .dataframe tbody tr th:only-of-type {\n",
       "        vertical-align: middle;\n",
       "    }\n",
       "\n",
       "    .dataframe tbody tr th {\n",
       "        vertical-align: top;\n",
       "    }\n",
       "\n",
       "    .dataframe thead th {\n",
       "        text-align: right;\n",
       "    }\n",
       "</style>\n",
       "<table border=\"1\" class=\"dataframe\">\n",
       "  <thead>\n",
       "    <tr style=\"text-align: right;\">\n",
       "      <th></th>\n",
       "      <th>id</th>\n",
       "      <th>message_date</th>\n",
       "      <th>user_id</th>\n",
       "      <th>month</th>\n",
       "    </tr>\n",
       "  </thead>\n",
       "  <tbody>\n",
       "    <tr>\n",
       "      <th>0</th>\n",
       "      <td>1000_0</td>\n",
       "      <td>2018-06-27</td>\n",
       "      <td>1000</td>\n",
       "      <td>June</td>\n",
       "    </tr>\n",
       "    <tr>\n",
       "      <th>1</th>\n",
       "      <td>1000_1</td>\n",
       "      <td>2018-10-08</td>\n",
       "      <td>1000</td>\n",
       "      <td>October</td>\n",
       "    </tr>\n",
       "    <tr>\n",
       "      <th>2</th>\n",
       "      <td>1000_2</td>\n",
       "      <td>2018-08-04</td>\n",
       "      <td>1000</td>\n",
       "      <td>August</td>\n",
       "    </tr>\n",
       "    <tr>\n",
       "      <th>3</th>\n",
       "      <td>1000_3</td>\n",
       "      <td>2018-06-16</td>\n",
       "      <td>1000</td>\n",
       "      <td>June</td>\n",
       "    </tr>\n",
       "    <tr>\n",
       "      <th>4</th>\n",
       "      <td>1000_4</td>\n",
       "      <td>2018-12-05</td>\n",
       "      <td>1000</td>\n",
       "      <td>December</td>\n",
       "    </tr>\n",
       "  </tbody>\n",
       "</table>\n",
       "</div>"
      ],
      "text/plain": [
       "       id message_date  user_id     month\n",
       "0  1000_0   2018-06-27     1000      June\n",
       "1  1000_1   2018-10-08     1000   October\n",
       "2  1000_2   2018-08-04     1000    August\n",
       "3  1000_3   2018-06-16     1000      June\n",
       "4  1000_4   2018-12-05     1000  December"
      ]
     },
     "execution_count": 15,
     "metadata": {},
     "output_type": "execute_result"
    }
   ],
   "source": [
    "#добавляю столбец с месяцем:\n",
    "messages['month'] = messages['message_date'].dt.month_name()\n",
    "messages.head()"
   ]
  },
  {
   "cell_type": "code",
   "execution_count": 16,
   "id": "661d6860",
   "metadata": {},
   "outputs": [
    {
     "name": "stdout",
     "output_type": "stream",
     "text": [
      "<class 'pandas.core.frame.DataFrame'>\n",
      "RangeIndex: 123036 entries, 0 to 123035\n",
      "Data columns (total 4 columns):\n",
      " #   Column        Non-Null Count   Dtype         \n",
      "---  ------        --------------   -----         \n",
      " 0   id            123036 non-null  object        \n",
      " 1   message_date  123036 non-null  datetime64[ns]\n",
      " 2   user_id       123036 non-null  int64         \n",
      " 3   month         123036 non-null  object        \n",
      "dtypes: datetime64[ns](1), int64(1), object(2)\n",
      "memory usage: 3.8+ MB\n"
     ]
    }
   ],
   "source": [
    "messages.info()"
   ]
  },
  {
   "cell_type": "markdown",
   "id": "92b67bd5",
   "metadata": {},
   "source": [
    "#### 2.1.4.  Датафрейм tariffs"
   ]
  },
  {
   "cell_type": "code",
   "execution_count": 17,
   "id": "662c7983",
   "metadata": {},
   "outputs": [],
   "source": [
    "#переименую столбец tariff_name в tariff, чтобы потом удобнее было объединять таблицы:\n",
    "tariffs = tariffs.rename(columns={'tariff_name':'tariff'}) "
   ]
  },
  {
   "cell_type": "code",
   "execution_count": 18,
   "id": "e348c1bb",
   "metadata": {},
   "outputs": [
    {
     "name": "stdout",
     "output_type": "stream",
     "text": [
      "<class 'pandas.core.frame.DataFrame'>\n",
      "RangeIndex: 2 entries, 0 to 1\n",
      "Data columns (total 8 columns):\n",
      " #   Column                 Non-Null Count  Dtype \n",
      "---  ------                 --------------  ----- \n",
      " 0   messages_included      2 non-null      int64 \n",
      " 1   mb_per_month_included  2 non-null      int64 \n",
      " 2   minutes_included       2 non-null      int64 \n",
      " 3   rub_monthly_fee        2 non-null      int64 \n",
      " 4   rub_per_gb             2 non-null      int64 \n",
      " 5   rub_per_message        2 non-null      int64 \n",
      " 6   rub_per_minute         2 non-null      int64 \n",
      " 7   tariff                 2 non-null      object\n",
      "dtypes: int64(7), object(1)\n",
      "memory usage: 256.0+ bytes\n"
     ]
    }
   ],
   "source": [
    "tariffs.info()"
   ]
  },
  {
   "cell_type": "markdown",
   "id": "a2cb8122",
   "metadata": {},
   "source": [
    "#### 2.1.5. Датафрейм users"
   ]
  },
  {
   "cell_type": "code",
   "execution_count": 19,
   "id": "e7661747",
   "metadata": {},
   "outputs": [
    {
     "data": {
      "text/html": [
       "<div>\n",
       "<style scoped>\n",
       "    .dataframe tbody tr th:only-of-type {\n",
       "        vertical-align: middle;\n",
       "    }\n",
       "\n",
       "    .dataframe tbody tr th {\n",
       "        vertical-align: top;\n",
       "    }\n",
       "\n",
       "    .dataframe thead th {\n",
       "        text-align: right;\n",
       "    }\n",
       "</style>\n",
       "<table border=\"1\" class=\"dataframe\">\n",
       "  <thead>\n",
       "    <tr style=\"text-align: right;\">\n",
       "      <th></th>\n",
       "      <th>user_id</th>\n",
       "      <th>age</th>\n",
       "      <th>churn_date</th>\n",
       "      <th>city</th>\n",
       "      <th>first_name</th>\n",
       "      <th>last_name</th>\n",
       "      <th>reg_date</th>\n",
       "      <th>tariff</th>\n",
       "    </tr>\n",
       "  </thead>\n",
       "  <tbody>\n",
       "    <tr>\n",
       "      <th>0</th>\n",
       "      <td>1000</td>\n",
       "      <td>52</td>\n",
       "      <td>NaT</td>\n",
       "      <td>Краснодар</td>\n",
       "      <td>Рафаил</td>\n",
       "      <td>Верещагин</td>\n",
       "      <td>2018-05-25</td>\n",
       "      <td>ultra</td>\n",
       "    </tr>\n",
       "    <tr>\n",
       "      <th>1</th>\n",
       "      <td>1001</td>\n",
       "      <td>41</td>\n",
       "      <td>NaT</td>\n",
       "      <td>Москва</td>\n",
       "      <td>Иван</td>\n",
       "      <td>Ежов</td>\n",
       "      <td>2018-11-01</td>\n",
       "      <td>smart</td>\n",
       "    </tr>\n",
       "    <tr>\n",
       "      <th>2</th>\n",
       "      <td>1002</td>\n",
       "      <td>59</td>\n",
       "      <td>NaT</td>\n",
       "      <td>Стерлитамак</td>\n",
       "      <td>Евгений</td>\n",
       "      <td>Абрамович</td>\n",
       "      <td>2018-06-17</td>\n",
       "      <td>smart</td>\n",
       "    </tr>\n",
       "    <tr>\n",
       "      <th>3</th>\n",
       "      <td>1003</td>\n",
       "      <td>23</td>\n",
       "      <td>NaT</td>\n",
       "      <td>Москва</td>\n",
       "      <td>Белла</td>\n",
       "      <td>Белякова</td>\n",
       "      <td>2018-08-17</td>\n",
       "      <td>ultra</td>\n",
       "    </tr>\n",
       "    <tr>\n",
       "      <th>4</th>\n",
       "      <td>1004</td>\n",
       "      <td>68</td>\n",
       "      <td>NaT</td>\n",
       "      <td>Новокузнецк</td>\n",
       "      <td>Татьяна</td>\n",
       "      <td>Авдеенко</td>\n",
       "      <td>2018-05-14</td>\n",
       "      <td>ultra</td>\n",
       "    </tr>\n",
       "  </tbody>\n",
       "</table>\n",
       "</div>"
      ],
      "text/plain": [
       "   user_id  age churn_date         city first_name  last_name   reg_date  \\\n",
       "0     1000   52        NaT    Краснодар     Рафаил  Верещагин 2018-05-25   \n",
       "1     1001   41        NaT       Москва       Иван       Ежов 2018-11-01   \n",
       "2     1002   59        NaT  Стерлитамак    Евгений  Абрамович 2018-06-17   \n",
       "3     1003   23        NaT       Москва      Белла   Белякова 2018-08-17   \n",
       "4     1004   68        NaT  Новокузнецк    Татьяна   Авдеенко 2018-05-14   \n",
       "\n",
       "  tariff  \n",
       "0  ultra  \n",
       "1  smart  \n",
       "2  smart  \n",
       "3  ultra  \n",
       "4  ultra  "
      ]
     },
     "execution_count": 19,
     "metadata": {},
     "output_type": "execute_result"
    }
   ],
   "source": [
    "#заменяю тип данных с object на datetime:\n",
    "users['reg_date'] = pd.to_datetime(users['reg_date'], format='%Y-%m-%d')\n",
    "users['churn_date'] = pd.to_datetime(users['churn_date'], format='%Y-%m-%d')\n",
    "users.head()"
   ]
  },
  {
   "cell_type": "code",
   "execution_count": 20,
   "id": "4e14803c",
   "metadata": {},
   "outputs": [],
   "source": [
    "#столбец 'churn_date' можно никак не заполнять, но для тренировки я заполню сегодняшней датой:\n",
    "users['churn_date'] = pd.to_datetime(users['churn_date'].fillna(value=date.today()), format='%Y-%m-%d')"
   ]
  },
  {
   "cell_type": "code",
   "execution_count": 21,
   "id": "98152e5a",
   "metadata": {},
   "outputs": [
    {
     "name": "stdout",
     "output_type": "stream",
     "text": [
      "<class 'pandas.core.frame.DataFrame'>\n",
      "RangeIndex: 500 entries, 0 to 499\n",
      "Data columns (total 8 columns):\n",
      " #   Column      Non-Null Count  Dtype         \n",
      "---  ------      --------------  -----         \n",
      " 0   user_id     500 non-null    int64         \n",
      " 1   age         500 non-null    int64         \n",
      " 2   churn_date  500 non-null    datetime64[ns]\n",
      " 3   city        500 non-null    object        \n",
      " 4   first_name  500 non-null    object        \n",
      " 5   last_name   500 non-null    object        \n",
      " 6   reg_date    500 non-null    datetime64[ns]\n",
      " 7   tariff      500 non-null    object        \n",
      "dtypes: datetime64[ns](2), int64(2), object(4)\n",
      "memory usage: 31.4+ KB\n"
     ]
    }
   ],
   "source": [
    "users.info()"
   ]
  },
  {
   "cell_type": "markdown",
   "id": "fba32bcc",
   "metadata": {},
   "source": [
    "### 2.2. Расчеты"
   ]
  },
  {
   "cell_type": "markdown",
   "id": "4f086d08",
   "metadata": {},
   "source": [
    "#### 2.2.1. Добавление необходимых для расчетов столбцов в датафреймы"
   ]
  },
  {
   "cell_type": "code",
   "execution_count": 22,
   "id": "daeb758b",
   "metadata": {
    "scrolled": true
   },
   "outputs": [
    {
     "data": {
      "text/plain": [
       "[(1000, 'ultra'),\n",
       " (1001, 'smart'),\n",
       " (1002, 'smart'),\n",
       " (1003, 'ultra'),\n",
       " (1004, 'ultra')]"
      ]
     },
     "execution_count": 22,
     "metadata": {},
     "output_type": "execute_result"
    }
   ],
   "source": [
    "#создаю словарь \"user_id: 'tariff'\", поскольку по user_id можно сопоставить данные из разных таблиц:\n",
    "user_id_tariff = {}\n",
    "\n",
    "def add_tariff(row):\n",
    "    user_id_tariff[row[0]] = row[7]\n",
    "    \n",
    "users.apply(add_tariff, axis=1)\n",
    "\n",
    "list(user_id_tariff.items())[:5]"
   ]
  },
  {
   "cell_type": "code",
   "execution_count": 23,
   "id": "f50b8e38",
   "metadata": {},
   "outputs": [],
   "source": [
    "#добавляю колонку с тарифами к датафреймам calls, internet и messages:\n",
    "calls['tariff'] = calls['user_id'].map(user_id_tariff)\n",
    "internet['tariff'] = internet['user_id'].map(user_id_tariff)\n",
    "messages['tariff'] = messages['user_id'].map(user_id_tariff)"
   ]
  },
  {
   "cell_type": "markdown",
   "id": "c1b4286d",
   "metadata": {},
   "source": [
    "#### 2.2.2. Количество сделанных звонков и израсходованных минут разговора по месяцам"
   ]
  },
  {
   "cell_type": "code",
   "execution_count": 24,
   "id": "dc27451e",
   "metadata": {},
   "outputs": [
    {
     "data": {
      "text/html": [
       "<div>\n",
       "<style scoped>\n",
       "    .dataframe tbody tr th:only-of-type {\n",
       "        vertical-align: middle;\n",
       "    }\n",
       "\n",
       "    .dataframe tbody tr th {\n",
       "        vertical-align: top;\n",
       "    }\n",
       "\n",
       "    .dataframe thead th {\n",
       "        text-align: right;\n",
       "    }\n",
       "</style>\n",
       "<table border=\"1\" class=\"dataframe\">\n",
       "  <thead>\n",
       "    <tr style=\"text-align: right;\">\n",
       "      <th></th>\n",
       "      <th></th>\n",
       "      <th>calls_quantity</th>\n",
       "      <th>calls_minutes</th>\n",
       "    </tr>\n",
       "    <tr>\n",
       "      <th>user_id</th>\n",
       "      <th>month</th>\n",
       "      <th></th>\n",
       "      <th></th>\n",
       "    </tr>\n",
       "  </thead>\n",
       "  <tbody>\n",
       "    <tr>\n",
       "      <th rowspan=\"5\" valign=\"top\">1000</th>\n",
       "      <th>August</th>\n",
       "      <td>52</td>\n",
       "      <td>408</td>\n",
       "    </tr>\n",
       "    <tr>\n",
       "      <th>December</th>\n",
       "      <td>46</td>\n",
       "      <td>333</td>\n",
       "    </tr>\n",
       "    <tr>\n",
       "      <th>July</th>\n",
       "      <td>47</td>\n",
       "      <td>340</td>\n",
       "    </tr>\n",
       "    <tr>\n",
       "      <th>June</th>\n",
       "      <td>43</td>\n",
       "      <td>172</td>\n",
       "    </tr>\n",
       "    <tr>\n",
       "      <th>May</th>\n",
       "      <td>22</td>\n",
       "      <td>159</td>\n",
       "    </tr>\n",
       "    <tr>\n",
       "      <th>...</th>\n",
       "      <th>...</th>\n",
       "      <td>...</td>\n",
       "      <td>...</td>\n",
       "    </tr>\n",
       "    <tr>\n",
       "      <th>1498</th>\n",
       "      <th>September</th>\n",
       "      <td>59</td>\n",
       "      <td>471</td>\n",
       "    </tr>\n",
       "    <tr>\n",
       "      <th rowspan=\"4\" valign=\"top\">1499</th>\n",
       "      <th>December</th>\n",
       "      <td>69</td>\n",
       "      <td>492</td>\n",
       "    </tr>\n",
       "    <tr>\n",
       "      <th>November</th>\n",
       "      <td>74</td>\n",
       "      <td>612</td>\n",
       "    </tr>\n",
       "    <tr>\n",
       "      <th>October</th>\n",
       "      <td>68</td>\n",
       "      <td>449</td>\n",
       "    </tr>\n",
       "    <tr>\n",
       "      <th>September</th>\n",
       "      <td>9</td>\n",
       "      <td>70</td>\n",
       "    </tr>\n",
       "  </tbody>\n",
       "</table>\n",
       "<p>3174 rows × 2 columns</p>\n",
       "</div>"
      ],
      "text/plain": [
       "                   calls_quantity  calls_minutes\n",
       "user_id month                                   \n",
       "1000    August                 52            408\n",
       "        December               46            333\n",
       "        July                   47            340\n",
       "        June                   43            172\n",
       "        May                    22            159\n",
       "...                           ...            ...\n",
       "1498    September              59            471\n",
       "1499    December               69            492\n",
       "        November               74            612\n",
       "        October                68            449\n",
       "        September               9             70\n",
       "\n",
       "[3174 rows x 2 columns]"
      ]
     },
     "execution_count": 24,
     "metadata": {},
     "output_type": "execute_result"
    }
   ],
   "source": [
    "#создаю сводную таблицу пользователей с кол-вом сделанных звонков и суммой минут по месяцам:\n",
    "calls_count_sum = calls.pivot_table(index=['user_id', 'month'],\n",
    "                                    values='duration',\n",
    "                                    aggfunc=['count', 'sum'])\n",
    "calls_count_sum.columns = ['calls_quantity', 'calls_minutes']\n",
    "calls_count_sum"
   ]
  },
  {
   "cell_type": "markdown",
   "id": "6efdaeb5",
   "metadata": {},
   "source": [
    "#### 2.2.3. Количество отправленных сообщений по месяцам"
   ]
  },
  {
   "cell_type": "code",
   "execution_count": 25,
   "id": "cbca39be",
   "metadata": {
    "scrolled": false
   },
   "outputs": [
    {
     "data": {
      "text/html": [
       "<div>\n",
       "<style scoped>\n",
       "    .dataframe tbody tr th:only-of-type {\n",
       "        vertical-align: middle;\n",
       "    }\n",
       "\n",
       "    .dataframe tbody tr th {\n",
       "        vertical-align: top;\n",
       "    }\n",
       "\n",
       "    .dataframe thead th {\n",
       "        text-align: right;\n",
       "    }\n",
       "</style>\n",
       "<table border=\"1\" class=\"dataframe\">\n",
       "  <thead>\n",
       "    <tr style=\"text-align: right;\">\n",
       "      <th></th>\n",
       "      <th></th>\n",
       "      <th>messages_quantity</th>\n",
       "    </tr>\n",
       "    <tr>\n",
       "      <th>user_id</th>\n",
       "      <th>month</th>\n",
       "      <th></th>\n",
       "    </tr>\n",
       "  </thead>\n",
       "  <tbody>\n",
       "    <tr>\n",
       "      <th rowspan=\"5\" valign=\"top\">1000</th>\n",
       "      <th>August</th>\n",
       "      <td>81</td>\n",
       "    </tr>\n",
       "    <tr>\n",
       "      <th>December</th>\n",
       "      <td>70</td>\n",
       "    </tr>\n",
       "    <tr>\n",
       "      <th>July</th>\n",
       "      <td>75</td>\n",
       "    </tr>\n",
       "    <tr>\n",
       "      <th>June</th>\n",
       "      <td>60</td>\n",
       "    </tr>\n",
       "    <tr>\n",
       "      <th>May</th>\n",
       "      <td>22</td>\n",
       "    </tr>\n",
       "    <tr>\n",
       "      <th>...</th>\n",
       "      <th>...</th>\n",
       "      <td>...</td>\n",
       "    </tr>\n",
       "    <tr>\n",
       "      <th>1498</th>\n",
       "      <th>September</th>\n",
       "      <td>44</td>\n",
       "    </tr>\n",
       "    <tr>\n",
       "      <th rowspan=\"4\" valign=\"top\">1499</th>\n",
       "      <th>December</th>\n",
       "      <td>66</td>\n",
       "    </tr>\n",
       "    <tr>\n",
       "      <th>November</th>\n",
       "      <td>59</td>\n",
       "    </tr>\n",
       "    <tr>\n",
       "      <th>October</th>\n",
       "      <td>48</td>\n",
       "    </tr>\n",
       "    <tr>\n",
       "      <th>September</th>\n",
       "      <td>11</td>\n",
       "    </tr>\n",
       "  </tbody>\n",
       "</table>\n",
       "<p>2717 rows × 1 columns</p>\n",
       "</div>"
      ],
      "text/plain": [
       "                   messages_quantity\n",
       "user_id month                       \n",
       "1000    August                    81\n",
       "        December                  70\n",
       "        July                      75\n",
       "        June                      60\n",
       "        May                       22\n",
       "...                              ...\n",
       "1498    September                 44\n",
       "1499    December                  66\n",
       "        November                  59\n",
       "        October                   48\n",
       "        September                 11\n",
       "\n",
       "[2717 rows x 1 columns]"
      ]
     },
     "execution_count": 25,
     "metadata": {},
     "output_type": "execute_result"
    }
   ],
   "source": [
    "#создаю сводную таблицу пользователей с кол-вом отправленных сообщений по месяцам:\n",
    "messages_count = messages.pivot_table(index=['user_id', 'month'],\n",
    "                                      values='id',\n",
    "                                      aggfunc=['count'])\n",
    "messages_count.columns = ['messages_quantity']\n",
    "messages_count"
   ]
  },
  {
   "cell_type": "markdown",
   "id": "59af77a1",
   "metadata": {},
   "source": [
    "#### 2.2.4. Объем израсходованного интернет-трафика по месяцам"
   ]
  },
  {
   "cell_type": "code",
   "execution_count": 26,
   "id": "0a043f2f",
   "metadata": {},
   "outputs": [
    {
     "data": {
      "text/html": [
       "<div>\n",
       "<style scoped>\n",
       "    .dataframe tbody tr th:only-of-type {\n",
       "        vertical-align: middle;\n",
       "    }\n",
       "\n",
       "    .dataframe tbody tr th {\n",
       "        vertical-align: top;\n",
       "    }\n",
       "\n",
       "    .dataframe thead th {\n",
       "        text-align: right;\n",
       "    }\n",
       "</style>\n",
       "<table border=\"1\" class=\"dataframe\">\n",
       "  <thead>\n",
       "    <tr style=\"text-align: right;\">\n",
       "      <th></th>\n",
       "      <th></th>\n",
       "      <th>traffic_volume</th>\n",
       "    </tr>\n",
       "    <tr>\n",
       "      <th>user_id</th>\n",
       "      <th>month</th>\n",
       "      <th></th>\n",
       "    </tr>\n",
       "  </thead>\n",
       "  <tbody>\n",
       "    <tr>\n",
       "      <th rowspan=\"5\" valign=\"top\">1000</th>\n",
       "      <th>August</th>\n",
       "      <td>14055.93</td>\n",
       "    </tr>\n",
       "    <tr>\n",
       "      <th>December</th>\n",
       "      <td>9817.61</td>\n",
       "    </tr>\n",
       "    <tr>\n",
       "      <th>July</th>\n",
       "      <td>14003.64</td>\n",
       "    </tr>\n",
       "    <tr>\n",
       "      <th>June</th>\n",
       "      <td>23233.77</td>\n",
       "    </tr>\n",
       "    <tr>\n",
       "      <th>May</th>\n",
       "      <td>2253.49</td>\n",
       "    </tr>\n",
       "    <tr>\n",
       "      <th>...</th>\n",
       "      <th>...</th>\n",
       "      <td>...</td>\n",
       "    </tr>\n",
       "    <tr>\n",
       "      <th>1498</th>\n",
       "      <th>September</th>\n",
       "      <td>22134.41</td>\n",
       "    </tr>\n",
       "    <tr>\n",
       "      <th rowspan=\"4\" valign=\"top\">1499</th>\n",
       "      <th>December</th>\n",
       "      <td>13055.58</td>\n",
       "    </tr>\n",
       "    <tr>\n",
       "      <th>November</th>\n",
       "      <td>17963.31</td>\n",
       "    </tr>\n",
       "    <tr>\n",
       "      <th>October</th>\n",
       "      <td>17788.51</td>\n",
       "    </tr>\n",
       "    <tr>\n",
       "      <th>September</th>\n",
       "      <td>1845.75</td>\n",
       "    </tr>\n",
       "  </tbody>\n",
       "</table>\n",
       "<p>3203 rows × 1 columns</p>\n",
       "</div>"
      ],
      "text/plain": [
       "                   traffic_volume\n",
       "user_id month                    \n",
       "1000    August           14055.93\n",
       "        December          9817.61\n",
       "        July             14003.64\n",
       "        June             23233.77\n",
       "        May               2253.49\n",
       "...                           ...\n",
       "1498    September        22134.41\n",
       "1499    December         13055.58\n",
       "        November         17963.31\n",
       "        October          17788.51\n",
       "        September         1845.75\n",
       "\n",
       "[3203 rows x 1 columns]"
      ]
     },
     "execution_count": 26,
     "metadata": {},
     "output_type": "execute_result"
    }
   ],
   "source": [
    "#создаю сводную таблицу пользователей с объемом израсходованного интернет-трафика по месяцам:\n",
    "internet_sum = internet.pivot_table(index=['user_id', 'month'],\n",
    "                                    values='mb_used',\n",
    "                                    aggfunc=['sum'])\n",
    "internet_sum.columns = ['traffic_volume']\n",
    "internet_sum"
   ]
  },
  {
   "cell_type": "markdown",
   "id": "b1b48094",
   "metadata": {},
   "source": [
    "#### 2.2.5. Помесячная выручка с каждого пользователя"
   ]
  },
  {
   "cell_type": "code",
   "execution_count": 27,
   "id": "4f99e0c4",
   "metadata": {},
   "outputs": [
    {
     "name": "stdout",
     "output_type": "stream",
     "text": [
      "<class 'pandas.core.frame.DataFrame'>\n",
      "Int64Index: 3182 entries, 0 to 3181\n",
      "Data columns (total 21 columns):\n",
      " #   Column                 Non-Null Count  Dtype         \n",
      "---  ------                 --------------  -----         \n",
      " 0   user_id                3182 non-null   int64         \n",
      " 1   age                    3182 non-null   int64         \n",
      " 2   churn_date             3182 non-null   datetime64[ns]\n",
      " 3   city                   3182 non-null   object        \n",
      " 4   first_name             3182 non-null   object        \n",
      " 5   last_name              3182 non-null   object        \n",
      " 6   reg_date               3182 non-null   datetime64[ns]\n",
      " 7   tariff                 3182 non-null   object        \n",
      " 8   month                  3174 non-null   object        \n",
      " 9   calls_quantity         3174 non-null   float64       \n",
      " 10  calls_minutes          3174 non-null   float64       \n",
      " 11  messages_quantity      2678 non-null   float64       \n",
      " 12  traffic_volume         3163 non-null   float64       \n",
      " 13  index                  3182 non-null   int64         \n",
      " 14  messages_included      3182 non-null   int64         \n",
      " 15  mb_per_month_included  3182 non-null   int64         \n",
      " 16  minutes_included       3182 non-null   int64         \n",
      " 17  rub_monthly_fee        3182 non-null   int64         \n",
      " 18  rub_per_gb             3182 non-null   int64         \n",
      " 19  rub_per_message        3182 non-null   int64         \n",
      " 20  rub_per_minute         3182 non-null   int64         \n",
      "dtypes: datetime64[ns](2), float64(4), int64(10), object(5)\n",
      "memory usage: 546.9+ KB\n"
     ]
    }
   ],
   "source": [
    "#объединяю датафрейм users c датафреймами, полученными выше, и датафреймом tariffs:\n",
    "all_data = users.merge(calls_count_sum.reset_index(), how='left').\\\n",
    "                 merge(messages_count.reset_index(), how='left').\\\n",
    "                 merge(internet_sum.reset_index(), how='left').\\\n",
    "                 merge(tariffs.reset_index(), how='left')\n",
    "\n",
    "all_data.info()"
   ]
  },
  {
   "cell_type": "code",
   "execution_count": 28,
   "id": "6d2334af",
   "metadata": {},
   "outputs": [
    {
     "name": "stdout",
     "output_type": "stream",
     "text": [
      "<class 'pandas.core.frame.DataFrame'>\n",
      "Int64Index: 3182 entries, 0 to 3181\n",
      "Data columns (total 15 columns):\n",
      " #   Column                 Non-Null Count  Dtype  \n",
      "---  ------                 --------------  -----  \n",
      " 0   user_id                3182 non-null   int64  \n",
      " 1   city                   3182 non-null   object \n",
      " 2   tariff                 3182 non-null   object \n",
      " 3   month                  3174 non-null   object \n",
      " 4   calls_quantity         3174 non-null   float64\n",
      " 5   calls_minutes          3174 non-null   float64\n",
      " 6   messages_quantity      2678 non-null   float64\n",
      " 7   traffic_volume         3163 non-null   float64\n",
      " 8   messages_included      3182 non-null   int64  \n",
      " 9   mb_per_month_included  3182 non-null   int64  \n",
      " 10  minutes_included       3182 non-null   int64  \n",
      " 11  rub_monthly_fee        3182 non-null   int64  \n",
      " 12  rub_per_gb             3182 non-null   int64  \n",
      " 13  rub_per_message        3182 non-null   int64  \n",
      " 14  rub_per_minute         3182 non-null   int64  \n",
      "dtypes: float64(4), int64(8), object(3)\n",
      "memory usage: 397.8+ KB\n"
     ]
    }
   ],
   "source": [
    "#уберу из таблицы столбцы, не участвующие в дальнейшем анализе:\n",
    "all_data = all_data.drop(columns=['age',\n",
    "                                  'churn_date',\n",
    "                                  'first_name',\n",
    "                                  'last_name',\n",
    "                                  'reg_date',\n",
    "                                  'index'],\n",
    "                         axis=1)\n",
    "all_data.info()"
   ]
  },
  {
   "cell_type": "code",
   "execution_count": 29,
   "id": "7b253b86",
   "metadata": {},
   "outputs": [],
   "source": [
    "#в новой таблице есть пропуски в столбцах, заполню их нулями, чтобы обозначить тех, кто не пользовался услугами:\n",
    "all_data['month'] = all_data['month'].fillna(0)\n",
    "all_data['calls_quantity'] = all_data['calls_quantity'].fillna(0)\n",
    "all_data['calls_minutes'] = all_data['calls_minutes'].fillna(0)\n",
    "all_data['messages_quantity'] = all_data['messages_quantity'].fillna(0)\n",
    "all_data['traffic_volume'] = all_data['traffic_volume'].fillna(0)"
   ]
  },
  {
   "cell_type": "code",
   "execution_count": 30,
   "id": "5a900663",
   "metadata": {
    "scrolled": false
   },
   "outputs": [
    {
     "data": {
      "text/plain": [
       "0.00251414204902577"
      ]
     },
     "execution_count": 30,
     "metadata": {},
     "output_type": "execute_result"
    }
   ],
   "source": [
    "#в новой таблице есть строки, где нет месяца (вернее, он нулевой после замены выше), их можно убрать\n",
    "\n",
    "#проверяю, какой % данных будет убран:\n",
    "len(all_data.query('month == 0'))/len(all_data['month'])"
   ]
  },
  {
   "cell_type": "code",
   "execution_count": 31,
   "id": "5057a2b5",
   "metadata": {},
   "outputs": [],
   "source": [
    "#убираю строки в нулевым месяцем из таблицы, так как их очень мало (0.2%):\n",
    "all_data = all_data[all_data['month'] != 0]"
   ]
  },
  {
   "cell_type": "code",
   "execution_count": 32,
   "id": "4fa04d19",
   "metadata": {
    "scrolled": true
   },
   "outputs": [],
   "source": [
    "#переведу значения в столбцах 'calls_quantity', 'calls_minutes', 'messages_quantity', 'traffic_volume' в int:\n",
    "all_data['calls_quantity'] = all_data['calls_quantity'].astype('int') \n",
    "all_data['calls_minutes'] = all_data['calls_minutes'].astype('int') \n",
    "all_data['messages_quantity'] = all_data['messages_quantity'].astype('int') \n",
    "all_data['traffic_volume'] = all_data['traffic_volume'].astype('int') "
   ]
  },
  {
   "cell_type": "code",
   "execution_count": 33,
   "id": "c5f0a998",
   "metadata": {},
   "outputs": [],
   "source": [
    "#считаю помесячную выручку с каждого пользователя:\n",
    "all_data['calls_revenue'] = (all_data['calls_minutes'] - \\\n",
    "                             all_data['minutes_included']) * all_data['rub_per_minute']\n",
    "all_data['messages_revenue'] = (all_data['messages_quantity'] - \\\n",
    "                                all_data['messages_included']) * all_data['rub_per_message'] \n",
    "\n",
    "#в условии сказано, что использованный трафик округляется вверх до гигабайтов\n",
    "all_data['internet_revenue'] = ((all_data['traffic_volume'] - \\\n",
    "                                 all_data['mb_per_month_included']) / 1024).apply(math.ceil) * all_data['rub_per_gb'] "
   ]
  },
  {
   "cell_type": "code",
   "execution_count": 34,
   "id": "ab65551c",
   "metadata": {
    "scrolled": false
   },
   "outputs": [
    {
     "data": {
      "text/html": [
       "<div>\n",
       "<style scoped>\n",
       "    .dataframe tbody tr th:only-of-type {\n",
       "        vertical-align: middle;\n",
       "    }\n",
       "\n",
       "    .dataframe tbody tr th {\n",
       "        vertical-align: top;\n",
       "    }\n",
       "\n",
       "    .dataframe thead th {\n",
       "        text-align: right;\n",
       "    }\n",
       "</style>\n",
       "<table border=\"1\" class=\"dataframe\">\n",
       "  <thead>\n",
       "    <tr style=\"text-align: right;\">\n",
       "      <th></th>\n",
       "      <th>user_id</th>\n",
       "      <th>city</th>\n",
       "      <th>tariff</th>\n",
       "      <th>month</th>\n",
       "      <th>calls_quantity</th>\n",
       "      <th>calls_minutes</th>\n",
       "      <th>messages_quantity</th>\n",
       "      <th>traffic_volume</th>\n",
       "      <th>messages_included</th>\n",
       "      <th>mb_per_month_included</th>\n",
       "      <th>minutes_included</th>\n",
       "      <th>rub_monthly_fee</th>\n",
       "      <th>rub_per_gb</th>\n",
       "      <th>rub_per_message</th>\n",
       "      <th>rub_per_minute</th>\n",
       "      <th>calls_revenue</th>\n",
       "      <th>messages_revenue</th>\n",
       "      <th>internet_revenue</th>\n",
       "    </tr>\n",
       "  </thead>\n",
       "  <tbody>\n",
       "    <tr>\n",
       "      <th>0</th>\n",
       "      <td>1000</td>\n",
       "      <td>Краснодар</td>\n",
       "      <td>ultra</td>\n",
       "      <td>August</td>\n",
       "      <td>52</td>\n",
       "      <td>408</td>\n",
       "      <td>81</td>\n",
       "      <td>14055</td>\n",
       "      <td>1000</td>\n",
       "      <td>30720</td>\n",
       "      <td>3000</td>\n",
       "      <td>1950</td>\n",
       "      <td>150</td>\n",
       "      <td>1</td>\n",
       "      <td>1</td>\n",
       "      <td>-2592</td>\n",
       "      <td>-919</td>\n",
       "      <td>-2400</td>\n",
       "    </tr>\n",
       "    <tr>\n",
       "      <th>1</th>\n",
       "      <td>1000</td>\n",
       "      <td>Краснодар</td>\n",
       "      <td>ultra</td>\n",
       "      <td>December</td>\n",
       "      <td>46</td>\n",
       "      <td>333</td>\n",
       "      <td>70</td>\n",
       "      <td>9817</td>\n",
       "      <td>1000</td>\n",
       "      <td>30720</td>\n",
       "      <td>3000</td>\n",
       "      <td>1950</td>\n",
       "      <td>150</td>\n",
       "      <td>1</td>\n",
       "      <td>1</td>\n",
       "      <td>-2667</td>\n",
       "      <td>-930</td>\n",
       "      <td>-3000</td>\n",
       "    </tr>\n",
       "    <tr>\n",
       "      <th>2</th>\n",
       "      <td>1000</td>\n",
       "      <td>Краснодар</td>\n",
       "      <td>ultra</td>\n",
       "      <td>July</td>\n",
       "      <td>47</td>\n",
       "      <td>340</td>\n",
       "      <td>75</td>\n",
       "      <td>14003</td>\n",
       "      <td>1000</td>\n",
       "      <td>30720</td>\n",
       "      <td>3000</td>\n",
       "      <td>1950</td>\n",
       "      <td>150</td>\n",
       "      <td>1</td>\n",
       "      <td>1</td>\n",
       "      <td>-2660</td>\n",
       "      <td>-925</td>\n",
       "      <td>-2400</td>\n",
       "    </tr>\n",
       "    <tr>\n",
       "      <th>3</th>\n",
       "      <td>1000</td>\n",
       "      <td>Краснодар</td>\n",
       "      <td>ultra</td>\n",
       "      <td>June</td>\n",
       "      <td>43</td>\n",
       "      <td>172</td>\n",
       "      <td>60</td>\n",
       "      <td>23233</td>\n",
       "      <td>1000</td>\n",
       "      <td>30720</td>\n",
       "      <td>3000</td>\n",
       "      <td>1950</td>\n",
       "      <td>150</td>\n",
       "      <td>1</td>\n",
       "      <td>1</td>\n",
       "      <td>-2828</td>\n",
       "      <td>-940</td>\n",
       "      <td>-1050</td>\n",
       "    </tr>\n",
       "    <tr>\n",
       "      <th>4</th>\n",
       "      <td>1000</td>\n",
       "      <td>Краснодар</td>\n",
       "      <td>ultra</td>\n",
       "      <td>May</td>\n",
       "      <td>22</td>\n",
       "      <td>159</td>\n",
       "      <td>22</td>\n",
       "      <td>2253</td>\n",
       "      <td>1000</td>\n",
       "      <td>30720</td>\n",
       "      <td>3000</td>\n",
       "      <td>1950</td>\n",
       "      <td>150</td>\n",
       "      <td>1</td>\n",
       "      <td>1</td>\n",
       "      <td>-2841</td>\n",
       "      <td>-978</td>\n",
       "      <td>-4050</td>\n",
       "    </tr>\n",
       "  </tbody>\n",
       "</table>\n",
       "</div>"
      ],
      "text/plain": [
       "   user_id       city tariff     month  calls_quantity  calls_minutes  \\\n",
       "0     1000  Краснодар  ultra    August              52            408   \n",
       "1     1000  Краснодар  ultra  December              46            333   \n",
       "2     1000  Краснодар  ultra      July              47            340   \n",
       "3     1000  Краснодар  ultra      June              43            172   \n",
       "4     1000  Краснодар  ultra       May              22            159   \n",
       "\n",
       "   messages_quantity  traffic_volume  messages_included  \\\n",
       "0                 81           14055               1000   \n",
       "1                 70            9817               1000   \n",
       "2                 75           14003               1000   \n",
       "3                 60           23233               1000   \n",
       "4                 22            2253               1000   \n",
       "\n",
       "   mb_per_month_included  minutes_included  rub_monthly_fee  rub_per_gb  \\\n",
       "0                  30720              3000             1950         150   \n",
       "1                  30720              3000             1950         150   \n",
       "2                  30720              3000             1950         150   \n",
       "3                  30720              3000             1950         150   \n",
       "4                  30720              3000             1950         150   \n",
       "\n",
       "   rub_per_message  rub_per_minute  calls_revenue  messages_revenue  \\\n",
       "0                1               1          -2592              -919   \n",
       "1                1               1          -2667              -930   \n",
       "2                1               1          -2660              -925   \n",
       "3                1               1          -2828              -940   \n",
       "4                1               1          -2841              -978   \n",
       "\n",
       "   internet_revenue  \n",
       "0             -2400  \n",
       "1             -3000  \n",
       "2             -2400  \n",
       "3             -1050  \n",
       "4             -4050  "
      ]
     },
     "execution_count": 34,
     "metadata": {},
     "output_type": "execute_result"
    }
   ],
   "source": [
    "all_data.head()"
   ]
  },
  {
   "cell_type": "markdown",
   "id": "1eed0a1e",
   "metadata": {},
   "source": [
    "В датафрейме есть отрицательные значения в выручке в тех строках, где клиенты просто не выбрали лимит по звонкам, сообщениям или трафику. Но в данном случае отрицательной прибыли быть не может, так как есть абонентская плата, поэтому заменю отрицательные значения на нули, а затем прибавлю абоненскую плату. "
   ]
  },
  {
   "cell_type": "code",
   "execution_count": 35,
   "id": "db84ed64",
   "metadata": {},
   "outputs": [],
   "source": [
    "#заменяю отрицательные значения в прибыли на нули:\n",
    "all_data.loc[(all_data.calls_revenue < 0), 'calls_revenue'] = 0\n",
    "all_data.loc[(all_data.messages_revenue < 0), 'messages_revenue'] = 0\n",
    "all_data.loc[(all_data.internet_revenue < 0), 'internet_revenue'] = 0"
   ]
  },
  {
   "cell_type": "code",
   "execution_count": 36,
   "id": "45165adb",
   "metadata": {},
   "outputs": [],
   "source": [
    "#создаю общий столбец `revenue`, в котором складываю абонентскую плату и прибыли по звонкам, сообщениям и трафику:\n",
    "all_data['revenue'] = all_data['rub_monthly_fee'] + \\\n",
    "                      all_data['calls_revenue'] + \\\n",
    "                      all_data['messages_revenue'] + \\\n",
    "                      all_data['internet_revenue']"
   ]
  },
  {
   "cell_type": "code",
   "execution_count": 37,
   "id": "4b30b867",
   "metadata": {
    "scrolled": false
   },
   "outputs": [
    {
     "data": {
      "text/html": [
       "<div>\n",
       "<style scoped>\n",
       "    .dataframe tbody tr th:only-of-type {\n",
       "        vertical-align: middle;\n",
       "    }\n",
       "\n",
       "    .dataframe tbody tr th {\n",
       "        vertical-align: top;\n",
       "    }\n",
       "\n",
       "    .dataframe thead th {\n",
       "        text-align: right;\n",
       "    }\n",
       "</style>\n",
       "<table border=\"1\" class=\"dataframe\">\n",
       "  <thead>\n",
       "    <tr style=\"text-align: right;\">\n",
       "      <th></th>\n",
       "      <th>user_id</th>\n",
       "      <th>city</th>\n",
       "      <th>tariff</th>\n",
       "      <th>month</th>\n",
       "      <th>calls_quantity</th>\n",
       "      <th>calls_minutes</th>\n",
       "      <th>messages_quantity</th>\n",
       "      <th>traffic_volume</th>\n",
       "      <th>messages_included</th>\n",
       "      <th>mb_per_month_included</th>\n",
       "      <th>minutes_included</th>\n",
       "      <th>rub_monthly_fee</th>\n",
       "      <th>rub_per_gb</th>\n",
       "      <th>rub_per_message</th>\n",
       "      <th>rub_per_minute</th>\n",
       "      <th>calls_revenue</th>\n",
       "      <th>messages_revenue</th>\n",
       "      <th>internet_revenue</th>\n",
       "      <th>revenue</th>\n",
       "    </tr>\n",
       "  </thead>\n",
       "  <tbody>\n",
       "    <tr>\n",
       "      <th>0</th>\n",
       "      <td>1000</td>\n",
       "      <td>Краснодар</td>\n",
       "      <td>ultra</td>\n",
       "      <td>August</td>\n",
       "      <td>52</td>\n",
       "      <td>408</td>\n",
       "      <td>81</td>\n",
       "      <td>14055</td>\n",
       "      <td>1000</td>\n",
       "      <td>30720</td>\n",
       "      <td>3000</td>\n",
       "      <td>1950</td>\n",
       "      <td>150</td>\n",
       "      <td>1</td>\n",
       "      <td>1</td>\n",
       "      <td>0</td>\n",
       "      <td>0</td>\n",
       "      <td>0</td>\n",
       "      <td>1950</td>\n",
       "    </tr>\n",
       "    <tr>\n",
       "      <th>1</th>\n",
       "      <td>1000</td>\n",
       "      <td>Краснодар</td>\n",
       "      <td>ultra</td>\n",
       "      <td>December</td>\n",
       "      <td>46</td>\n",
       "      <td>333</td>\n",
       "      <td>70</td>\n",
       "      <td>9817</td>\n",
       "      <td>1000</td>\n",
       "      <td>30720</td>\n",
       "      <td>3000</td>\n",
       "      <td>1950</td>\n",
       "      <td>150</td>\n",
       "      <td>1</td>\n",
       "      <td>1</td>\n",
       "      <td>0</td>\n",
       "      <td>0</td>\n",
       "      <td>0</td>\n",
       "      <td>1950</td>\n",
       "    </tr>\n",
       "    <tr>\n",
       "      <th>2</th>\n",
       "      <td>1000</td>\n",
       "      <td>Краснодар</td>\n",
       "      <td>ultra</td>\n",
       "      <td>July</td>\n",
       "      <td>47</td>\n",
       "      <td>340</td>\n",
       "      <td>75</td>\n",
       "      <td>14003</td>\n",
       "      <td>1000</td>\n",
       "      <td>30720</td>\n",
       "      <td>3000</td>\n",
       "      <td>1950</td>\n",
       "      <td>150</td>\n",
       "      <td>1</td>\n",
       "      <td>1</td>\n",
       "      <td>0</td>\n",
       "      <td>0</td>\n",
       "      <td>0</td>\n",
       "      <td>1950</td>\n",
       "    </tr>\n",
       "    <tr>\n",
       "      <th>3</th>\n",
       "      <td>1000</td>\n",
       "      <td>Краснодар</td>\n",
       "      <td>ultra</td>\n",
       "      <td>June</td>\n",
       "      <td>43</td>\n",
       "      <td>172</td>\n",
       "      <td>60</td>\n",
       "      <td>23233</td>\n",
       "      <td>1000</td>\n",
       "      <td>30720</td>\n",
       "      <td>3000</td>\n",
       "      <td>1950</td>\n",
       "      <td>150</td>\n",
       "      <td>1</td>\n",
       "      <td>1</td>\n",
       "      <td>0</td>\n",
       "      <td>0</td>\n",
       "      <td>0</td>\n",
       "      <td>1950</td>\n",
       "    </tr>\n",
       "    <tr>\n",
       "      <th>4</th>\n",
       "      <td>1000</td>\n",
       "      <td>Краснодар</td>\n",
       "      <td>ultra</td>\n",
       "      <td>May</td>\n",
       "      <td>22</td>\n",
       "      <td>159</td>\n",
       "      <td>22</td>\n",
       "      <td>2253</td>\n",
       "      <td>1000</td>\n",
       "      <td>30720</td>\n",
       "      <td>3000</td>\n",
       "      <td>1950</td>\n",
       "      <td>150</td>\n",
       "      <td>1</td>\n",
       "      <td>1</td>\n",
       "      <td>0</td>\n",
       "      <td>0</td>\n",
       "      <td>0</td>\n",
       "      <td>1950</td>\n",
       "    </tr>\n",
       "    <tr>\n",
       "      <th>...</th>\n",
       "      <td>...</td>\n",
       "      <td>...</td>\n",
       "      <td>...</td>\n",
       "      <td>...</td>\n",
       "      <td>...</td>\n",
       "      <td>...</td>\n",
       "      <td>...</td>\n",
       "      <td>...</td>\n",
       "      <td>...</td>\n",
       "      <td>...</td>\n",
       "      <td>...</td>\n",
       "      <td>...</td>\n",
       "      <td>...</td>\n",
       "      <td>...</td>\n",
       "      <td>...</td>\n",
       "      <td>...</td>\n",
       "      <td>...</td>\n",
       "      <td>...</td>\n",
       "      <td>...</td>\n",
       "    </tr>\n",
       "    <tr>\n",
       "      <th>3177</th>\n",
       "      <td>1498</td>\n",
       "      <td>Владикавказ</td>\n",
       "      <td>smart</td>\n",
       "      <td>September</td>\n",
       "      <td>59</td>\n",
       "      <td>471</td>\n",
       "      <td>44</td>\n",
       "      <td>22134</td>\n",
       "      <td>50</td>\n",
       "      <td>15360</td>\n",
       "      <td>500</td>\n",
       "      <td>550</td>\n",
       "      <td>200</td>\n",
       "      <td>3</td>\n",
       "      <td>3</td>\n",
       "      <td>0</td>\n",
       "      <td>0</td>\n",
       "      <td>1400</td>\n",
       "      <td>1950</td>\n",
       "    </tr>\n",
       "    <tr>\n",
       "      <th>3178</th>\n",
       "      <td>1499</td>\n",
       "      <td>Пермь</td>\n",
       "      <td>smart</td>\n",
       "      <td>December</td>\n",
       "      <td>69</td>\n",
       "      <td>492</td>\n",
       "      <td>66</td>\n",
       "      <td>13055</td>\n",
       "      <td>50</td>\n",
       "      <td>15360</td>\n",
       "      <td>500</td>\n",
       "      <td>550</td>\n",
       "      <td>200</td>\n",
       "      <td>3</td>\n",
       "      <td>3</td>\n",
       "      <td>0</td>\n",
       "      <td>48</td>\n",
       "      <td>0</td>\n",
       "      <td>598</td>\n",
       "    </tr>\n",
       "    <tr>\n",
       "      <th>3179</th>\n",
       "      <td>1499</td>\n",
       "      <td>Пермь</td>\n",
       "      <td>smart</td>\n",
       "      <td>November</td>\n",
       "      <td>74</td>\n",
       "      <td>612</td>\n",
       "      <td>59</td>\n",
       "      <td>17963</td>\n",
       "      <td>50</td>\n",
       "      <td>15360</td>\n",
       "      <td>500</td>\n",
       "      <td>550</td>\n",
       "      <td>200</td>\n",
       "      <td>3</td>\n",
       "      <td>3</td>\n",
       "      <td>336</td>\n",
       "      <td>27</td>\n",
       "      <td>600</td>\n",
       "      <td>1513</td>\n",
       "    </tr>\n",
       "    <tr>\n",
       "      <th>3180</th>\n",
       "      <td>1499</td>\n",
       "      <td>Пермь</td>\n",
       "      <td>smart</td>\n",
       "      <td>October</td>\n",
       "      <td>68</td>\n",
       "      <td>449</td>\n",
       "      <td>48</td>\n",
       "      <td>17788</td>\n",
       "      <td>50</td>\n",
       "      <td>15360</td>\n",
       "      <td>500</td>\n",
       "      <td>550</td>\n",
       "      <td>200</td>\n",
       "      <td>3</td>\n",
       "      <td>3</td>\n",
       "      <td>0</td>\n",
       "      <td>0</td>\n",
       "      <td>600</td>\n",
       "      <td>1150</td>\n",
       "    </tr>\n",
       "    <tr>\n",
       "      <th>3181</th>\n",
       "      <td>1499</td>\n",
       "      <td>Пермь</td>\n",
       "      <td>smart</td>\n",
       "      <td>September</td>\n",
       "      <td>9</td>\n",
       "      <td>70</td>\n",
       "      <td>11</td>\n",
       "      <td>1845</td>\n",
       "      <td>50</td>\n",
       "      <td>15360</td>\n",
       "      <td>500</td>\n",
       "      <td>550</td>\n",
       "      <td>200</td>\n",
       "      <td>3</td>\n",
       "      <td>3</td>\n",
       "      <td>0</td>\n",
       "      <td>0</td>\n",
       "      <td>0</td>\n",
       "      <td>550</td>\n",
       "    </tr>\n",
       "  </tbody>\n",
       "</table>\n",
       "<p>3174 rows × 19 columns</p>\n",
       "</div>"
      ],
      "text/plain": [
       "      user_id         city tariff      month  calls_quantity  calls_minutes  \\\n",
       "0        1000    Краснодар  ultra     August              52            408   \n",
       "1        1000    Краснодар  ultra   December              46            333   \n",
       "2        1000    Краснодар  ultra       July              47            340   \n",
       "3        1000    Краснодар  ultra       June              43            172   \n",
       "4        1000    Краснодар  ultra        May              22            159   \n",
       "...       ...          ...    ...        ...             ...            ...   \n",
       "3177     1498  Владикавказ  smart  September              59            471   \n",
       "3178     1499        Пермь  smart   December              69            492   \n",
       "3179     1499        Пермь  smart   November              74            612   \n",
       "3180     1499        Пермь  smart    October              68            449   \n",
       "3181     1499        Пермь  smart  September               9             70   \n",
       "\n",
       "      messages_quantity  traffic_volume  messages_included  \\\n",
       "0                    81           14055               1000   \n",
       "1                    70            9817               1000   \n",
       "2                    75           14003               1000   \n",
       "3                    60           23233               1000   \n",
       "4                    22            2253               1000   \n",
       "...                 ...             ...                ...   \n",
       "3177                 44           22134                 50   \n",
       "3178                 66           13055                 50   \n",
       "3179                 59           17963                 50   \n",
       "3180                 48           17788                 50   \n",
       "3181                 11            1845                 50   \n",
       "\n",
       "      mb_per_month_included  minutes_included  rub_monthly_fee  rub_per_gb  \\\n",
       "0                     30720              3000             1950         150   \n",
       "1                     30720              3000             1950         150   \n",
       "2                     30720              3000             1950         150   \n",
       "3                     30720              3000             1950         150   \n",
       "4                     30720              3000             1950         150   \n",
       "...                     ...               ...              ...         ...   \n",
       "3177                  15360               500              550         200   \n",
       "3178                  15360               500              550         200   \n",
       "3179                  15360               500              550         200   \n",
       "3180                  15360               500              550         200   \n",
       "3181                  15360               500              550         200   \n",
       "\n",
       "      rub_per_message  rub_per_minute  calls_revenue  messages_revenue  \\\n",
       "0                   1               1              0                 0   \n",
       "1                   1               1              0                 0   \n",
       "2                   1               1              0                 0   \n",
       "3                   1               1              0                 0   \n",
       "4                   1               1              0                 0   \n",
       "...               ...             ...            ...               ...   \n",
       "3177                3               3              0                 0   \n",
       "3178                3               3              0                48   \n",
       "3179                3               3            336                27   \n",
       "3180                3               3              0                 0   \n",
       "3181                3               3              0                 0   \n",
       "\n",
       "      internet_revenue  revenue  \n",
       "0                    0     1950  \n",
       "1                    0     1950  \n",
       "2                    0     1950  \n",
       "3                    0     1950  \n",
       "4                    0     1950  \n",
       "...                ...      ...  \n",
       "3177              1400     1950  \n",
       "3178                 0      598  \n",
       "3179               600     1513  \n",
       "3180               600     1150  \n",
       "3181                 0      550  \n",
       "\n",
       "[3174 rows x 19 columns]"
      ]
     },
     "execution_count": 37,
     "metadata": {},
     "output_type": "execute_result"
    }
   ],
   "source": [
    "all_data"
   ]
  },
  {
   "cell_type": "markdown",
   "id": "77c17597",
   "metadata": {},
   "source": [
    "### Результат по п.2. Предобработка данных и расчеты:\n",
    "\n",
    "1. Были заменены типы данных на более удобные и добавлены столбцы для дальнейших расчетов.\n",
    "\n",
    "2. Была создана новая таблица на основе сводных таблиц, в которой избавилась от пропусков и заменила типа данных на более удобные.\n",
    "\n",
    "3. Проведены расчеты помесячной выручки для каждого абонента с учетом абоненской платы. "
   ]
  },
  {
   "cell_type": "markdown",
   "id": "5747fa34",
   "metadata": {},
   "source": [
    "## 3. Анализ данных "
   ]
  },
  {
   "cell_type": "code",
   "execution_count": 38,
   "id": "e56745f3",
   "metadata": {},
   "outputs": [],
   "source": [
    "#разделю таблицу на 2 по тарифам:\n",
    "smart = all_data.query('tariff == \"smart\"')\n",
    "ultra = all_data.query('tariff == \"ultra\"')"
   ]
  },
  {
   "cell_type": "markdown",
   "id": "87327063",
   "metadata": {},
   "source": [
    "### 3.1. Cреднее количество, дисперсия и стандартное отклонение"
   ]
  },
  {
   "cell_type": "code",
   "execution_count": 39,
   "id": "e1b89d1f",
   "metadata": {
    "scrolled": false
   },
   "outputs": [
    {
     "name": "stdout",
     "output_type": "stream",
     "text": [
      "Для тарифа smart:\n",
      "Среднее минут разговора = 419.0629779577148\n",
      "Среднее сообщений = 33.396311291048136\n",
      "Среднее трафика = 16208.860548807917\n",
      "Дисперсия минут разговора = 35844.189551343836\n",
      "Дисперсия сообщений = 798.5957919678555\n",
      "Дисперсия трафика = 34530439.34328091\n",
      "Стандартное отклонение минут разговора = 189.32561778941547\n",
      "Стандартное отклонение сообщений = 28.259437219588353\n",
      "Стандартное отклонение трафика = 5876.260659916382\n"
     ]
    }
   ],
   "source": [
    "print('Для тарифа smart:')\n",
    "\n",
    "#ищу среднее для минут разговора, сообщений и трафика для тарифа smart:\n",
    "\n",
    "mean_calls_minutes_smart = smart['calls_minutes'].mean()\n",
    "print('Среднее минут разговора =', mean_calls_minutes_smart)\n",
    "\n",
    "mean_messages_smart = smart['messages_quantity'].mean()\n",
    "print('Среднее сообщений =', mean_messages_smart)\n",
    "\n",
    "mean_traffic_smart = smart['traffic_volume'].mean()\n",
    "print('Среднее трафика =', mean_traffic_smart)\n",
    "\n",
    "#ищу дисперсию для минут разговора, сообщений и трафика для тарифа smart:\n",
    "\n",
    "variance_calls_minutes_smart = np.var(smart['calls_minutes'], ddof=1)\n",
    "print('Дисперсия минут разговора =', variance_calls_minutes_smart)\n",
    "\n",
    "variance_messages_smart = np.var(smart['messages_quantity'], ddof=1)\n",
    "print('Дисперсия сообщений =', variance_messages_smart)\n",
    "\n",
    "variance_traffic_smart = np.var(smart['traffic_volume'], ddof=1)\n",
    "print('Дисперсия трафика =', variance_traffic_smart)\n",
    "\n",
    "#ищу стандартное отклонение для минут разговора, сообщений и трафика для тарифа smart:\n",
    "\n",
    "std_dev_calls_minutes_smart = np.std(smart['calls_minutes'], ddof=1)\n",
    "print('Стандартное отклонение минут разговора =', std_dev_calls_minutes_smart)\n",
    "\n",
    "std_dev_messages_smart = np.std(smart['messages_quantity'], ddof=1)\n",
    "print('Стандартное отклонение сообщений =', std_dev_messages_smart)\n",
    "\n",
    "std_dev_traffic_smart = np.std(smart['traffic_volume'], ddof=1)\n",
    "print('Стандартное отклонение трафика =', std_dev_traffic_smart)"
   ]
  },
  {
   "cell_type": "code",
   "execution_count": 40,
   "id": "35b2c0d6",
   "metadata": {},
   "outputs": [
    {
     "name": "stdout",
     "output_type": "stream",
     "text": [
      "Для тарифа ultra:\n",
      "Среднее минут разговора = 545.4511041009464\n",
      "Среднее сообщений = 49.03364879074658\n",
      "Среднее трафика = 19461.981072555205\n",
      "Дисперсия минут разговора = 94203.41839614807\n",
      "Дисперсия сообщений = 2198.7336034091572\n",
      "Дисперсия трафика = 102552597.57648346\n",
      "Стандартное отклонение минут разговора = 306.92575388218575\n",
      "Стандартное отклонение сообщений = 46.890655821913576\n",
      "Стандартное отклонение трафика = 10126.825641655112\n"
     ]
    }
   ],
   "source": [
    "print('Для тарифа ultra:')\n",
    "\n",
    "#ищу среднее для минут разговора, сообщений и трафика для тарифа ultra:\n",
    "\n",
    "mean_calls_minutes_ultra = ultra['calls_minutes'].mean()\n",
    "print('Среднее минут разговора =', mean_calls_minutes_ultra)\n",
    "\n",
    "mean_messages_ultra = ultra['messages_quantity'].mean()\n",
    "print('Среднее сообщений =', mean_messages_ultra)\n",
    "\n",
    "mean_traffic_ultra = ultra['traffic_volume'].mean()\n",
    "print('Среднее трафика =', mean_traffic_ultra)\n",
    "\n",
    "#ищу дисперсию для минут разговора, сообщений и трафика для тарифа ultra:\n",
    "\n",
    "variance_calls_minutes_ultra = np.var(ultra['calls_minutes'], ddof=1)\n",
    "print('Дисперсия минут разговора =', variance_calls_minutes_ultra)\n",
    "\n",
    "variance_messages_ultra = np.var(ultra['messages_quantity'], ddof=1)\n",
    "print('Дисперсия сообщений =', variance_messages_ultra)\n",
    "\n",
    "variance_traffic_ultra = np.var(ultra['traffic_volume'], ddof=1)\n",
    "print('Дисперсия трафика =', variance_traffic_ultra)\n",
    "\n",
    "#ищу стандартное отклонение для минут разговора, сообщений и трафика для тарифа ultra:\n",
    "std_dev_calls_minutes_ultra = np.std(ultra['calls_minutes'], ddof=1)\n",
    "print('Стандартное отклонение минут разговора =', std_dev_calls_minutes_ultra)\n",
    "\n",
    "std_dev_messages_ultra = np.std(ultra['messages_quantity'], ddof=1)\n",
    "print('Стандартное отклонение сообщений =', std_dev_messages_ultra)\n",
    "\n",
    "std_dev_traffic_ultra = np.std(ultra['traffic_volume'], ddof=1)\n",
    "print('Стандартное отклонение трафика =', std_dev_traffic_ultra)"
   ]
  },
  {
   "cell_type": "code",
   "execution_count": 41,
   "id": "91dd7c07",
   "metadata": {},
   "outputs": [
    {
     "name": "stdout",
     "output_type": "stream",
     "text": [
      "Средняя выручка по тарифу smart = 1290.8911381016644\n",
      "Дисперсия выручки по тарифу smart = 670957.3328782315\n",
      "Стандартное отклонение выручки по тарифу smart = 819.1198525724008\n"
     ]
    }
   ],
   "source": [
    "#считаю среднее количество, дисперсию и стандартное отклонение для revenue в тарифе smart\n",
    "#(да, ниже будет подобное задание, просто очень хотелось посмотреть сейчас):\n",
    "mean_revenue_smart = smart['revenue'].mean()\n",
    "variance_revenue_smart = np.var(smart['revenue'], ddof=1)\n",
    "std_dev_revenue_smart = np.std(smart['revenue'], ddof=1)\n",
    "print('Средняя выручка по тарифу smart =', mean_revenue_smart)\n",
    "print('Дисперсия выручки по тарифу smart =', variance_revenue_smart)\n",
    "print('Стандартное отклонение выручки по тарифу smart =', std_dev_revenue_smart)"
   ]
  },
  {
   "cell_type": "code",
   "execution_count": 42,
   "id": "001239f3",
   "metadata": {},
   "outputs": [
    {
     "name": "stdout",
     "output_type": "stream",
     "text": [
      "Средняя выручка по тарифу ultra = 2070.9779179810726\n",
      "Дисперсия выручки по тарифу ultra = 143962.09530134677\n",
      "Стандартное отклонение выручки по тарифу ultra = 379.42337210739504\n"
     ]
    }
   ],
   "source": [
    "#считаю среднее количество, дисперсию и стандартное отклонение для revenue в тарифе ultra:\n",
    "mean_revenue_ultra = ultra['revenue'].mean()\n",
    "variance_revenue_ultra = np.var(ultra['revenue'], ddof=1)\n",
    "std_dev_revenue_ultra = np.std(ultra['revenue'], ddof=1)\n",
    "print('Средняя выручка по тарифу ultra =', mean_revenue_ultra)\n",
    "print('Дисперсия выручки по тарифу ultra =', variance_revenue_ultra)\n",
    "print('Стандартное отклонение выручки по тарифу ultra =', std_dev_revenue_ultra)"
   ]
  },
  {
   "cell_type": "markdown",
   "id": "82e1f1ba",
   "metadata": {},
   "source": [
    "Промежуточные выводы по п.3.2. Cреднее количество, дисперсия и стандартное отклонение:\n",
    "1. Для тарифа smart:\n",
    "<br>Среднее минут разговора - 420 мин, среднее кол-во сообщений - 33, среднее трафика - 16209 Мб (15,8 Гб). С учетом того, что в пакет включено 500 минут разговора, 50 сообщений и 15 Гб трафика, понятно, что в среднем пользователи выходят за рамки трафика и платят за дополнительные Гб.\n",
    "2. Для тарифа ultra:\n",
    "<br>Среднее минут разговора - 546 мин, среднее кол-во сообщений - 49, среднее трафика = 19462 Мб (19 Гб). С учетом того, что в пакет включено 3000 минут разговора, 1000 сообщений и 30 Гб интернет-трафика, понятно, что в среднем пользователи не добираются до лимитов. \n",
    "3. При этом средняя выручка по тарифу smart - 1291р., средняя выручка по тарифу ultra - 2071р., то есть без учета кол-ва клиентов для компании выгоднее продавать тариф ultra."
   ]
  },
  {
   "cell_type": "markdown",
   "id": "e49ccd9e",
   "metadata": {},
   "source": [
    "### 3.3. Гистограммы"
   ]
  },
  {
   "cell_type": "code",
   "execution_count": 43,
   "id": "d1000462",
   "metadata": {
    "scrolled": true
   },
   "outputs": [
    {
     "data": {
      "image/png": "[encoded data removed]",
      "text/plain": [
       "<Figure size 720x432 with 1 Axes>"
      ]
     },
     "metadata": {
      "needs_background": "light"
     },
     "output_type": "display_data"
    },
    {
     "data": {
      "image/png": "[encoded data removed]",
      "text/plain": [
       "<Figure size 720x432 with 1 Axes>"
      ]
     },
     "metadata": {
      "needs_background": "light"
     },
     "output_type": "display_data"
    },
    {
     "data": {
      "image/png": "[encoded data removed]",
      "text/plain": [
       "<Figure size 720x432 with 1 Axes>"
      ]
     },
     "metadata": {
      "needs_background": "light"
     },
     "output_type": "display_data"
    }
   ],
   "source": [
    "#строю гистограммы для минут разговора, сообщений и трафика для тарифа smart:\n",
    "\n",
    "smart.plot(y='calls_minutes', kind='hist', bins=50, grid=True, figsize=(10,6), range=(0,1500))\n",
    "plt.title('Распределение минут разговора в тарифе smart')\n",
    "plt.show()\n",
    "\n",
    "smart.plot(y='messages_quantity', kind='hist', bins=50, grid=True, figsize=(10,6), range=(0,200))\n",
    "plt.title('Распределение сообщений в тарифе smart')\n",
    "plt.show()\n",
    "\n",
    "smart.plot(y='traffic_volume', kind='hist', bins=50, grid=True, figsize=(10,6), range=(0,40000))\n",
    "plt.title('Распределение трафика в тарифе smart')\n",
    "plt.show()"
   ]
  },
  {
   "cell_type": "code",
   "execution_count": 44,
   "id": "150ea6d7",
   "metadata": {
    "scrolled": true
   },
   "outputs": [
    {
     "data": {
      "image/png": "[encoded data removed]",
      "text/plain": [
       "<Figure size 720x432 with 1 Axes>"
      ]
     },
     "metadata": {
      "needs_background": "light"
     },
     "output_type": "display_data"
    },
    {
     "data": {
      "image/png": "[encoded data removed]",
      "text/plain": [
       "<Figure size 720x432 with 1 Axes>"
      ]
     },
     "metadata": {
      "needs_background": "light"
     },
     "output_type": "display_data"
    },
    {
     "data": {
      "image/png": "[encoded data removed]",
      "text/plain": [
       "<Figure size 720x432 with 1 Axes>"
      ]
     },
     "metadata": {
      "needs_background": "light"
     },
     "output_type": "display_data"
    }
   ],
   "source": [
    "#строю гистограммы для минут разговора, сообщений и трафика для тарифа ultra:\n",
    "\n",
    "ultra.plot(y='calls_minutes', kind='hist', bins=50, grid=True, figsize=(10,6), range=(0,2000))\n",
    "plt.title('Распределение минут разговора в тарифе ultra')\n",
    "plt.show()\n",
    "\n",
    "ultra.plot(y='messages_quantity', kind='hist', bins=50, grid=True, figsize=(10,6), range=(0,250))\n",
    "plt.title('Распределение сообщений в тарифе ultra')\n",
    "plt.show()\n",
    "\n",
    "ultra.plot(y='traffic_volume', kind='hist', bins=25, grid=True, figsize=(10,6), range=(0,55000))\n",
    "plt.title('Распределение трафика в тарифе ultra')\n",
    "plt.show()"
   ]
  },
  {
   "cell_type": "code",
   "execution_count": 45,
   "id": "faf520c6",
   "metadata": {},
   "outputs": [
    {
     "data": {
      "image/png": "[encoded data removed]",
      "text/plain": [
       "<Figure size 432x288 with 1 Axes>"
      ]
     },
     "metadata": {
      "needs_background": "light"
     },
     "output_type": "display_data"
    }
   ],
   "source": [
    "#для наглядности - два графика по каждой услуге:\n",
    "y1 = smart['calls_minutes']\n",
    "y2 = ultra['calls_minutes']\n",
    "\n",
    "plt.hist(y1, bins=50, range=(0,2000), color='orange', label='smart')\n",
    "plt.hist(y2, bins=50, range=(0,2000), color='blue', label='ultra')\n",
    "plt.legend(loc='upper right')\n",
    "plt.show()"
   ]
  },
  {
   "cell_type": "code",
   "execution_count": 46,
   "id": "8fb01217",
   "metadata": {},
   "outputs": [
    {
     "data": {
      "text/html": [
       "<div>\n",
       "<style scoped>\n",
       "    .dataframe tbody tr th:only-of-type {\n",
       "        vertical-align: middle;\n",
       "    }\n",
       "\n",
       "    .dataframe tbody tr th {\n",
       "        vertical-align: top;\n",
       "    }\n",
       "\n",
       "    .dataframe thead th {\n",
       "        text-align: right;\n",
       "    }\n",
       "</style>\n",
       "<table border=\"1\" class=\"dataframe\">\n",
       "  <thead>\n",
       "    <tr style=\"text-align: right;\">\n",
       "      <th></th>\n",
       "      <th>calls_minutes</th>\n",
       "      <th>messages_quantity</th>\n",
       "      <th>traffic_volume</th>\n",
       "      <th>revenue</th>\n",
       "    </tr>\n",
       "  </thead>\n",
       "  <tbody>\n",
       "    <tr>\n",
       "      <th>calls_minutes</th>\n",
       "      <td>1.000000</td>\n",
       "      <td>0.203511</td>\n",
       "      <td>0.342513</td>\n",
       "      <td>0.416401</td>\n",
       "    </tr>\n",
       "    <tr>\n",
       "      <th>messages_quantity</th>\n",
       "      <td>0.203511</td>\n",
       "      <td>1.000000</td>\n",
       "      <td>0.146664</td>\n",
       "      <td>0.130352</td>\n",
       "    </tr>\n",
       "    <tr>\n",
       "      <th>traffic_volume</th>\n",
       "      <td>0.342513</td>\n",
       "      <td>0.146664</td>\n",
       "      <td>1.000000</td>\n",
       "      <td>0.847385</td>\n",
       "    </tr>\n",
       "    <tr>\n",
       "      <th>revenue</th>\n",
       "      <td>0.416401</td>\n",
       "      <td>0.130352</td>\n",
       "      <td>0.847385</td>\n",
       "      <td>1.000000</td>\n",
       "    </tr>\n",
       "  </tbody>\n",
       "</table>\n",
       "</div>"
      ],
      "text/plain": [
       "                   calls_minutes  messages_quantity  traffic_volume   revenue\n",
       "calls_minutes           1.000000           0.203511        0.342513  0.416401\n",
       "messages_quantity       0.203511           1.000000        0.146664  0.130352\n",
       "traffic_volume          0.342513           0.146664        1.000000  0.847385\n",
       "revenue                 0.416401           0.130352        0.847385  1.000000"
      ]
     },
     "execution_count": 46,
     "metadata": {},
     "output_type": "execute_result"
    }
   ],
   "source": [
    "#смотрю корреляции в тарифе smart:\n",
    "smart[['calls_minutes', 'messages_quantity', 'traffic_volume', 'revenue']].corr()"
   ]
  },
  {
   "cell_type": "code",
   "execution_count": 47,
   "id": "0e2c42ad",
   "metadata": {},
   "outputs": [
    {
     "data": {
      "text/html": [
       "<div>\n",
       "<style scoped>\n",
       "    .dataframe tbody tr th:only-of-type {\n",
       "        vertical-align: middle;\n",
       "    }\n",
       "\n",
       "    .dataframe tbody tr th {\n",
       "        vertical-align: top;\n",
       "    }\n",
       "\n",
       "    .dataframe thead th {\n",
       "        text-align: right;\n",
       "    }\n",
       "</style>\n",
       "<table border=\"1\" class=\"dataframe\">\n",
       "  <thead>\n",
       "    <tr style=\"text-align: right;\">\n",
       "      <th></th>\n",
       "      <th>calls_minutes</th>\n",
       "      <th>messages_quantity</th>\n",
       "      <th>traffic_volume</th>\n",
       "      <th>revenue</th>\n",
       "    </tr>\n",
       "  </thead>\n",
       "  <tbody>\n",
       "    <tr>\n",
       "      <th>calls_minutes</th>\n",
       "      <td>1.000000</td>\n",
       "      <td>0.102207</td>\n",
       "      <td>0.190912</td>\n",
       "      <td>0.092462</td>\n",
       "    </tr>\n",
       "    <tr>\n",
       "      <th>messages_quantity</th>\n",
       "      <td>0.102207</td>\n",
       "      <td>1.000000</td>\n",
       "      <td>0.156863</td>\n",
       "      <td>0.017556</td>\n",
       "    </tr>\n",
       "    <tr>\n",
       "      <th>traffic_volume</th>\n",
       "      <td>0.190912</td>\n",
       "      <td>0.156863</td>\n",
       "      <td>1.000000</td>\n",
       "      <td>0.619621</td>\n",
       "    </tr>\n",
       "    <tr>\n",
       "      <th>revenue</th>\n",
       "      <td>0.092462</td>\n",
       "      <td>0.017556</td>\n",
       "      <td>0.619621</td>\n",
       "      <td>1.000000</td>\n",
       "    </tr>\n",
       "  </tbody>\n",
       "</table>\n",
       "</div>"
      ],
      "text/plain": [
       "                   calls_minutes  messages_quantity  traffic_volume   revenue\n",
       "calls_minutes           1.000000           0.102207        0.190912  0.092462\n",
       "messages_quantity       0.102207           1.000000        0.156863  0.017556\n",
       "traffic_volume          0.190912           0.156863        1.000000  0.619621\n",
       "revenue                 0.092462           0.017556        0.619621  1.000000"
      ]
     },
     "execution_count": 47,
     "metadata": {},
     "output_type": "execute_result"
    }
   ],
   "source": [
    "#смотрю корреляции в тарифе ultra:\n",
    "ultra[['calls_minutes', 'messages_quantity', 'traffic_volume', 'revenue']].corr()"
   ]
  },
  {
   "cell_type": "markdown",
   "id": "79a39c2b",
   "metadata": {},
   "source": [
    "### Выводы по п.3. Анализ данных:\n",
    "1. Клиенты с тарифом smart потребляют в месяц:\n",
    "- 230-608 минут разговора\n",
    "- 5-61 сообщений\n",
    "- 10347-22113 мб трафика \n",
    "<br>При этом компания выручает 474-2116р. с 1 клиента в месяц, в среднем 1295р., то есть клиенты исчерпывают лимиты пакета и берут доп.услуги.\n",
    "\n",
    "2. Клиенты с тарифом ultra потребляют в месяц:\n",
    "- 239-851 минуту разговора\n",
    "- 5-95 сообщений\n",
    "- 9345-29615 мб трафика \n",
    "<br>При этом компания выручает 1689-2453 руб. с 1 клиента в месяц, в среднем 2071р., то есть клиенты тоже исчерпывают лимиты пакета и берут доп.услуги, но не смски.\n",
    "\n",
    "3. Судя по гистограммам тарифа smart:\n",
    "- распределение звонков - нормальное со смещением вправо, чаще всего клиенты выбирают около 450 минут разговора, включенные в тарифный пакет\n",
    "- гистограмма сообщений с всплеком на нуле, что означает, что большинство клиентов вообще не пользуются смсками \n",
    "- распределения трафика похоже на нормальное, чаще всего клиенты используют 16 Гб трафика, что больше на 1 Гб, чем в тарифном пакете, поэтому наибольшая корреляция - 0.8 - между трафиком и доходом.\n",
    "\n",
    "4. Судя по гистограммам тарифа ultra:\n",
    "- распределение звонков - нормальное со смещением вправо, чаще всего клиенты выбирают около 550 минут разговора\n",
    "- как и в тарифе smart, гистограмма сообщений с большим всплеком на нуле, что означает, что большинство клиентов вообще не пользуются смсками \n",
    "- распределения трафика похоже на нормальное, чаще всего клиенты используют 20 Гб трафика, то есть не выбирают положенные по тарифному плану 30 Гб, поэтому ожидаемо, что корреляция между трафиком и доходом меньше, чем в тарифе smart - 0.6."
   ]
  },
  {
   "cell_type": "markdown",
   "id": "88897457",
   "metadata": {},
   "source": [
    "## 4. Проверка гипотез"
   ]
  },
  {
   "cell_type": "markdown",
   "id": "9bd0bb1e",
   "metadata": {},
   "source": [
    "### 4.1. Средняя выручка пользователей тарифов «Ультра» и «Смарт» различаются"
   ]
  },
  {
   "cell_type": "markdown",
   "id": "2cceae6d",
   "metadata": {},
   "source": [
    "H₀ (нулевая гипотеза) - средние выручки по тарифам равны.\n",
    "<br>H₁ (альтернативная двусторонняя гипотеза) - средние выручки по тарифам различаются.\n",
    "<br>Alpha (критический уровень статистической значимости) - 0.01, что даст 99% вероятность правильности вывода"
   ]
  },
  {
   "cell_type": "code",
   "execution_count": 48,
   "id": "f7dd56ab",
   "metadata": {
    "scrolled": true
   },
   "outputs": [
    {
     "name": "stdout",
     "output_type": "stream",
     "text": [
      "p-значение: 3.155173205867294e-245\n",
      "Отвергаем нулевую гипотезу\n"
     ]
    }
   ],
   "source": [
    "alpha = .01   #если p-value окажется меньше него - отвергнем гипотезу\n",
    "\n",
    "#использую метод .st.ttest_ind для проверки гипотезы о равенстве среднего двух совокупностей:\n",
    "results = st.ttest_ind(smart['revenue'], ultra['revenue'], equal_var=False) \n",
    "\n",
    "print('p-значение:', results.pvalue)\n",
    "\n",
    "if results.pvalue < alpha:\n",
    "    print(\"Отвергаем нулевую гипотезу\")\n",
    "else:\n",
    "    print(\"Не получилось отвергнуть нулевую гипотезу\") "
   ]
  },
  {
   "cell_type": "markdown",
   "id": "ba3d8501",
   "metadata": {},
   "source": [
    "Полученное значение p-value говорит о том, что вероятность случайного совпадения средних наших выборок очень мала, следовательно, H₀ отвергается, следовательно, H₁ не отвергается, следовательно, средние двух выборок не равны.\n",
    "\n",
    "Более того, в п.3.2 я вычислила, что средняя выручка по тарифу smart - 1295.56р., а средняя выручка по тарифу ultra - 2071.92р.\n",
    "\n",
    "За счет проверки подтверждено, что средние выручки существенно различаются. "
   ]
  },
  {
   "cell_type": "markdown",
   "id": "d62ce431",
   "metadata": {},
   "source": [
    "### 4.2. Средняя выручка пользователей из Москвы отличается от выручки пользователей из других регионов"
   ]
  },
  {
   "cell_type": "markdown",
   "id": "10dde508",
   "metadata": {},
   "source": [
    "H₀ (нулевая гипотеза) - средняя выручка по Москве равна средней выручке по регионам.\n",
    "<br>H₁ (альтернативная гипотеза) - средние выручки по Москве и регионам различаются.\n",
    "<br>Alpha (критический уровень статистической значимости) - 0.01, что даст 99% вероятность правильности вывода"
   ]
  },
  {
   "cell_type": "code",
   "execution_count": 49,
   "id": "4186185e",
   "metadata": {},
   "outputs": [
    {
     "name": "stdout",
     "output_type": "stream",
     "text": [
      "p-значение: 0.44113705815091153\n",
      "Не получилось отвергнуть нулевую гипотезу\n"
     ]
    }
   ],
   "source": [
    "moscow_users = all_data.query('city == \"Москва\"') \n",
    "region_users = all_data.query('city != \"Москва\"') \n",
    "\n",
    "alpha = .01   #если p-value окажется меньше него - отвергнем гипотезу\n",
    "\n",
    "#использую метод .st.ttest_ind для проверки гипотезы о равенстве среднего двух совокупностей:\n",
    "results = st.ttest_ind(moscow_users['revenue'], region_users['revenue'], equal_var=False) \n",
    "\n",
    "print('p-значение:', results.pvalue)\n",
    "\n",
    "if results.pvalue < alpha:\n",
    "    print(\"Отвергаем нулевую гипотезу\")\n",
    "else:\n",
    "    print(\"Не получилось отвергнуть нулевую гипотезу\") "
   ]
  },
  {
   "cell_type": "markdown",
   "id": "d7570aed",
   "metadata": {},
   "source": [
    "Полученное значение p-value говорит о том, что вероятность случайного совпадения средних наших выборок есть, следовательно, H₀ не отвергается, следовательно, средняя выручка по Москве может быть равна средней выручке по регионам.\n",
    "Действительно, если воспользоваться методом .mean(), то средняя доходность по Москве - 1550.15р., по регионам - 1522.95р., то есть различие очень маленькое."
   ]
  },
  {
   "cell_type": "markdown",
   "id": "452d2f06",
   "metadata": {},
   "source": [
    "## 4. Общие выводы \n",
    "1. Изначально данные 5 датафреймов были объединены в один, при этом были заменены типы даныыех, обработаны пропуски, добавлены необходимые для анализа данные и убраны ненужные, в частности перс.данные клиентов.\n",
    "2. Клиенты обоих тарифов очень часто не используют смс либо используют очень мало. При этом пользователи тарифа smart, в отличие от клиентов тарифа ultra, часто выходят из лимитов пакета по минутам и трафику. Пользователи тарифа ultra за пределы пакета чаще всего не выходят.\n",
    "3. Больше всего дополнительного дохода компании приносит трафик, причем в обоих тарифах. С учетом того, что пользователей тарифа smart больше, общая прибыль по этому тарифу будет больше. \n",
    "4. Средняя выручка по тарифу ultra выше. Средняя выручка по Москве и средняя выручка по регионам правктически не различается.\n",
    "5. С учетом того, что в тарифе smart - 349 клиентов, средняя выручка - 1291р., в тарифе ultra - 143 клиента, средняя выручка - 2071р., то более выгодный для компании тариф smart, так как он дает среднюю суммарную прибыль более 450 тыс.р. за счет более широкой базы. Для сравнения - тариф ultra дает 296 тыс.р., в основном эта прибыль за счет большей средней прибыльности, а не кол-ва абонентов.\n",
    "\n",
    "<br>Таким образом, компании можно сосредоточиться на наращивании кол-ва клиентов обоих тарифов с приоритетом тарифа smart (например, в соотношение 60/40 в бюджетах продвижения в пользу тарифа smart) и вне зависимости от региона, если емкость рынка и конкуренция позволяют это сделать."
   ]
  }
 ],
 "metadata": {
  "ExecuteTimeLog": [
   {
    "duration": 1179,
    "start_time": "2022-05-25T12:54:25.340Z"
   },
   {
    "duration": 1026,
    "start_time": "2022-05-25T12:54:26.521Z"
   },
   {
    "duration": 12,
    "start_time": "2022-05-25T12:54:27.548Z"
   },
   {
    "duration": 25,
    "start_time": "2022-05-25T12:54:27.562Z"
   },
   {
    "duration": 9,
    "start_time": "2022-05-25T12:54:27.589Z"
   },
   {
    "duration": 28,
    "start_time": "2022-05-25T12:54:27.600Z"
   },
   {
    "duration": 19,
    "start_time": "2022-05-25T12:54:27.634Z"
   },
   {
    "duration": 26,
    "start_time": "2022-05-25T12:54:27.654Z"
   },
   {
    "duration": 7,
    "start_time": "2022-05-25T12:54:27.682Z"
   },
   {
    "duration": 18,
    "start_time": "2022-05-25T12:54:27.692Z"
   },
   {
    "duration": 14,
    "start_time": "2022-05-25T12:54:27.711Z"
   },
   {
    "duration": 38,
    "start_time": "2022-05-25T12:54:27.727Z"
   },
   {
    "duration": 39,
    "start_time": "2022-05-25T12:54:27.768Z"
   },
   {
    "duration": 73,
    "start_time": "2022-05-25T12:54:27.809Z"
   },
   {
    "duration": 19,
    "start_time": "2022-05-25T12:54:27.883Z"
   },
   {
    "duration": 43,
    "start_time": "2022-05-25T12:54:27.904Z"
   },
   {
    "duration": 22,
    "start_time": "2022-05-25T12:54:27.949Z"
   },
   {
    "duration": 23,
    "start_time": "2022-05-25T12:54:27.974Z"
   },
   {
    "duration": 51,
    "start_time": "2022-05-25T12:54:27.999Z"
   },
   {
    "duration": 27,
    "start_time": "2022-05-25T12:54:28.052Z"
   },
   {
    "duration": 74,
    "start_time": "2022-05-25T12:54:28.081Z"
   },
   {
    "duration": 18,
    "start_time": "2022-05-25T12:54:28.156Z"
   },
   {
    "duration": 20,
    "start_time": "2022-05-25T12:54:28.176Z"
   },
   {
    "duration": 49,
    "start_time": "2022-05-25T12:54:28.197Z"
   },
   {
    "duration": 16,
    "start_time": "2022-05-25T12:54:28.248Z"
   },
   {
    "duration": 19,
    "start_time": "2022-05-25T12:54:28.266Z"
   },
   {
    "duration": 15,
    "start_time": "2022-05-25T12:54:28.286Z"
   },
   {
    "duration": 22,
    "start_time": "2022-05-25T12:54:28.322Z"
   },
   {
    "duration": 8,
    "start_time": "2022-05-25T12:54:28.346Z"
   },
   {
    "duration": 14,
    "start_time": "2022-05-25T12:54:28.355Z"
   },
   {
    "duration": 53,
    "start_time": "2022-05-25T12:54:28.370Z"
   },
   {
    "duration": 29,
    "start_time": "2022-05-25T12:54:28.426Z"
   },
   {
    "duration": 100,
    "start_time": "2022-05-25T12:54:28.456Z"
   },
   {
    "duration": 39,
    "start_time": "2022-05-25T12:54:28.557Z"
   },
   {
    "duration": 66,
    "start_time": "2022-05-25T12:54:28.598Z"
   },
   {
    "duration": 27,
    "start_time": "2022-05-25T12:54:28.665Z"
   },
   {
    "duration": 5,
    "start_time": "2022-05-25T12:54:28.694Z"
   },
   {
    "duration": 34,
    "start_time": "2022-05-25T12:54:28.701Z"
   },
   {
    "duration": 12,
    "start_time": "2022-05-25T12:54:28.737Z"
   },
   {
    "duration": 8,
    "start_time": "2022-05-25T12:54:28.751Z"
   },
   {
    "duration": 8,
    "start_time": "2022-05-25T12:54:28.760Z"
   },
   {
    "duration": 8,
    "start_time": "2022-05-25T12:54:28.770Z"
   },
   {
    "duration": 48,
    "start_time": "2022-05-25T12:54:28.780Z"
   },
   {
    "duration": 19,
    "start_time": "2022-05-25T12:54:28.830Z"
   },
   {
    "duration": 18,
    "start_time": "2022-05-25T12:54:28.851Z"
   },
   {
    "duration": 23,
    "start_time": "2022-05-25T12:54:28.871Z"
   },
   {
    "duration": 10,
    "start_time": "2022-05-25T12:54:28.896Z"
   },
   {
    "duration": 441,
    "start_time": "2022-05-25T12:54:28.907Z"
   },
   {
    "duration": 485,
    "start_time": "2022-05-25T12:54:29.351Z"
   },
   {
    "duration": 385,
    "start_time": "2022-05-25T12:54:29.838Z"
   },
   {
    "duration": 16,
    "start_time": "2022-05-25T12:54:30.230Z"
   },
   {
    "duration": 31,
    "start_time": "2022-05-25T12:54:30.247Z"
   },
   {
    "duration": 15,
    "start_time": "2022-05-25T12:54:30.280Z"
   },
   {
    "duration": 39,
    "start_time": "2022-05-25T12:54:30.296Z"
   },
   {
    "duration": 982,
    "start_time": "2022-05-25T12:54:30.338Z"
   },
   {
    "duration": 983,
    "start_time": "2022-05-25T12:54:31.321Z"
   },
   {
    "duration": 861,
    "start_time": "2022-05-25T12:54:32.306Z"
   },
   {
    "duration": 825,
    "start_time": "2022-05-25T12:54:33.170Z"
   },
   {
    "duration": 11,
    "start_time": "2022-05-25T12:54:33.997Z"
   },
   {
    "duration": 23,
    "start_time": "2022-05-25T12:54:34.010Z"
   },
   {
    "duration": 13,
    "start_time": "2022-05-25T12:54:34.035Z"
   },
   {
    "duration": 10,
    "start_time": "2022-05-25T12:54:34.050Z"
   },
   {
    "duration": 26,
    "start_time": "2022-05-25T12:56:59.242Z"
   },
   {
    "duration": 29,
    "start_time": "2022-05-25T13:06:41.741Z"
   },
   {
    "duration": 170,
    "start_time": "2022-05-25T13:31:15.524Z"
   },
   {
    "duration": 152,
    "start_time": "2022-05-25T13:31:20.516Z"
   },
   {
    "duration": 155,
    "start_time": "2022-05-25T13:31:32.017Z"
   },
   {
    "duration": 150,
    "start_time": "2022-05-25T13:31:40.598Z"
   },
   {
    "duration": 1161,
    "start_time": "2022-05-26T10:34:02.395Z"
   },
   {
    "duration": 489,
    "start_time": "2022-05-26T10:34:03.558Z"
   },
   {
    "duration": 14,
    "start_time": "2022-05-26T10:34:04.049Z"
   },
   {
    "duration": 39,
    "start_time": "2022-05-26T10:34:04.065Z"
   },
   {
    "duration": 9,
    "start_time": "2022-05-26T10:34:04.106Z"
   },
   {
    "duration": 39,
    "start_time": "2022-05-26T10:34:04.118Z"
   },
   {
    "duration": 8,
    "start_time": "2022-05-26T10:34:04.159Z"
   },
   {
    "duration": 37,
    "start_time": "2022-05-26T10:34:04.168Z"
   },
   {
    "duration": 11,
    "start_time": "2022-05-26T10:34:04.206Z"
   },
   {
    "duration": 19,
    "start_time": "2022-05-26T10:34:04.220Z"
   },
   {
    "duration": 31,
    "start_time": "2022-05-26T10:34:04.242Z"
   },
   {
    "duration": 15,
    "start_time": "2022-05-26T10:34:04.285Z"
   },
   {
    "duration": 50,
    "start_time": "2022-05-26T10:34:04.301Z"
   },
   {
    "duration": 79,
    "start_time": "2022-05-26T10:34:04.353Z"
   },
   {
    "duration": 20,
    "start_time": "2022-05-26T10:34:04.433Z"
   },
   {
    "duration": 47,
    "start_time": "2022-05-26T10:34:04.455Z"
   },
   {
    "duration": 19,
    "start_time": "2022-05-26T10:34:04.504Z"
   },
   {
    "duration": 24,
    "start_time": "2022-05-26T10:34:04.525Z"
   },
   {
    "duration": 48,
    "start_time": "2022-05-26T10:34:04.551Z"
   },
   {
    "duration": 20,
    "start_time": "2022-05-26T10:34:04.600Z"
   },
   {
    "duration": 3,
    "start_time": "2022-05-26T10:34:04.621Z"
   },
   {
    "duration": 20,
    "start_time": "2022-05-26T10:34:04.626Z"
   },
   {
    "duration": 45,
    "start_time": "2022-05-26T10:34:04.648Z"
   },
   {
    "duration": 21,
    "start_time": "2022-05-26T10:34:04.695Z"
   },
   {
    "duration": 22,
    "start_time": "2022-05-26T10:34:04.718Z"
   },
   {
    "duration": 44,
    "start_time": "2022-05-26T10:34:04.741Z"
   },
   {
    "duration": 4,
    "start_time": "2022-05-26T10:34:04.787Z"
   },
   {
    "duration": 15,
    "start_time": "2022-05-26T10:34:04.794Z"
   },
   {
    "duration": 24,
    "start_time": "2022-05-26T10:34:04.811Z"
   },
   {
    "duration": 10,
    "start_time": "2022-05-26T10:34:04.837Z"
   },
   {
    "duration": 43,
    "start_time": "2022-05-26T10:34:04.849Z"
   },
   {
    "duration": 29,
    "start_time": "2022-05-26T10:34:04.894Z"
   },
   {
    "duration": 35,
    "start_time": "2022-05-26T10:34:04.926Z"
   },
   {
    "duration": 95,
    "start_time": "2022-05-26T10:34:04.963Z"
   },
   {
    "duration": 73,
    "start_time": "2022-05-26T10:34:05.060Z"
   },
   {
    "duration": 50,
    "start_time": "2022-05-26T10:34:05.139Z"
   },
   {
    "duration": 38,
    "start_time": "2022-05-26T10:34:05.191Z"
   },
   {
    "duration": 4,
    "start_time": "2022-05-26T10:34:05.231Z"
   },
   {
    "duration": 22,
    "start_time": "2022-05-26T10:34:05.237Z"
   },
   {
    "duration": 28,
    "start_time": "2022-05-26T10:34:05.260Z"
   },
   {
    "duration": 10,
    "start_time": "2022-05-26T10:34:05.291Z"
   },
   {
    "duration": 13,
    "start_time": "2022-05-26T10:34:05.303Z"
   },
   {
    "duration": 10,
    "start_time": "2022-05-26T10:34:05.318Z"
   },
   {
    "duration": 23,
    "start_time": "2022-05-26T10:34:05.330Z"
   },
   {
    "duration": 8,
    "start_time": "2022-05-26T10:34:05.354Z"
   },
   {
    "duration": 4,
    "start_time": "2022-05-26T10:34:05.384Z"
   },
   {
    "duration": 25,
    "start_time": "2022-05-26T10:34:05.390Z"
   },
   {
    "duration": 10,
    "start_time": "2022-05-26T10:34:05.417Z"
   },
   {
    "duration": 3,
    "start_time": "2022-05-26T10:34:05.429Z"
   },
   {
    "duration": 11,
    "start_time": "2022-05-26T10:34:05.434Z"
   },
   {
    "duration": 6,
    "start_time": "2022-05-26T10:34:05.447Z"
   },
   {
    "duration": 30,
    "start_time": "2022-05-26T10:34:05.455Z"
   },
   {
    "duration": 12,
    "start_time": "2022-05-26T10:34:05.487Z"
   },
   {
    "duration": 24,
    "start_time": "2022-05-26T10:34:05.501Z"
   },
   {
    "duration": 10,
    "start_time": "2022-05-26T10:34:05.527Z"
   },
   {
    "duration": 4,
    "start_time": "2022-05-26T10:34:05.539Z"
   },
   {
    "duration": 8,
    "start_time": "2022-05-26T10:34:05.545Z"
   },
   {
    "duration": 892,
    "start_time": "2022-05-26T10:34:05.555Z"
   },
   {
    "duration": 693,
    "start_time": "2022-05-26T10:34:06.449Z"
   },
   {
    "duration": 130,
    "start_time": "2022-05-26T10:34:07.144Z"
   },
   {
    "duration": 19,
    "start_time": "2022-05-26T10:34:07.276Z"
   },
   {
    "duration": 12,
    "start_time": "2022-05-26T10:34:07.297Z"
   },
   {
    "duration": 13,
    "start_time": "2022-05-26T10:34:07.311Z"
   },
   {
    "duration": 11,
    "start_time": "2022-05-26T10:34:07.326Z"
   },
   {
    "duration": 83,
    "start_time": "2022-05-26T10:34:32.283Z"
   },
   {
    "duration": 145,
    "start_time": "2022-05-26T10:34:40.802Z"
   },
   {
    "duration": 1197,
    "start_time": "2022-05-26T10:34:49.787Z"
   },
   {
    "duration": 473,
    "start_time": "2022-05-26T10:34:50.986Z"
   },
   {
    "duration": 14,
    "start_time": "2022-05-26T10:34:51.461Z"
   },
   {
    "duration": 26,
    "start_time": "2022-05-26T10:34:51.478Z"
   },
   {
    "duration": 9,
    "start_time": "2022-05-26T10:34:51.506Z"
   },
   {
    "duration": 27,
    "start_time": "2022-05-26T10:34:51.517Z"
   },
   {
    "duration": 8,
    "start_time": "2022-05-26T10:34:51.545Z"
   },
   {
    "duration": 46,
    "start_time": "2022-05-26T10:34:51.554Z"
   },
   {
    "duration": 8,
    "start_time": "2022-05-26T10:34:51.602Z"
   },
   {
    "duration": 19,
    "start_time": "2022-05-26T10:34:51.615Z"
   },
   {
    "duration": 20,
    "start_time": "2022-05-26T10:34:51.637Z"
   },
   {
    "duration": 40,
    "start_time": "2022-05-26T10:34:51.659Z"
   },
   {
    "duration": 48,
    "start_time": "2022-05-26T10:34:51.701Z"
   },
   {
    "duration": 93,
    "start_time": "2022-05-26T10:34:51.750Z"
   },
   {
    "duration": 21,
    "start_time": "2022-05-26T10:34:51.845Z"
   },
   {
    "duration": 40,
    "start_time": "2022-05-26T10:34:51.867Z"
   },
   {
    "duration": 19,
    "start_time": "2022-05-26T10:34:51.909Z"
   },
   {
    "duration": 23,
    "start_time": "2022-05-26T10:34:51.930Z"
   },
   {
    "duration": 53,
    "start_time": "2022-05-26T10:34:51.955Z"
   },
   {
    "duration": 19,
    "start_time": "2022-05-26T10:34:52.010Z"
   },
   {
    "duration": 3,
    "start_time": "2022-05-26T10:34:52.030Z"
   },
   {
    "duration": 22,
    "start_time": "2022-05-26T10:34:52.035Z"
   },
   {
    "duration": 37,
    "start_time": "2022-05-26T10:34:52.059Z"
   },
   {
    "duration": 24,
    "start_time": "2022-05-26T10:34:52.098Z"
   },
   {
    "duration": 23,
    "start_time": "2022-05-26T10:34:52.124Z"
   },
   {
    "duration": 45,
    "start_time": "2022-05-26T10:34:52.150Z"
   },
   {
    "duration": 5,
    "start_time": "2022-05-26T10:34:52.196Z"
   },
   {
    "duration": 15,
    "start_time": "2022-05-26T10:34:52.205Z"
   },
   {
    "duration": 27,
    "start_time": "2022-05-26T10:34:52.223Z"
   },
   {
    "duration": 11,
    "start_time": "2022-05-26T10:34:52.252Z"
   },
   {
    "duration": 32,
    "start_time": "2022-05-26T10:34:52.265Z"
   },
   {
    "duration": 30,
    "start_time": "2022-05-26T10:34:52.299Z"
   },
   {
    "duration": 59,
    "start_time": "2022-05-26T10:34:52.331Z"
   },
   {
    "duration": 81,
    "start_time": "2022-05-26T10:34:52.392Z"
   },
   {
    "duration": 51,
    "start_time": "2022-05-26T10:34:52.475Z"
   },
   {
    "duration": 57,
    "start_time": "2022-05-26T10:34:52.528Z"
   },
   {
    "duration": 49,
    "start_time": "2022-05-26T10:34:52.587Z"
   },
   {
    "duration": 7,
    "start_time": "2022-05-26T10:34:52.638Z"
   },
   {
    "duration": 39,
    "start_time": "2022-05-26T10:34:52.647Z"
   },
   {
    "duration": 8,
    "start_time": "2022-05-26T10:34:52.689Z"
   },
   {
    "duration": 14,
    "start_time": "2022-05-26T10:34:52.699Z"
   },
   {
    "duration": 10,
    "start_time": "2022-05-26T10:34:52.715Z"
   },
   {
    "duration": 9,
    "start_time": "2022-05-26T10:34:52.727Z"
   },
   {
    "duration": 19,
    "start_time": "2022-05-26T10:34:52.738Z"
   },
   {
    "duration": 30,
    "start_time": "2022-05-26T10:34:52.759Z"
   },
   {
    "duration": 9,
    "start_time": "2022-05-26T10:34:52.791Z"
   },
   {
    "duration": 27,
    "start_time": "2022-05-26T10:34:52.802Z"
   },
   {
    "duration": 10,
    "start_time": "2022-05-26T10:34:52.831Z"
   },
   {
    "duration": 5,
    "start_time": "2022-05-26T10:34:52.843Z"
   },
   {
    "duration": 10,
    "start_time": "2022-05-26T10:34:52.850Z"
   },
   {
    "duration": 22,
    "start_time": "2022-05-26T10:34:52.862Z"
   },
   {
    "duration": 14,
    "start_time": "2022-05-26T10:34:52.886Z"
   },
   {
    "duration": 18,
    "start_time": "2022-05-26T10:34:52.902Z"
   },
   {
    "duration": 9,
    "start_time": "2022-05-26T10:34:52.923Z"
   },
   {
    "duration": 11,
    "start_time": "2022-05-26T10:34:52.934Z"
   },
   {
    "duration": 6,
    "start_time": "2022-05-26T10:34:52.947Z"
   },
   {
    "duration": 2,
    "start_time": "2022-05-26T10:34:52.985Z"
   },
   {
    "duration": 916,
    "start_time": "2022-05-26T10:34:52.989Z"
   },
   {
    "duration": 679,
    "start_time": "2022-05-26T10:34:53.907Z"
   },
   {
    "duration": 127,
    "start_time": "2022-05-26T10:34:54.587Z"
   },
   {
    "duration": 11,
    "start_time": "2022-05-26T10:34:54.716Z"
   },
   {
    "duration": 14,
    "start_time": "2022-05-26T10:34:54.729Z"
   },
   {
    "duration": 13,
    "start_time": "2022-05-26T10:34:54.746Z"
   },
   {
    "duration": 59,
    "start_time": "2022-05-26T10:34:54.761Z"
   },
   {
    "duration": 66,
    "start_time": "2022-05-26T10:35:05.063Z"
   },
   {
    "duration": 78,
    "start_time": "2022-05-26T10:35:10.234Z"
   },
   {
    "duration": 14,
    "start_time": "2022-05-26T10:37:38.807Z"
   },
   {
    "duration": 115,
    "start_time": "2022-05-26T10:37:46.387Z"
   },
   {
    "duration": 12,
    "start_time": "2022-05-26T10:38:19.371Z"
   },
   {
    "duration": 4,
    "start_time": "2022-05-26T10:38:24.756Z"
   },
   {
    "duration": 11,
    "start_time": "2022-05-26T10:38:30.679Z"
   },
   {
    "duration": 6,
    "start_time": "2022-05-26T10:38:33.139Z"
   },
   {
    "duration": 5,
    "start_time": "2022-05-26T10:38:54.782Z"
   },
   {
    "duration": 5,
    "start_time": "2022-05-26T10:39:06.065Z"
   },
   {
    "duration": 6,
    "start_time": "2022-05-26T10:39:09.509Z"
   },
   {
    "duration": 273,
    "start_time": "2022-05-26T11:04:24.727Z"
   }
  ],
  "kernelspec": {
   "display_name": "Python 3 (ipykernel)",
   "language": "python",
   "name": "python3"
  },
  "language_info": {
   "codemirror_mode": {
    "name": "ipython",
    "version": 3
   },
   "file_extension": ".py",
   "mimetype": "text/x-python",
   "name": "python",
   "nbconvert_exporter": "python",
   "pygments_lexer": "ipython3",
   "version": "3.9.7"
  },
  "toc": {
   "base_numbering": 1,
   "nav_menu": {},
   "number_sections": true,
   "sideBar": true,
   "skip_h1_title": true,
   "title_cell": "Table of Contents",
   "title_sidebar": "Contents",
   "toc_cell": false,
   "toc_position": {},
   "toc_section_display": true,
   "toc_window_display": false
  }
 },
 "nbformat": 4,
 "nbformat_minor": 5
}
