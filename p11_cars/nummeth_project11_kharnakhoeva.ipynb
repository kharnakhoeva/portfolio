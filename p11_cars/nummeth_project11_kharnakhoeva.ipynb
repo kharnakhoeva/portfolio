{
 "cells": [
  {
   "cell_type": "markdown",
   "id": "94d9c309",
   "metadata": {},
   "source": [
    "# Определение стоимости автомобилей"
   ]
  },
  {
   "cell_type": "markdown",
   "id": "8ddb8bc2",
   "metadata": {},
   "source": [
    "**Дано:**  \n",
    "Сервис по продаже автомобилей с пробегом «Не бит, не крашен» разрабатывает приложение, чтобы привлечь новых клиентов. В нём можно будет узнать рыночную стоимость своего автомобиля. Необходимо построить модель, которая умеет её определять. Есть данные о технических характеристиках, комплектации и ценах других автомобилей.\n",
    "\n",
    "Критерии, которые важны:\n",
    "- качество предсказания;\n",
    "- время обучения модели;\n",
    "- время предсказания модели.\n",
    "\n",
    "**Условия:** \n",
    "1. Не ограничиваться градиентным бустингом\n",
    "2. Для оценки качества моделей применять метрику RMSE. RMSE должно быть меньше 2500.\n",
    "3. Освоить библиотеку LightGBM и её средствами построить модели градиентного бустинга.\n",
    "4. Ввести время выполнения ячейки кода\n",
    "5. В модели градиентного бустинга можно изменять только два-три параметра. \n",
    "\n",
    "**План исследования:**\n",
    " 1. Обзор данных\n",
    " 2. Предобработка данных\n",
    " 3. Обучение моделей\n",
    " 4. Выбор лучшей модели и ее тестирование  \n",
    " 5. Вывод"
   ]
  },
  {
   "cell_type": "markdown",
   "id": "b0b74fa2",
   "metadata": {},
   "source": [
    "## 1. Обзор данных"
   ]
  },
  {
   "cell_type": "code",
   "execution_count": 1,
   "id": "371abb4a",
   "metadata": {},
   "outputs": [],
   "source": [
    "import pandas as pd\n",
    "import numpy as np\n",
    "\n",
    "import warnings\n",
    "warnings.filterwarnings(\"ignore\")\n",
    "\n",
    "import matplotlib.pyplot as plt\n",
    "\n",
    "import seaborn as sns\n",
    "\n",
    "from sklearn.preprocessing import OrdinalEncoder, StandardScaler\n",
    "\n",
    "from sklearn.model_selection import cross_val_score, train_test_split, GridSearchCV\n",
    "\n",
    "from sklearn.linear_model import LinearRegression\n",
    "from catboost import CatBoostRegressor\n",
    "from lightgbm import LGBMRegressor\n",
    "\n",
    "from sklearn.metrics import mean_squared_error"
   ]
  },
  {
   "cell_type": "code",
   "execution_count": 2,
   "id": "74dc8093",
   "metadata": {},
   "outputs": [],
   "source": [
    "try:\n",
    "    autos = pd.read_csv('/Users/galina/Desktop/учёба/спринт 11. Численные методы/autos-2.csv') \n",
    "except:\n",
    "    autos = pd.read_csv('/datasets/autos.csv')"
   ]
  },
  {
   "cell_type": "code",
   "execution_count": 3,
   "id": "3d2c8d55",
   "metadata": {
    "scrolled": true
   },
   "outputs": [
    {
     "data": {
      "text/html": [
       "<div>\n",
       "<style scoped>\n",
       "    .dataframe tbody tr th:only-of-type {\n",
       "        vertical-align: middle;\n",
       "    }\n",
       "\n",
       "    .dataframe tbody tr th {\n",
       "        vertical-align: top;\n",
       "    }\n",
       "\n",
       "    .dataframe thead th {\n",
       "        text-align: right;\n",
       "    }\n",
       "</style>\n",
       "<table border=\"1\" class=\"dataframe\">\n",
       "  <thead>\n",
       "    <tr style=\"text-align: right;\">\n",
       "      <th></th>\n",
       "      <th>DateCrawled</th>\n",
       "      <th>Price</th>\n",
       "      <th>VehicleType</th>\n",
       "      <th>RegistrationYear</th>\n",
       "      <th>Gearbox</th>\n",
       "      <th>Power</th>\n",
       "      <th>Model</th>\n",
       "      <th>Kilometer</th>\n",
       "      <th>RegistrationMonth</th>\n",
       "      <th>FuelType</th>\n",
       "      <th>Brand</th>\n",
       "      <th>NotRepaired</th>\n",
       "      <th>DateCreated</th>\n",
       "      <th>NumberOfPictures</th>\n",
       "      <th>PostalCode</th>\n",
       "      <th>LastSeen</th>\n",
       "    </tr>\n",
       "  </thead>\n",
       "  <tbody>\n",
       "    <tr>\n",
       "      <th>0</th>\n",
       "      <td>2016-03-24 11:52:17</td>\n",
       "      <td>480</td>\n",
       "      <td>NaN</td>\n",
       "      <td>1993</td>\n",
       "      <td>manual</td>\n",
       "      <td>0</td>\n",
       "      <td>golf</td>\n",
       "      <td>150000</td>\n",
       "      <td>0</td>\n",
       "      <td>petrol</td>\n",
       "      <td>volkswagen</td>\n",
       "      <td>NaN</td>\n",
       "      <td>2016-03-24 00:00:00</td>\n",
       "      <td>0</td>\n",
       "      <td>70435</td>\n",
       "      <td>2016-04-07 03:16:57</td>\n",
       "    </tr>\n",
       "    <tr>\n",
       "      <th>1</th>\n",
       "      <td>2016-03-24 10:58:45</td>\n",
       "      <td>18300</td>\n",
       "      <td>coupe</td>\n",
       "      <td>2011</td>\n",
       "      <td>manual</td>\n",
       "      <td>190</td>\n",
       "      <td>NaN</td>\n",
       "      <td>125000</td>\n",
       "      <td>5</td>\n",
       "      <td>gasoline</td>\n",
       "      <td>audi</td>\n",
       "      <td>yes</td>\n",
       "      <td>2016-03-24 00:00:00</td>\n",
       "      <td>0</td>\n",
       "      <td>66954</td>\n",
       "      <td>2016-04-07 01:46:50</td>\n",
       "    </tr>\n",
       "    <tr>\n",
       "      <th>2</th>\n",
       "      <td>2016-03-14 12:52:21</td>\n",
       "      <td>9800</td>\n",
       "      <td>suv</td>\n",
       "      <td>2004</td>\n",
       "      <td>auto</td>\n",
       "      <td>163</td>\n",
       "      <td>grand</td>\n",
       "      <td>125000</td>\n",
       "      <td>8</td>\n",
       "      <td>gasoline</td>\n",
       "      <td>jeep</td>\n",
       "      <td>NaN</td>\n",
       "      <td>2016-03-14 00:00:00</td>\n",
       "      <td>0</td>\n",
       "      <td>90480</td>\n",
       "      <td>2016-04-05 12:47:46</td>\n",
       "    </tr>\n",
       "    <tr>\n",
       "      <th>3</th>\n",
       "      <td>2016-03-17 16:54:04</td>\n",
       "      <td>1500</td>\n",
       "      <td>small</td>\n",
       "      <td>2001</td>\n",
       "      <td>manual</td>\n",
       "      <td>75</td>\n",
       "      <td>golf</td>\n",
       "      <td>150000</td>\n",
       "      <td>6</td>\n",
       "      <td>petrol</td>\n",
       "      <td>volkswagen</td>\n",
       "      <td>no</td>\n",
       "      <td>2016-03-17 00:00:00</td>\n",
       "      <td>0</td>\n",
       "      <td>91074</td>\n",
       "      <td>2016-03-17 17:40:17</td>\n",
       "    </tr>\n",
       "    <tr>\n",
       "      <th>4</th>\n",
       "      <td>2016-03-31 17:25:20</td>\n",
       "      <td>3600</td>\n",
       "      <td>small</td>\n",
       "      <td>2008</td>\n",
       "      <td>manual</td>\n",
       "      <td>69</td>\n",
       "      <td>fabia</td>\n",
       "      <td>90000</td>\n",
       "      <td>7</td>\n",
       "      <td>gasoline</td>\n",
       "      <td>skoda</td>\n",
       "      <td>no</td>\n",
       "      <td>2016-03-31 00:00:00</td>\n",
       "      <td>0</td>\n",
       "      <td>60437</td>\n",
       "      <td>2016-04-06 10:17:21</td>\n",
       "    </tr>\n",
       "  </tbody>\n",
       "</table>\n",
       "</div>"
      ],
      "text/plain": [
       "           DateCrawled  Price VehicleType  RegistrationYear Gearbox  Power  \\\n",
       "0  2016-03-24 11:52:17    480         NaN              1993  manual      0   \n",
       "1  2016-03-24 10:58:45  18300       coupe              2011  manual    190   \n",
       "2  2016-03-14 12:52:21   9800         suv              2004    auto    163   \n",
       "3  2016-03-17 16:54:04   1500       small              2001  manual     75   \n",
       "4  2016-03-31 17:25:20   3600       small              2008  manual     69   \n",
       "\n",
       "   Model  Kilometer  RegistrationMonth  FuelType       Brand NotRepaired  \\\n",
       "0   golf     150000                  0    petrol  volkswagen         NaN   \n",
       "1    NaN     125000                  5  gasoline        audi         yes   \n",
       "2  grand     125000                  8  gasoline        jeep         NaN   \n",
       "3   golf     150000                  6    petrol  volkswagen          no   \n",
       "4  fabia      90000                  7  gasoline       skoda          no   \n",
       "\n",
       "           DateCreated  NumberOfPictures  PostalCode             LastSeen  \n",
       "0  2016-03-24 00:00:00                 0       70435  2016-04-07 03:16:57  \n",
       "1  2016-03-24 00:00:00                 0       66954  2016-04-07 01:46:50  \n",
       "2  2016-03-14 00:00:00                 0       90480  2016-04-05 12:47:46  \n",
       "3  2016-03-17 00:00:00                 0       91074  2016-03-17 17:40:17  \n",
       "4  2016-03-31 00:00:00                 0       60437  2016-04-06 10:17:21  "
      ]
     },
     "metadata": {},
     "output_type": "display_data"
    },
    {
     "name": "stdout",
     "output_type": "stream",
     "text": [
      "-----------------------------------------------------------------\n",
      "<class 'pandas.core.frame.DataFrame'>\n",
      "RangeIndex: 354369 entries, 0 to 354368\n",
      "Data columns (total 16 columns):\n",
      " #   Column             Non-Null Count   Dtype \n",
      "---  ------             --------------   ----- \n",
      " 0   DateCrawled        354369 non-null  object\n",
      " 1   Price              354369 non-null  int64 \n",
      " 2   VehicleType        316879 non-null  object\n",
      " 3   RegistrationYear   354369 non-null  int64 \n",
      " 4   Gearbox            334536 non-null  object\n",
      " 5   Power              354369 non-null  int64 \n",
      " 6   Model              334664 non-null  object\n",
      " 7   Kilometer          354369 non-null  int64 \n",
      " 8   RegistrationMonth  354369 non-null  int64 \n",
      " 9   FuelType           321474 non-null  object\n",
      " 10  Brand              354369 non-null  object\n",
      " 11  NotRepaired        283215 non-null  object\n",
      " 12  DateCreated        354369 non-null  object\n",
      " 13  NumberOfPictures   354369 non-null  int64 \n",
      " 14  PostalCode         354369 non-null  int64 \n",
      " 15  LastSeen           354369 non-null  object\n",
      "dtypes: int64(7), object(9)\n",
      "memory usage: 43.3+ MB\n"
     ]
    },
    {
     "data": {
      "text/plain": [
       "None"
      ]
     },
     "metadata": {},
     "output_type": "display_data"
    },
    {
     "name": "stdout",
     "output_type": "stream",
     "text": [
      "-----------------------------------------------------------------\n"
     ]
    },
    {
     "data": {
      "text/html": [
       "<div>\n",
       "<style scoped>\n",
       "    .dataframe tbody tr th:only-of-type {\n",
       "        vertical-align: middle;\n",
       "    }\n",
       "\n",
       "    .dataframe tbody tr th {\n",
       "        vertical-align: top;\n",
       "    }\n",
       "\n",
       "    .dataframe thead th {\n",
       "        text-align: right;\n",
       "    }\n",
       "</style>\n",
       "<table border=\"1\" class=\"dataframe\">\n",
       "  <thead>\n",
       "    <tr style=\"text-align: right;\">\n",
       "      <th></th>\n",
       "      <th>Price</th>\n",
       "      <th>RegistrationYear</th>\n",
       "      <th>Power</th>\n",
       "      <th>Kilometer</th>\n",
       "      <th>RegistrationMonth</th>\n",
       "      <th>NumberOfPictures</th>\n",
       "      <th>PostalCode</th>\n",
       "    </tr>\n",
       "  </thead>\n",
       "  <tbody>\n",
       "    <tr>\n",
       "      <th>count</th>\n",
       "      <td>354369.000000</td>\n",
       "      <td>354369.000000</td>\n",
       "      <td>354369.000000</td>\n",
       "      <td>354369.000000</td>\n",
       "      <td>354369.000000</td>\n",
       "      <td>354369.0</td>\n",
       "      <td>354369.000000</td>\n",
       "    </tr>\n",
       "    <tr>\n",
       "      <th>mean</th>\n",
       "      <td>4416.656776</td>\n",
       "      <td>2004.234448</td>\n",
       "      <td>110.094337</td>\n",
       "      <td>128211.172535</td>\n",
       "      <td>5.714645</td>\n",
       "      <td>0.0</td>\n",
       "      <td>50508.689087</td>\n",
       "    </tr>\n",
       "    <tr>\n",
       "      <th>std</th>\n",
       "      <td>4514.158514</td>\n",
       "      <td>90.227958</td>\n",
       "      <td>189.850405</td>\n",
       "      <td>37905.341530</td>\n",
       "      <td>3.726421</td>\n",
       "      <td>0.0</td>\n",
       "      <td>25783.096248</td>\n",
       "    </tr>\n",
       "    <tr>\n",
       "      <th>min</th>\n",
       "      <td>0.000000</td>\n",
       "      <td>1000.000000</td>\n",
       "      <td>0.000000</td>\n",
       "      <td>5000.000000</td>\n",
       "      <td>0.000000</td>\n",
       "      <td>0.0</td>\n",
       "      <td>1067.000000</td>\n",
       "    </tr>\n",
       "    <tr>\n",
       "      <th>25%</th>\n",
       "      <td>1050.000000</td>\n",
       "      <td>1999.000000</td>\n",
       "      <td>69.000000</td>\n",
       "      <td>125000.000000</td>\n",
       "      <td>3.000000</td>\n",
       "      <td>0.0</td>\n",
       "      <td>30165.000000</td>\n",
       "    </tr>\n",
       "    <tr>\n",
       "      <th>50%</th>\n",
       "      <td>2700.000000</td>\n",
       "      <td>2003.000000</td>\n",
       "      <td>105.000000</td>\n",
       "      <td>150000.000000</td>\n",
       "      <td>6.000000</td>\n",
       "      <td>0.0</td>\n",
       "      <td>49413.000000</td>\n",
       "    </tr>\n",
       "    <tr>\n",
       "      <th>75%</th>\n",
       "      <td>6400.000000</td>\n",
       "      <td>2008.000000</td>\n",
       "      <td>143.000000</td>\n",
       "      <td>150000.000000</td>\n",
       "      <td>9.000000</td>\n",
       "      <td>0.0</td>\n",
       "      <td>71083.000000</td>\n",
       "    </tr>\n",
       "    <tr>\n",
       "      <th>max</th>\n",
       "      <td>20000.000000</td>\n",
       "      <td>9999.000000</td>\n",
       "      <td>20000.000000</td>\n",
       "      <td>150000.000000</td>\n",
       "      <td>12.000000</td>\n",
       "      <td>0.0</td>\n",
       "      <td>99998.000000</td>\n",
       "    </tr>\n",
       "  </tbody>\n",
       "</table>\n",
       "</div>"
      ],
      "text/plain": [
       "               Price  RegistrationYear          Power      Kilometer  \\\n",
       "count  354369.000000     354369.000000  354369.000000  354369.000000   \n",
       "mean     4416.656776       2004.234448     110.094337  128211.172535   \n",
       "std      4514.158514         90.227958     189.850405   37905.341530   \n",
       "min         0.000000       1000.000000       0.000000    5000.000000   \n",
       "25%      1050.000000       1999.000000      69.000000  125000.000000   \n",
       "50%      2700.000000       2003.000000     105.000000  150000.000000   \n",
       "75%      6400.000000       2008.000000     143.000000  150000.000000   \n",
       "max     20000.000000       9999.000000   20000.000000  150000.000000   \n",
       "\n",
       "       RegistrationMonth  NumberOfPictures     PostalCode  \n",
       "count      354369.000000          354369.0  354369.000000  \n",
       "mean            5.714645               0.0   50508.689087  \n",
       "std             3.726421               0.0   25783.096248  \n",
       "min             0.000000               0.0    1067.000000  \n",
       "25%             3.000000               0.0   30165.000000  \n",
       "50%             6.000000               0.0   49413.000000  \n",
       "75%             9.000000               0.0   71083.000000  \n",
       "max            12.000000               0.0   99998.000000  "
      ]
     },
     "metadata": {},
     "output_type": "display_data"
    },
    {
     "name": "stdout",
     "output_type": "stream",
     "text": [
      "-----------------------------------------------------------------\n",
      "Кол-во пропусков:\n"
     ]
    },
    {
     "data": {
      "text/plain": [
       "DateCrawled              0\n",
       "Price                    0\n",
       "VehicleType          37490\n",
       "RegistrationYear         0\n",
       "Gearbox              19833\n",
       "Power                    0\n",
       "Model                19705\n",
       "Kilometer                0\n",
       "RegistrationMonth        0\n",
       "FuelType             32895\n",
       "Brand                    0\n",
       "NotRepaired          71154\n",
       "DateCreated              0\n",
       "NumberOfPictures         0\n",
       "PostalCode               0\n",
       "LastSeen                 0\n",
       "dtype: int64"
      ]
     },
     "metadata": {},
     "output_type": "display_data"
    },
    {
     "name": "stdout",
     "output_type": "stream",
     "text": [
      "-----------------------------------------------------------------\n",
      "Кол-во дубликатов - 4\n"
     ]
    }
   ],
   "source": [
    "display(autos.head(5))\n",
    "print('-----------------------------------------------------------------')\n",
    "\n",
    "display(autos.info())\n",
    "print('-----------------------------------------------------------------')\n",
    "\n",
    "display(autos.describe())\n",
    "print('-----------------------------------------------------------------')\n",
    "\n",
    "print('Кол-во пропусков:')\n",
    "display(autos.isna().sum())\n",
    "print('-----------------------------------------------------------------')\n",
    "\n",
    "print('Кол-во дубликатов -', autos.duplicated().sum())"
   ]
  },
  {
   "cell_type": "markdown",
   "id": "51530bc7",
   "metadata": {},
   "source": [
    "### Выводы по п.1. Обзор данных:\n",
    "1. Есть признаки, которые никак не влияют на цену - DateCrawled, RegistrationMonth, DateCreated, NumberOfPictures, PostalCode и\tLastSeen. От них надо избавиться\n",
    "2. В признаках, влияющих на цену, есть пропуски \n",
    "3. В целевом признаке и признаке Power есть 0, наверняка есть другие выбросы\n",
    "4. В RegistrationYear указан минимальный год 1000, наверняка есть другие выбросы\n",
    "5. Есть дубликаты, от которых также надо избавиться\n",
    "6. В названиях признаков надо избавиться от верблюжьего стиля\n",
    "7. В признаках Gearbox и NotRepaired значения можно заменить на 1/0"
   ]
  },
  {
   "cell_type": "markdown",
   "id": "34b16920",
   "metadata": {},
   "source": [
    "## 2. Предобработка данных"
   ]
  },
  {
   "cell_type": "code",
   "execution_count": 4,
   "id": "c21f7228",
   "metadata": {},
   "outputs": [
    {
     "data": {
      "text/plain": [
       "Index(['date_crawled', 'price', 'vehicle_type', 'registration_year', 'gearbox',\n",
       "       'power', 'model', 'kilometer', 'registration_month', 'fuel_type',\n",
       "       'brand', 'not_repaired', 'date_created', 'number_of_pictures',\n",
       "       'postal_code', 'last_seen'],\n",
       "      dtype='object')"
      ]
     },
     "execution_count": 4,
     "metadata": {},
     "output_type": "execute_result"
    }
   ],
   "source": [
    "#перевожу названия в змеиный стиль:\n",
    "autos.columns = autos.columns.str.replace(r\"([A-Z])\", r\" \\1\").str.lower().str.replace(' ', '_').str[1:]\n",
    "autos.columns"
   ]
  },
  {
   "cell_type": "code",
   "execution_count": 5,
   "id": "7bf33eda",
   "metadata": {
    "scrolled": false
   },
   "outputs": [],
   "source": [
    "#избавляюсь от дубликатов:\n",
    "autos.drop_duplicates(inplace=True)  "
   ]
  },
  {
   "cell_type": "code",
   "execution_count": 6,
   "id": "a7b474d6",
   "metadata": {},
   "outputs": [],
   "source": [
    "#избавляюсь от признаков, не влияющих на целевой признак:\n",
    "autos.drop(columns=['date_crawled', 'date_created', 'number_of_pictures',\n",
    "                    'postal_code', 'last_seen', 'registration_month'],\n",
    "           axis=1,\n",
    "           inplace=True)"
   ]
  },
  {
   "cell_type": "markdown",
   "id": "2e1dcc92",
   "metadata": {},
   "source": [
    "### 2.1. Целевой признак price"
   ]
  },
  {
   "cell_type": "code",
   "execution_count": 7,
   "id": "e7e32883",
   "metadata": {},
   "outputs": [
    {
     "data": {
      "text/plain": [
       "0        10772\n",
       "500       5670\n",
       "1500      5394\n",
       "1000      4648\n",
       "1200      4594\n",
       "         ...  \n",
       "1368         1\n",
       "233          1\n",
       "11080        1\n",
       "16340        1\n",
       "10985        1\n",
       "Name: price, Length: 3731, dtype: int64"
      ]
     },
     "execution_count": 7,
     "metadata": {},
     "output_type": "execute_result"
    }
   ],
   "source": [
    "#смотрю, сколько нулей в целевом признаке:\n",
    "autos.price.value_counts()"
   ]
  },
  {
   "cell_type": "code",
   "execution_count": 8,
   "id": "4a283abb",
   "metadata": {},
   "outputs": [],
   "source": [
    "#удаляю все 0 из целевого признака:\n",
    "autos = autos.query('price > 0')"
   ]
  },
  {
   "cell_type": "code",
   "execution_count": 9,
   "id": "f0ac5164",
   "metadata": {
    "scrolled": false
   },
   "outputs": [
    {
     "data": {
      "image/png": "[encoded data removed]",
      "text/plain": [
       "<Figure size 1440x360 with 1 Axes>"
      ]
     },
     "metadata": {
      "needs_background": "light"
     },
     "output_type": "display_data"
    },
    {
     "data": {
      "image/png": "[encoded data removed]",
      "text/plain": [
       "<Figure size 720x216 with 1 Axes>"
      ]
     },
     "metadata": {
      "needs_background": "light"
     },
     "output_type": "display_data"
    }
   ],
   "source": [
    "#смотрю гистограмму и ящик с усами для целевого признака: \n",
    "autos.price.hist(bins=200, figsize=(20,5))\n",
    "\n",
    "plt.figure(figsize=(10,3))\n",
    "sns.boxplot(data=autos.price, orient='h')\n",
    "plt.title('Ящик с усами для целевого признака')\n",
    "plt.show()"
   ]
  },
  {
   "cell_type": "code",
   "execution_count": 10,
   "id": "5f962507",
   "metadata": {},
   "outputs": [
    {
     "data": {
      "text/plain": [
       "0.05      350.0\n",
       "0.95    14800.0\n",
       "Name: price, dtype: float64"
      ]
     },
     "execution_count": 10,
     "metadata": {},
     "output_type": "execute_result"
    }
   ],
   "source": [
    "#поскольку на гистограмме и ящике с усами странные данные у нуля и длинный хвост возле 15000, смотрю квантили:\n",
    "autos.price.quantile([.05, 0.95])"
   ]
  },
  {
   "cell_type": "code",
   "execution_count": 11,
   "id": "73867050",
   "metadata": {
    "scrolled": true
   },
   "outputs": [
    {
     "data": {
      "text/plain": [
       "0.09517365021988222"
      ]
     },
     "execution_count": 11,
     "metadata": {},
     "output_type": "execute_result"
    }
   ],
   "source": [
    "#смотрю долю строк, где цена меньше 350 и больше 14800:\n",
    "1 - autos.query('350 <= price <= 14800').shape[0] / autos.shape[0]"
   ]
  },
  {
   "cell_type": "code",
   "execution_count": 12,
   "id": "13583ea2",
   "metadata": {},
   "outputs": [],
   "source": [
    "#избавляюсь от 10% строк, где цена меньше 350 и больше 14800:\n",
    "autos = autos.query('350 <= price <= 14800')"
   ]
  },
  {
   "cell_type": "markdown",
   "id": "f254a1f8",
   "metadata": {},
   "source": [
    "### 2.2. Признак registrationyear\t"
   ]
  },
  {
   "cell_type": "code",
   "execution_count": 13,
   "id": "bcf7f832",
   "metadata": {
    "scrolled": false
   },
   "outputs": [
    {
     "data": {
      "text/plain": [
       "2000    20907\n",
       "2005    20811\n",
       "1999    20621\n",
       "2003    19217\n",
       "2001    19091\n",
       "        ...  \n",
       "4800        1\n",
       "2290        1\n",
       "1930        1\n",
       "1001        1\n",
       "1946        1\n",
       "Name: registration_year, Length: 130, dtype: int64"
      ]
     },
     "execution_count": 13,
     "metadata": {},
     "output_type": "execute_result"
    }
   ],
   "source": [
    "#смотрю значения в registration_year:\n",
    "autos.registration_year.value_counts()"
   ]
  },
  {
   "cell_type": "code",
   "execution_count": 14,
   "id": "abed749d",
   "metadata": {},
   "outputs": [
    {
     "data": {
      "text/html": [
       "<div>\n",
       "<style scoped>\n",
       "    .dataframe tbody tr th:only-of-type {\n",
       "        vertical-align: middle;\n",
       "    }\n",
       "\n",
       "    .dataframe tbody tr th {\n",
       "        vertical-align: top;\n",
       "    }\n",
       "\n",
       "    .dataframe thead th {\n",
       "        text-align: right;\n",
       "    }\n",
       "</style>\n",
       "<table border=\"1\" class=\"dataframe\">\n",
       "  <thead>\n",
       "    <tr style=\"text-align: right;\">\n",
       "      <th></th>\n",
       "      <th>quantity</th>\n",
       "    </tr>\n",
       "    <tr>\n",
       "      <th>registration_year</th>\n",
       "      <th></th>\n",
       "    </tr>\n",
       "  </thead>\n",
       "  <tbody>\n",
       "    <tr>\n",
       "      <th>1000</th>\n",
       "      <td>18</td>\n",
       "    </tr>\n",
       "    <tr>\n",
       "      <th>1001</th>\n",
       "      <td>1</td>\n",
       "    </tr>\n",
       "    <tr>\n",
       "      <th>1039</th>\n",
       "      <td>1</td>\n",
       "    </tr>\n",
       "    <tr>\n",
       "      <th>1111</th>\n",
       "      <td>1</td>\n",
       "    </tr>\n",
       "    <tr>\n",
       "      <th>1234</th>\n",
       "      <td>2</td>\n",
       "    </tr>\n",
       "    <tr>\n",
       "      <th>...</th>\n",
       "      <td>...</td>\n",
       "    </tr>\n",
       "    <tr>\n",
       "      <th>8500</th>\n",
       "      <td>1</td>\n",
       "    </tr>\n",
       "    <tr>\n",
       "      <th>8888</th>\n",
       "      <td>1</td>\n",
       "    </tr>\n",
       "    <tr>\n",
       "      <th>9000</th>\n",
       "      <td>2</td>\n",
       "    </tr>\n",
       "    <tr>\n",
       "      <th>9450</th>\n",
       "      <td>1</td>\n",
       "    </tr>\n",
       "    <tr>\n",
       "      <th>9999</th>\n",
       "      <td>10</td>\n",
       "    </tr>\n",
       "  </tbody>\n",
       "</table>\n",
       "<p>130 rows × 1 columns</p>\n",
       "</div>"
      ],
      "text/plain": [
       "                   quantity\n",
       "registration_year          \n",
       "1000                     18\n",
       "1001                      1\n",
       "1039                      1\n",
       "1111                      1\n",
       "1234                      2\n",
       "...                     ...\n",
       "8500                      1\n",
       "8888                      1\n",
       "9000                      2\n",
       "9450                      1\n",
       "9999                     10\n",
       "\n",
       "[130 rows x 1 columns]"
      ]
     },
     "execution_count": 14,
     "metadata": {},
     "output_type": "execute_result"
    }
   ],
   "source": [
    "annual = autos.pivot_table(index='registration_year', values='brand', aggfunc='count')\n",
    "annual.columns = ['quantity']\n",
    "annual"
   ]
  },
  {
   "cell_type": "code",
   "execution_count": 15,
   "id": "961e8350",
   "metadata": {
    "scrolled": false
   },
   "outputs": [
    {
     "data": {
      "image/png": "[encoded data removed]",
      "text/plain": [
       "<Figure size 1440x360 with 1 Axes>"
      ]
     },
     "metadata": {
      "needs_background": "light"
     },
     "output_type": "display_data"
    }
   ],
   "source": [
    "#смотрю график для registrationyear: \n",
    "annual.plot.bar(figsize = (20,5))\n",
    "plt.title('Годы регистрации')\n",
    "plt.show()"
   ]
  },
  {
   "cell_type": "code",
   "execution_count": 16,
   "id": "e794555e",
   "metadata": {},
   "outputs": [
    {
     "data": {
      "text/plain": [
       "'2016-04-07 14:36:58'"
      ]
     },
     "execution_count": 16,
     "metadata": {},
     "output_type": "execute_result"
    }
   ],
   "source": [
    "#смотрю самый поздний год выгрузки:\n",
    "autos_ = pd.read_csv('/Users/galina/Desktop/учёба/спринт 11. Численные методы/autos-2.csv')\n",
    "autos_.DateCrawled.max()"
   ]
  },
  {
   "cell_type": "code",
   "execution_count": 17,
   "id": "d18893a6",
   "metadata": {},
   "outputs": [],
   "source": [
    "#вряд ли авто ранее 1975 и позже 2016 (органичение данных) были поставлены на учет и на продажу\n",
    "#поэтому оставляю в таблице только годы регистрации с 1975 по 2016:\n",
    "autos = autos.query('1975 <= registration_year <= 2016')"
   ]
  },
  {
   "cell_type": "markdown",
   "id": "a9f9d2cf",
   "metadata": {},
   "source": [
    "### 2.3. Признак power"
   ]
  },
  {
   "cell_type": "code",
   "execution_count": 18,
   "id": "f0524694",
   "metadata": {},
   "outputs": [
    {
     "data": {
      "text/plain": [
       "0       26795\n",
       "75      20640\n",
       "60      13045\n",
       "150     13008\n",
       "101     12106\n",
       "        ...  \n",
       "2789        1\n",
       "2461        1\n",
       "6006        1\n",
       "6018        1\n",
       "1548        1\n",
       "Name: power, Length: 627, dtype: int64"
      ]
     },
     "execution_count": 18,
     "metadata": {},
     "output_type": "execute_result"
    }
   ],
   "source": [
    "#смотрю значения в power:\n",
    "autos.power.value_counts()"
   ]
  },
  {
   "cell_type": "code",
   "execution_count": 19,
   "id": "2b2ae1e1",
   "metadata": {},
   "outputs": [
    {
     "data": {
      "text/plain": [
       "<AxesSubplot:>"
      ]
     },
     "execution_count": 19,
     "metadata": {},
     "output_type": "execute_result"
    },
    {
     "data": {
      "image/png": "[encoded data removed]",
      "text/plain": [
       "<Figure size 648x216 with 1 Axes>"
      ]
     },
     "metadata": {
      "needs_background": "light"
     },
     "output_type": "display_data"
    }
   ],
   "source": [
    "#смотрю гистограмму power:\n",
    "autos.power.hist(bins=300, figsize=(9,3))"
   ]
  },
  {
   "cell_type": "code",
   "execution_count": 20,
   "id": "22db81b7",
   "metadata": {
    "scrolled": true
   },
   "outputs": [
    {
     "data": {
      "text/plain": [
       "count    296131.000000\n",
       "mean        111.028275\n",
       "std         184.505329\n",
       "min           0.000000\n",
       "25%          75.000000\n",
       "50%         105.000000\n",
       "75%         140.000000\n",
       "max       20000.000000\n",
       "Name: power, dtype: float64"
      ]
     },
     "execution_count": 20,
     "metadata": {},
     "output_type": "execute_result"
    }
   ],
   "source": [
    "autos.power.describe()"
   ]
  },
  {
   "cell_type": "code",
   "execution_count": 21,
   "id": "30bac5c9",
   "metadata": {},
   "outputs": [],
   "source": [
    "#поскольку самое мощное по состоянию на 2022 год легковое авто имеет 1600лс,\n",
    "#а самое слабое из представленных брендов авто - Citroen 2CV - имеет 9лс,  \n",
    "#то выкину из таблицы всё, что выше и ниже этих границ:\n",
    "autos = autos.query('9 <= power <= 1600')"
   ]
  },
  {
   "cell_type": "markdown",
   "id": "e56fd6ac",
   "metadata": {},
   "source": [
    "### 2.4. Признак kilometer"
   ]
  },
  {
   "cell_type": "code",
   "execution_count": 22,
   "id": "51d1dff8",
   "metadata": {
    "scrolled": true
   },
   "outputs": [
    {
     "data": {
      "text/plain": [
       "150000    183628\n",
       "125000     29148\n",
       "100000     11366\n",
       "90000       9039\n",
       "80000       7752\n",
       "70000       6539\n",
       "60000       5584\n",
       "50000       4453\n",
       "40000       3436\n",
       "30000       2906\n",
       "20000       2331\n",
       "5000        2250\n",
       "10000        580\n",
       "Name: kilometer, dtype: int64"
      ]
     },
     "execution_count": 22,
     "metadata": {},
     "output_type": "execute_result"
    }
   ],
   "source": [
    "#смотрю значения в kilometer:\n",
    "autos.kilometer.value_counts()"
   ]
  },
  {
   "cell_type": "markdown",
   "id": "f601bcb2",
   "metadata": {},
   "source": [
    "В признаке kilometer выбросов нет и аномалий нет"
   ]
  },
  {
   "cell_type": "markdown",
   "id": "170d7330",
   "metadata": {},
   "source": [
    "### 2.5. Признак brand"
   ]
  },
  {
   "cell_type": "code",
   "execution_count": 23,
   "id": "50e73815",
   "metadata": {
    "scrolled": false
   },
   "outputs": [
    {
     "data": {
      "text/plain": [
       "volkswagen        58354\n",
       "opel              29855\n",
       "bmw               28889\n",
       "mercedes_benz     24458\n",
       "audi              22560\n",
       "ford              18500\n",
       "renault           12928\n",
       "peugeot            8945\n",
       "fiat               7018\n",
       "seat               5413\n",
       "skoda              4583\n",
       "smart              4449\n",
       "mazda              4446\n",
       "citroen            4007\n",
       "toyota             3855\n",
       "nissan             3602\n",
       "hyundai            2887\n",
       "volvo              2564\n",
       "mini               2491\n",
       "mitsubishi         2286\n",
       "honda              2270\n",
       "kia                1912\n",
       "suzuki             1848\n",
       "alfa_romeo         1846\n",
       "chevrolet          1347\n",
       "sonstige_autos     1225\n",
       "chrysler           1093\n",
       "dacia               785\n",
       "subaru              571\n",
       "daihatsu            557\n",
       "jeep                494\n",
       "saab                444\n",
       "porsche             390\n",
       "jaguar              372\n",
       "daewoo              366\n",
       "land_rover          362\n",
       "lancia              340\n",
       "rover               327\n",
       "trabant             222\n",
       "lada                151\n",
       "Name: brand, dtype: int64"
      ]
     },
     "execution_count": 23,
     "metadata": {},
     "output_type": "execute_result"
    }
   ],
   "source": [
    "autos.brand.value_counts()"
   ]
  },
  {
   "cell_type": "markdown",
   "id": "856d8feb",
   "metadata": {},
   "source": [
    "В признаке brand неявных дубликатов нет"
   ]
  },
  {
   "cell_type": "markdown",
   "id": "15f790d0",
   "metadata": {},
   "source": [
    "### 2.6. Признак gearbox"
   ]
  },
  {
   "cell_type": "code",
   "execution_count": 24,
   "id": "40414390",
   "metadata": {},
   "outputs": [],
   "source": [
    "#заменяю NaN на 'manual':\n",
    "autos.fillna({'gearbox':'manual'}, inplace=True)"
   ]
  },
  {
   "cell_type": "code",
   "execution_count": 25,
   "id": "1598d750",
   "metadata": {},
   "outputs": [],
   "source": [
    "#заменяю в gearbox значение manual на 1, auto - на 0:\n",
    "autos.loc[(autos.gearbox == 'manual'), 'gearbox'] = 1   \n",
    "autos.loc[(autos.gearbox == 'auto'), 'gearbox'] = 0"
   ]
  },
  {
   "cell_type": "code",
   "execution_count": 26,
   "id": "233a40bc",
   "metadata": {},
   "outputs": [],
   "source": [
    "autos.gearbox = autos.gearbox.astype('int')"
   ]
  },
  {
   "cell_type": "markdown",
   "id": "a5c5c3f3",
   "metadata": {},
   "source": [
    "### 2.7. Признак notrepaired"
   ]
  },
  {
   "cell_type": "code",
   "execution_count": 27,
   "id": "df0a6109",
   "metadata": {},
   "outputs": [],
   "source": [
    "#заменяю NaN на 'yes', так как обычно любая подержанная машина была в ремонте:\n",
    "autos.fillna({'not_repaired':'yes'}, inplace=True)"
   ]
  },
  {
   "cell_type": "code",
   "execution_count": 28,
   "id": "b81b6f66",
   "metadata": {},
   "outputs": [],
   "source": [
    "#заменяю в notrepaired значение yes на 1, no - на 0:\n",
    "autos.loc[(autos.not_repaired == 'yes'), 'not_repaired'] = 1\n",
    "autos.loc[(autos.not_repaired == 'no'), 'not_repaired'] = 0"
   ]
  },
  {
   "cell_type": "code",
   "execution_count": 29,
   "id": "2c3f307c",
   "metadata": {},
   "outputs": [],
   "source": [
    "autos.not_repaired = autos.not_repaired.astype('int')"
   ]
  },
  {
   "cell_type": "markdown",
   "id": "72f51b91",
   "metadata": {},
   "source": [
    "### 2.8. Признак model"
   ]
  },
  {
   "cell_type": "code",
   "execution_count": 30,
   "id": "58d89cbe",
   "metadata": {},
   "outputs": [
    {
     "data": {
      "text/plain": [
       "golf                  22613\n",
       "other                 17963\n",
       "3er                   16108\n",
       "polo                   9730\n",
       "unknown                9544\n",
       "                      ...  \n",
       "serie_2                   2\n",
       "range_rover_evoque        2\n",
       "gl                        2\n",
       "serie_3                   1\n",
       "rangerover                1\n",
       "Name: model, Length: 250, dtype: int64"
      ]
     },
     "execution_count": 30,
     "metadata": {},
     "output_type": "execute_result"
    }
   ],
   "source": [
    "#заменяю NaN на 'unknown':\n",
    "autos.fillna({'model':'unknown'}, inplace=True)\n",
    "autos.model.value_counts()"
   ]
  },
  {
   "cell_type": "markdown",
   "id": "c59f4e10",
   "metadata": {},
   "source": [
    "### 2.9. Признак vehicletype"
   ]
  },
  {
   "cell_type": "code",
   "execution_count": 31,
   "id": "7fe430bb",
   "metadata": {},
   "outputs": [
    {
     "data": {
      "text/plain": [
       "sedan          76356\n",
       "small          64638\n",
       "wagon          54746\n",
       "bus            24453\n",
       "convertible    16423\n",
       "coupe          12311\n",
       "unknown         9206\n",
       "suv             8687\n",
       "other           2192\n",
       "Name: vehicle_type, dtype: int64"
      ]
     },
     "execution_count": 31,
     "metadata": {},
     "output_type": "execute_result"
    }
   ],
   "source": [
    "#заменяю пропуски на unknown:\n",
    "autos.fillna({'vehicle_type':'unknown'}, inplace=True)\n",
    "autos.vehicle_type.value_counts()"
   ]
  },
  {
   "cell_type": "markdown",
   "id": "d6993255",
   "metadata": {},
   "source": [
    "### 2.10. Признак fueltype"
   ]
  },
  {
   "cell_type": "code",
   "execution_count": 32,
   "id": "a101103b",
   "metadata": {},
   "outputs": [
    {
     "data": {
      "text/plain": [
       "petrol      171651\n",
       "gasoline     78636\n",
       "unknown      13456\n",
       "lpg           4527\n",
       "cng            467\n",
       "hybrid         154\n",
       "other           66\n",
       "electric        55\n",
       "Name: fuel_type, dtype: int64"
      ]
     },
     "execution_count": 32,
     "metadata": {},
     "output_type": "execute_result"
    }
   ],
   "source": [
    "autos.fillna({'fuel_type':'unknown'}, inplace=True)\n",
    "autos.fuel_type.value_counts()"
   ]
  },
  {
   "cell_type": "code",
   "execution_count": 33,
   "id": "c9e8f0e7",
   "metadata": {
    "scrolled": true
   },
   "outputs": [
    {
     "name": "stdout",
     "output_type": "stream",
     "text": [
      "<class 'pandas.core.frame.DataFrame'>\n",
      "Int64Index: 269012 entries, 2 to 354368\n",
      "Data columns (total 10 columns):\n",
      " #   Column             Non-Null Count   Dtype \n",
      "---  ------             --------------   ----- \n",
      " 0   price              269012 non-null  int64 \n",
      " 1   vehicle_type       269012 non-null  object\n",
      " 2   registration_year  269012 non-null  int64 \n",
      " 3   gearbox            269012 non-null  int64 \n",
      " 4   power              269012 non-null  int64 \n",
      " 5   model              269012 non-null  object\n",
      " 6   kilometer          269012 non-null  int64 \n",
      " 7   fuel_type          269012 non-null  object\n",
      " 8   brand              269012 non-null  object\n",
      " 9   not_repaired       269012 non-null  int64 \n",
      "dtypes: int64(6), object(4)\n",
      "memory usage: 22.6+ MB\n"
     ]
    }
   ],
   "source": [
    "autos.info()"
   ]
  },
  {
   "cell_type": "code",
   "execution_count": 34,
   "id": "757df94b",
   "metadata": {},
   "outputs": [
    {
     "data": {
      "text/plain": [
       "price                1.000000\n",
       "registration_year    0.530652\n",
       "gearbox             -0.212265\n",
       "power                0.406937\n",
       "kilometer           -0.338210\n",
       "not_repaired        -0.233246\n",
       "Name: price, dtype: float64"
      ]
     },
     "execution_count": 34,
     "metadata": {},
     "output_type": "execute_result"
    }
   ],
   "source": [
    "autos.corr()['price']"
   ]
  },
  {
   "cell_type": "markdown",
   "id": "f8ca95d5",
   "metadata": {},
   "source": [
    "### Выводы по п.2. Обработка данных:\n",
    "1. Избавилась от:\n",
    "- признаков, которые никак не влияют на целевой признак\n",
    "- верблюжьего стиля\n",
    "- дубликатов\n",
    "- выбросов в целевом признаке и признаках\n",
    "\n",
    "2. Заполнила пропуски в:\n",
    "- gearbox значением 'manual', и заменила значения на 1/0\n",
    "- notrepaired значением 'yes', и заменила значения на 1/0\n",
    "- model, vehicletype, fueltype значением 'unknown'\n",
    "\n",
    "3. В целом цена логично зависит:\n",
    "- прямо пропорционально от года регистрации, мощности\n",
    "- обратно пропорционально от пробега, ремонта, типа коробки\n",
    "\n",
    "В результате обработки данных датафрейм сократился на 21%, однако данных (278 837 строк) достаточно для обучения моделей"
   ]
  },
  {
   "cell_type": "markdown",
   "id": "1b5fb9b4",
   "metadata": {},
   "source": [
    "## 3. Обучение моделей"
   ]
  },
  {
   "cell_type": "code",
   "execution_count": 35,
   "id": "df1818de",
   "metadata": {},
   "outputs": [],
   "source": [
    "#выделяю признаки и целевой признак:\n",
    "features_orig = autos.drop('price', axis=1)\n",
    "target = autos.price"
   ]
  },
  {
   "cell_type": "code",
   "execution_count": 36,
   "id": "5f15cb06",
   "metadata": {},
   "outputs": [],
   "source": [
    "#разделяю на выборки:\n",
    "features_train, features_test, target_train, target_test = train_test_split(features_orig,\n",
    "                                                                            target, \n",
    "                                                                            test_size=.25,\n",
    "                                                                            random_state=12345)"
   ]
  },
  {
   "cell_type": "code",
   "execution_count": 37,
   "id": "fd447dce",
   "metadata": {},
   "outputs": [],
   "source": [
    "#кодирую признаки через OHE:\n",
    "features_ohe = pd.get_dummies(features_orig, drop_first=True)\n",
    "\n",
    "features_train_ohe, features_test_ohe, target_train_ohe, target_test_ohe = train_test_split(features_ohe,\n",
    "                                                                                            target,\n",
    "                                                                                            test_size=.25,\n",
    "                                                                                            random_state=12345)"
   ]
  },
  {
   "cell_type": "code",
   "execution_count": 38,
   "id": "1cc89661",
   "metadata": {},
   "outputs": [],
   "source": [
    "#кодирую признаки через OE:\n",
    "encoder = OrdinalEncoder()\n",
    "\n",
    "features_train_oe = features_train[['vehicle_type','fuel_type','brand','model']]\n",
    "features_train_oe = pd.DataFrame(encoder.fit_transform(features_train),\n",
    "                                 columns=features_train.columns,\n",
    "                                 index=features_train.index)\n",
    "\n",
    "features_test_oe = features_test[['vehicle_type','fuel_type','brand','model']]\n",
    "features_test_oe = pd.DataFrame(encoder.fit_transform(features_test),\n",
    "                                columns=features_test.columns,\n",
    "                                index=features_test.index)\n",
    "\n",
    "target_train_oe = target_train.copy()\n",
    "\n",
    "target_test_oe = target_test.copy()"
   ]
  },
  {
   "cell_type": "code",
   "execution_count": 39,
   "id": "43d46bb6",
   "metadata": {
    "scrolled": false
   },
   "outputs": [
    {
     "name": "stdout",
     "output_type": "stream",
     "text": [
      "(201759, 308)\n",
      "(67253, 308)\n",
      "(201759,)\n",
      "(67253,)\n",
      "\n",
      "(201759, 9)\n",
      "(67253, 9)\n",
      "(201759,)\n",
      "(67253,)\n",
      "\n",
      "(201759, 9)\n",
      "(67253, 9)\n",
      "(201759,)\n",
      "(67253,)\n"
     ]
    }
   ],
   "source": [
    "#смотрю размеры выборок:\n",
    "for i in [features_train_ohe, features_test_ohe, target_train_ohe, target_test_ohe]:\n",
    "    print(i.shape)    \n",
    "    \n",
    "print()\n",
    "\n",
    "for i in [features_train_oe, features_test_oe, target_train_oe, target_test_oe]:\n",
    "    print(i.shape)\n",
    "\n",
    "print()\n",
    "    \n",
    "for i in [features_train, features_test, target_train, target_test]:\n",
    "    print(i.shape)"
   ]
  },
  {
   "cell_type": "markdown",
   "id": "e09b8a91",
   "metadata": {},
   "source": [
    "### 3.1. Модель LinearRegression"
   ]
  },
  {
   "cell_type": "markdown",
   "id": "b3a91467",
   "metadata": {},
   "source": [
    "#### 3.1.1. На выборках c OneHotEncoder "
   ]
  },
  {
   "cell_type": "code",
   "execution_count": 40,
   "id": "7dd25749",
   "metadata": {},
   "outputs": [
    {
     "name": "stdout",
     "output_type": "stream",
     "text": [
      "CPU times: user 7.52 s, sys: 2.13 s, total: 9.65 s\n",
      "Wall time: 2.67 s\n"
     ]
    },
    {
     "data": {
      "text/plain": [
       "LinearRegression()"
      ]
     },
     "execution_count": 40,
     "metadata": {},
     "output_type": "execute_result"
    }
   ],
   "source": [
    "%%time\n",
    "\n",
    "model_lr = LinearRegression()\n",
    "model_lr.fit(features_train_ohe, target_train_ohe)"
   ]
  },
  {
   "cell_type": "code",
   "execution_count": 41,
   "id": "335ff51d",
   "metadata": {},
   "outputs": [
    {
     "name": "stdout",
     "output_type": "stream",
     "text": [
      "CPU times: user 870 ms, sys: 661 ms, total: 1.53 s\n",
      "Wall time: 442 ms\n"
     ]
    }
   ],
   "source": [
    "%%time\n",
    "\n",
    "target_predict = model_lr.predict(features_train_ohe)"
   ]
  },
  {
   "cell_type": "code",
   "execution_count": 42,
   "id": "2c506014",
   "metadata": {},
   "outputs": [
    {
     "data": {
      "text/plain": [
       "2072.533217181473"
      ]
     },
     "execution_count": 42,
     "metadata": {},
     "output_type": "execute_result"
    }
   ],
   "source": [
    "rmse_lr_ohe = mean_squared_error(target_train_ohe, target_predict) ** .5\n",
    "rmse_lr_ohe"
   ]
  },
  {
   "cell_type": "markdown",
   "id": "be59e7e2",
   "metadata": {},
   "source": [
    "#### 3.1.2. На выборках c OrdinalEncoder"
   ]
  },
  {
   "cell_type": "code",
   "execution_count": 43,
   "id": "5546656d",
   "metadata": {},
   "outputs": [
    {
     "name": "stdout",
     "output_type": "stream",
     "text": [
      "CPU times: user 174 ms, sys: 87.9 ms, total: 262 ms\n",
      "Wall time: 47.1 ms\n"
     ]
    },
    {
     "data": {
      "text/plain": [
       "LinearRegression()"
      ]
     },
     "execution_count": 43,
     "metadata": {},
     "output_type": "execute_result"
    }
   ],
   "source": [
    "%%time\n",
    "\n",
    "model_lr = LinearRegression()\n",
    "model_lr.fit(features_train_oe, target_train_oe)"
   ]
  },
  {
   "cell_type": "code",
   "execution_count": 44,
   "id": "3732bd2d",
   "metadata": {
    "scrolled": true
   },
   "outputs": [
    {
     "name": "stdout",
     "output_type": "stream",
     "text": [
      "CPU times: user 7.15 ms, sys: 5.68 ms, total: 12.8 ms\n",
      "Wall time: 3.7 ms\n"
     ]
    }
   ],
   "source": [
    "%%time\n",
    "\n",
    "target_predict = model_lr.predict(features_train_oe)"
   ]
  },
  {
   "cell_type": "code",
   "execution_count": 45,
   "id": "7d1c6923",
   "metadata": {
    "scrolled": true
   },
   "outputs": [
    {
     "data": {
      "text/plain": [
       "2359.4990513276075"
      ]
     },
     "execution_count": 45,
     "metadata": {},
     "output_type": "execute_result"
    }
   ],
   "source": [
    "rmse_lr_oe = mean_squared_error(target_train_oe, target_predict) ** .5\n",
    "rmse_lr_oe"
   ]
  },
  {
   "cell_type": "markdown",
   "id": "261d5ce9",
   "metadata": {},
   "source": [
    "#### 3.1.3. C использованием кроссвалидации"
   ]
  },
  {
   "cell_type": "code",
   "execution_count": 46,
   "id": "19c6f766",
   "metadata": {
    "scrolled": true
   },
   "outputs": [
    {
     "name": "stdout",
     "output_type": "stream",
     "text": [
      "CPU times: user 34.6 s, sys: 9.62 s, total: 44.3 s\n",
      "Wall time: 9.58 s\n"
     ]
    },
    {
     "data": {
      "text/plain": [
       "4316599.289912783"
      ]
     },
     "execution_count": 46,
     "metadata": {},
     "output_type": "execute_result"
    }
   ],
   "source": [
    "%%time\n",
    "\n",
    "model_lr = LinearRegression()\n",
    "\n",
    "#mse доступна только как neg_mean_squared_error, которая возвращает массив отрицательных значений\n",
    "#поэтому на -1 умножаю:\n",
    "cvs_rmse_lr = (cross_val_score(model_lr,\n",
    "                               features_train_ohe,\n",
    "                               target_train_ohe,\n",
    "                               cv=5,\n",
    "                               scoring='neg_mean_squared_error')).mean() * -1 ** .5\n",
    "cvs_rmse_lr"
   ]
  },
  {
   "cell_type": "code",
   "execution_count": 47,
   "id": "5cdcd9a1",
   "metadata": {},
   "outputs": [
    {
     "name": "stdout",
     "output_type": "stream",
     "text": [
      "CPU times: user 647 ms, sys: 256 ms, total: 903 ms\n",
      "Wall time: 159 ms\n"
     ]
    },
    {
     "data": {
      "text/plain": [
       "5567904.076855193"
      ]
     },
     "execution_count": 47,
     "metadata": {},
     "output_type": "execute_result"
    }
   ],
   "source": [
    "%%time\n",
    "\n",
    "model_lr = LinearRegression()\n",
    "\n",
    "cvs_rmse_lr = (cross_val_score(model_lr,\n",
    "                               features_train_oe,\n",
    "                               target_train_oe,\n",
    "                               cv=5,\n",
    "                               scoring='neg_mean_squared_error')).mean() * -1 ** .5\n",
    "cvs_rmse_lr"
   ]
  },
  {
   "cell_type": "markdown",
   "id": "622e0661",
   "metadata": {},
   "source": [
    "### 3.2. Модель CatBoostRegressor"
   ]
  },
  {
   "cell_type": "markdown",
   "id": "064f8de3",
   "metadata": {},
   "source": [
    "#### 3.2.1. На выборках c OneHotEncoder "
   ]
  },
  {
   "cell_type": "code",
   "execution_count": 48,
   "id": "e5c68af2",
   "metadata": {
    "scrolled": true
   },
   "outputs": [
    {
     "name": "stdout",
     "output_type": "stream",
     "text": [
      "{'learning_rate': 0.5, 'random_state': 12345, 'verbose': False}\n",
      "CPU times: user 6min 24s, sys: 1min 8s, total: 7min 33s\n",
      "Wall time: 1min 59s\n"
     ]
    },
    {
     "data": {
      "text/plain": [
       "1305.3142292413966"
      ]
     },
     "execution_count": 48,
     "metadata": {},
     "output_type": "execute_result"
    }
   ],
   "source": [
    "%%time\n",
    "\n",
    "model_cbr = CatBoostRegressor() \n",
    "parameters = [{'learning_rate':[.1, .5, .8], 'random_state':[12345], 'verbose':[False]}]\n",
    "\n",
    "gscv = GridSearchCV(model_cbr, parameters, scoring='neg_mean_squared_error')\n",
    "gscv.fit(features_train_ohe, target_train_ohe)\n",
    "\n",
    "print(gscv.best_params_)\n",
    "\n",
    "mts = gscv.cv_results_['mean_test_score']\n",
    "    \n",
    "gscv_rsme_cbr_ohe = (max(mts) * -1) ** .5\n",
    "gscv_rsme_cbr_ohe"
   ]
  },
  {
   "cell_type": "code",
   "execution_count": 49,
   "id": "38dec5f5",
   "metadata": {},
   "outputs": [
    {
     "name": "stdout",
     "output_type": "stream",
     "text": [
      "CPU times: user 29.6 s, sys: 4.93 s, total: 34.6 s\n",
      "Wall time: 8.45 s\n"
     ]
    },
    {
     "data": {
      "text/plain": [
       "<catboost.core.CatBoostRegressor at 0x7fa8c5115070>"
      ]
     },
     "execution_count": 49,
     "metadata": {},
     "output_type": "execute_result"
    }
   ],
   "source": [
    "%%time\n",
    "\n",
    "model_cbr = CatBoostRegressor(learning_rate=.5, random_state=12345, verbose=False) #подставила лучшие параметры\n",
    "model_cbr.fit(features_train_ohe, target_train_ohe)"
   ]
  },
  {
   "cell_type": "code",
   "execution_count": 50,
   "id": "9be24fdb",
   "metadata": {},
   "outputs": [
    {
     "name": "stdout",
     "output_type": "stream",
     "text": [
      "CPU times: user 153 ms, sys: 66.5 ms, total: 220 ms\n",
      "Wall time: 87.1 ms\n"
     ]
    }
   ],
   "source": [
    "%%time\n",
    "\n",
    "target_predict = model_cbr.predict(features_test_ohe)"
   ]
  },
  {
   "cell_type": "code",
   "execution_count": 51,
   "id": "819c87c5",
   "metadata": {},
   "outputs": [
    {
     "data": {
      "text/plain": [
       "1301.7942819066543"
      ]
     },
     "execution_count": 51,
     "metadata": {},
     "output_type": "execute_result"
    }
   ],
   "source": [
    "rmse_cbr_ohe = mean_squared_error(target_test, target_predict) ** .5\n",
    "rmse_cbr_ohe"
   ]
  },
  {
   "cell_type": "markdown",
   "id": "0fcfaf66",
   "metadata": {},
   "source": [
    "#### 3.2.2. На выборках c OrdinalEncoder"
   ]
  },
  {
   "cell_type": "code",
   "execution_count": 52,
   "id": "6a041309",
   "metadata": {
    "scrolled": true
   },
   "outputs": [
    {
     "name": "stdout",
     "output_type": "stream",
     "text": [
      "{'learning_rate': 0.5, 'random_state': 12345, 'verbose': False}\n",
      "CPU times: user 6min 36s, sys: 1min 10s, total: 7min 46s\n",
      "Wall time: 1min 48s\n"
     ]
    },
    {
     "data": {
      "text/plain": [
       "1316.6633282151856"
      ]
     },
     "execution_count": 52,
     "metadata": {},
     "output_type": "execute_result"
    }
   ],
   "source": [
    "%%time\n",
    "\n",
    "model_cbr = CatBoostRegressor() \n",
    "parameters = [{'learning_rate':[.1, .5, .8], 'random_state':[12345], 'verbose':[False]}]\n",
    "\n",
    "gscv = GridSearchCV(model_cbr, parameters, scoring='neg_mean_squared_error')\n",
    "gscv.fit(features_train_oe, target_train_oe)\n",
    "\n",
    "print(gscv.best_params_)\n",
    "\n",
    "mts = gscv.cv_results_['mean_test_score']\n",
    "    \n",
    "gscv_rsme_cbr_oe = (max(mts) * -1) ** .5\n",
    "gscv_rsme_cbr_oe"
   ]
  },
  {
   "cell_type": "code",
   "execution_count": 53,
   "id": "fbb105b3",
   "metadata": {},
   "outputs": [
    {
     "name": "stdout",
     "output_type": "stream",
     "text": [
      "CPU times: user 31.6 s, sys: 5.15 s, total: 36.7 s\n",
      "Wall time: 8.46 s\n"
     ]
    },
    {
     "data": {
      "text/plain": [
       "<catboost.core.CatBoostRegressor at 0x7fa880a9c0a0>"
      ]
     },
     "execution_count": 53,
     "metadata": {},
     "output_type": "execute_result"
    }
   ],
   "source": [
    "%%time\n",
    "\n",
    "model_cbr = CatBoostRegressor(learning_rate=.5, random_state=12345, verbose=False) \n",
    "model_cbr.fit(features_train_oe, target_train_oe)"
   ]
  },
  {
   "cell_type": "code",
   "execution_count": 54,
   "id": "bcac42ea",
   "metadata": {},
   "outputs": [
    {
     "name": "stdout",
     "output_type": "stream",
     "text": [
      "CPU times: user 111 ms, sys: 26.4 ms, total: 137 ms\n",
      "Wall time: 94.6 ms\n"
     ]
    }
   ],
   "source": [
    "%%time\n",
    "\n",
    "target_predict = model_cbr.predict(features_test_oe)"
   ]
  },
  {
   "cell_type": "code",
   "execution_count": 55,
   "id": "3eba6016",
   "metadata": {},
   "outputs": [
    {
     "data": {
      "text/plain": [
       "1425.6630298611178"
      ]
     },
     "execution_count": 55,
     "metadata": {},
     "output_type": "execute_result"
    }
   ],
   "source": [
    "rmse_cbr_oe = mean_squared_error(target_test, target_predict) ** .5\n",
    "rmse_cbr_oe"
   ]
  },
  {
   "cell_type": "markdown",
   "id": "4b745ada",
   "metadata": {},
   "source": [
    "#### 3.2.3. На выборках без кодировки"
   ]
  },
  {
   "cell_type": "code",
   "execution_count": 56,
   "id": "ef09c988",
   "metadata": {},
   "outputs": [
    {
     "name": "stdout",
     "output_type": "stream",
     "text": [
      "CPU times: user 34.1 s, sys: 1.98 s, total: 36.1 s\n",
      "Wall time: 7.67 s\n"
     ]
    },
    {
     "data": {
      "text/plain": [
       "<catboost.core.CatBoostRegressor at 0x7fa8c209c3d0>"
      ]
     },
     "execution_count": 56,
     "metadata": {},
     "output_type": "execute_result"
    }
   ],
   "source": [
    "%%time\n",
    "\n",
    "model_cbr = CatBoostRegressor(learning_rate=.5, iterations=200, random_state=12345, verbose=False, \n",
    "                              cat_features=['vehicle_type','fuel_type','brand','model']) \n",
    "\n",
    "model_cbr.fit(features_train, target_train)"
   ]
  },
  {
   "cell_type": "code",
   "execution_count": 57,
   "id": "f6e8daa9",
   "metadata": {},
   "outputs": [
    {
     "name": "stdout",
     "output_type": "stream",
     "text": [
      "CPU times: user 138 ms, sys: 17.2 ms, total: 155 ms\n",
      "Wall time: 88.3 ms\n"
     ]
    }
   ],
   "source": [
    "%%time\n",
    "\n",
    "target_predict = model_cbr.predict(features_test)"
   ]
  },
  {
   "cell_type": "code",
   "execution_count": 58,
   "id": "b05a1492",
   "metadata": {},
   "outputs": [
    {
     "data": {
      "text/plain": [
       "1348.3124503562653"
      ]
     },
     "execution_count": 58,
     "metadata": {},
     "output_type": "execute_result"
    }
   ],
   "source": [
    "rmse_cbr = mean_squared_error(target_test, target_predict) ** .5\n",
    "rmse_cbr"
   ]
  },
  {
   "cell_type": "markdown",
   "id": "4e838a61",
   "metadata": {},
   "source": [
    "### 3.3. Модель LightGBMRegressor"
   ]
  },
  {
   "cell_type": "markdown",
   "id": "1f86e5dc",
   "metadata": {},
   "source": [
    "#### 3.3.1. На выборках c OneHotEncoder "
   ]
  },
  {
   "cell_type": "code",
   "execution_count": 59,
   "id": "23f67376",
   "metadata": {},
   "outputs": [
    {
     "name": "stdout",
     "output_type": "stream",
     "text": [
      "{'learning_rate': 0.3, 'num_leaves': 200, 'random_state': 12345}\n",
      "\n",
      "CPU times: user 8min 10s, sys: 1min 32s, total: 9min 43s\n",
      "Wall time: 2min 4s\n"
     ]
    },
    {
     "data": {
      "text/plain": [
       "1304.6188702139004"
      ]
     },
     "execution_count": 59,
     "metadata": {},
     "output_type": "execute_result"
    }
   ],
   "source": [
    "%%time\n",
    "\n",
    "model_lgbmr = LGBMRegressor() \n",
    "parameters = [{'num_leaves':[25, 50, 100, 200], 'learning_rate':[.1, .3, .5], 'random_state':[12345]}]\n",
    "\n",
    "clf = GridSearchCV(model_lgbmr, parameters, scoring='neg_mean_squared_error')\n",
    "clf.fit(features_train_ohe, target_train_ohe)\n",
    "\n",
    "print(clf.best_params_)\n",
    "print()\n",
    "\n",
    "mts = clf.cv_results_['mean_test_score']\n",
    "\n",
    "rsme_lgbmr = (max(mts) * -1) ** .5\n",
    "rsme_lgbmr"
   ]
  },
  {
   "cell_type": "code",
   "execution_count": 60,
   "id": "835b0322",
   "metadata": {},
   "outputs": [
    {
     "name": "stdout",
     "output_type": "stream",
     "text": [
      "CPU times: user 9.32 s, sys: 1.48 s, total: 10.8 s\n",
      "Wall time: 2.21 s\n"
     ]
    },
    {
     "data": {
      "text/plain": [
       "LGBMRegressor(learning_rate=0.3, num_leaves=200, random_state=12345)"
      ]
     },
     "execution_count": 60,
     "metadata": {},
     "output_type": "execute_result"
    }
   ],
   "source": [
    "%%time\n",
    "\n",
    "model_lgbmr = LGBMRegressor(learning_rate=.3, num_leaves=200, random_state=12345)\n",
    "model_lgbmr.fit(features_train_ohe, target_train_ohe)"
   ]
  },
  {
   "cell_type": "code",
   "execution_count": 61,
   "id": "07ff4655",
   "metadata": {},
   "outputs": [
    {
     "name": "stdout",
     "output_type": "stream",
     "text": [
      "CPU times: user 2.39 s, sys: 338 ms, total: 2.73 s\n",
      "Wall time: 392 ms\n"
     ]
    }
   ],
   "source": [
    "%%time\n",
    "\n",
    "target_predict = model_lgbmr.predict(features_test_ohe)"
   ]
  },
  {
   "cell_type": "code",
   "execution_count": 62,
   "id": "d049823a",
   "metadata": {},
   "outputs": [
    {
     "data": {
      "text/plain": [
       "1291.8139091230903"
      ]
     },
     "execution_count": 62,
     "metadata": {},
     "output_type": "execute_result"
    }
   ],
   "source": [
    "rsme_lgbmr_ohe = mean_squared_error(target_test, target_predict) ** .5\n",
    "rsme_lgbmr_ohe"
   ]
  },
  {
   "cell_type": "markdown",
   "id": "163062e1",
   "metadata": {},
   "source": [
    "#### 3.3.2. На выборках c OrdinalEncoder"
   ]
  },
  {
   "cell_type": "code",
   "execution_count": 63,
   "id": "2a9e560f",
   "metadata": {
    "scrolled": false
   },
   "outputs": [
    {
     "name": "stdout",
     "output_type": "stream",
     "text": [
      "{'learning_rate': 0.3, 'num_leaves': 200, 'random_state': 12345}\n",
      "\n",
      "CPU times: user 4min 53s, sys: 40 s, total: 5min 33s\n",
      "Wall time: 50.6 s\n"
     ]
    },
    {
     "data": {
      "text/plain": [
       "1310.5821401944902"
      ]
     },
     "execution_count": 63,
     "metadata": {},
     "output_type": "execute_result"
    }
   ],
   "source": [
    "%%time\n",
    "\n",
    "model_lgbmr = LGBMRegressor() \n",
    "parameters = [{'num_leaves':[25, 50, 100, 200], 'learning_rate':[.1, .3, .5], 'random_state':[12345]}]\n",
    "\n",
    "\n",
    "clf = GridSearchCV(model_lgbmr, parameters, scoring='neg_mean_squared_error')\n",
    "clf.fit(features_train_oe, target_train_oe)\n",
    "\n",
    "print(clf.best_params_)\n",
    "print()\n",
    "\n",
    "mts = clf.cv_results_['mean_test_score']\n",
    "\n",
    "rsme_lgbmr = (max(mts) * -1) ** .5\n",
    "rsme_lgbmr"
   ]
  },
  {
   "cell_type": "code",
   "execution_count": 64,
   "id": "0a561e59",
   "metadata": {},
   "outputs": [
    {
     "name": "stdout",
     "output_type": "stream",
     "text": [
      "CPU times: user 5.04 s, sys: 815 ms, total: 5.85 s\n",
      "Wall time: 947 ms\n"
     ]
    },
    {
     "data": {
      "text/plain": [
       "LGBMRegressor(learning_rate=0.3, num_leaves=100, random_state=12345)"
      ]
     },
     "execution_count": 64,
     "metadata": {},
     "output_type": "execute_result"
    }
   ],
   "source": [
    "%%time\n",
    "\n",
    "model = LGBMRegressor(learning_rate=.3, num_leaves=100, random_state=12345)\n",
    "model.fit(features_train_oe, target_train_oe)"
   ]
  },
  {
   "cell_type": "code",
   "execution_count": 65,
   "id": "40aecdd9",
   "metadata": {},
   "outputs": [
    {
     "name": "stdout",
     "output_type": "stream",
     "text": [
      "CPU times: user 761 ms, sys: 27.3 ms, total: 788 ms\n",
      "Wall time: 129 ms\n"
     ]
    }
   ],
   "source": [
    "%%time\n",
    "\n",
    "target_predict = model.predict(features_test_oe)"
   ]
  },
  {
   "cell_type": "code",
   "execution_count": 66,
   "id": "74249af2",
   "metadata": {
    "scrolled": true
   },
   "outputs": [
    {
     "data": {
      "text/plain": [
       "1395.3927445191594"
      ]
     },
     "execution_count": 66,
     "metadata": {},
     "output_type": "execute_result"
    }
   ],
   "source": [
    "rsme_lgbmr_oe = mean_squared_error(target_test, target_predict) ** .5\n",
    "rsme_lgbmr_oe"
   ]
  },
  {
   "cell_type": "markdown",
   "id": "6587fecb",
   "metadata": {},
   "source": [
    "### Выводы по п.3. Обучение моделей:\n",
    "1. Обучила 3 модели - линейную регрессию, CatBoostRegressor и LGBMRegressor - со сменой гиперпараметров и на разных выборках - изначальные, с обычной кодировкой и OHE.\n",
    "2. Часть моделей дали RMSE > 2500, поэтому финальный вывод буду делать только на моделях, которые дали RMSE < 2500"
   ]
  },
  {
   "cell_type": "markdown",
   "id": "883554e0",
   "metadata": {},
   "source": [
    "## 4. Выбор лучшей модели и ее тестирование"
   ]
  },
  {
   "cell_type": "code",
   "execution_count": 77,
   "id": "aab94b67",
   "metadata": {
    "scrolled": true
   },
   "outputs": [
    {
     "data": {
      "text/html": [
       "<div>\n",
       "<style scoped>\n",
       "    .dataframe tbody tr th:only-of-type {\n",
       "        vertical-align: middle;\n",
       "    }\n",
       "\n",
       "    .dataframe tbody tr th {\n",
       "        vertical-align: top;\n",
       "    }\n",
       "\n",
       "    .dataframe thead th {\n",
       "        text-align: right;\n",
       "    }\n",
       "</style>\n",
       "<table border=\"1\" class=\"dataframe\">\n",
       "  <thead>\n",
       "    <tr style=\"text-align: right;\">\n",
       "      <th></th>\n",
       "      <th>RMSE</th>\n",
       "      <th>Время обучения модели</th>\n",
       "      <th>Время предсказания модели</th>\n",
       "      <th>Рейтинг</th>\n",
       "    </tr>\n",
       "  </thead>\n",
       "  <tbody>\n",
       "    <tr>\n",
       "      <th>LGBMRegressor с OHE</th>\n",
       "      <td>1311.905287</td>\n",
       "      <td>10.800</td>\n",
       "      <td>2.7300</td>\n",
       "      <td>450.512698</td>\n",
       "    </tr>\n",
       "    <tr>\n",
       "      <th>CatBoostRegressor с OHE</th>\n",
       "      <td>1301.794282</td>\n",
       "      <td>34.600</td>\n",
       "      <td>0.2200</td>\n",
       "      <td>454.100656</td>\n",
       "    </tr>\n",
       "    <tr>\n",
       "      <th>CatBoostRegressor без кодировки</th>\n",
       "      <td>1348.312450</td>\n",
       "      <td>36.100</td>\n",
       "      <td>0.1550</td>\n",
       "      <td>470.390383</td>\n",
       "    </tr>\n",
       "    <tr>\n",
       "      <th>LGBMRegressor с OE</th>\n",
       "      <td>1395.392745</td>\n",
       "      <td>5.850</td>\n",
       "      <td>0.7880</td>\n",
       "      <td>476.624073</td>\n",
       "    </tr>\n",
       "    <tr>\n",
       "      <th>CatBoostRegressor с OE</th>\n",
       "      <td>1425.663030</td>\n",
       "      <td>36.700</td>\n",
       "      <td>0.1370</td>\n",
       "      <td>496.881640</td>\n",
       "    </tr>\n",
       "    <tr>\n",
       "      <th>Линейная регрессия с OHE</th>\n",
       "      <td>2072.533217</td>\n",
       "      <td>9.650</td>\n",
       "      <td>1.3300</td>\n",
       "      <td>708.284694</td>\n",
       "    </tr>\n",
       "    <tr>\n",
       "      <th>Линейная регрессия с OE</th>\n",
       "      <td>2359.499051</td>\n",
       "      <td>0.262</td>\n",
       "      <td>0.0128</td>\n",
       "      <td>802.320361</td>\n",
       "    </tr>\n",
       "  </tbody>\n",
       "</table>\n",
       "</div>"
      ],
      "text/plain": [
       "                                        RMSE  Время обучения модели  \\\n",
       "LGBMRegressor с OHE              1311.905287                 10.800   \n",
       "CatBoostRegressor с OHE          1301.794282                 34.600   \n",
       "CatBoostRegressor без кодировки  1348.312450                 36.100   \n",
       "LGBMRegressor с OE               1395.392745                  5.850   \n",
       "CatBoostRegressor с OE           1425.663030                 36.700   \n",
       "Линейная регрессия с OHE         2072.533217                  9.650   \n",
       "Линейная регрессия с OE          2359.499051                  0.262   \n",
       "\n",
       "                                 Время предсказания модели     Рейтинг  \n",
       "LGBMRegressor с OHE                                 2.7300  450.512698  \n",
       "CatBoostRegressor с OHE                             0.2200  454.100656  \n",
       "CatBoostRegressor без кодировки                     0.1550  470.390383  \n",
       "LGBMRegressor с OE                                  0.7880  476.624073  \n",
       "CatBoostRegressor с OE                              0.1370  496.881640  \n",
       "Линейная регрессия с OHE                            1.3300  708.284694  \n",
       "Линейная регрессия с OE                             0.0128  802.320361  "
      ]
     },
     "execution_count": 77,
     "metadata": {},
     "output_type": "execute_result"
    }
   ],
   "source": [
    "#создаю сводную таблицу по показателям RMSE < 2500, время обучения модели и время предсказания модели:\n",
    "index = ['Линейная регрессия с OHE',\n",
    "         'Линейная регрессия с OE',\n",
    "         'CatBoostRegressor с OHE',\n",
    "         'CatBoostRegressor с OE',\n",
    "         'CatBoostRegressor без кодировки',\n",
    "         'LGBMRegressor с OHE',\n",
    "         'LGBMRegressor с OE'\n",
    "        ]\n",
    "\n",
    "data = {'RMSE':[rmse_lr_ohe,\n",
    "                rmse_lr_oe,\n",
    "                rmse_cbr_ohe,\n",
    "                rmse_cbr_oe,\n",
    "                rmse_cbr,\n",
    "                rsme_lgbmr_ohe,\n",
    "                rsme_lgbmr_oe],\n",
    "        \n",
    "        'Время обучения модели':[9.65,\n",
    "                                 0.262,\n",
    "                                 34.6,\n",
    "                                 36.7,\n",
    "                                 36.1,\n",
    "                                 10.8,\n",
    "                                 5.85],\n",
    "        \n",
    "        'Время предсказания модели':[1.33,\n",
    "                                     0.0128,\n",
    "                                     0.22,\n",
    "                                     0.137,\n",
    "                                     0.155,\n",
    "                                     2.73,\n",
    "                                     0.788]\n",
    "       }\n",
    "\n",
    "kpi_data = pd.DataFrame(data=data, index=index)\n",
    "\n",
    "#ввожу столбец Рейтинг с весами:\n",
    "kpi_data['Рейтинг'] = (kpi_data['RMSE'] * .34 \\\n",
    "                       + kpi_data['Время обучения модели'] * .33 \\\n",
    "                       + kpi_data['Время предсказания модели'] * .33)\n",
    "\n",
    "kpi_data.sort_values(by = 'Рейтинг', ascending=True)"
   ]
  },
  {
   "cell_type": "markdown",
   "id": "967bc3be",
   "metadata": {},
   "source": [
    "Промежуточный вывод:\n",
    "\n",
    "Лучшей моделью по RMSE, времени обучения модели, времени предсказания модели, если считать эти параметры одинаково важными для принятия решения, является LGBMRegressor с выборками c OHE.\n",
    "Аутсайдер рейтинга - модель LinearRegression."
   ]
  },
  {
   "cell_type": "code",
   "execution_count": 78,
   "id": "a300e6b8",
   "metadata": {},
   "outputs": [],
   "source": [
    "#разделяю данные на обучающую и валидационную выборки в соотношении 60/40:\n",
    "features_train_ohe, features_valid_ohe, target_train_ohe, target_valid_ohe = train_test_split(features_ohe,\n",
    "                                                                                            target,\n",
    "                                                                                            test_size=.4,\n",
    "                                                                                            random_state=12345)\n",
    "\n",
    "#разделяю валидационную выборку на валидационную и тестовую в соотношении 20/20:\n",
    "features_test_ohe, features_valid_ohe, target_test_ohe, target_valid_ohe = train_test_split(features_valid_ohe,\n",
    "                                                                                            target_valid_ohe,\n",
    "                                                                                            test_size=0.5,\n",
    "                                                                                            random_state=12345)"
   ]
  },
  {
   "cell_type": "code",
   "execution_count": 79,
   "id": "058b43dd",
   "metadata": {},
   "outputs": [
    {
     "name": "stdout",
     "output_type": "stream",
     "text": [
      "(161407, 308)\n",
      "(53803, 308)\n",
      "(53802, 308)\n",
      "(161407,)\n",
      "(53803,)\n",
      "(53802,)\n"
     ]
    }
   ],
   "source": [
    "#смотрю размеры получившихся выборок:\n",
    "for i in [features_train_ohe, features_valid_ohe, features_test_ohe, target_train_ohe, target_valid_ohe, target_test_ohe]:\n",
    "    print(i.shape)"
   ]
  },
  {
   "cell_type": "code",
   "execution_count": 80,
   "id": "428f8d39",
   "metadata": {},
   "outputs": [
    {
     "name": "stdout",
     "output_type": "stream",
     "text": [
      "CPU times: user 8.16 s, sys: 1.41 s, total: 9.57 s\n",
      "Wall time: 2.1 s\n"
     ]
    },
    {
     "data": {
      "text/plain": [
       "LGBMRegressor(learning_rate=0.3, num_leaves=200, random_state=12345)"
      ]
     },
     "execution_count": 80,
     "metadata": {},
     "output_type": "execute_result"
    }
   ],
   "source": [
    "%%time\n",
    "\n",
    "model_lgbmr = LGBMRegressor(learning_rate=.3, num_leaves=200, random_state=12345)\n",
    "model_lgbmr.fit(features_train_ohe, target_train_ohe)"
   ]
  },
  {
   "cell_type": "code",
   "execution_count": 81,
   "id": "367496c8",
   "metadata": {},
   "outputs": [
    {
     "name": "stdout",
     "output_type": "stream",
     "text": [
      "CPU times: user 1.83 s, sys: 278 ms, total: 2.11 s\n",
      "Wall time: 400 ms\n"
     ]
    }
   ],
   "source": [
    "%%time\n",
    "\n",
    "target_predict_ohe = model_lgbmr.predict(features_valid_ohe)\n"
   ]
  },
  {
   "cell_type": "code",
   "execution_count": 82,
   "id": "c8104f80",
   "metadata": {},
   "outputs": [
    {
     "data": {
      "text/plain": [
       "1311.9052873934913"
      ]
     },
     "execution_count": 82,
     "metadata": {},
     "output_type": "execute_result"
    }
   ],
   "source": [
    "rsme_lgbmr_ohe = mean_squared_error(target_valid_ohe, target_predict_ohe) ** .5\n",
    "rsme_lgbmr_ohe"
   ]
  },
  {
   "cell_type": "code",
   "execution_count": 83,
   "id": "7108571e",
   "metadata": {},
   "outputs": [
    {
     "name": "stdout",
     "output_type": "stream",
     "text": [
      "CPU times: user 8.1 s, sys: 1.25 s, total: 9.34 s\n",
      "Wall time: 1.96 s\n"
     ]
    },
    {
     "data": {
      "text/plain": [
       "LGBMRegressor(learning_rate=0.3, num_leaves=200, random_state=12345)"
      ]
     },
     "execution_count": 83,
     "metadata": {},
     "output_type": "execute_result"
    }
   ],
   "source": [
    "%%time\n",
    "\n",
    "#проверяю качество модели на тестовой выборке:\n",
    "model_lgbmr = LGBMRegressor(learning_rate=.3, num_leaves=200, random_state=12345)\n",
    "model_lgbmr.fit(features_train_ohe, target_train_ohe)"
   ]
  },
  {
   "cell_type": "code",
   "execution_count": 84,
   "id": "b6881851",
   "metadata": {},
   "outputs": [
    {
     "name": "stdout",
     "output_type": "stream",
     "text": [
      "CPU times: user 1.46 s, sys: 45.2 ms, total: 1.5 s\n",
      "Wall time: 288 ms\n"
     ]
    }
   ],
   "source": [
    "%%time\n",
    "\n",
    "target_predict_ohe = model_lgbmr.predict(features_test_ohe)"
   ]
  },
  {
   "cell_type": "code",
   "execution_count": 85,
   "id": "72508fcb",
   "metadata": {},
   "outputs": [
    {
     "data": {
      "text/plain": [
       "1302.4869752198506"
      ]
     },
     "execution_count": 85,
     "metadata": {},
     "output_type": "execute_result"
    }
   ],
   "source": [
    "final_rsme_lgbmr_ohe = mean_squared_error(target_test_ohe, target_predict_ohe) ** .5\n",
    "final_rsme_lgbmr_ohe"
   ]
  },
  {
   "cell_type": "code",
   "execution_count": 86,
   "id": "ba6a33c6",
   "metadata": {
    "scrolled": false
   },
   "outputs": [
    {
     "data": {
      "text/html": [
       "<div>\n",
       "<style scoped>\n",
       "    .dataframe tbody tr th:only-of-type {\n",
       "        vertical-align: middle;\n",
       "    }\n",
       "\n",
       "    .dataframe tbody tr th {\n",
       "        vertical-align: top;\n",
       "    }\n",
       "\n",
       "    .dataframe thead th {\n",
       "        text-align: right;\n",
       "    }\n",
       "</style>\n",
       "<table border=\"1\" class=\"dataframe\">\n",
       "  <thead>\n",
       "    <tr style=\"text-align: right;\">\n",
       "      <th></th>\n",
       "      <th>RMSE</th>\n",
       "      <th>Время обучения модели</th>\n",
       "      <th>Время предсказания модели</th>\n",
       "      <th>Рейтинг</th>\n",
       "    </tr>\n",
       "  </thead>\n",
       "  <tbody>\n",
       "    <tr>\n",
       "      <th>Финальные данные на лучшей модели</th>\n",
       "      <td>1302.486975</td>\n",
       "      <td>9.340</td>\n",
       "      <td>1.5000</td>\n",
       "      <td>446.696672</td>\n",
       "    </tr>\n",
       "    <tr>\n",
       "      <th>LGBMRegressor с OHE</th>\n",
       "      <td>1311.905287</td>\n",
       "      <td>10.800</td>\n",
       "      <td>2.7300</td>\n",
       "      <td>450.512698</td>\n",
       "    </tr>\n",
       "    <tr>\n",
       "      <th>CatBoostRegressor с OHE</th>\n",
       "      <td>1301.794282</td>\n",
       "      <td>34.600</td>\n",
       "      <td>0.2200</td>\n",
       "      <td>454.100656</td>\n",
       "    </tr>\n",
       "    <tr>\n",
       "      <th>CatBoostRegressor без кодировки</th>\n",
       "      <td>1348.312450</td>\n",
       "      <td>36.100</td>\n",
       "      <td>0.1550</td>\n",
       "      <td>470.390383</td>\n",
       "    </tr>\n",
       "    <tr>\n",
       "      <th>LGBMRegressor с OE</th>\n",
       "      <td>1395.392745</td>\n",
       "      <td>5.850</td>\n",
       "      <td>0.7880</td>\n",
       "      <td>476.624073</td>\n",
       "    </tr>\n",
       "    <tr>\n",
       "      <th>CatBoostRegressor с OE</th>\n",
       "      <td>1425.663030</td>\n",
       "      <td>36.700</td>\n",
       "      <td>0.1370</td>\n",
       "      <td>496.881640</td>\n",
       "    </tr>\n",
       "    <tr>\n",
       "      <th>Линейная регрессия с OHE</th>\n",
       "      <td>2072.533217</td>\n",
       "      <td>9.650</td>\n",
       "      <td>1.3300</td>\n",
       "      <td>708.284694</td>\n",
       "    </tr>\n",
       "    <tr>\n",
       "      <th>Линейная регрессия с OE</th>\n",
       "      <td>2359.499051</td>\n",
       "      <td>0.262</td>\n",
       "      <td>0.0128</td>\n",
       "      <td>802.320361</td>\n",
       "    </tr>\n",
       "  </tbody>\n",
       "</table>\n",
       "</div>"
      ],
      "text/plain": [
       "                                          RMSE  Время обучения модели  \\\n",
       "Финальные данные на лучшей модели  1302.486975                  9.340   \n",
       "LGBMRegressor с OHE                1311.905287                 10.800   \n",
       "CatBoostRegressor с OHE            1301.794282                 34.600   \n",
       "CatBoostRegressor без кодировки    1348.312450                 36.100   \n",
       "LGBMRegressor с OE                 1395.392745                  5.850   \n",
       "CatBoostRegressor с OE             1425.663030                 36.700   \n",
       "Линейная регрессия с OHE           2072.533217                  9.650   \n",
       "Линейная регрессия с OE            2359.499051                  0.262   \n",
       "\n",
       "                                   Время предсказания модели     Рейтинг  \n",
       "Финальные данные на лучшей модели                     1.5000  446.696672  \n",
       "LGBMRegressor с OHE                                   2.7300  450.512698  \n",
       "CatBoostRegressor с OHE                               0.2200  454.100656  \n",
       "CatBoostRegressor без кодировки                       0.1550  470.390383  \n",
       "LGBMRegressor с OE                                    0.7880  476.624073  \n",
       "CatBoostRegressor с OE                                0.1370  496.881640  \n",
       "Линейная регрессия с OHE                              1.3300  708.284694  \n",
       "Линейная регрессия с OE                               0.0128  802.320361  "
      ]
     },
     "execution_count": 86,
     "metadata": {},
     "output_type": "execute_result"
    }
   ],
   "source": [
    "#добавляю в сравнительную таблицу финальные данные:\n",
    "kpi_data.loc['Финальные данные на лучшей модели'] = [final_rsme_lgbmr_ohe, 9.34, 1.5, final_rsme_lgbmr_ohe * .34 + 10.1 * .33 + 1.57 * .33]\n",
    "kpi_data.sort_values(by = 'Рейтинг', ascending=True)"
   ]
  },
  {
   "cell_type": "markdown",
   "id": "49e4604e",
   "metadata": {},
   "source": [
    "Промежуточный вывод: финальная проверка на лучшей модели - LGBMRegressor с выборками c OHE - дала RMSE 1302, общее место в рейтинге - 1."
   ]
  },
  {
   "cell_type": "markdown",
   "id": "d4e23405",
   "metadata": {},
   "source": [
    "## 5. Вывод\n",
    "\n",
    "В проекте:\n",
    "- загрузила  данные и провела их предобработку - очистку, заполнение, удаление лишних данных\n",
    "- сравнила 3 модели с разными гиперпараметрами и выборками\n",
    "- выбрала лучшую модель по 3 показателям - RMSE, время обучения и время предскзания - и проверила ее на тестовой выборке\n",
    "\n",
    "Итог - наилучшей моделью стала LGBMRegressor с OHE, которая на финальном тестировании показала RMSE 1302, несмотря на требуемое бОльшее время на обучение и предсказание. То есть если есть время, то лучше пользоваться данной моделью"
   ]
  }
 ],
 "metadata": {
  "kernelspec": {
   "display_name": "Python 3 (ipykernel)",
   "language": "python",
   "name": "python3"
  },
  "language_info": {
   "codemirror_mode": {
    "name": "ipython",
    "version": 3
   },
   "file_extension": ".py",
   "mimetype": "text/x-python",
   "name": "python",
   "nbconvert_exporter": "python",
   "pygments_lexer": "ipython3",
   "version": "3.9.7"
  },
  "toc": {
   "base_numbering": 1,
   "nav_menu": {},
   "number_sections": true,
   "sideBar": true,
   "skip_h1_title": true,
   "title_cell": "Table of Contents",
   "title_sidebar": "Contents",
   "toc_cell": false,
   "toc_position": {},
   "toc_section_display": true,
   "toc_window_display": false
  }
 },
 "nbformat": 4,
 "nbformat_minor": 5
}
