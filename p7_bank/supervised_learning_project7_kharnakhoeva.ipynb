{
 "cells": [
  {
   "cell_type": "markdown",
   "id": "b943866d",
   "metadata": {},
   "source": [
    "# Отток клиентов"
   ]
  },
  {
   "cell_type": "markdown",
   "id": "4cacf41f",
   "metadata": {},
   "source": [
    "**Дано:**  из «Бета-Банка» стали уходить клиенты. Банковские маркетологи посчитали: сохранять текущих клиентов дешевле, чем привлекать новых. Есть исторические данные о поведении клиентов и расторжении договоров с банком.\n",
    "\n",
    "**Задача:** спрогнозировать, уйдёт клиент из банка в ближайшее время или нет. Построить модель с предельно большим значением F1-меры до 0.59. Проверить F1-меру на тестовой выборке самостоятельно. Дополнительно измерить AUC-ROC, сравнивая её значение с F1-мерой\n",
    "\n",
    "\n",
    "**План исследования:**\n",
    " 1. Обзор данных.\n",
    " 2. Предобработка данных.\n",
    " 3. Исследование баланса классов, обучение модель без учёта дисбаланса.\n",
    " 4. Улучшение качества модели с учетом дисбаланса классов. Лучшая модель.\n",
    " 5. Финальное тестирование.\n",
    " 6. Вывод"
   ]
  },
  {
   "cell_type": "markdown",
   "id": "91ce1eea",
   "metadata": {},
   "source": [
    "## 1. Обзор данных"
   ]
  },
  {
   "cell_type": "code",
   "execution_count": 1,
   "id": "bb7e4ee9",
   "metadata": {},
   "outputs": [],
   "source": [
    "import pandas as pd\n",
    "import numpy as np\n",
    "from sklearn.model_selection import train_test_split\n",
    "from sklearn.tree import DecisionTreeClassifier\n",
    "from sklearn.ensemble import RandomForestClassifier\n",
    "from sklearn.linear_model import LogisticRegression, LinearRegression\n",
    "from sklearn.metrics import f1_score, roc_auc_score\n",
    "from sklearn.utils import shuffle\n",
    "from sklearn.model_selection import GridSearchCV\n",
    "from sklearn.preprocessing import RobustScaler\n",
    "import warnings\n",
    "warnings.filterwarnings(\"ignore\")"
   ]
  },
  {
   "cell_type": "code",
   "execution_count": 2,
   "id": "4c74edaa",
   "metadata": {},
   "outputs": [],
   "source": [
    "try:\n",
    "    clients = pd.read_csv('/Users/galina//Desktop/учёба/Churn.csv')\n",
    "except:\n",
    "    clients = pd.read_csv('/datasets/Churn.csv')"
   ]
  },
  {
   "cell_type": "code",
   "execution_count": 3,
   "id": "6c12358f",
   "metadata": {},
   "outputs": [
    {
     "name": "stdout",
     "output_type": "stream",
     "text": [
      "<class 'pandas.core.frame.DataFrame'>\n",
      "RangeIndex: 10000 entries, 0 to 9999\n",
      "Data columns (total 14 columns):\n",
      " #   Column           Non-Null Count  Dtype  \n",
      "---  ------           --------------  -----  \n",
      " 0   RowNumber        10000 non-null  int64  \n",
      " 1   CustomerId       10000 non-null  int64  \n",
      " 2   Surname          10000 non-null  object \n",
      " 3   CreditScore      10000 non-null  int64  \n",
      " 4   Geography        10000 non-null  object \n",
      " 5   Gender           10000 non-null  object \n",
      " 6   Age              10000 non-null  int64  \n",
      " 7   Tenure           9091 non-null   float64\n",
      " 8   Balance          10000 non-null  float64\n",
      " 9   NumOfProducts    10000 non-null  int64  \n",
      " 10  HasCrCard        10000 non-null  int64  \n",
      " 11  IsActiveMember   10000 non-null  int64  \n",
      " 12  EstimatedSalary  10000 non-null  float64\n",
      " 13  Exited           10000 non-null  int64  \n",
      "dtypes: float64(3), int64(8), object(3)\n",
      "memory usage: 1.1+ MB\n"
     ]
    }
   ],
   "source": [
    "clients.info()"
   ]
  },
  {
   "cell_type": "code",
   "execution_count": 4,
   "id": "99cee530",
   "metadata": {},
   "outputs": [
    {
     "data": {
      "text/html": [
       "<div>\n",
       "<style scoped>\n",
       "    .dataframe tbody tr th:only-of-type {\n",
       "        vertical-align: middle;\n",
       "    }\n",
       "\n",
       "    .dataframe tbody tr th {\n",
       "        vertical-align: top;\n",
       "    }\n",
       "\n",
       "    .dataframe thead th {\n",
       "        text-align: right;\n",
       "    }\n",
       "</style>\n",
       "<table border=\"1\" class=\"dataframe\">\n",
       "  <thead>\n",
       "    <tr style=\"text-align: right;\">\n",
       "      <th></th>\n",
       "      <th>RowNumber</th>\n",
       "      <th>CustomerId</th>\n",
       "      <th>Surname</th>\n",
       "      <th>CreditScore</th>\n",
       "      <th>Geography</th>\n",
       "      <th>Gender</th>\n",
       "      <th>Age</th>\n",
       "      <th>Tenure</th>\n",
       "      <th>Balance</th>\n",
       "      <th>NumOfProducts</th>\n",
       "      <th>HasCrCard</th>\n",
       "      <th>IsActiveMember</th>\n",
       "      <th>EstimatedSalary</th>\n",
       "      <th>Exited</th>\n",
       "    </tr>\n",
       "  </thead>\n",
       "  <tbody>\n",
       "    <tr>\n",
       "      <th>0</th>\n",
       "      <td>1</td>\n",
       "      <td>15634602</td>\n",
       "      <td>Hargrave</td>\n",
       "      <td>619</td>\n",
       "      <td>France</td>\n",
       "      <td>Female</td>\n",
       "      <td>42</td>\n",
       "      <td>2.0</td>\n",
       "      <td>0.00</td>\n",
       "      <td>1</td>\n",
       "      <td>1</td>\n",
       "      <td>1</td>\n",
       "      <td>101348.88</td>\n",
       "      <td>1</td>\n",
       "    </tr>\n",
       "    <tr>\n",
       "      <th>1</th>\n",
       "      <td>2</td>\n",
       "      <td>15647311</td>\n",
       "      <td>Hill</td>\n",
       "      <td>608</td>\n",
       "      <td>Spain</td>\n",
       "      <td>Female</td>\n",
       "      <td>41</td>\n",
       "      <td>1.0</td>\n",
       "      <td>83807.86</td>\n",
       "      <td>1</td>\n",
       "      <td>0</td>\n",
       "      <td>1</td>\n",
       "      <td>112542.58</td>\n",
       "      <td>0</td>\n",
       "    </tr>\n",
       "    <tr>\n",
       "      <th>2</th>\n",
       "      <td>3</td>\n",
       "      <td>15619304</td>\n",
       "      <td>Onio</td>\n",
       "      <td>502</td>\n",
       "      <td>France</td>\n",
       "      <td>Female</td>\n",
       "      <td>42</td>\n",
       "      <td>8.0</td>\n",
       "      <td>159660.80</td>\n",
       "      <td>3</td>\n",
       "      <td>1</td>\n",
       "      <td>0</td>\n",
       "      <td>113931.57</td>\n",
       "      <td>1</td>\n",
       "    </tr>\n",
       "    <tr>\n",
       "      <th>3</th>\n",
       "      <td>4</td>\n",
       "      <td>15701354</td>\n",
       "      <td>Boni</td>\n",
       "      <td>699</td>\n",
       "      <td>France</td>\n",
       "      <td>Female</td>\n",
       "      <td>39</td>\n",
       "      <td>1.0</td>\n",
       "      <td>0.00</td>\n",
       "      <td>2</td>\n",
       "      <td>0</td>\n",
       "      <td>0</td>\n",
       "      <td>93826.63</td>\n",
       "      <td>0</td>\n",
       "    </tr>\n",
       "    <tr>\n",
       "      <th>4</th>\n",
       "      <td>5</td>\n",
       "      <td>15737888</td>\n",
       "      <td>Mitchell</td>\n",
       "      <td>850</td>\n",
       "      <td>Spain</td>\n",
       "      <td>Female</td>\n",
       "      <td>43</td>\n",
       "      <td>2.0</td>\n",
       "      <td>125510.82</td>\n",
       "      <td>1</td>\n",
       "      <td>1</td>\n",
       "      <td>1</td>\n",
       "      <td>79084.10</td>\n",
       "      <td>0</td>\n",
       "    </tr>\n",
       "  </tbody>\n",
       "</table>\n",
       "</div>"
      ],
      "text/plain": [
       "   RowNumber  CustomerId   Surname  CreditScore Geography  Gender  Age  \\\n",
       "0          1    15634602  Hargrave          619    France  Female   42   \n",
       "1          2    15647311      Hill          608     Spain  Female   41   \n",
       "2          3    15619304      Onio          502    France  Female   42   \n",
       "3          4    15701354      Boni          699    France  Female   39   \n",
       "4          5    15737888  Mitchell          850     Spain  Female   43   \n",
       "\n",
       "   Tenure    Balance  NumOfProducts  HasCrCard  IsActiveMember  \\\n",
       "0     2.0       0.00              1          1               1   \n",
       "1     1.0   83807.86              1          0               1   \n",
       "2     8.0  159660.80              3          1               0   \n",
       "3     1.0       0.00              2          0               0   \n",
       "4     2.0  125510.82              1          1               1   \n",
       "\n",
       "   EstimatedSalary  Exited  \n",
       "0        101348.88       1  \n",
       "1        112542.58       0  \n",
       "2        113931.57       1  \n",
       "3         93826.63       0  \n",
       "4         79084.10       0  "
      ]
     },
     "execution_count": 4,
     "metadata": {},
     "output_type": "execute_result"
    }
   ],
   "source": [
    "clients.head(5)"
   ]
  },
  {
   "cell_type": "code",
   "execution_count": 5,
   "id": "2fe29f64",
   "metadata": {},
   "outputs": [
    {
     "data": {
      "text/plain": [
       "0"
      ]
     },
     "execution_count": 5,
     "metadata": {},
     "output_type": "execute_result"
    }
   ],
   "source": [
    "#смотрю, есть ли дубликаты: \n",
    "clients.duplicated().sum()"
   ]
  },
  {
   "cell_type": "code",
   "execution_count": 6,
   "id": "a92b8233",
   "metadata": {},
   "outputs": [
    {
     "name": "stdout",
     "output_type": "stream",
     "text": [
      "Доля объектов положительного класса в целевом признаке = 0.20\n",
      "Доля объектов отрицательного класса в целевом признаке = 0.80\n"
     ]
    }
   ],
   "source": [
    "#сразу посмотрю доли объектов 0 и 1 в целевом признаке, чтобы понять, увеличивать их потом или уменьшать:\n",
    "print(\"Доля объектов положительного класса в целевом признаке = {:.2f}\".format(sum(clients['Exited']/len(clients))))\n",
    "print(\"Доля объектов отрицательного класса в целевом признаке = {:.2f}\".format(1 - sum(clients['Exited']/len(clients))))"
   ]
  },
  {
   "cell_type": "markdown",
   "id": "286b6f30",
   "metadata": {},
   "source": [
    "### Выводы по п.1. Обзор данных:\n",
    "\n",
    "1. В таблице 10000 объектов. Пропуски есть в столбце `Tenure`. Явных дубликатов нет.\n",
    "2. Можно избавиться от столбца `RowNumber`, так как он фактически дублирует нумерацию объектов с шагом 1, а также от столбцов `CustomerId` и `Surname`, так как значения в них не влияют на дальнейший анализ.\n",
    "3. Можно изменить названия стобцов - перевести в строчные и заменить пробелы _.\n",
    "4. Можно перевести данные в столбце `Tenure` из типа float в int.\n",
    "5. Предварительно можно преобразовать данные в столбце `Gender` и `Geography`.\n",
    "6. В целевом признаке высокая доля объектов отрицательного класса, то есть в дальнейшем нужно будет увеличить долю объектов положительного класса."
   ]
  },
  {
   "cell_type": "markdown",
   "id": "fc3ad999",
   "metadata": {},
   "source": [
    "## 2. Предобработка данных"
   ]
  },
  {
   "cell_type": "code",
   "execution_count": 7,
   "id": "53b3e5ee",
   "metadata": {},
   "outputs": [],
   "source": [
    "#избавляюсь от столбцов:\n",
    "clients = clients.drop(['RowNumber', 'CustomerId', 'Surname'], axis=1)"
   ]
  },
  {
   "cell_type": "code",
   "execution_count": 8,
   "id": "61060850",
   "metadata": {},
   "outputs": [
    {
     "data": {
      "text/plain": [
       "Index(['creditscore', 'geography', 'gender', 'age', 'tenure', 'balance',\n",
       "       'numofproducts', 'hascrcard', 'isactivemember', 'estimatedsalary',\n",
       "       'exited'],\n",
       "      dtype='object')"
      ]
     },
     "execution_count": 8,
     "metadata": {},
     "output_type": "execute_result"
    }
   ],
   "source": [
    "#заменяю заглавные буквы в названиях столбцов на строчные:\n",
    "clients.columns = clients.columns.str.lower()\n",
    "clients.columns"
   ]
  },
  {
   "cell_type": "code",
   "execution_count": 9,
   "id": "1db59cda",
   "metadata": {
    "scrolled": false
   },
   "outputs": [
    {
     "data": {
      "text/html": [
       "<div>\n",
       "<style scoped>\n",
       "    .dataframe tbody tr th:only-of-type {\n",
       "        vertical-align: middle;\n",
       "    }\n",
       "\n",
       "    .dataframe tbody tr th {\n",
       "        vertical-align: top;\n",
       "    }\n",
       "\n",
       "    .dataframe thead th {\n",
       "        text-align: right;\n",
       "    }\n",
       "</style>\n",
       "<table border=\"1\" class=\"dataframe\">\n",
       "  <thead>\n",
       "    <tr style=\"text-align: right;\">\n",
       "      <th></th>\n",
       "      <th>credit_score</th>\n",
       "      <th>geography</th>\n",
       "      <th>gender</th>\n",
       "      <th>age</th>\n",
       "      <th>tenure</th>\n",
       "      <th>balance</th>\n",
       "      <th>num_of_products</th>\n",
       "      <th>has_cr_card</th>\n",
       "      <th>is_active_member</th>\n",
       "      <th>estimated_salary</th>\n",
       "      <th>exited</th>\n",
       "    </tr>\n",
       "  </thead>\n",
       "  <tbody>\n",
       "    <tr>\n",
       "      <th>0</th>\n",
       "      <td>619</td>\n",
       "      <td>France</td>\n",
       "      <td>Female</td>\n",
       "      <td>42</td>\n",
       "      <td>2.0</td>\n",
       "      <td>0.00</td>\n",
       "      <td>1</td>\n",
       "      <td>1</td>\n",
       "      <td>1</td>\n",
       "      <td>101348.88</td>\n",
       "      <td>1</td>\n",
       "    </tr>\n",
       "    <tr>\n",
       "      <th>1</th>\n",
       "      <td>608</td>\n",
       "      <td>Spain</td>\n",
       "      <td>Female</td>\n",
       "      <td>41</td>\n",
       "      <td>1.0</td>\n",
       "      <td>83807.86</td>\n",
       "      <td>1</td>\n",
       "      <td>0</td>\n",
       "      <td>1</td>\n",
       "      <td>112542.58</td>\n",
       "      <td>0</td>\n",
       "    </tr>\n",
       "    <tr>\n",
       "      <th>2</th>\n",
       "      <td>502</td>\n",
       "      <td>France</td>\n",
       "      <td>Female</td>\n",
       "      <td>42</td>\n",
       "      <td>8.0</td>\n",
       "      <td>159660.80</td>\n",
       "      <td>3</td>\n",
       "      <td>1</td>\n",
       "      <td>0</td>\n",
       "      <td>113931.57</td>\n",
       "      <td>1</td>\n",
       "    </tr>\n",
       "    <tr>\n",
       "      <th>3</th>\n",
       "      <td>699</td>\n",
       "      <td>France</td>\n",
       "      <td>Female</td>\n",
       "      <td>39</td>\n",
       "      <td>1.0</td>\n",
       "      <td>0.00</td>\n",
       "      <td>2</td>\n",
       "      <td>0</td>\n",
       "      <td>0</td>\n",
       "      <td>93826.63</td>\n",
       "      <td>0</td>\n",
       "    </tr>\n",
       "    <tr>\n",
       "      <th>4</th>\n",
       "      <td>850</td>\n",
       "      <td>Spain</td>\n",
       "      <td>Female</td>\n",
       "      <td>43</td>\n",
       "      <td>2.0</td>\n",
       "      <td>125510.82</td>\n",
       "      <td>1</td>\n",
       "      <td>1</td>\n",
       "      <td>1</td>\n",
       "      <td>79084.10</td>\n",
       "      <td>0</td>\n",
       "    </tr>\n",
       "  </tbody>\n",
       "</table>\n",
       "</div>"
      ],
      "text/plain": [
       "   credit_score geography  gender  age  tenure    balance  num_of_products  \\\n",
       "0           619    France  Female   42     2.0       0.00                1   \n",
       "1           608     Spain  Female   41     1.0   83807.86                1   \n",
       "2           502    France  Female   42     8.0  159660.80                3   \n",
       "3           699    France  Female   39     1.0       0.00                2   \n",
       "4           850     Spain  Female   43     2.0  125510.82                1   \n",
       "\n",
       "   has_cr_card  is_active_member  estimated_salary  exited  \n",
       "0            1                 1         101348.88       1  \n",
       "1            0                 1         112542.58       0  \n",
       "2            1                 0         113931.57       1  \n",
       "3            0                 0          93826.63       0  \n",
       "4            1                 1          79084.10       0  "
      ]
     },
     "execution_count": 9,
     "metadata": {},
     "output_type": "execute_result"
    }
   ],
   "source": [
    "#меняю названия столбцов:\n",
    "clients = clients.rename(columns={'creditscore':'credit_score',\n",
    "                                  'numofproducts':'num_of_products',\n",
    "                                  'hascrcard':'has_cr_card',\n",
    "                                  'isactivemember':'is_active_member',\n",
    "                                  'estimatedsalary': 'estimated_salary'\n",
    "                                 })\n",
    "clients.head(5)"
   ]
  },
  {
   "cell_type": "code",
   "execution_count": 10,
   "id": "54cb6ff4",
   "metadata": {
    "scrolled": true
   },
   "outputs": [
    {
     "data": {
      "text/plain": [
       "'2.00%'"
      ]
     },
     "execution_count": 10,
     "metadata": {},
     "output_type": "execute_result"
    }
   ],
   "source": [
    "#смотрю долю пропусков в столбце `tenure`:\n",
    "f\"{clients['tenure'].isna().sum() / clients['tenure'].sum():.2%}\""
   ]
  },
  {
   "cell_type": "code",
   "execution_count": 11,
   "id": "35b3a2fb",
   "metadata": {
    "scrolled": true
   },
   "outputs": [],
   "source": [
    "#поскольку всего 2% пропусков, можно избавиться от этих объектов:\n",
    "clients = clients.dropna(subset=['tenure'])"
   ]
  },
  {
   "cell_type": "code",
   "execution_count": 12,
   "id": "6117c546",
   "metadata": {},
   "outputs": [],
   "source": [
    "#перевожу данные в столбце 'tenure' в int:\n",
    "clients['tenure'] = clients['tenure'].astype('int')"
   ]
  },
  {
   "cell_type": "code",
   "execution_count": 32,
   "id": "c753c191",
   "metadata": {
    "scrolled": false
   },
   "outputs": [
    {
     "name": "stdout",
     "output_type": "stream",
     "text": [
      "850    0.02310\n",
      "678    0.00660\n",
      "655    0.00561\n",
      "705    0.00528\n",
      "683    0.00517\n",
      "        ...   \n",
      "407    0.00011\n",
      "417    0.00011\n",
      "365    0.00011\n",
      "440    0.00011\n",
      "419    0.00011\n",
      "Name: credit_score, Length: 458, dtype: float64\n",
      "\n",
      "37    0.04785\n",
      "35    0.04741\n",
      "38    0.04664\n",
      "34    0.04532\n",
      "33    0.04433\n",
      "       ...   \n",
      "82    0.00011\n",
      "88    0.00011\n",
      "85    0.00011\n",
      "92    0.00011\n",
      "83    0.00011\n",
      "Name: age, Length: 70, dtype: float64\n",
      "\n",
      "1     0.104719\n",
      "2     0.104499\n",
      "8     0.102629\n",
      "3     0.102079\n",
      "5     0.101969\n",
      "7     0.101749\n",
      "4     0.097349\n",
      "9     0.097019\n",
      "6     0.096909\n",
      "10    0.049060\n",
      "0     0.042020\n",
      "Name: tenure, dtype: float64\n",
      "\n",
      "0.00         0.361126\n",
      "105473.74    0.000220\n",
      "130170.82    0.000220\n",
      "108935.39    0.000110\n",
      "114453.58    0.000110\n",
      "               ...   \n",
      "176024.05    0.000110\n",
      "107499.70    0.000110\n",
      "98807.45     0.000110\n",
      "136596.85    0.000110\n",
      "75075.31     0.000110\n",
      "Name: balance, Length: 5807, dtype: float64\n",
      "\n",
      "1    0.507865\n",
      "2    0.460235\n",
      "3    0.025740\n",
      "4    0.006160\n",
      "Name: num_of_products, dtype: float64\n",
      "\n",
      "1    0.704983\n",
      "0    0.295017\n",
      "Name: has_cr_card, dtype: float64\n",
      "\n",
      "1    0.515565\n",
      "0    0.484435\n",
      "Name: is_active_member, dtype: float64\n",
      "\n",
      "24924.92     0.00022\n",
      "101348.88    0.00011\n",
      "123242.11    0.00011\n",
      "39488.04     0.00011\n",
      "55313.44     0.00011\n",
      "              ...   \n",
      "120893.07    0.00011\n",
      "38270.47     0.00011\n",
      "72927.68     0.00011\n",
      "165562.84    0.00011\n",
      "92888.52     0.00011\n",
      "Name: estimated_salary, Length: 9090, dtype: float64\n",
      "\n",
      "0    0.796062\n",
      "1    0.203938\n",
      "Name: exited, dtype: float64\n",
      "\n"
     ]
    }
   ],
   "source": [
    "#смотрю кол-во уникальных значений в столбцах, чтобы понять,\n",
    "#какие категориальные признаки можно преобразовать в численные:\n",
    "for column in clients:\n",
    "    print(clients[column].value_counts(normalize=True))\n",
    "    print()"
   ]
  },
  {
   "cell_type": "code",
   "execution_count": 14,
   "id": "83da901f",
   "metadata": {
    "scrolled": false
   },
   "outputs": [],
   "source": [
    "#применяю прямое кодирование к столбцам `geography` и `gender`:\n",
    "gender_ohe = pd.get_dummies(clients['gender'], drop_first=True)\n",
    "geography_ohe = pd.get_dummies(clients['geography'], drop_first=True)\n",
    "clients.drop(['gender', 'geography'], axis=1, inplace=True)\n",
    "clients_ohe = pd.concat([clients, gender_ohe, geography_ohe], axis=1)"
   ]
  },
  {
   "cell_type": "code",
   "execution_count": 15,
   "id": "517d4f16",
   "metadata": {
    "scrolled": false
   },
   "outputs": [
    {
     "data": {
      "text/html": [
       "<div>\n",
       "<style scoped>\n",
       "    .dataframe tbody tr th:only-of-type {\n",
       "        vertical-align: middle;\n",
       "    }\n",
       "\n",
       "    .dataframe tbody tr th {\n",
       "        vertical-align: top;\n",
       "    }\n",
       "\n",
       "    .dataframe thead th {\n",
       "        text-align: right;\n",
       "    }\n",
       "</style>\n",
       "<table border=\"1\" class=\"dataframe\">\n",
       "  <thead>\n",
       "    <tr style=\"text-align: right;\">\n",
       "      <th></th>\n",
       "      <th>credit_score</th>\n",
       "      <th>age</th>\n",
       "      <th>tenure</th>\n",
       "      <th>balance</th>\n",
       "      <th>num_of_products</th>\n",
       "      <th>has_cr_card</th>\n",
       "      <th>is_active_member</th>\n",
       "      <th>estimated_salary</th>\n",
       "      <th>exited</th>\n",
       "      <th>Male</th>\n",
       "      <th>Germany</th>\n",
       "      <th>Spain</th>\n",
       "    </tr>\n",
       "  </thead>\n",
       "  <tbody>\n",
       "    <tr>\n",
       "      <th>0</th>\n",
       "      <td>619</td>\n",
       "      <td>42</td>\n",
       "      <td>2</td>\n",
       "      <td>0.00</td>\n",
       "      <td>1</td>\n",
       "      <td>1</td>\n",
       "      <td>1</td>\n",
       "      <td>101348.88</td>\n",
       "      <td>1</td>\n",
       "      <td>0</td>\n",
       "      <td>0</td>\n",
       "      <td>0</td>\n",
       "    </tr>\n",
       "    <tr>\n",
       "      <th>1</th>\n",
       "      <td>608</td>\n",
       "      <td>41</td>\n",
       "      <td>1</td>\n",
       "      <td>83807.86</td>\n",
       "      <td>1</td>\n",
       "      <td>0</td>\n",
       "      <td>1</td>\n",
       "      <td>112542.58</td>\n",
       "      <td>0</td>\n",
       "      <td>0</td>\n",
       "      <td>0</td>\n",
       "      <td>1</td>\n",
       "    </tr>\n",
       "    <tr>\n",
       "      <th>2</th>\n",
       "      <td>502</td>\n",
       "      <td>42</td>\n",
       "      <td>8</td>\n",
       "      <td>159660.80</td>\n",
       "      <td>3</td>\n",
       "      <td>1</td>\n",
       "      <td>0</td>\n",
       "      <td>113931.57</td>\n",
       "      <td>1</td>\n",
       "      <td>0</td>\n",
       "      <td>0</td>\n",
       "      <td>0</td>\n",
       "    </tr>\n",
       "    <tr>\n",
       "      <th>3</th>\n",
       "      <td>699</td>\n",
       "      <td>39</td>\n",
       "      <td>1</td>\n",
       "      <td>0.00</td>\n",
       "      <td>2</td>\n",
       "      <td>0</td>\n",
       "      <td>0</td>\n",
       "      <td>93826.63</td>\n",
       "      <td>0</td>\n",
       "      <td>0</td>\n",
       "      <td>0</td>\n",
       "      <td>0</td>\n",
       "    </tr>\n",
       "    <tr>\n",
       "      <th>4</th>\n",
       "      <td>850</td>\n",
       "      <td>43</td>\n",
       "      <td>2</td>\n",
       "      <td>125510.82</td>\n",
       "      <td>1</td>\n",
       "      <td>1</td>\n",
       "      <td>1</td>\n",
       "      <td>79084.10</td>\n",
       "      <td>0</td>\n",
       "      <td>0</td>\n",
       "      <td>0</td>\n",
       "      <td>1</td>\n",
       "    </tr>\n",
       "  </tbody>\n",
       "</table>\n",
       "</div>"
      ],
      "text/plain": [
       "   credit_score  age  tenure    balance  num_of_products  has_cr_card  \\\n",
       "0           619   42       2       0.00                1            1   \n",
       "1           608   41       1   83807.86                1            0   \n",
       "2           502   42       8  159660.80                3            1   \n",
       "3           699   39       1       0.00                2            0   \n",
       "4           850   43       2  125510.82                1            1   \n",
       "\n",
       "   is_active_member  estimated_salary  exited  Male  Germany  Spain  \n",
       "0                 1         101348.88       1     0        0      0  \n",
       "1                 1         112542.58       0     0        0      1  \n",
       "2                 0         113931.57       1     0        0      0  \n",
       "3                 0          93826.63       0     0        0      0  \n",
       "4                 1          79084.10       0     0        0      1  "
      ]
     },
     "execution_count": 15,
     "metadata": {},
     "output_type": "execute_result"
    }
   ],
   "source": [
    "clients_ohe.head(5)"
   ]
  },
  {
   "cell_type": "markdown",
   "id": "fca4a0be",
   "metadata": {},
   "source": [
    "### Выводы по п.2. Предобработка данных:\n",
    "1. Избавилась от верблюжьего стиля и пробелов в заголовках, избавилась от пропусков и ненужных столбцов.\n",
    "2. Заменила типы данных на более подходящие.\n",
    "3. Применила прямое кодирование к столбцам geography и gender."
   ]
  },
  {
   "cell_type": "markdown",
   "id": "c706bde1",
   "metadata": {},
   "source": [
    "## 3. Исследование баланса классов, обучение модели без учёта дисбаланса"
   ]
  },
  {
   "cell_type": "code",
   "execution_count": 16,
   "id": "4ac3efd0",
   "metadata": {
    "scrolled": true
   },
   "outputs": [
    {
     "name": "stdout",
     "output_type": "stream",
     "text": [
      "(5454, 11)\n",
      "(1819, 11)\n",
      "(5454,)\n",
      "(1819,)\n",
      "(1818, 11)\n",
      "(1818,)\n"
     ]
    }
   ],
   "source": [
    "#создаю переменные для признаков и целевого признака:\n",
    "features = clients_ohe.drop(['exited'], axis=1)\n",
    "target = clients_ohe['exited']\n",
    "\n",
    "#разделяю данные на обучающую и валидационную выборки в соотношении 60/40:\n",
    "features_train, features_valid, target_train, target_valid = train_test_split(features,\n",
    "                                                                              target, test_size=0.4,\n",
    "                                                                              random_state=12345)\n",
    "\n",
    "#разделяю валидационную выборку на валидационную и тестовую в соотношении 20/20:\n",
    "features_test, features_valid, target_test, target_valid = train_test_split(features_valid,\n",
    "                                                                            target_valid, test_size=0.5,\n",
    "                                                                            random_state=12345)\n",
    "\n",
    "#смотрю размеры получившихся выборок:\n",
    "for i in [features_train, features_valid, target_train, target_valid, features_test, target_test]:\n",
    "    print(i.shape)"
   ]
  },
  {
   "cell_type": "markdown",
   "id": "9f56b9af",
   "metadata": {},
   "source": [
    "### Обучение моделей без учёта дисбаланса"
   ]
  },
  {
   "cell_type": "code",
   "execution_count": 17,
   "id": "5d29a469",
   "metadata": {
    "scrolled": true
   },
   "outputs": [
    {
     "name": "stdout",
     "output_type": "stream",
     "text": [
      "F1 = 0.000, AUC-ROC = 0.690 на шаге 1\n",
      "F1 = 0.509, AUC-ROC = 0.740 на шаге 2\n",
      "F1 = 0.413, AUC-ROC = 0.803 на шаге 3\n",
      "F1 = 0.526, AUC-ROC = 0.823 на шаге 4\n",
      "F1 = 0.482, AUC-ROC = 0.827 на шаге 5\n",
      "F1 = 0.528, AUC-ROC = 0.832 на шаге 6\n",
      "F1 = 0.556, AUC-ROC = 0.831 на шаге 7\n",
      "F1 = 0.499, AUC-ROC = 0.798 на шаге 8\n",
      "F1 = 0.515, AUC-ROC = 0.786 на шаге 9\n",
      "F1 = 0.516, AUC-ROC = 0.763 на шаге 10\n",
      "F1 = 0.534, AUC-ROC = 0.755 на шаге 11\n",
      "F1 = 0.491, AUC-ROC = 0.721 на шаге 12\n",
      "F1 = 0.517, AUC-ROC = 0.703 на шаге 13\n",
      "F1 = 0.513, AUC-ROC = 0.704 на шаге 14\n",
      "\n",
      "F1 для дерева решений = 0.5559322033898305\n",
      "Максимальная глубина = 7\n",
      "AUC-ROC = 0.8305629303585707\n"
     ]
    }
   ],
   "source": [
    "#дерево решений:\n",
    "best_f1_dtc = 0\n",
    "best_depth_dtc = 0\n",
    "best_auc_roc = 0\n",
    "for depth in range(1, 15):\n",
    "    dtc = DecisionTreeClassifier(random_state=12345, max_depth=depth)\n",
    "    dtc.fit(features_train, target_train)\n",
    "    predicted_valid_dtc = dtc.predict(features_valid)\n",
    "    f1_dtc = f1_score(target_valid, predicted_valid_dtc)\n",
    "    auc_roc_dtc = roc_auc_score(target_valid, dtc.predict_proba(features_valid)[:, 1])\n",
    "    print(\"F1 = {:.3f}, AUC-ROC = {:.3f}\".format(f1_dtc, auc_roc_dtc), 'на шаге', depth)\n",
    "    if f1_dtc > best_f1_dtc:\n",
    "        best_f1_dtc = f1_dtc\n",
    "        best_depth_dtc = depth\n",
    "        best_auc_roc = auc_roc_dtc\n",
    "        \n",
    "print()\n",
    "print('F1 для дерева решений =', best_f1_dtc)\n",
    "print('Максимальная глубина =', best_depth_dtc)\n",
    "print('AUC-ROC =', best_auc_roc)"
   ]
  },
  {
   "cell_type": "code",
   "execution_count": 18,
   "id": "bb6a99d3",
   "metadata": {},
   "outputs": [
    {
     "name": "stdout",
     "output_type": "stream",
     "text": [
      "F1 для логистической регрессии = 0.32119914346895073\n",
      "AUC-ROC для логистической регрессии = 0.5\n"
     ]
    }
   ],
   "source": [
    "#логистическая регрессия:\n",
    "sr = RobustScaler()\n",
    "features_train_sr = sr.fit_transform(features_train)\n",
    "features_valid_sr = sr.transform(features_valid)\n",
    "\n",
    "lgrg = LogisticRegression(random_state=12345, solver='liblinear', max_iter=1000)\n",
    "lgrg.fit(features_train_sr, target_train)\n",
    "predicted_valid_lgrg = lgrg.predict(features_valid_sr)\n",
    "print('F1 для логистической регрессии =', f1_score(target_valid, predicted_valid_lgrg))\n",
    "print('AUC-ROC для логистической регрессии =', roc_auc_score(target_valid, lgrg.predict_proba(features_valid)[:, 1]))"
   ]
  },
  {
   "cell_type": "code",
   "execution_count": 19,
   "id": "264f053b",
   "metadata": {},
   "outputs": [
    {
     "name": "stdout",
     "output_type": "stream",
     "text": [
      "F1 для случайного леса = 0.5595667870036101\n",
      "Максимальная глубина = 9\n",
      "Число деревьев = 13\n",
      "AUC-ROC = 0.8476433622891388\n"
     ]
    }
   ],
   "source": [
    "#случайный лес:\n",
    "best_f1_rfc = 0\n",
    "best_depth_rfc = 0\n",
    "best_est_rfc = 0\n",
    "best_roc_auc_score_rfc = 0\n",
    "for depth in range(1, 10):\n",
    "    for est in range(1, 100):\n",
    "        rfc = RandomForestClassifier(random_state=12345, n_estimators=est, max_depth=depth)\n",
    "        rfc.fit(features_train, target_train)\n",
    "        predicted_valid_rfc = rfc.predict(features_valid)\n",
    "        f1_rfc = f1_score(target_valid, predicted_valid_rfc)\n",
    "        roc_auc_score_rfc = roc_auc_score(target_valid, rfc.predict_proba(features_valid)[:,1])\n",
    "        if f1_rfc > best_f1_rfc:\n",
    "            best_f1_rfc = f1_rfc\n",
    "            best_depth_rfc = depth\n",
    "            best_est_rfc = est\n",
    "            best_roc_auc_score_rfc = roc_auc_score_rfc\n",
    "            \n",
    "print('F1 для случайного леса =', best_f1_rfc)\n",
    "print('Максимальная глубина =', best_depth_rfc)\n",
    "print('Число деревьев =', best_est_rfc)\n",
    "print('AUC-ROC =', best_roc_auc_score_rfc)"
   ]
  },
  {
   "cell_type": "markdown",
   "id": "cdae1a1c",
   "metadata": {},
   "source": [
    "### Выводы по п.3. Исследование баланса классов, обучение модели без учёта дисбаланса:\n",
    "\n",
    "Без учёта дисбаланса наибольшее значение F1 наблюдается в моделях дерево решений и случайный лес - 0.555 и 0.559 соответственно. Проверю далее обе, так как разница между F1 небольшая."
   ]
  },
  {
   "cell_type": "markdown",
   "id": "90befc47",
   "metadata": {},
   "source": [
    "## 4. Улучшение качества модели с учетом дисбаланса классов. Лучшая модель."
   ]
  },
  {
   "cell_type": "markdown",
   "id": "d7ab7f02",
   "metadata": {},
   "source": [
    "### 4.1. Увеличение выборки "
   ]
  },
  {
   "cell_type": "code",
   "execution_count": 20,
   "id": "b3492e19",
   "metadata": {
    "scrolled": true
   },
   "outputs": [],
   "source": [
    "#увеличиваю число наблюдений положительного класса:\n",
    "def upsample(features, target, repeat):\n",
    "    features_zeros = features[target == 0]\n",
    "    features_ones = features[target == 1]\n",
    "    target_zeros = target[target == 0]\n",
    "    target_ones = target[target == 1]\n",
    "    \n",
    "    features_upsampled = pd.concat([features_zeros] + [features_ones] * repeat)\n",
    "    target_upsampled = pd.concat([target_zeros] + [target_ones] * repeat)\n",
    "    \n",
    "    features_upsampled, target_upsampled = shuffle(features_upsampled, target_upsampled, random_state=12345)\n",
    "    \n",
    "    return features_upsampled, target_upsampled\n",
    "\n",
    "\n",
    "features_upsampled, target_upsampled = upsample(features_train, target_train, 4)"
   ]
  },
  {
   "cell_type": "markdown",
   "id": "dbb32bf2",
   "metadata": {},
   "source": [
    "На этом этапе мне подсказали, что есть такой модуль GridSearchCV, который подбирает параметры для моделей. Остальное подглядела тут - https://vc.ru/ml/147132-kak-avtomaticheski-podobrat-parametry-dlya-modeli-mashinnogo-obucheniya-ispolzuem-gridsearchcv и хотела применить к увеличенной выборке, но вывод был очень долгий. Пока применяю к увеличенной выборке модели дерево решений и случайный лес."
   ]
  },
  {
   "cell_type": "code",
   "execution_count": 21,
   "id": "ba2cf93e",
   "metadata": {
    "scrolled": true
   },
   "outputs": [
    {
     "name": "stdout",
     "output_type": "stream",
     "text": [
      "Для дерева решений на увеличенной выборке F1 = 0.4730290456431535\n",
      "AUC-ROC = 0.6751292531265284\n"
     ]
    }
   ],
   "source": [
    "#дерево решений:\n",
    "model = DecisionTreeClassifier(random_state=12345)\n",
    "model.fit(features_upsampled, target_upsampled) \n",
    "predicted_valid = model.predict(features_valid)\n",
    "\n",
    "print('Для дерева решений на увеличенной выборке F1 =', f1_score(target_valid, predicted_valid))\n",
    "print('AUC-ROC =', roc_auc_score(target_valid, model.predict_proba(features_valid)[:,1]))\n"
   ]
  },
  {
   "cell_type": "code",
   "execution_count": 22,
   "id": "e2c47b59",
   "metadata": {
    "scrolled": true
   },
   "outputs": [
    {
     "name": "stdout",
     "output_type": "stream",
     "text": [
      "Для случайного леса на увеличенной выборке F1 = 0.5972850678733032\n",
      "AUC-ROC = 0.8455822989201736\n"
     ]
    }
   ],
   "source": [
    "#случайный лес:\n",
    "model = RandomForestClassifier(random_state=12345)\n",
    "model.fit(features_upsampled, target_upsampled) \n",
    "predicted_valid = model.predict(features_valid)\n",
    "\n",
    "print('Для случайного леса на увеличенной выборке F1 =', f1_score(target_valid, predicted_valid))\n",
    "print('AUC-ROC =', roc_auc_score(target_valid, model.predict_proba(features_valid)[:,1]))"
   ]
  },
  {
   "cell_type": "markdown",
   "id": "2c504c26",
   "metadata": {},
   "source": [
    "### 4.1. Уменьшение выборки "
   ]
  },
  {
   "cell_type": "code",
   "execution_count": 23,
   "id": "dbb66b25",
   "metadata": {},
   "outputs": [],
   "source": [
    "#попробую также сделать объекты частого класса не такими частыми:\n",
    "def downsample(features, target, fraction):\n",
    "    features_zeros = features[target == 0]\n",
    "    features_ones = features[target == 1]\n",
    "    target_zeros = target[target == 0]\n",
    "    target_ones = target[target == 1]\n",
    "\n",
    "    features_downsampled = pd.concat([features_zeros.sample(frac=fraction, random_state=12345)] + [features_ones])\n",
    "    target_downsampled = pd.concat([target_zeros.sample(frac=fraction, random_state=12345)] + [target_ones])\n",
    "    \n",
    "    features_downsampled, target_downsampled = shuffle(features_downsampled, target_downsampled, random_state=12345)\n",
    "    \n",
    "    return features_downsampled, target_downsampled\n",
    "\n",
    "features_downsampled, target_downsampled = downsample(features_train, target_train, 0.25)"
   ]
  },
  {
   "cell_type": "code",
   "execution_count": 24,
   "id": "1b52e80c",
   "metadata": {},
   "outputs": [
    {
     "name": "stdout",
     "output_type": "stream",
     "text": [
      "Для дерева решений на увеличенной выборке F1 = 0.5118934348239772\n",
      "AUC-ROC = 0.7363925180682674\n"
     ]
    }
   ],
   "source": [
    "#дерево решений:\n",
    "model = DecisionTreeClassifier(random_state=12345)\n",
    "model.fit(features_downsampled, target_downsampled) \n",
    "predicted_valid = model.predict(features_valid)\n",
    "\n",
    "print('Для дерева решений на увеличенной выборке F1 =', f1_score(target_valid, predicted_valid))\n",
    "print('AUC-ROC =', roc_auc_score(target_valid, model.predict_proba(features_valid)[:,1]))"
   ]
  },
  {
   "cell_type": "code",
   "execution_count": 25,
   "id": "95c6eaf8",
   "metadata": {
    "scrolled": true
   },
   "outputs": [
    {
     "name": "stdout",
     "output_type": "stream",
     "text": [
      "Для случайного леса на увеличенной выборке F1 = 0.5556711758584808\n",
      "AUC-ROC = 0.852862005791161\n"
     ]
    }
   ],
   "source": [
    "#случайный лес:\n",
    "model = RandomForestClassifier(random_state=12345)\n",
    "model.fit(features_downsampled, target_downsampled) \n",
    "predicted_valid = model.predict(features_valid)\n",
    "\n",
    "print('Для случайного леса на увеличенной выборке F1 =', f1_score(target_valid, predicted_valid))\n",
    "print('AUC-ROC =', roc_auc_score(target_valid, model.predict_proba(features_valid)[:,1]))"
   ]
  },
  {
   "cell_type": "markdown",
   "id": "092798b6",
   "metadata": {},
   "source": [
    "Увеличение выборки справилось лучше."
   ]
  },
  {
   "cell_type": "markdown",
   "id": "e86dcb22",
   "metadata": {},
   "source": [
    "### Выводы по п.4. Улучшение качества модели с учетом дисбаланса классов. Лучшая модель:\n",
    "Лучшая модель по показателям F1 и AUC-ROC - случайный лес."
   ]
  },
  {
   "cell_type": "markdown",
   "id": "8b8a675d",
   "metadata": {},
   "source": [
    "## 5. Финальное тестирование."
   ]
  },
  {
   "cell_type": "code",
   "execution_count": 29,
   "id": "22dbfca9",
   "metadata": {},
   "outputs": [],
   "source": [
    "#объединяю для обучения данные train и valid:\n",
    "features_train_valid = pd.concat([features_train] + [features_valid])\n",
    "target_train_valid = pd.concat([target_train] + [target_valid]) "
   ]
  },
  {
   "cell_type": "code",
   "execution_count": 30,
   "id": "3c63807f",
   "metadata": {},
   "outputs": [],
   "source": [
    "#применяю upsampling к объединенной выборке:\n",
    "features_upsampled, target_upsampled = upsample(features_train_valid, target_train_valid, 4)"
   ]
  },
  {
   "cell_type": "code",
   "execution_count": 31,
   "id": "7cd67a5b",
   "metadata": {},
   "outputs": [
    {
     "name": "stdout",
     "output_type": "stream",
     "text": [
      "F1 = 0.6020558002936858\n",
      "AUC-ROC = 0.8675378320021647\n"
     ]
    }
   ],
   "source": [
    "#тестирую случайный лес:\n",
    "model_rfc_test = RandomForestClassifier(random_state=12345)\n",
    "model_rfc_test.fit(features_upsampled, target_upsampled)\n",
    "predictions_rfc_test = model_rfc_test.predict(features_test)\n",
    "\n",
    "print('F1 =', f1_score(target_test, predictions_rfc_test))\n",
    "print('AUC-ROC =', roc_auc_score(target_test, model_rfc_test.predict_proba(features_test)[:,1]))"
   ]
  },
  {
   "cell_type": "markdown",
   "id": "e9b269a9",
   "metadata": {},
   "source": [
    "## 6. Вывод"
   ]
  },
  {
   "cell_type": "markdown",
   "id": "234d2ab5",
   "metadata": {},
   "source": [
    "Случайный лес с дисбалансом показывал F1 = 56%, AUC-ROC = 83%.\n",
    "<br>После увеличения числа наблюдений положительного класса показатель F1 вырос и достиг 59,7%, AUC-ROC = 84%.\n",
    "<br>Проверка на тестовой выборке подтвердила, что upsampling помог справиться с дисбалансом классов и удалось увеличить F1 до 60%, AUC-ROC до 86%.\n",
    "<br>Поскольку F1 - среднее гармоническое полноты и точности (растет только вместе с полнотой и точностью), то увеличение F1 свидетельствует об изменении в алгоритме в лучшую сторону. То есть вероятность ухода клиента из банка меньше вероятности того, что он останется (клиент скорее жив, чем ушел)."
   ]
  }
 ],
 "metadata": {
  "ExecuteTimeLog": [
   {
    "duration": 1089,
    "start_time": "2022-06-29T03:49:52.894Z"
   },
   {
    "duration": 57,
    "start_time": "2022-06-29T03:49:53.984Z"
   },
   {
    "duration": 21,
    "start_time": "2022-06-29T03:49:54.043Z"
   },
   {
    "duration": 20,
    "start_time": "2022-06-29T03:49:55.314Z"
   },
   {
    "duration": 13,
    "start_time": "2022-06-29T03:49:57.305Z"
   },
   {
    "duration": 45,
    "start_time": "2022-06-29T04:30:42.897Z"
   },
   {
    "duration": 4,
    "start_time": "2022-06-29T04:33:37.694Z"
   },
   {
    "duration": 4,
    "start_time": "2022-06-29T04:33:51.292Z"
   },
   {
    "duration": 12,
    "start_time": "2022-06-29T04:33:56.494Z"
   },
   {
    "duration": 6,
    "start_time": "2022-06-29T04:34:18.046Z"
   },
   {
    "duration": 8,
    "start_time": "2022-06-29T04:34:32.888Z"
   },
   {
    "duration": 4,
    "start_time": "2022-06-29T04:34:42.146Z"
   },
   {
    "duration": 19,
    "start_time": "2022-06-29T04:34:44.768Z"
   },
   {
    "duration": 9,
    "start_time": "2022-06-29T04:34:58.532Z"
   },
   {
    "duration": 15,
    "start_time": "2022-06-29T04:37:21.711Z"
   },
   {
    "duration": 7,
    "start_time": "2022-06-29T04:37:34.682Z"
   },
   {
    "duration": 12,
    "start_time": "2022-06-29T04:38:22.525Z"
   },
   {
    "duration": 280,
    "start_time": "2022-06-29T04:39:27.559Z"
   },
   {
    "duration": 15,
    "start_time": "2022-06-29T04:44:00.023Z"
   },
   {
    "duration": 145894,
    "start_time": "2022-06-29T04:44:04.217Z"
   },
   {
    "duration": 87,
    "start_time": "2022-06-29T04:53:28.562Z"
   },
   {
    "duration": 27,
    "start_time": "2022-06-29T04:53:31.992Z"
   },
   {
    "duration": 103,
    "start_time": "2022-06-29T04:53:34.224Z"
   },
   {
    "duration": 107,
    "start_time": "2022-06-29T04:54:10.792Z"
   },
   {
    "duration": 2505,
    "start_time": "2022-06-29T04:54:19.934Z"
   },
   {
    "duration": 12,
    "start_time": "2022-06-29T04:54:49.902Z"
   },
   {
    "duration": 17,
    "start_time": "2022-06-29T04:55:06.074Z"
   },
   {
    "duration": 302,
    "start_time": "2022-06-29T04:55:09.662Z"
   },
   {
    "duration": 1307,
    "start_time": "2022-06-29T11:16:01.179Z"
   },
   {
    "duration": 58,
    "start_time": "2022-06-29T11:16:02.490Z"
   },
   {
    "duration": 23,
    "start_time": "2022-06-29T11:16:02.550Z"
   },
   {
    "duration": 38,
    "start_time": "2022-06-29T11:16:02.575Z"
   },
   {
    "duration": 21,
    "start_time": "2022-06-29T11:16:02.615Z"
   },
   {
    "duration": 7,
    "start_time": "2022-06-29T11:16:02.638Z"
   },
   {
    "duration": 36,
    "start_time": "2022-06-29T11:16:02.646Z"
   },
   {
    "duration": 14,
    "start_time": "2022-06-29T11:16:02.689Z"
   },
   {
    "duration": 24,
    "start_time": "2022-06-29T11:16:02.704Z"
   },
   {
    "duration": 14,
    "start_time": "2022-06-29T11:16:02.730Z"
   },
   {
    "duration": 11,
    "start_time": "2022-06-29T11:16:02.747Z"
   },
   {
    "duration": 43,
    "start_time": "2022-06-29T11:16:02.760Z"
   },
   {
    "duration": 33,
    "start_time": "2022-06-29T11:16:02.805Z"
   },
   {
    "duration": 9,
    "start_time": "2022-06-29T11:16:02.841Z"
   },
   {
    "duration": 55,
    "start_time": "2022-06-29T11:16:02.851Z"
   },
   {
    "duration": 22,
    "start_time": "2022-06-29T11:16:02.908Z"
   },
   {
    "duration": 369,
    "start_time": "2022-06-29T11:16:02.932Z"
   },
   {
    "duration": 78,
    "start_time": "2022-06-29T11:16:03.302Z"
   },
   {
    "duration": 19,
    "start_time": "2022-06-29T11:36:37.492Z"
   },
   {
    "duration": 5,
    "start_time": "2022-06-29T11:36:43.140Z"
   }
  ],
  "kernelspec": {
   "display_name": "Python 3 (ipykernel)",
   "language": "python",
   "name": "python3"
  },
  "language_info": {
   "codemirror_mode": {
    "name": "ipython",
    "version": 3
   },
   "file_extension": ".py",
   "mimetype": "text/x-python",
   "name": "python",
   "nbconvert_exporter": "python",
   "pygments_lexer": "ipython3",
   "version": "3.9.7"
  },
  "toc": {
   "base_numbering": 1,
   "nav_menu": {},
   "number_sections": true,
   "sideBar": true,
   "skip_h1_title": true,
   "title_cell": "Table of Contents",
   "title_sidebar": "Contents",
   "toc_cell": false,
   "toc_position": {},
   "toc_section_display": true,
   "toc_window_display": true
  }
 },
 "nbformat": 4,
 "nbformat_minor": 5
}
