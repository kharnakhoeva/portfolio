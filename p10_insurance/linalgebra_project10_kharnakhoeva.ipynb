{
 "cells": [
  {
   "cell_type": "markdown",
   "id": "577d2784",
   "metadata": {},
   "source": [
    "# Защита персональных данных клиентов"
   ]
  },
  {
   "cell_type": "markdown",
   "id": "3c21e6a2",
   "metadata": {},
   "source": [
    "**Дано:** датасет с признаками: пол, возраст и зарплата застрахованного, количество членов его семьи. Целевой признак: количество страховых выплат клиенту за последние 5 лет.\n",
    "\n",
    "**Задача:** защитить данные клиентов страховой компании «Хоть потоп». Разработать такой метод преобразования данных, чтобы по ним было сложно восстановить персональную информацию, и при преобразовании качество моделей машинного обучения не ухудшилось. \n",
    "\n",
    "**План:**\n",
    "1. Загрузка, обзор данных. \n",
    "2. Проверка изменения качества линейной регрессии\n",
    "3. Алгоритм преобразования данных для решения задачи "
   ]
  },
  {
   "cell_type": "markdown",
   "id": "9c370448",
   "metadata": {},
   "source": [
    "## 1. Загрузка, обзор, предобработка данных"
   ]
  },
  {
   "cell_type": "code",
   "execution_count": 1,
   "id": "f122ced3",
   "metadata": {},
   "outputs": [],
   "source": [
    "import pandas as pd\n",
    "import numpy as np\n",
    "\n",
    "import warnings\n",
    "warnings.filterwarnings(\"ignore\")\n",
    "\n",
    "from sklearn.metrics import r2_score\n",
    "\n",
    "from sklearn.linear_model import LinearRegression"
   ]
  },
  {
   "cell_type": "code",
   "execution_count": 2,
   "id": "9afdced3",
   "metadata": {},
   "outputs": [],
   "source": [
    "try:\n",
    "    clients = pd.read_csv('/Users/galina//Desktop/учёба/спринт 10/insurance.csv') \n",
    "except:\n",
    "    clients = pd.read_csv('/datasets/insurance.csv')"
   ]
  },
  {
   "cell_type": "code",
   "execution_count": 3,
   "id": "979f0180",
   "metadata": {
    "scrolled": true
   },
   "outputs": [
    {
     "data": {
      "text/html": [
       "<div>\n",
       "<style scoped>\n",
       "    .dataframe tbody tr th:only-of-type {\n",
       "        vertical-align: middle;\n",
       "    }\n",
       "\n",
       "    .dataframe tbody tr th {\n",
       "        vertical-align: top;\n",
       "    }\n",
       "\n",
       "    .dataframe thead th {\n",
       "        text-align: right;\n",
       "    }\n",
       "</style>\n",
       "<table border=\"1\" class=\"dataframe\">\n",
       "  <thead>\n",
       "    <tr style=\"text-align: right;\">\n",
       "      <th></th>\n",
       "      <th>Пол</th>\n",
       "      <th>Возраст</th>\n",
       "      <th>Зарплата</th>\n",
       "      <th>Члены семьи</th>\n",
       "      <th>Страховые выплаты</th>\n",
       "    </tr>\n",
       "  </thead>\n",
       "  <tbody>\n",
       "    <tr>\n",
       "      <th>0</th>\n",
       "      <td>1</td>\n",
       "      <td>41.0</td>\n",
       "      <td>49600.0</td>\n",
       "      <td>1</td>\n",
       "      <td>0</td>\n",
       "    </tr>\n",
       "    <tr>\n",
       "      <th>1</th>\n",
       "      <td>0</td>\n",
       "      <td>46.0</td>\n",
       "      <td>38000.0</td>\n",
       "      <td>1</td>\n",
       "      <td>1</td>\n",
       "    </tr>\n",
       "    <tr>\n",
       "      <th>2</th>\n",
       "      <td>0</td>\n",
       "      <td>29.0</td>\n",
       "      <td>21000.0</td>\n",
       "      <td>0</td>\n",
       "      <td>0</td>\n",
       "    </tr>\n",
       "    <tr>\n",
       "      <th>3</th>\n",
       "      <td>0</td>\n",
       "      <td>21.0</td>\n",
       "      <td>41700.0</td>\n",
       "      <td>2</td>\n",
       "      <td>0</td>\n",
       "    </tr>\n",
       "    <tr>\n",
       "      <th>4</th>\n",
       "      <td>1</td>\n",
       "      <td>28.0</td>\n",
       "      <td>26100.0</td>\n",
       "      <td>0</td>\n",
       "      <td>0</td>\n",
       "    </tr>\n",
       "  </tbody>\n",
       "</table>\n",
       "</div>"
      ],
      "text/plain": [
       "   Пол  Возраст  Зарплата  Члены семьи  Страховые выплаты\n",
       "0    1     41.0   49600.0            1                  0\n",
       "1    0     46.0   38000.0            1                  1\n",
       "2    0     29.0   21000.0            0                  0\n",
       "3    0     21.0   41700.0            2                  0\n",
       "4    1     28.0   26100.0            0                  0"
      ]
     },
     "metadata": {},
     "output_type": "display_data"
    },
    {
     "name": "stdout",
     "output_type": "stream",
     "text": [
      "-----------------------------------------------------------------\n"
     ]
    },
    {
     "data": {
      "text/html": [
       "<div>\n",
       "<style scoped>\n",
       "    .dataframe tbody tr th:only-of-type {\n",
       "        vertical-align: middle;\n",
       "    }\n",
       "\n",
       "    .dataframe tbody tr th {\n",
       "        vertical-align: top;\n",
       "    }\n",
       "\n",
       "    .dataframe thead th {\n",
       "        text-align: right;\n",
       "    }\n",
       "</style>\n",
       "<table border=\"1\" class=\"dataframe\">\n",
       "  <thead>\n",
       "    <tr style=\"text-align: right;\">\n",
       "      <th></th>\n",
       "      <th>Пол</th>\n",
       "      <th>Возраст</th>\n",
       "      <th>Зарплата</th>\n",
       "      <th>Члены семьи</th>\n",
       "      <th>Страховые выплаты</th>\n",
       "    </tr>\n",
       "  </thead>\n",
       "  <tbody>\n",
       "    <tr>\n",
       "      <th>4995</th>\n",
       "      <td>0</td>\n",
       "      <td>28.0</td>\n",
       "      <td>35700.0</td>\n",
       "      <td>2</td>\n",
       "      <td>0</td>\n",
       "    </tr>\n",
       "    <tr>\n",
       "      <th>4996</th>\n",
       "      <td>0</td>\n",
       "      <td>34.0</td>\n",
       "      <td>52400.0</td>\n",
       "      <td>1</td>\n",
       "      <td>0</td>\n",
       "    </tr>\n",
       "    <tr>\n",
       "      <th>4997</th>\n",
       "      <td>0</td>\n",
       "      <td>20.0</td>\n",
       "      <td>33900.0</td>\n",
       "      <td>2</td>\n",
       "      <td>0</td>\n",
       "    </tr>\n",
       "    <tr>\n",
       "      <th>4998</th>\n",
       "      <td>1</td>\n",
       "      <td>22.0</td>\n",
       "      <td>32700.0</td>\n",
       "      <td>3</td>\n",
       "      <td>0</td>\n",
       "    </tr>\n",
       "    <tr>\n",
       "      <th>4999</th>\n",
       "      <td>1</td>\n",
       "      <td>28.0</td>\n",
       "      <td>40600.0</td>\n",
       "      <td>1</td>\n",
       "      <td>0</td>\n",
       "    </tr>\n",
       "  </tbody>\n",
       "</table>\n",
       "</div>"
      ],
      "text/plain": [
       "      Пол  Возраст  Зарплата  Члены семьи  Страховые выплаты\n",
       "4995    0     28.0   35700.0            2                  0\n",
       "4996    0     34.0   52400.0            1                  0\n",
       "4997    0     20.0   33900.0            2                  0\n",
       "4998    1     22.0   32700.0            3                  0\n",
       "4999    1     28.0   40600.0            1                  0"
      ]
     },
     "metadata": {},
     "output_type": "display_data"
    },
    {
     "name": "stdout",
     "output_type": "stream",
     "text": [
      "-----------------------------------------------------------------\n",
      "<class 'pandas.core.frame.DataFrame'>\n",
      "RangeIndex: 5000 entries, 0 to 4999\n",
      "Data columns (total 5 columns):\n",
      " #   Column             Non-Null Count  Dtype  \n",
      "---  ------             --------------  -----  \n",
      " 0   Пол                5000 non-null   int64  \n",
      " 1   Возраст            5000 non-null   float64\n",
      " 2   Зарплата           5000 non-null   float64\n",
      " 3   Члены семьи        5000 non-null   int64  \n",
      " 4   Страховые выплаты  5000 non-null   int64  \n",
      "dtypes: float64(2), int64(3)\n",
      "memory usage: 195.4 KB\n"
     ]
    },
    {
     "data": {
      "text/plain": [
       "None"
      ]
     },
     "metadata": {},
     "output_type": "display_data"
    },
    {
     "name": "stdout",
     "output_type": "stream",
     "text": [
      "-----------------------------------------------------------------\n"
     ]
    },
    {
     "data": {
      "text/html": [
       "<div>\n",
       "<style scoped>\n",
       "    .dataframe tbody tr th:only-of-type {\n",
       "        vertical-align: middle;\n",
       "    }\n",
       "\n",
       "    .dataframe tbody tr th {\n",
       "        vertical-align: top;\n",
       "    }\n",
       "\n",
       "    .dataframe thead th {\n",
       "        text-align: right;\n",
       "    }\n",
       "</style>\n",
       "<table border=\"1\" class=\"dataframe\">\n",
       "  <thead>\n",
       "    <tr style=\"text-align: right;\">\n",
       "      <th></th>\n",
       "      <th>Пол</th>\n",
       "      <th>Возраст</th>\n",
       "      <th>Зарплата</th>\n",
       "      <th>Члены семьи</th>\n",
       "      <th>Страховые выплаты</th>\n",
       "    </tr>\n",
       "  </thead>\n",
       "  <tbody>\n",
       "    <tr>\n",
       "      <th>count</th>\n",
       "      <td>5000.000000</td>\n",
       "      <td>5000.000000</td>\n",
       "      <td>5000.000000</td>\n",
       "      <td>5000.000000</td>\n",
       "      <td>5000.000000</td>\n",
       "    </tr>\n",
       "    <tr>\n",
       "      <th>mean</th>\n",
       "      <td>0.499000</td>\n",
       "      <td>30.952800</td>\n",
       "      <td>39916.360000</td>\n",
       "      <td>1.194200</td>\n",
       "      <td>0.148000</td>\n",
       "    </tr>\n",
       "    <tr>\n",
       "      <th>std</th>\n",
       "      <td>0.500049</td>\n",
       "      <td>8.440807</td>\n",
       "      <td>9900.083569</td>\n",
       "      <td>1.091387</td>\n",
       "      <td>0.463183</td>\n",
       "    </tr>\n",
       "    <tr>\n",
       "      <th>min</th>\n",
       "      <td>0.000000</td>\n",
       "      <td>18.000000</td>\n",
       "      <td>5300.000000</td>\n",
       "      <td>0.000000</td>\n",
       "      <td>0.000000</td>\n",
       "    </tr>\n",
       "    <tr>\n",
       "      <th>25%</th>\n",
       "      <td>0.000000</td>\n",
       "      <td>24.000000</td>\n",
       "      <td>33300.000000</td>\n",
       "      <td>0.000000</td>\n",
       "      <td>0.000000</td>\n",
       "    </tr>\n",
       "    <tr>\n",
       "      <th>50%</th>\n",
       "      <td>0.000000</td>\n",
       "      <td>30.000000</td>\n",
       "      <td>40200.000000</td>\n",
       "      <td>1.000000</td>\n",
       "      <td>0.000000</td>\n",
       "    </tr>\n",
       "    <tr>\n",
       "      <th>75%</th>\n",
       "      <td>1.000000</td>\n",
       "      <td>37.000000</td>\n",
       "      <td>46600.000000</td>\n",
       "      <td>2.000000</td>\n",
       "      <td>0.000000</td>\n",
       "    </tr>\n",
       "    <tr>\n",
       "      <th>max</th>\n",
       "      <td>1.000000</td>\n",
       "      <td>65.000000</td>\n",
       "      <td>79000.000000</td>\n",
       "      <td>6.000000</td>\n",
       "      <td>5.000000</td>\n",
       "    </tr>\n",
       "  </tbody>\n",
       "</table>\n",
       "</div>"
      ],
      "text/plain": [
       "               Пол      Возраст      Зарплата  Члены семьи  Страховые выплаты\n",
       "count  5000.000000  5000.000000   5000.000000  5000.000000        5000.000000\n",
       "mean      0.499000    30.952800  39916.360000     1.194200           0.148000\n",
       "std       0.500049     8.440807   9900.083569     1.091387           0.463183\n",
       "min       0.000000    18.000000   5300.000000     0.000000           0.000000\n",
       "25%       0.000000    24.000000  33300.000000     0.000000           0.000000\n",
       "50%       0.000000    30.000000  40200.000000     1.000000           0.000000\n",
       "75%       1.000000    37.000000  46600.000000     2.000000           0.000000\n",
       "max       1.000000    65.000000  79000.000000     6.000000           5.000000"
      ]
     },
     "metadata": {},
     "output_type": "display_data"
    },
    {
     "name": "stdout",
     "output_type": "stream",
     "text": [
      "-----------------------------------------------------------------\n",
      "Кол-во пропусков:\n"
     ]
    },
    {
     "data": {
      "text/plain": [
       "Пол                  0\n",
       "Возраст              0\n",
       "Зарплата             0\n",
       "Члены семьи          0\n",
       "Страховые выплаты    0\n",
       "dtype: int64"
      ]
     },
     "metadata": {},
     "output_type": "display_data"
    },
    {
     "name": "stdout",
     "output_type": "stream",
     "text": [
      "-----------------------------------------------------------------\n",
      "Кол-во дубликатов - 153\n"
     ]
    }
   ],
   "source": [
    "display(clients.head(5))\n",
    "print('-----------------------------------------------------------------')\n",
    "display(clients.tail(5))\n",
    "print('-----------------------------------------------------------------')\n",
    "display(clients.info())\n",
    "print('-----------------------------------------------------------------')\n",
    "display(clients.describe())\n",
    "print('-----------------------------------------------------------------')\n",
    "print('Кол-во пропусков:')\n",
    "display(clients.isna().sum())\n",
    "print('-----------------------------------------------------------------')\n",
    "print('Кол-во дубликатов -', clients.duplicated().sum())"
   ]
  },
  {
   "cell_type": "code",
   "execution_count": 4,
   "id": "81d53785",
   "metadata": {
    "scrolled": true
   },
   "outputs": [
    {
     "name": "stdout",
     "output_type": "stream",
     "text": [
      "0    0.501\n",
      "1    0.499\n",
      "Name: Пол, dtype: float64\n",
      "-------------------------------------------\n",
      "19.0    0.0446\n",
      "25.0    0.0428\n",
      "31.0    0.0424\n",
      "26.0    0.0422\n",
      "22.0    0.0418\n",
      "27.0    0.0418\n",
      "32.0    0.0412\n",
      "28.0    0.0408\n",
      "29.0    0.0406\n",
      "30.0    0.0404\n",
      "23.0    0.0404\n",
      "21.0    0.0400\n",
      "20.0    0.0390\n",
      "36.0    0.0386\n",
      "33.0    0.0382\n",
      "24.0    0.0364\n",
      "35.0    0.0358\n",
      "34.0    0.0354\n",
      "37.0    0.0294\n",
      "39.0    0.0282\n",
      "38.0    0.0278\n",
      "41.0    0.0258\n",
      "18.0    0.0234\n",
      "40.0    0.0228\n",
      "42.0    0.0186\n",
      "43.0    0.0154\n",
      "44.0    0.0148\n",
      "45.0    0.0146\n",
      "46.0    0.0120\n",
      "47.0    0.0094\n",
      "49.0    0.0074\n",
      "50.0    0.0054\n",
      "48.0    0.0052\n",
      "52.0    0.0044\n",
      "51.0    0.0042\n",
      "53.0    0.0022\n",
      "55.0    0.0018\n",
      "54.0    0.0014\n",
      "56.0    0.0010\n",
      "59.0    0.0006\n",
      "57.0    0.0004\n",
      "58.0    0.0004\n",
      "60.0    0.0004\n",
      "61.0    0.0002\n",
      "65.0    0.0002\n",
      "62.0    0.0002\n",
      "Name: Возраст, dtype: float64\n",
      "-------------------------------------------\n",
      "45800.0    0.0058\n",
      "37100.0    0.0056\n",
      "41500.0    0.0054\n",
      "43200.0    0.0054\n",
      "46800.0    0.0052\n",
      "            ...  \n",
      "17700.0    0.0002\n",
      "70600.0    0.0002\n",
      "18100.0    0.0002\n",
      "13000.0    0.0002\n",
      "56800.0    0.0002\n",
      "Name: Зарплата, Length: 524, dtype: float64\n",
      "-------------------------------------------\n",
      "1    0.3628\n",
      "0    0.3026\n",
      "2    0.2142\n",
      "3    0.0878\n",
      "4    0.0248\n",
      "5    0.0064\n",
      "6    0.0014\n",
      "Name: Члены семьи, dtype: float64\n",
      "-------------------------------------------\n",
      "0    0.8872\n",
      "1    0.0846\n",
      "2    0.0230\n",
      "3    0.0036\n",
      "4    0.0014\n",
      "5    0.0002\n",
      "Name: Страховые выплаты, dtype: float64\n",
      "-------------------------------------------\n"
     ]
    }
   ],
   "source": [
    "#смотрю распределение по уникальным значениям в столбцах:\n",
    "for column in clients:\n",
    "    print(clients[column].value_counts(normalize=True))\n",
    "    print('-------------------------------------------')"
   ]
  },
  {
   "cell_type": "code",
   "execution_count": 5,
   "id": "86296641",
   "metadata": {},
   "outputs": [],
   "source": [
    "#заменяю тип данных в столбцах Возраст и Зарплата на int:\n",
    "clients['Возраст'] = clients['Возраст'].astype('int')\n",
    "clients['Зарплата'] = clients['Зарплата'].astype('int')"
   ]
  },
  {
   "cell_type": "markdown",
   "id": "c5ffe41e",
   "metadata": {},
   "source": [
    "### Выводы по п.1. Загрузка, обзор, предобработка данных:\n",
    "1. Пропусков, выбросов нет, данных достаточно для работы. От дубликатов избавляться не стала, так как это могут быть совпадающие признаки разных клиентов. \n",
    "2. Заменила типы данных в столбцах `Возраст` и `Зарплата` на более подходящий int.\n",
    "3. В таблице соблюден почти идеальный баланс между мужчинами и женщинами. Средний возраст застрахованного составляет около 31 года, при этом медиана составляет 30. Границы возраста застрахованных приводят к выводу, что компания не занимается страхованием лиц, чей возраст составляет менее 18 и старше 65 лет. Также интересно взглянуть на уровень заработной платы застрахованных - медиана составляет чуть более 40 000 рублей. В целом, в компании скорее представлен средний класс, чем слишком бедные или слишком богатые граждане. "
   ]
  },
  {
   "cell_type": "markdown",
   "id": "e3a30244",
   "metadata": {},
   "source": [
    "## 2. Проверка изменения качества линейной регрессии"
   ]
  },
  {
   "cell_type": "code",
   "execution_count": 6,
   "id": "15d356c2",
   "metadata": {},
   "outputs": [
    {
     "data": {
      "text/plain": [
       "((5000, 4), (5000,))"
      ]
     },
     "execution_count": 6,
     "metadata": {},
     "output_type": "execute_result"
    }
   ],
   "source": [
    "#выделяю признаки и целевой признак:\n",
    "features = clients.drop('Страховые выплаты',axis=1)\n",
    "target = clients['Страховые выплаты']\n",
    "\n",
    "features.shape, target.shape"
   ]
  },
  {
   "cell_type": "code",
   "execution_count": 7,
   "id": "4d9e1375",
   "metadata": {
    "scrolled": true
   },
   "outputs": [
    {
     "name": "stdout",
     "output_type": "stream",
     "text": [
      "            параметр w: [ 7.92580563e-03  3.57083050e-02 -1.70081903e-07 -1.35676627e-02]\n",
      "оценочные коэффициенты: [ 7.92580563e-03  3.57083050e-02 -1.70081903e-07 -1.35676627e-02]\n"
     ]
    }
   ],
   "source": [
    "#записываю формулу линейной регрессии с единичным столбцом:\n",
    "X = np.concatenate((np.ones((features.shape[0], 1)), features), axis=1) \n",
    "y = target\n",
    "w = np.linalg.inv(X.T @ X) @ X.T @ y          #вычисляю параметр w по формуле минимизации MSE\n",
    "print('            параметр w:', w[1:])\n",
    "\n",
    "model = LinearRegression()                    #назначаю модель\n",
    "model.fit(features, target)                   #обучаю модель\n",
    "print('оценочные коэффициенты:', model.coef_) #вывожу оценочные коэффициенты для линейной регрессии"
   ]
  },
  {
   "cell_type": "markdown",
   "id": "f05ff8f1",
   "metadata": {},
   "source": [
    "Промежуточный вывод: параметр w и оценочные коэффициенты полностью совпадают, следовательно, качество линейной регрессии не изменяется."
   ]
  },
  {
   "cell_type": "code",
   "execution_count": 8,
   "id": "7146191b",
   "metadata": {
    "scrolled": true
   },
   "outputs": [
    {
     "name": "stdout",
     "output_type": "stream",
     "text": [
      "  r2 для исходных признаков: 0.42494550308169177\n",
      "r2 для измененных признаков: 0.42494550308175316\n"
     ]
    }
   ],
   "source": [
    "print('  r2 для исходных признаков:', r2_score(y, model.predict(features))) #вычисляю r2 для модели\n",
    "\n",
    "random = np.random.normal(size=(4,4)) #генерирую случайную матрицу\n",
    "np.linalg.inv(random)                 #проверяю матрицу на обратимость\n",
    "features_inv = features @ random      #изменяю матрицу признаков \n",
    "lr = LinearRegression()               #назначаю модель\n",
    "lr.fit(features_inv, target)          #обучаю модель\n",
    "print('r2 для измененных признаков:', r2_score(target, lr.predict(features_inv))) #вычисляю r2 для измененных признаков"
   ]
  },
  {
   "cell_type": "markdown",
   "id": "a25a3a2e",
   "metadata": {},
   "source": [
    "Промежуточный вывод: r2 совпадают с точностью до первых 13 знаков после запятой; 0<r2<1, значит, линейная регрессия работает"
   ]
  },
  {
   "cell_type": "markdown",
   "id": "63529192",
   "metadata": {},
   "source": [
    "### Выводы по п.2. Проверка изменения качества линейной регрессии:\n",
    "\n",
    "Параметр w и оценочные коэффициенты, оценки r2 в исходной задаче и в преобразованной совпадают, следовательно, качество линейной регрессии не изменяется."
   ]
  },
  {
   "cell_type": "markdown",
   "id": "0c31e069",
   "metadata": {},
   "source": [
    "## 3. Алгоритм преобразования данных для решения задачи"
   ]
  },
  {
   "cell_type": "markdown",
   "id": "c11ff3da",
   "metadata": {},
   "source": [
    "Поскольку выше я изменяла признаки с помощью случайно матрицы, алгоритм преобразования данных для защиты информации предлагаю следующий:\n",
    "1. Генерирую случайную квадратную матрицу random\n",
    "2. Умножаю матрицу признаков на случайную квадратную матрицу random и на константу PI = 3.14"
   ]
  },
  {
   "cell_type": "code",
   "execution_count": 9,
   "id": "2f76761c",
   "metadata": {},
   "outputs": [
    {
     "data": {
      "text/html": [
       "<div>\n",
       "<style scoped>\n",
       "    .dataframe tbody tr th:only-of-type {\n",
       "        vertical-align: middle;\n",
       "    }\n",
       "\n",
       "    .dataframe tbody tr th {\n",
       "        vertical-align: top;\n",
       "    }\n",
       "\n",
       "    .dataframe thead th {\n",
       "        text-align: right;\n",
       "    }\n",
       "</style>\n",
       "<table border=\"1\" class=\"dataframe\">\n",
       "  <thead>\n",
       "    <tr style=\"text-align: right;\">\n",
       "      <th></th>\n",
       "      <th>0</th>\n",
       "      <th>1</th>\n",
       "      <th>2</th>\n",
       "      <th>3</th>\n",
       "    </tr>\n",
       "  </thead>\n",
       "  <tbody>\n",
       "    <tr>\n",
       "      <th>0</th>\n",
       "      <td>-108850.445963</td>\n",
       "      <td>-25385.633470</td>\n",
       "      <td>131021.059677</td>\n",
       "      <td>-13129.172191</td>\n",
       "    </tr>\n",
       "    <tr>\n",
       "      <th>1</th>\n",
       "      <td>-83404.808526</td>\n",
       "      <td>-19420.946564</td>\n",
       "      <td>100404.581204</td>\n",
       "      <td>-10022.242012</td>\n",
       "    </tr>\n",
       "    <tr>\n",
       "      <th>2</th>\n",
       "      <td>-46093.579358</td>\n",
       "      <td>-10722.891582</td>\n",
       "      <td>55493.378847</td>\n",
       "      <td>-5531.623873</td>\n",
       "    </tr>\n",
       "    <tr>\n",
       "      <th>3</th>\n",
       "      <td>-91508.133836</td>\n",
       "      <td>-21378.278118</td>\n",
       "      <td>110131.836200</td>\n",
       "      <td>-11065.012204</td>\n",
       "    </tr>\n",
       "    <tr>\n",
       "      <th>4</th>\n",
       "      <td>-57280.559158</td>\n",
       "      <td>-13340.892814</td>\n",
       "      <td>68954.276977</td>\n",
       "      <td>-6895.904160</td>\n",
       "    </tr>\n",
       "  </tbody>\n",
       "</table>\n",
       "</div>"
      ],
      "text/plain": [
       "               0             1              2             3\n",
       "0 -108850.445963 -25385.633470  131021.059677 -13129.172191\n",
       "1  -83404.808526 -19420.946564  100404.581204 -10022.242012\n",
       "2  -46093.579358 -10722.891582   55493.378847  -5531.623873\n",
       "3  -91508.133836 -21378.278118  110131.836200 -11065.012204\n",
       "4  -57280.559158 -13340.892814   68954.276977  -6895.904160"
      ]
     },
     "execution_count": 9,
     "metadata": {},
     "output_type": "execute_result"
    }
   ],
   "source": [
    "PI = 3.14\n",
    "\n",
    "random = np.random.normal(size=(4,4))   #генерирую случайную матрицу\n",
    "np.linalg.inv(random)                   #проверяю матрицу на обратимость\n",
    "features_inv = features @ random * PI   #умножаю матрицу признаков на случайную  матрицу и на PI \n",
    "features_inv.head(5)"
   ]
  },
  {
   "cell_type": "code",
   "execution_count": 10,
   "id": "92d04129",
   "metadata": {},
   "outputs": [
    {
     "name": "stdout",
     "output_type": "stream",
     "text": [
      "r2: 0.4249455030816913\n"
     ]
    }
   ],
   "source": [
    "lr = LinearRegression()               #назначаю модель\n",
    "lr.fit(features_inv, target)          #обучаю модель\n",
    "print('r2:',\n",
    "      r2_score(target,\n",
    "               lr.predict(features_inv))) #вычисляю r2 для измененных признаков"
   ]
  },
  {
   "cell_type": "markdown",
   "id": "e1a8f030",
   "metadata": {},
   "source": [
    "### Выводы по п.3. Алгоритм преобразования данных для решения задачи:\n",
    "r2 на защищенных данных совпадает с r2 исходных данных, следовательно, алгоритм справляется с защитой данных"
   ]
  },
  {
   "cell_type": "code",
   "execution_count": 11,
   "id": "30091fdb",
   "metadata": {},
   "outputs": [
    {
     "name": "stdout",
     "output_type": "stream",
     "text": [
      "Исходные признаки:\n"
     ]
    },
    {
     "data": {
      "text/html": [
       "<div>\n",
       "<style scoped>\n",
       "    .dataframe tbody tr th:only-of-type {\n",
       "        vertical-align: middle;\n",
       "    }\n",
       "\n",
       "    .dataframe tbody tr th {\n",
       "        vertical-align: top;\n",
       "    }\n",
       "\n",
       "    .dataframe thead th {\n",
       "        text-align: right;\n",
       "    }\n",
       "</style>\n",
       "<table border=\"1\" class=\"dataframe\">\n",
       "  <thead>\n",
       "    <tr style=\"text-align: right;\">\n",
       "      <th></th>\n",
       "      <th>Пол</th>\n",
       "      <th>Возраст</th>\n",
       "      <th>Зарплата</th>\n",
       "      <th>Члены семьи</th>\n",
       "    </tr>\n",
       "  </thead>\n",
       "  <tbody>\n",
       "    <tr>\n",
       "      <th>0</th>\n",
       "      <td>1</td>\n",
       "      <td>41</td>\n",
       "      <td>49600</td>\n",
       "      <td>1</td>\n",
       "    </tr>\n",
       "    <tr>\n",
       "      <th>1</th>\n",
       "      <td>0</td>\n",
       "      <td>46</td>\n",
       "      <td>38000</td>\n",
       "      <td>1</td>\n",
       "    </tr>\n",
       "    <tr>\n",
       "      <th>2</th>\n",
       "      <td>0</td>\n",
       "      <td>29</td>\n",
       "      <td>21000</td>\n",
       "      <td>0</td>\n",
       "    </tr>\n",
       "    <tr>\n",
       "      <th>3</th>\n",
       "      <td>0</td>\n",
       "      <td>21</td>\n",
       "      <td>41700</td>\n",
       "      <td>2</td>\n",
       "    </tr>\n",
       "    <tr>\n",
       "      <th>4</th>\n",
       "      <td>1</td>\n",
       "      <td>28</td>\n",
       "      <td>26100</td>\n",
       "      <td>0</td>\n",
       "    </tr>\n",
       "  </tbody>\n",
       "</table>\n",
       "</div>"
      ],
      "text/plain": [
       "   Пол  Возраст  Зарплата  Члены семьи\n",
       "0    1       41     49600            1\n",
       "1    0       46     38000            1\n",
       "2    0       29     21000            0\n",
       "3    0       21     41700            2\n",
       "4    1       28     26100            0"
      ]
     },
     "metadata": {},
     "output_type": "display_data"
    },
    {
     "name": "stdout",
     "output_type": "stream",
     "text": [
      "\n",
      "Декодированные признаки:\n"
     ]
    },
    {
     "data": {
      "text/html": [
       "<div>\n",
       "<style scoped>\n",
       "    .dataframe tbody tr th:only-of-type {\n",
       "        vertical-align: middle;\n",
       "    }\n",
       "\n",
       "    .dataframe tbody tr th {\n",
       "        vertical-align: top;\n",
       "    }\n",
       "\n",
       "    .dataframe thead th {\n",
       "        text-align: right;\n",
       "    }\n",
       "</style>\n",
       "<table border=\"1\" class=\"dataframe\">\n",
       "  <thead>\n",
       "    <tr style=\"text-align: right;\">\n",
       "      <th></th>\n",
       "      <th>Пол</th>\n",
       "      <th>Возраст</th>\n",
       "      <th>Зарплата</th>\n",
       "      <th>Члены семьи</th>\n",
       "    </tr>\n",
       "  </thead>\n",
       "  <tbody>\n",
       "    <tr>\n",
       "      <th>0</th>\n",
       "      <td>1</td>\n",
       "      <td>41</td>\n",
       "      <td>49600</td>\n",
       "      <td>1</td>\n",
       "    </tr>\n",
       "    <tr>\n",
       "      <th>1</th>\n",
       "      <td>0</td>\n",
       "      <td>46</td>\n",
       "      <td>38000</td>\n",
       "      <td>1</td>\n",
       "    </tr>\n",
       "    <tr>\n",
       "      <th>2</th>\n",
       "      <td>0</td>\n",
       "      <td>29</td>\n",
       "      <td>21000</td>\n",
       "      <td>0</td>\n",
       "    </tr>\n",
       "    <tr>\n",
       "      <th>3</th>\n",
       "      <td>0</td>\n",
       "      <td>21</td>\n",
       "      <td>41700</td>\n",
       "      <td>2</td>\n",
       "    </tr>\n",
       "    <tr>\n",
       "      <th>4</th>\n",
       "      <td>1</td>\n",
       "      <td>28</td>\n",
       "      <td>26100</td>\n",
       "      <td>0</td>\n",
       "    </tr>\n",
       "  </tbody>\n",
       "</table>\n",
       "</div>"
      ],
      "text/plain": [
       "   Пол  Возраст  Зарплата  Члены семьи\n",
       "0    1       41     49600            1\n",
       "1    0       46     38000            1\n",
       "2    0       29     21000            0\n",
       "3    0       21     41700            2\n",
       "4    1       28     26100            0"
      ]
     },
     "metadata": {},
     "output_type": "display_data"
    }
   ],
   "source": [
    "print('Исходные признаки:')\n",
    "display(features.head(5)) #вывожу посмотреть исходные признаки\n",
    "\n",
    "print()\n",
    "\n",
    "decode = round(features_inv @ np.linalg.inv(random) * (1/PI)).astype(int)  #можно и без округления и приведения к целочисленному типу\n",
    "decode.columns = ['Пол', 'Возраст', 'Зарплата', 'Члены семьи'] #можно и без замены названия признаков, так как это снижает защиту данных\n",
    "print('Декодированные признаки:')\n",
    "display(decode.head(5)) #вывожу посмотреть декодированные признаки"
   ]
  }
 ],
 "metadata": {
  "ExecuteTimeLog": [
   {
    "duration": 106,
    "start_time": "2022-08-11T18:57:50.613Z"
   }
  ],
  "kernelspec": {
   "display_name": "Python 3 (ipykernel)",
   "language": "python",
   "name": "python3"
  },
  "language_info": {
   "codemirror_mode": {
    "name": "ipython",
    "version": 3
   },
   "file_extension": ".py",
   "mimetype": "text/x-python",
   "name": "python",
   "nbconvert_exporter": "python",
   "pygments_lexer": "ipython3",
   "version": "3.9.7"
  },
  "toc": {
   "base_numbering": 1,
   "nav_menu": {},
   "number_sections": true,
   "sideBar": true,
   "skip_h1_title": true,
   "title_cell": "Table of Contents",
   "title_sidebar": "Contents",
   "toc_cell": false,
   "toc_position": {},
   "toc_section_display": true,
   "toc_window_display": false
  }
 },
 "nbformat": 4,
 "nbformat_minor": 5
}
